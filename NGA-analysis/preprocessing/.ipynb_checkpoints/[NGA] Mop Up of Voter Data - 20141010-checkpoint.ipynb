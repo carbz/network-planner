{
 "metadata": {
  "name": "",
  "signature": "sha256:514baf51ed08dfb40652cd0f2bb60f9fd86ab42a06f27aca48a8e69b46950f35"
 },
 "nbformat": 3,
 "nbformat_minor": 0,
 "worksheets": [
  {
   "cells": [
    {
     "cell_type": "markdown",
     "metadata": {},
     "source": [
      "# Nigeria Voter Registration Data (circa ~2011)\n",
      "##Processes to peak at it, clean, aggregate and summarize\n",
      "\n",
      "\n",
      "First look at the voter registration data WorldBank shared with us for Nigeria\n",
      "\n",
      ">Why?\n",
      ">* 0 establish consistent way to read all files ~80\n",
      "> * 1 Summarize by Polling Units (PU)\n",
      "> * 2 Eventually geo-tag each PU \n",
      "> * 3 Revisit to pull out demographic statistics per PU\n",
      "\n",
      "carbz w/ brandon + natali\n",
      "\n",
      "Oct 10, 2014"
     ]
    },
    {
     "cell_type": "code",
     "collapsed": false,
     "input": [
      "%pylab inline\n",
      "import pandas as pd"
     ],
     "language": "python",
     "metadata": {},
     "outputs": [
      {
       "output_type": "stream",
       "stream": "stdout",
       "text": [
        "Populating the interactive namespace from numpy and matplotlib\n"
       ]
      }
     ],
     "prompt_number": 2
    },
    {
     "cell_type": "markdown",
     "metadata": {},
     "source": [
      "## 0. Scrape Voter CSV's clean of all inconsistencies\n",
      ">* get rid of new lines (?)\n",
      ">* replace blank data \"\\N\" with white space\n",
      ">* remove floating quotes\n",
      ">* use pipes (|) as main delim\n",
      ">* copy edited files to a new directory for future use\n",
      "\n",
      "NOTE: Cannot do for the 28M person dataset <tmg_data.csv> as machine crashes and burns"
     ]
    },
    {
     "cell_type": "code",
     "collapsed": false,
     "input": [
      "###0.0 Remove and replace most irregular formatting\n",
      "#Open each file of interest\n",
      "#perform sort of transformation on them to clean up delims\n",
      "\n",
      "import re\n",
      "import os\n",
      "\n",
      "old_path = '/Users/carbz/Dropbox/sad/'\n",
      "cleaned_path = '/Users/carbz/Dropbox/Nigeria-NEAP-GIS/shapefiling/sad_converted/'\n",
      "listed_files = os.listdir(old_path)\n",
      "\n",
      "#Things I want to search and replace\n",
      "#midrow_linebreaks = re.compile(r'\".*?\"', re.DOTALL)\n",
      "coded_blanks = '\\\\\\N' ##blank data is often reports as '\\N', let's make it a \"\" instead\n",
      "pre_existing_pipes = '\\|'\n",
      "normal_delims = '\",\"'#normal delims will be replaced with something less used\n",
      "errant_quotes = '\"'\n",
      "\n",
      "\n",
      "\n",
      "for listed_file in filter(lambda name: '.' != name[0], listed_files[:5]):\n",
      "    voter_file = os.path.join(old_path, listed_file)\n",
      "    new_path = os.path.join(cleaned_path, listed_file)\n",
      "    print voter_file\n",
      "    print new_path\n",
      "    with open(voter_file) as voter_set:\n",
      "        data = voter_set.read()\n",
      "        #better_data0 = midrow_linebreaks.sub(lambda x: x.group().replace('\\n', ''), data)\n",
      "        better_data1 = re.sub(coded_blanks,'\"\"',data) #making coded blanks empty spaces\n",
      "        better_data2 = re.sub(pre_existing_pipes,'-',better_data1) #remove any pipes currently in use, sorry but here's a dash instead\n",
      "        better_data3 = re.sub(normal_delims,'|',better_data2) #replacing normal delims with pipes |'s\n",
      "        best_data = re.sub(errant_quotes,'',better_data3) #any dangling quotes will be removed for now \n",
      "        with open(new_path, 'w') as cleaned_voter_set:\n",
      "            cleaned_voter_set.write(best_data)\n",
      "\n",
      "#Via Unix and working stuff out with Natali\n",
      "# sed s/\\\",\\\"/\\|/g test.txt  | sed s/\\\"//g > | \\\\test_piped.txt \n",
      "#Or more developed into\n",
      "#sed s/\\|/\\-/g sad_co.csv | sed s/\\\",\\\"/\\|/g | sed s/\\\"//g > /Users/carbz/Dropbox/Nigeria-NEAP-GIS/shapefiling/sad_co_piped.csv \n"
     ],
     "language": "python",
     "metadata": {},
     "outputs": [
      {
       "output_type": "stream",
       "stream": "stdout",
       "text": [
        "/Users/carbz/Dropbox/sad/sad_aa.csv\n",
        "/Users/carbz/Dropbox/Nigeria-NEAP-GIS/shapefiling/sad_converted/sad_aa.csv\n",
        "/Users/carbz/Dropbox/sad/sad_ab.csv"
       ]
      },
      {
       "output_type": "stream",
       "stream": "stdout",
       "text": [
        "\n",
        "/Users/carbz/Dropbox/Nigeria-NEAP-GIS/shapefiling/sad_converted/sad_ab.csv\n",
        "/Users/carbz/Dropbox/sad/sad_ac.csv"
       ]
      },
      {
       "output_type": "stream",
       "stream": "stdout",
       "text": [
        "\n",
        "/Users/carbz/Dropbox/Nigeria-NEAP-GIS/shapefiling/sad_converted/sad_ac.csv\n",
        "/Users/carbz/Dropbox/sad/sad_ad.csv"
       ]
      },
      {
       "output_type": "stream",
       "stream": "stdout",
       "text": [
        "\n",
        "/Users/carbz/Dropbox/Nigeria-NEAP-GIS/shapefiling/sad_converted/sad_ad.csv\n"
       ]
      }
     ],
     "prompt_number": 9
    },
    {
     "cell_type": "code",
     "collapsed": false,
     "input": [],
     "language": "python",
     "metadata": {},
     "outputs": []
    },
    {
     "cell_type": "markdown",
     "metadata": {},
     "source": [
      "## 1. Summarize by Polling Unit \n",
      "> * read all ~80 files\n",
      "> * summarize by PU\n",
      "> * concatanate and output"
     ]
    },
    {
     "cell_type": "markdown",
     "metadata": {},
     "source": [
      "### 1.1 Read CLEAN csv and summarize by PU \n",
      "Outputs along the way"
     ]
    },
    {
     "cell_type": "code",
     "collapsed": false,
     "input": [
      "#output a quick summary of each file\n",
      "import os\n",
      "from os import walk\n",
      "from os import listdir\n",
      "files = os.listdir('/Users/carbz/Dropbox/Nigeria-NEAP-GIS/shapefiling/sad_converted/')\n",
      "type(files)\n",
      "\n",
      "for i in filter(lambda name: '.' != name[0], files):\n",
      "#for i in range(1,3):  ##len(files)):\n",
      "    dir_name = '/Users/carbz/Dropbox/Nigeria-NEAP-GIS/shapefiling/sad_converted/' + i\n",
      "    print(dir_name)\n",
      "    \n",
      "    voters = pd.read_csv(dir_name,\n",
      "                         sep='|', #ensure seperator is well-defined here \n",
      "                         header=None) #preserve first row\n",
      "                         #engine = 'python') #use the 'python' engine because the 'c' engine doesn't support regex separators \n",
      "    print(voters.shape) #dimensions of dataset\n",
      "    \n",
      "    #summarize each vote group by Polling Unit AKA 5th column\n",
      "    grouped = voters.groupby([0,1,2,3,5])\n",
      "    pu_summary = grouped[0].agg([np.count_nonzero])\n",
      "    \n",
      "    #Output to a useful director\n",
      "    output_dir = '/Users/carbz/Dropbox/Nigeria-NEAP-GIS/shapefiling/voter_04pu_summary/' + 'voter_sum_of-' + i \n",
      "    pu_summary.to_csv(output_dir)\n",
      "    \n",
      "    \n",
      "    #summarize each voter by State too\n",
      "    #st_summary = voters.groupby([0])\n",
      "    #st_summary = st_summary[0].agg([np.count_nonzero])\n",
      "    \n",
      "    #output_dir = '/Users/carbz/Dropbox/Nigeria-NEAP-GIS/shapefiling/voter_01state_summary/' + 'voter_sum_of-' + files[i] \n",
      "    #st_summary.to_csv(output_dir)\n",
      "       \n",
      "       \n",
      "#for x in range(0, 3):"
     ],
     "language": "python",
     "metadata": {},
     "outputs": [
      {
       "output_type": "stream",
       "stream": "stdout",
       "text": [
        "/Users/carbz/Dropbox/Nigeria-NEAP-GIS/shapefiling/sad_converted/sad_aa.csv\n",
        "(1000000, 16)"
       ]
      },
      {
       "output_type": "stream",
       "stream": "stdout",
       "text": [
        "\n",
        "/Users/carbz/Dropbox/Nigeria-NEAP-GIS/shapefiling/sad_converted/sad_ab.csv"
       ]
      },
      {
       "output_type": "stream",
       "stream": "stdout",
       "text": [
        "\n",
        "(1000000, 16)"
       ]
      },
      {
       "output_type": "stream",
       "stream": "stdout",
       "text": [
        "\n",
        "/Users/carbz/Dropbox/Nigeria-NEAP-GIS/shapefiling/sad_converted/sad_ac.csv"
       ]
      },
      {
       "output_type": "stream",
       "stream": "stdout",
       "text": [
        "\n",
        "(1000000, 16)"
       ]
      },
      {
       "output_type": "stream",
       "stream": "stdout",
       "text": [
        "\n",
        "/Users/carbz/Dropbox/Nigeria-NEAP-GIS/shapefiling/sad_converted/sad_ad.csv"
       ]
      },
      {
       "output_type": "stream",
       "stream": "stdout",
       "text": [
        "\n",
        "(1000000, 16)"
       ]
      },
      {
       "output_type": "stream",
       "stream": "stdout",
       "text": [
        "\n",
        "/Users/carbz/Dropbox/Nigeria-NEAP-GIS/shapefiling/sad_converted/sad_ae.csv"
       ]
      },
      {
       "output_type": "stream",
       "stream": "stdout",
       "text": [
        "\n",
        "(1000000, 16)"
       ]
      },
      {
       "output_type": "stream",
       "stream": "stdout",
       "text": [
        "\n",
        "/Users/carbz/Dropbox/Nigeria-NEAP-GIS/shapefiling/sad_converted/sad_af.csv"
       ]
      },
      {
       "output_type": "stream",
       "stream": "stdout",
       "text": [
        "\n",
        "(1000000, 16)"
       ]
      },
      {
       "output_type": "stream",
       "stream": "stdout",
       "text": [
        "\n",
        "/Users/carbz/Dropbox/Nigeria-NEAP-GIS/shapefiling/sad_converted/sad_ag.csv"
       ]
      },
      {
       "output_type": "stream",
       "stream": "stdout",
       "text": [
        "\n",
        "(1000002, 16)"
       ]
      },
      {
       "output_type": "stream",
       "stream": "stdout",
       "text": [
        "\n",
        "/Users/carbz/Dropbox/Nigeria-NEAP-GIS/shapefiling/sad_converted/sad_ah.csv"
       ]
      },
      {
       "output_type": "stream",
       "stream": "stdout",
       "text": [
        "\n",
        "(1000000, 16)"
       ]
      },
      {
       "output_type": "stream",
       "stream": "stdout",
       "text": [
        "\n",
        "/Users/carbz/Dropbox/Nigeria-NEAP-GIS/shapefiling/sad_converted/sad_ai.csv"
       ]
      },
      {
       "output_type": "stream",
       "stream": "stdout",
       "text": [
        "\n",
        "(1000000, 16)"
       ]
      },
      {
       "output_type": "stream",
       "stream": "stdout",
       "text": [
        "\n",
        "/Users/carbz/Dropbox/Nigeria-NEAP-GIS/shapefiling/sad_converted/sad_aj.csv"
       ]
      },
      {
       "output_type": "stream",
       "stream": "stdout",
       "text": [
        "\n",
        "(1000000, 16)"
       ]
      },
      {
       "output_type": "stream",
       "stream": "stdout",
       "text": [
        "\n",
        "/Users/carbz/Dropbox/Nigeria-NEAP-GIS/shapefiling/sad_converted/sad_ak.csv"
       ]
      },
      {
       "output_type": "stream",
       "stream": "stdout",
       "text": [
        "\n",
        "(1000000, 16)"
       ]
      },
      {
       "output_type": "stream",
       "stream": "stdout",
       "text": [
        "\n",
        "/Users/carbz/Dropbox/Nigeria-NEAP-GIS/shapefiling/sad_converted/sad_al.csv"
       ]
      },
      {
       "output_type": "stream",
       "stream": "stdout",
       "text": [
        "\n",
        "(1000000, 16)"
       ]
      },
      {
       "output_type": "stream",
       "stream": "stdout",
       "text": [
        "\n",
        "/Users/carbz/Dropbox/Nigeria-NEAP-GIS/shapefiling/sad_converted/sad_am.csv"
       ]
      },
      {
       "output_type": "stream",
       "stream": "stdout",
       "text": [
        "\n",
        "(1000000, 16)"
       ]
      },
      {
       "output_type": "stream",
       "stream": "stdout",
       "text": [
        "\n",
        "/Users/carbz/Dropbox/Nigeria-NEAP-GIS/shapefiling/sad_converted/sad_an.csv"
       ]
      },
      {
       "output_type": "stream",
       "stream": "stdout",
       "text": [
        "\n",
        "(1000000, 16)"
       ]
      },
      {
       "output_type": "stream",
       "stream": "stdout",
       "text": [
        "\n",
        "/Users/carbz/Dropbox/Nigeria-NEAP-GIS/shapefiling/sad_converted/sad_ao.csv"
       ]
      },
      {
       "output_type": "stream",
       "stream": "stdout",
       "text": [
        "\n",
        "(1000000, 16)"
       ]
      },
      {
       "output_type": "stream",
       "stream": "stdout",
       "text": [
        "\n",
        "/Users/carbz/Dropbox/Nigeria-NEAP-GIS/shapefiling/sad_converted/sad_ap.csv"
       ]
      },
      {
       "output_type": "stream",
       "stream": "stdout",
       "text": [
        "\n",
        "(1000000, 16)"
       ]
      },
      {
       "output_type": "stream",
       "stream": "stdout",
       "text": [
        "\n",
        "/Users/carbz/Dropbox/Nigeria-NEAP-GIS/shapefiling/sad_converted/sad_aq.csv"
       ]
      },
      {
       "output_type": "stream",
       "stream": "stdout",
       "text": [
        "\n",
        "(1000000, 16)"
       ]
      },
      {
       "output_type": "stream",
       "stream": "stdout",
       "text": [
        "\n",
        "/Users/carbz/Dropbox/Nigeria-NEAP-GIS/shapefiling/sad_converted/sad_ar.csv"
       ]
      },
      {
       "output_type": "stream",
       "stream": "stdout",
       "text": [
        "\n",
        "(1000000, 16)"
       ]
      },
      {
       "output_type": "stream",
       "stream": "stdout",
       "text": [
        "\n",
        "/Users/carbz/Dropbox/Nigeria-NEAP-GIS/shapefiling/sad_converted/sad_as.csv"
       ]
      },
      {
       "output_type": "stream",
       "stream": "stdout",
       "text": [
        "\n",
        "(1000000, 16)"
       ]
      },
      {
       "output_type": "stream",
       "stream": "stdout",
       "text": [
        "\n",
        "/Users/carbz/Dropbox/Nigeria-NEAP-GIS/shapefiling/sad_converted/sad_at.csv"
       ]
      },
      {
       "output_type": "stream",
       "stream": "stdout",
       "text": [
        "\n",
        "(1000000, 16)"
       ]
      },
      {
       "output_type": "stream",
       "stream": "stdout",
       "text": [
        "\n",
        "/Users/carbz/Dropbox/Nigeria-NEAP-GIS/shapefiling/sad_converted/sad_au.csv"
       ]
      },
      {
       "output_type": "stream",
       "stream": "stdout",
       "text": [
        "\n",
        "(1000000, 16)"
       ]
      },
      {
       "output_type": "stream",
       "stream": "stdout",
       "text": [
        "\n",
        "/Users/carbz/Dropbox/Nigeria-NEAP-GIS/shapefiling/sad_converted/sad_av.csv"
       ]
      },
      {
       "output_type": "stream",
       "stream": "stdout",
       "text": [
        "\n",
        "(1000000, 16)"
       ]
      },
      {
       "output_type": "stream",
       "stream": "stdout",
       "text": [
        "\n",
        "/Users/carbz/Dropbox/Nigeria-NEAP-GIS/shapefiling/sad_converted/sad_aw.csv"
       ]
      },
      {
       "output_type": "stream",
       "stream": "stdout",
       "text": [
        "\n",
        "(1000000, 16)"
       ]
      },
      {
       "output_type": "stream",
       "stream": "stdout",
       "text": [
        "\n",
        "/Users/carbz/Dropbox/Nigeria-NEAP-GIS/shapefiling/sad_converted/sad_ax.csv"
       ]
      },
      {
       "output_type": "stream",
       "stream": "stdout",
       "text": [
        "\n",
        "(1000000, 16)"
       ]
      },
      {
       "output_type": "stream",
       "stream": "stdout",
       "text": [
        "\n",
        "/Users/carbz/Dropbox/Nigeria-NEAP-GIS/shapefiling/sad_converted/sad_ay.csv"
       ]
      },
      {
       "output_type": "stream",
       "stream": "stdout",
       "text": [
        "\n",
        "(1000000, 16)"
       ]
      },
      {
       "output_type": "stream",
       "stream": "stdout",
       "text": [
        "\n",
        "/Users/carbz/Dropbox/Nigeria-NEAP-GIS/shapefiling/sad_converted/sad_az.csv"
       ]
      },
      {
       "output_type": "stream",
       "stream": "stdout",
       "text": [
        "\n",
        "(1000000, 16)"
       ]
      },
      {
       "output_type": "stream",
       "stream": "stdout",
       "text": [
        "\n",
        "/Users/carbz/Dropbox/Nigeria-NEAP-GIS/shapefiling/sad_converted/sad_ba.csv"
       ]
      },
      {
       "output_type": "stream",
       "stream": "stdout",
       "text": [
        "\n",
        "(1000000, 16)"
       ]
      },
      {
       "output_type": "stream",
       "stream": "stdout",
       "text": [
        "\n",
        "/Users/carbz/Dropbox/Nigeria-NEAP-GIS/shapefiling/sad_converted/sad_bb.csv"
       ]
      },
      {
       "output_type": "stream",
       "stream": "stdout",
       "text": [
        "\n",
        "(1000000, 16)"
       ]
      },
      {
       "output_type": "stream",
       "stream": "stdout",
       "text": [
        "\n",
        "/Users/carbz/Dropbox/Nigeria-NEAP-GIS/shapefiling/sad_converted/sad_bc.csv"
       ]
      },
      {
       "output_type": "stream",
       "stream": "stdout",
       "text": [
        "\n",
        "(1000000, 16)"
       ]
      },
      {
       "output_type": "stream",
       "stream": "stdout",
       "text": [
        "\n",
        "/Users/carbz/Dropbox/Nigeria-NEAP-GIS/shapefiling/sad_converted/sad_bd.csv"
       ]
      },
      {
       "output_type": "stream",
       "stream": "stdout",
       "text": [
        "\n",
        "(1000000, 16)"
       ]
      },
      {
       "output_type": "stream",
       "stream": "stdout",
       "text": [
        "\n",
        "/Users/carbz/Dropbox/Nigeria-NEAP-GIS/shapefiling/sad_converted/sad_be.csv"
       ]
      },
      {
       "output_type": "stream",
       "stream": "stdout",
       "text": [
        "\n",
        "(1000000, 16)"
       ]
      },
      {
       "output_type": "stream",
       "stream": "stdout",
       "text": [
        "\n",
        "/Users/carbz/Dropbox/Nigeria-NEAP-GIS/shapefiling/sad_converted/sad_bf.csv"
       ]
      },
      {
       "output_type": "stream",
       "stream": "stdout",
       "text": [
        "\n",
        "(1000000, 16)"
       ]
      },
      {
       "output_type": "stream",
       "stream": "stdout",
       "text": [
        "\n",
        "/Users/carbz/Dropbox/Nigeria-NEAP-GIS/shapefiling/sad_converted/sad_bg.csv"
       ]
      },
      {
       "output_type": "stream",
       "stream": "stdout",
       "text": [
        "\n",
        "(1000000, 16)"
       ]
      },
      {
       "output_type": "stream",
       "stream": "stdout",
       "text": [
        "\n",
        "/Users/carbz/Dropbox/Nigeria-NEAP-GIS/shapefiling/sad_converted/sad_bh.csv"
       ]
      },
      {
       "output_type": "stream",
       "stream": "stdout",
       "text": [
        "\n",
        "(1000000, 16)"
       ]
      },
      {
       "output_type": "stream",
       "stream": "stdout",
       "text": [
        "\n",
        "/Users/carbz/Dropbox/Nigeria-NEAP-GIS/shapefiling/sad_converted/sad_bi.csv"
       ]
      },
      {
       "output_type": "stream",
       "stream": "stdout",
       "text": [
        "\n",
        "(1000000, 16)"
       ]
      },
      {
       "output_type": "stream",
       "stream": "stdout",
       "text": [
        "\n",
        "/Users/carbz/Dropbox/Nigeria-NEAP-GIS/shapefiling/sad_converted/sad_bj.csv"
       ]
      },
      {
       "output_type": "stream",
       "stream": "stdout",
       "text": [
        "\n",
        "(1000000, 16)"
       ]
      },
      {
       "output_type": "stream",
       "stream": "stdout",
       "text": [
        "\n",
        "/Users/carbz/Dropbox/Nigeria-NEAP-GIS/shapefiling/sad_converted/sad_bk.csv"
       ]
      },
      {
       "output_type": "stream",
       "stream": "stderr",
       "text": [
        "/Users/carbz/anaconda/lib/python2.7/site-packages/pandas/io/parsers.py:1130: DtypeWarning: Columns (9,10,11) have mixed types. Specify dtype option on import or set low_memory=False.\n",
        "  data = self._reader.read(nrows)\n",
        "/Users/carbz/anaconda/lib/python2.7/site-packages/pandas/io/parsers.py:1130: DtypeWarning: Columns (10,11) have mixed types. Specify dtype option on import or set low_memory=False.\n",
        "  data = self._reader.read(nrows)\n"
       ]
      },
      {
       "output_type": "stream",
       "stream": "stdout",
       "text": [
        "\n",
        "(1000000, 16)"
       ]
      },
      {
       "output_type": "stream",
       "stream": "stdout",
       "text": [
        "\n",
        "/Users/carbz/Dropbox/Nigeria-NEAP-GIS/shapefiling/sad_converted/sad_bl.csv"
       ]
      },
      {
       "output_type": "stream",
       "stream": "stdout",
       "text": [
        "\n",
        "(1000000, 16)"
       ]
      },
      {
       "output_type": "stream",
       "stream": "stdout",
       "text": [
        "\n",
        "/Users/carbz/Dropbox/Nigeria-NEAP-GIS/shapefiling/sad_converted/sad_bm.csv"
       ]
      },
      {
       "output_type": "stream",
       "stream": "stdout",
       "text": [
        "\n",
        "(1000000, 16)"
       ]
      },
      {
       "output_type": "stream",
       "stream": "stdout",
       "text": [
        "\n",
        "/Users/carbz/Dropbox/Nigeria-NEAP-GIS/shapefiling/sad_converted/sad_bn.csv"
       ]
      },
      {
       "output_type": "stream",
       "stream": "stdout",
       "text": [
        "\n",
        "(1000000, 16)"
       ]
      },
      {
       "output_type": "stream",
       "stream": "stdout",
       "text": [
        "\n",
        "/Users/carbz/Dropbox/Nigeria-NEAP-GIS/shapefiling/sad_converted/sad_bo.csv"
       ]
      },
      {
       "output_type": "stream",
       "stream": "stdout",
       "text": [
        "\n",
        "(1000000, 16)"
       ]
      },
      {
       "output_type": "stream",
       "stream": "stdout",
       "text": [
        "\n",
        "/Users/carbz/Dropbox/Nigeria-NEAP-GIS/shapefiling/sad_converted/sad_bp.csv"
       ]
      },
      {
       "output_type": "stream",
       "stream": "stdout",
       "text": [
        "\n",
        "(1000000, 16)"
       ]
      },
      {
       "output_type": "stream",
       "stream": "stdout",
       "text": [
        "\n",
        "/Users/carbz/Dropbox/Nigeria-NEAP-GIS/shapefiling/sad_converted/sad_bq.csv"
       ]
      },
      {
       "output_type": "stream",
       "stream": "stdout",
       "text": [
        "\n",
        "(1000000, 16)"
       ]
      },
      {
       "output_type": "stream",
       "stream": "stdout",
       "text": [
        "\n",
        "/Users/carbz/Dropbox/Nigeria-NEAP-GIS/shapefiling/sad_converted/sad_br.csv"
       ]
      },
      {
       "output_type": "stream",
       "stream": "stdout",
       "text": [
        "\n",
        "(1000000, 16)"
       ]
      },
      {
       "output_type": "stream",
       "stream": "stdout",
       "text": [
        "\n",
        "/Users/carbz/Dropbox/Nigeria-NEAP-GIS/shapefiling/sad_converted/sad_bs.csv"
       ]
      },
      {
       "output_type": "stream",
       "stream": "stdout",
       "text": [
        "\n",
        "(1000000, 16)"
       ]
      },
      {
       "output_type": "stream",
       "stream": "stdout",
       "text": [
        "\n",
        "/Users/carbz/Dropbox/Nigeria-NEAP-GIS/shapefiling/sad_converted/sad_bt.csv"
       ]
      },
      {
       "output_type": "stream",
       "stream": "stdout",
       "text": [
        "\n",
        "(1000000, 16)"
       ]
      },
      {
       "output_type": "stream",
       "stream": "stdout",
       "text": [
        "\n",
        "/Users/carbz/Dropbox/Nigeria-NEAP-GIS/shapefiling/sad_converted/sad_bu.csv"
       ]
      },
      {
       "output_type": "stream",
       "stream": "stdout",
       "text": [
        "\n",
        "(1000000, 16)"
       ]
      },
      {
       "output_type": "stream",
       "stream": "stdout",
       "text": [
        "\n",
        "/Users/carbz/Dropbox/Nigeria-NEAP-GIS/shapefiling/sad_converted/sad_bv.csv"
       ]
      },
      {
       "output_type": "stream",
       "stream": "stdout",
       "text": [
        "\n",
        "(1000000, 16)"
       ]
      },
      {
       "output_type": "stream",
       "stream": "stdout",
       "text": [
        "\n",
        "/Users/carbz/Dropbox/Nigeria-NEAP-GIS/shapefiling/sad_converted/sad_bw.csv"
       ]
      },
      {
       "output_type": "stream",
       "stream": "stdout",
       "text": [
        "\n",
        "(1000000, 16)"
       ]
      },
      {
       "output_type": "stream",
       "stream": "stdout",
       "text": [
        "\n",
        "/Users/carbz/Dropbox/Nigeria-NEAP-GIS/shapefiling/sad_converted/sad_bx.csv"
       ]
      },
      {
       "output_type": "stream",
       "stream": "stdout",
       "text": [
        "\n",
        "(1000000, 16)"
       ]
      },
      {
       "output_type": "stream",
       "stream": "stdout",
       "text": [
        "\n",
        "/Users/carbz/Dropbox/Nigeria-NEAP-GIS/shapefiling/sad_converted/sad_by.csv"
       ]
      },
      {
       "output_type": "stream",
       "stream": "stdout",
       "text": [
        "\n",
        "(1000000, 16)"
       ]
      },
      {
       "output_type": "stream",
       "stream": "stdout",
       "text": [
        "\n",
        "/Users/carbz/Dropbox/Nigeria-NEAP-GIS/shapefiling/sad_converted/sad_bz.csv"
       ]
      },
      {
       "output_type": "stream",
       "stream": "stdout",
       "text": [
        "\n",
        "(1000000, 16)"
       ]
      },
      {
       "output_type": "stream",
       "stream": "stdout",
       "text": [
        "\n",
        "/Users/carbz/Dropbox/Nigeria-NEAP-GIS/shapefiling/sad_converted/sad_ca.csv"
       ]
      },
      {
       "output_type": "stream",
       "stream": "stdout",
       "text": [
        "\n",
        "(1000000, 16)"
       ]
      },
      {
       "output_type": "stream",
       "stream": "stdout",
       "text": [
        "\n",
        "/Users/carbz/Dropbox/Nigeria-NEAP-GIS/shapefiling/sad_converted/sad_cb.csv"
       ]
      },
      {
       "output_type": "stream",
       "stream": "stdout",
       "text": [
        "\n",
        "(1000000, 16)"
       ]
      },
      {
       "output_type": "stream",
       "stream": "stdout",
       "text": [
        "\n",
        "/Users/carbz/Dropbox/Nigeria-NEAP-GIS/shapefiling/sad_converted/sad_cc.csv"
       ]
      },
      {
       "output_type": "stream",
       "stream": "stdout",
       "text": [
        "\n",
        "(1000000, 16)"
       ]
      },
      {
       "output_type": "stream",
       "stream": "stdout",
       "text": [
        "\n",
        "/Users/carbz/Dropbox/Nigeria-NEAP-GIS/shapefiling/sad_converted/sad_cd.csv"
       ]
      },
      {
       "output_type": "stream",
       "stream": "stdout",
       "text": [
        "\n",
        "(1000000, 16)"
       ]
      },
      {
       "output_type": "stream",
       "stream": "stdout",
       "text": [
        "\n",
        "/Users/carbz/Dropbox/Nigeria-NEAP-GIS/shapefiling/sad_converted/sad_ce.csv"
       ]
      },
      {
       "output_type": "stream",
       "stream": "stdout",
       "text": [
        "\n",
        "(1000000, 16)"
       ]
      },
      {
       "output_type": "stream",
       "stream": "stdout",
       "text": [
        "\n",
        "/Users/carbz/Dropbox/Nigeria-NEAP-GIS/shapefiling/sad_converted/sad_cf.csv"
       ]
      },
      {
       "output_type": "stream",
       "stream": "stdout",
       "text": [
        "\n",
        "(1000000, 16)"
       ]
      },
      {
       "output_type": "stream",
       "stream": "stdout",
       "text": [
        "\n",
        "/Users/carbz/Dropbox/Nigeria-NEAP-GIS/shapefiling/sad_converted/sad_cg.csv"
       ]
      },
      {
       "output_type": "stream",
       "stream": "stdout",
       "text": [
        "\n",
        "(1000000, 16)"
       ]
      },
      {
       "output_type": "stream",
       "stream": "stdout",
       "text": [
        "\n",
        "/Users/carbz/Dropbox/Nigeria-NEAP-GIS/shapefiling/sad_converted/sad_ch.csv"
       ]
      },
      {
       "output_type": "stream",
       "stream": "stdout",
       "text": [
        "\n",
        "(1000000, 16)"
       ]
      },
      {
       "output_type": "stream",
       "stream": "stdout",
       "text": [
        "\n",
        "/Users/carbz/Dropbox/Nigeria-NEAP-GIS/shapefiling/sad_converted/sad_ci.csv"
       ]
      },
      {
       "output_type": "stream",
       "stream": "stdout",
       "text": [
        "\n",
        "(1000000, 16)"
       ]
      },
      {
       "output_type": "stream",
       "stream": "stdout",
       "text": [
        "\n",
        "/Users/carbz/Dropbox/Nigeria-NEAP-GIS/shapefiling/sad_converted/sad_cj.csv"
       ]
      },
      {
       "output_type": "stream",
       "stream": "stdout",
       "text": [
        "\n",
        "(1000000, 16)"
       ]
      },
      {
       "output_type": "stream",
       "stream": "stdout",
       "text": [
        "\n",
        "/Users/carbz/Dropbox/Nigeria-NEAP-GIS/shapefiling/sad_converted/sad_ck.csv"
       ]
      },
      {
       "output_type": "stream",
       "stream": "stdout",
       "text": [
        "\n",
        "(1000000, 16)"
       ]
      },
      {
       "output_type": "stream",
       "stream": "stdout",
       "text": [
        "\n",
        "/Users/carbz/Dropbox/Nigeria-NEAP-GIS/shapefiling/sad_converted/sad_cl.csv"
       ]
      },
      {
       "output_type": "stream",
       "stream": "stdout",
       "text": [
        "\n",
        "(1000000, 16)"
       ]
      },
      {
       "output_type": "stream",
       "stream": "stdout",
       "text": [
        "\n",
        "/Users/carbz/Dropbox/Nigeria-NEAP-GIS/shapefiling/sad_converted/sad_cm.csv"
       ]
      },
      {
       "output_type": "stream",
       "stream": "stdout",
       "text": [
        "\n",
        "(1000000, 16)"
       ]
      },
      {
       "output_type": "stream",
       "stream": "stdout",
       "text": [
        "\n",
        "/Users/carbz/Dropbox/Nigeria-NEAP-GIS/shapefiling/sad_converted/sad_cn.csv"
       ]
      },
      {
       "output_type": "stream",
       "stream": "stdout",
       "text": [
        "\n",
        "(1000000, 16)"
       ]
      },
      {
       "output_type": "stream",
       "stream": "stdout",
       "text": [
        "\n",
        "/Users/carbz/Dropbox/Nigeria-NEAP-GIS/shapefiling/sad_converted/sad_co.csv"
       ]
      },
      {
       "output_type": "stream",
       "stream": "stdout",
       "text": [
        "\n",
        "(999999, 16)"
       ]
      },
      {
       "output_type": "stream",
       "stream": "stdout",
       "text": [
        "\n",
        "/Users/carbz/Dropbox/Nigeria-NEAP-GIS/shapefiling/sad_converted/sad_cp.csv"
       ]
      },
      {
       "output_type": "stream",
       "stream": "stdout",
       "text": [
        "\n",
        "(1000000, 16)"
       ]
      },
      {
       "output_type": "stream",
       "stream": "stdout",
       "text": [
        "\n",
        "/Users/carbz/Dropbox/Nigeria-NEAP-GIS/shapefiling/sad_converted/sad_cq.csv"
       ]
      },
      {
       "output_type": "stream",
       "stream": "stdout",
       "text": [
        "\n",
        "(1000000, 16)"
       ]
      },
      {
       "output_type": "stream",
       "stream": "stdout",
       "text": [
        "\n",
        "/Users/carbz/Dropbox/Nigeria-NEAP-GIS/shapefiling/sad_converted/sad_cr.csv"
       ]
      },
      {
       "output_type": "stream",
       "stream": "stdout",
       "text": [
        "\n",
        "(1000000, 16)"
       ]
      },
      {
       "output_type": "stream",
       "stream": "stdout",
       "text": [
        "\n",
        "/Users/carbz/Dropbox/Nigeria-NEAP-GIS/shapefiling/sad_converted/sad_cs.csv"
       ]
      },
      {
       "output_type": "stream",
       "stream": "stdout",
       "text": [
        "\n",
        "(1000000, 16)"
       ]
      },
      {
       "output_type": "stream",
       "stream": "stdout",
       "text": [
        "\n",
        "/Users/carbz/Dropbox/Nigeria-NEAP-GIS/shapefiling/sad_converted/sad_ct  FCT.csv"
       ]
      },
      {
       "output_type": "stream",
       "stream": "stdout",
       "text": [
        "\n",
        "(1000000, 16)"
       ]
      },
      {
       "output_type": "stream",
       "stream": "stdout",
       "text": [
        "\n",
        "/Users/carbz/Dropbox/Nigeria-NEAP-GIS/shapefiling/sad_converted/sad_cu.csv"
       ]
      },
      {
       "output_type": "stream",
       "stream": "stdout",
       "text": [
        "\n",
        "(770273, 16)"
       ]
      },
      {
       "output_type": "stream",
       "stream": "stdout",
       "text": [
        "\n"
       ]
      },
      {
       "output_type": "stream",
       "stream": "stderr",
       "text": [
        "/Users/carbz/anaconda/lib/python2.7/site-packages/pandas/io/parsers.py:1130: DtypeWarning: Columns (11) have mixed types. Specify dtype option on import or set low_memory=False.\n",
        "  data = self._reader.read(nrows)\n"
       ]
      }
     ],
     "prompt_number": 19
    },
    {
     "cell_type": "markdown",
     "metadata": {},
     "source": [
      "### 1.2 Concatanate Outputs"
     ]
    },
    {
     "cell_type": "code",
     "collapsed": false,
     "input": [
      "#Concatanate the list of files togehter\n",
      "#w/ Brandon Oct 9\n",
      "\n",
      "import os\n",
      "from os import walk\n",
      "from os import listdir\n",
      "\n",
      "dir_name = '/Users/carbz/Dropbox/Nigeria-NEAP-GIS/shapefiling/voter_04pu_summaryV2/'\n",
      "files = [os.path.join(dir_name, file_) for file_ in filter(lambda x: x[0] != '.', os.listdir(dir_name))]\n",
      "\n",
      "\n",
      "def add_col_file(file_):\n",
      "    df = pd.read_csv(file_)\n",
      "    df['file_name'] = file_.split('/')[-1]\n",
      "    \n",
      "    return df\n",
      "    \n",
      "all_pus = pd.concat(map(add_col_file, files))\n",
      "\n",
      "output_dir = '/Users/carbz/Dropbox/Nigeria-NEAP-GIS/shapefiling/' + 'voter_sum_of-' + 'voter_04pu_summary-concatV3.csv'\n",
      "\n",
      "all_pus.to_csv(output_dir, \n",
      "              #header = 0,\n",
      "              index = 0)"
     ],
     "language": "python",
     "metadata": {},
     "outputs": [],
     "prompt_number": 20
    },
    {
     "cell_type": "code",
     "collapsed": false,
     "input": [],
     "language": "python",
     "metadata": {},
     "outputs": []
    },
    {
     "cell_type": "code",
     "collapsed": false,
     "input": [
      "print('test string \\n')\n",
      "print('test string \\n'.rstrip('\\n'))"
     ],
     "language": "python",
     "metadata": {},
     "outputs": [
      {
       "output_type": "stream",
       "stream": "stdout",
       "text": [
        "test string \n",
        "\n",
        "test string \n"
       ]
      }
     ],
     "prompt_number": 9
    },
    {
     "cell_type": "code",
     "collapsed": false,
     "input": [],
     "language": "python",
     "metadata": {},
     "outputs": []
    }
   ],
   "metadata": {}
  }
 ]
}