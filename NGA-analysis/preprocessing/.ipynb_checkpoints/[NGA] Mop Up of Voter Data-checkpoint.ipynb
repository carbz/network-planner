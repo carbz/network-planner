{
 "metadata": {
  "name": "",
  "signature": "sha256:a1f87dd1eeb24feb465876df19888d700d3a06475e7652c5e66e2d94ff409d0f"
 },
 "nbformat": 3,
 "nbformat_minor": 0,
 "worksheets": [
  {
   "cells": [
    {
     "cell_type": "markdown",
     "metadata": {},
     "source": [
      "> * #'Mop-Up' Nigeria Voter Registration Data#\n",
      "\n",
      "First look at the voter registration data WorldBank shared with us for Nigeria\n",
      "Watch out for stray quotes [\"]\n",
      "Summarize by Polling Units\n",
      "Eventually geo-tag each Polling Unit\n",
      "\n",
      "carbz (+ brandon)\n",
      "Oct 1, 2014"
     ]
    },
    {
     "cell_type": "code",
     "collapsed": false,
     "input": [
      "#pwd ##present working directory"
     ],
     "language": "python",
     "metadata": {},
     "outputs": [],
     "prompt_number": 79
    },
    {
     "cell_type": "code",
     "collapsed": false,
     "input": [
      "%pylab inline\n",
      "import pandas as pd\n",
      "#import re as re  #import regular expression library\n",
      "#import numpy as np\n",
      "#import matplotlib.pyplot as plt"
     ],
     "language": "python",
     "metadata": {},
     "outputs": [
      {
       "output_type": "stream",
       "stream": "stdout",
       "text": [
        "Populating the interactive namespace from numpy and matplotlib\n"
       ]
      }
     ],
     "prompt_number": 120
    },
    {
     "cell_type": "markdown",
     "metadata": {},
     "source": [
      "\n",
      "\n",
      "\n",
      "\n"
     ]
    },
    {
     "cell_type": "code",
     "collapsed": false,
     "input": [
      "#Read in one same dataset from the Voter registration set as ex.\n",
      "voters = pd.read_csv('/Users/carbz/Dropbox/Nigeria-NEAP-GIS/DatafromEric-09292014/sad_aa.csv', \n",
      "                 sep='\\\"\\,\\\"', #ensure seperator is well-defined here \n",
      "                 header=None,  #preserve first row\n",
      "                 engine = 'python') #use the 'python' engine because the 'c' engine doesn't support regex separators \n",
      "voters.shape #dimensions of dataset"
     ],
     "language": "python",
     "metadata": {},
     "outputs": [
      {
       "metadata": {},
       "output_type": "pyout",
       "prompt_number": 152,
       "text": [
        "(1000000, 16)"
       ]
      }
     ],
     "prompt_number": 152
    },
    {
     "cell_type": "code",
     "collapsed": false,
     "input": [
      "str2search ='\",\"' \n",
      "\n",
      "clean_voters = \"\"\n",
      "\n",
      "for line in voters:\n",
      "    #print voters\n",
      "    clean_voters += line\n",
      "    \n",
      "clean_voters\n",
      "#voters\n",
      "#clean_voters = re.sub('\"','',clean_voters)"
     ],
     "language": "python",
     "metadata": {},
     "outputs": [
      {
       "ename": "TypeError",
       "evalue": "cannot concatenate 'str' and 'numpy.int64' objects",
       "output_type": "pyerr",
       "traceback": [
        "\u001b[0;31m---------------------------------------------------------------------------\u001b[0m\n\u001b[0;31mTypeError\u001b[0m                                 Traceback (most recent call last)",
        "\u001b[0;32m<ipython-input-138-e4a3c2ed0499>\u001b[0m in \u001b[0;36m<module>\u001b[0;34m()\u001b[0m\n\u001b[1;32m      6\u001b[0m \u001b[0;32mfor\u001b[0m \u001b[0mline\u001b[0m \u001b[0;32min\u001b[0m \u001b[0mvoters\u001b[0m\u001b[0;34m:\u001b[0m\u001b[0;34m\u001b[0m\u001b[0m\n\u001b[1;32m      7\u001b[0m     \u001b[0;31m#print voters\u001b[0m\u001b[0;34m\u001b[0m\u001b[0;34m\u001b[0m\u001b[0m\n\u001b[0;32m----> 8\u001b[0;31m     \u001b[0mclean_voters\u001b[0m \u001b[0;34m+=\u001b[0m \u001b[0mline\u001b[0m\u001b[0;34m\u001b[0m\u001b[0m\n\u001b[0m\u001b[1;32m      9\u001b[0m \u001b[0;34m\u001b[0m\u001b[0m\n\u001b[1;32m     10\u001b[0m \u001b[0mclean_voters\u001b[0m\u001b[0;34m\u001b[0m\u001b[0m\n",
        "\u001b[0;31mTypeError\u001b[0m: cannot concatenate 'str' and 'numpy.int64' objects"
       ]
      }
     ],
     "prompt_number": 138
    },
    {
     "cell_type": "code",
     "collapsed": false,
     "input": [
      "#(voters[578743:578749])\n",
      "voters.lookup('YUNUSARI',[])"
     ],
     "language": "python",
     "metadata": {},
     "outputs": [
      {
       "ename": "ValueError",
       "evalue": "Row labels must have same size as column labels",
       "output_type": "pyerr",
       "traceback": [
        "\u001b[0;31m---------------------------------------------------------------------------\u001b[0m\n\u001b[0;31mValueError\u001b[0m                                Traceback (most recent call last)",
        "\u001b[0;32m<ipython-input-107-2432b0db3841>\u001b[0m in \u001b[0;36m<module>\u001b[0;34m()\u001b[0m\n\u001b[1;32m      1\u001b[0m \u001b[0;31m#(voters[578743:578749])\u001b[0m\u001b[0;34m\u001b[0m\u001b[0;34m\u001b[0m\u001b[0m\n\u001b[0;32m----> 2\u001b[0;31m \u001b[0mvoters\u001b[0m\u001b[0;34m.\u001b[0m\u001b[0mlookup\u001b[0m\u001b[0;34m(\u001b[0m\u001b[0;34m'YUNUSARI'\u001b[0m\u001b[0;34m,\u001b[0m\u001b[0;34m[\u001b[0m\u001b[0;34m]\u001b[0m\u001b[0;34m)\u001b[0m\u001b[0;34m\u001b[0m\u001b[0m\n\u001b[0m",
        "\u001b[0;32m/Users/carbz/anaconda/lib/python2.7/site-packages/pandas/core/frame.pyc\u001b[0m in \u001b[0;36mlookup\u001b[0;34m(self, row_labels, col_labels)\u001b[0m\n\u001b[1;32m   2099\u001b[0m         \u001b[0mn\u001b[0m \u001b[0;34m=\u001b[0m \u001b[0mlen\u001b[0m\u001b[0;34m(\u001b[0m\u001b[0mrow_labels\u001b[0m\u001b[0;34m)\u001b[0m\u001b[0;34m\u001b[0m\u001b[0m\n\u001b[1;32m   2100\u001b[0m         \u001b[0;32mif\u001b[0m \u001b[0mn\u001b[0m \u001b[0;34m!=\u001b[0m \u001b[0mlen\u001b[0m\u001b[0;34m(\u001b[0m\u001b[0mcol_labels\u001b[0m\u001b[0;34m)\u001b[0m\u001b[0;34m:\u001b[0m\u001b[0;34m\u001b[0m\u001b[0m\n\u001b[0;32m-> 2101\u001b[0;31m             \u001b[0;32mraise\u001b[0m \u001b[0mValueError\u001b[0m\u001b[0;34m(\u001b[0m\u001b[0;34m'Row labels must have same size as column labels'\u001b[0m\u001b[0;34m)\u001b[0m\u001b[0;34m\u001b[0m\u001b[0m\n\u001b[0m\u001b[1;32m   2102\u001b[0m \u001b[0;34m\u001b[0m\u001b[0m\n\u001b[1;32m   2103\u001b[0m         \u001b[0mthresh\u001b[0m \u001b[0;34m=\u001b[0m \u001b[0;36m1000\u001b[0m\u001b[0;34m\u001b[0m\u001b[0m\n",
        "\u001b[0;31mValueError\u001b[0m: Row labels must have same size as column labels"
       ]
      }
     ],
     "prompt_number": 107
    },
    {
     "cell_type": "code",
     "collapsed": false,
     "input": [
      "voters #preview dataset\n"
     ],
     "language": "python",
     "metadata": {},
     "outputs": [
      {
       "html": [
        "<div style=\"max-height:1000px;max-width:1500px;overflow:auto;\">\n",
        "<table border=\"1\" class=\"dataframe\">\n",
        "  <thead>\n",
        "    <tr style=\"text-align: right;\">\n",
        "      <th></th>\n",
        "      <th>0</th>\n",
        "      <th>1</th>\n",
        "      <th>2</th>\n",
        "      <th>3</th>\n",
        "      <th>4</th>\n",
        "      <th>5</th>\n",
        "      <th>6</th>\n",
        "      <th>7</th>\n",
        "      <th>8</th>\n",
        "      <th>9</th>\n",
        "      <th>10</th>\n",
        "      <th>11</th>\n",
        "      <th>12</th>\n",
        "      <th>13</th>\n",
        "      <th>14</th>\n",
        "      <th>15</th>\n",
        "    </tr>\n",
        "  </thead>\n",
        "  <tbody>\n",
        "    <tr>\n",
        "      <th>0     </th>\n",
        "      <td>   \"YOBE</td>\n",
        "      <td> YUNUSARI</td>\n",
        "      <td> ZAJIBIRI / DUMBAL</td>\n",
        "      <td>                          GARAU, DANDALI</td>\n",
        "      <td> 90F5AED665296399390</td>\n",
        "      <td> 35/16/10/005</td>\n",
        "      <td>            Abdu</td>\n",
        "      <td>       Ahmadu</td>\n",
        "      <td>       NaN</td>\n",
        "      <td> 1968</td>\n",
        "      <td> 01</td>\n",
        "      <td> 01</td>\n",
        "      <td>   Male</td>\n",
        "      <td>          garau kura</td>\n",
        "      <td> Farming/Fishing</td>\n",
        "      <td> 0\"</td>\n",
        "    </tr>\n",
        "    <tr>\n",
        "      <th>1     </th>\n",
        "      <td>   \"YOBE</td>\n",
        "      <td> YUNUSARI</td>\n",
        "      <td> ZAJIBIRI / DUMBAL</td>\n",
        "      <td>                          GARAU, DANDALI</td>\n",
        "      <td> 90F5AED665296399656</td>\n",
        "      <td> 35/16/10/005</td>\n",
        "      <td>         Ibrahim</td>\n",
        "      <td>       Aisata</td>\n",
        "      <td>       NaN</td>\n",
        "      <td> 1980</td>\n",
        "      <td> 01</td>\n",
        "      <td> 01</td>\n",
        "      <td> Female</td>\n",
        "      <td>          garau kura</td>\n",
        "      <td> Farming/Fishing</td>\n",
        "      <td> 0\"</td>\n",
        "    </tr>\n",
        "    <tr>\n",
        "      <th>2     </th>\n",
        "      <td>   \"YOBE</td>\n",
        "      <td> YUNUSARI</td>\n",
        "      <td> ZAJIBIRI / DUMBAL</td>\n",
        "      <td>                          GARAU, DANDALI</td>\n",
        "      <td> 90F5AED665296399930</td>\n",
        "      <td> 35/16/10/005</td>\n",
        "      <td>            Modu</td>\n",
        "      <td>     Ari Kime</td>\n",
        "      <td>       NaN</td>\n",
        "      <td> 1980</td>\n",
        "      <td> 01</td>\n",
        "      <td> 01</td>\n",
        "      <td>   Male</td>\n",
        "      <td>          garau kura</td>\n",
        "      <td> Farming/Fishing</td>\n",
        "      <td> 0\"</td>\n",
        "    </tr>\n",
        "    <tr>\n",
        "      <th>3     </th>\n",
        "      <td>   \"YOBE</td>\n",
        "      <td> YUNUSARI</td>\n",
        "      <td> ZAJIBIRI / DUMBAL</td>\n",
        "      <td>                          GARAU, DANDALI</td>\n",
        "      <td> 90F5AED665296400289</td>\n",
        "      <td> 35/16/10/005</td>\n",
        "      <td>          Zumami</td>\n",
        "      <td>         Garm</td>\n",
        "      <td>       NaN</td>\n",
        "      <td> 1992</td>\n",
        "      <td> 01</td>\n",
        "      <td> 01</td>\n",
        "      <td> Female</td>\n",
        "      <td>          garau kura</td>\n",
        "      <td> Farming/Fishing</td>\n",
        "      <td> 0\"</td>\n",
        "    </tr>\n",
        "    <tr>\n",
        "      <th>4     </th>\n",
        "      <td>   \"YOBE</td>\n",
        "      <td> YUNUSARI</td>\n",
        "      <td> ZAJIBIRI / DUMBAL</td>\n",
        "      <td>                          GARAU, DANDALI</td>\n",
        "      <td> 90F5AED665296400637</td>\n",
        "      <td> 35/16/10/005</td>\n",
        "      <td>         Ibrahim</td>\n",
        "      <td>       Mamodu</td>\n",
        "      <td>       NaN</td>\n",
        "      <td> 1960</td>\n",
        "      <td> 01</td>\n",
        "      <td> 01</td>\n",
        "      <td>   Male</td>\n",
        "      <td>          garau kura</td>\n",
        "      <td> Farming/Fishing</td>\n",
        "      <td> 0\"</td>\n",
        "    </tr>\n",
        "    <tr>\n",
        "      <th>5     </th>\n",
        "      <td>   \"YOBE</td>\n",
        "      <td> YUNUSARI</td>\n",
        "      <td> ZAJIBIRI / DUMBAL</td>\n",
        "      <td>                          GARAU, DANDALI</td>\n",
        "      <td> 90F5AED665296401269</td>\n",
        "      <td> 35/16/10/005</td>\n",
        "      <td>          Mamodu</td>\n",
        "      <td>        Fanna</td>\n",
        "      <td>       NaN</td>\n",
        "      <td> 1980</td>\n",
        "      <td> 01</td>\n",
        "      <td> 01</td>\n",
        "      <td> Female</td>\n",
        "      <td>          garau kura</td>\n",
        "      <td> Farming/Fishing</td>\n",
        "      <td> 0\"</td>\n",
        "    </tr>\n",
        "    <tr>\n",
        "      <th>6     </th>\n",
        "      <td>   \"YOBE</td>\n",
        "      <td> YUNUSARI</td>\n",
        "      <td> ZAJIBIRI / DUMBAL</td>\n",
        "      <td>                          GARAU, DANDALI</td>\n",
        "      <td> 90F5AED665296402058</td>\n",
        "      <td> 35/16/10/005</td>\n",
        "      <td>             Ado</td>\n",
        "      <td>        Bukar</td>\n",
        "      <td>       NaN</td>\n",
        "      <td> 1965</td>\n",
        "      <td> 01</td>\n",
        "      <td> 01</td>\n",
        "      <td>   Male</td>\n",
        "      <td>          garau kura</td>\n",
        "      <td> Farming/Fishing</td>\n",
        "      <td> 0\"</td>\n",
        "    </tr>\n",
        "    <tr>\n",
        "      <th>7     </th>\n",
        "      <td>   \"YOBE</td>\n",
        "      <td> YUNUSARI</td>\n",
        "      <td> ZAJIBIRI / DUMBAL</td>\n",
        "      <td>                          GARAU, DANDALI</td>\n",
        "      <td> 90F5AED665296402310</td>\n",
        "      <td> 35/16/10/005</td>\n",
        "      <td>   Mallam Mubodu</td>\n",
        "      <td>      Fannata</td>\n",
        "      <td>       NaN</td>\n",
        "      <td> 1988</td>\n",
        "      <td> 01</td>\n",
        "      <td> 01</td>\n",
        "      <td> Female</td>\n",
        "      <td>          garau kura</td>\n",
        "      <td> Farming/Fishing</td>\n",
        "      <td> 0\"</td>\n",
        "    </tr>\n",
        "    <tr>\n",
        "      <th>8     </th>\n",
        "      <td>   \"YOBE</td>\n",
        "      <td> YUNUSARI</td>\n",
        "      <td> ZAJIBIRI / DUMBAL</td>\n",
        "      <td>                          GARAU, DANDALI</td>\n",
        "      <td> 90F5AED665296402510</td>\n",
        "      <td> 35/16/10/005</td>\n",
        "      <td>             Gra</td>\n",
        "      <td>       Mamodu</td>\n",
        "      <td>       NaN</td>\n",
        "      <td> 1991</td>\n",
        "      <td> 01</td>\n",
        "      <td> 01</td>\n",
        "      <td>   Male</td>\n",
        "      <td>          garau kura</td>\n",
        "      <td> Farming/Fishing</td>\n",
        "      <td> 0\"</td>\n",
        "    </tr>\n",
        "    <tr>\n",
        "      <th>9     </th>\n",
        "      <td>   \"YOBE</td>\n",
        "      <td> YUNUSARI</td>\n",
        "      <td> ZAJIBIRI / DUMBAL</td>\n",
        "      <td>                          GARAU, DANDALI</td>\n",
        "      <td> 90F5AED665296402757</td>\n",
        "      <td> 35/16/10/005</td>\n",
        "      <td>          Mamodu</td>\n",
        "      <td>         Faji</td>\n",
        "      <td>       NaN</td>\n",
        "      <td> 1980</td>\n",
        "      <td> 01</td>\n",
        "      <td> 01</td>\n",
        "      <td> Female</td>\n",
        "      <td>          garau kura</td>\n",
        "      <td> Farming/Fishing</td>\n",
        "      <td> 0\"</td>\n",
        "    </tr>\n",
        "    <tr>\n",
        "      <th>10    </th>\n",
        "      <td>   \"YOBE</td>\n",
        "      <td> YUNUSARI</td>\n",
        "      <td> ZAJIBIRI / DUMBAL</td>\n",
        "      <td>                          GARAU, DANDALI</td>\n",
        "      <td> 90F5AED665296403149</td>\n",
        "      <td> 35/16/10/005</td>\n",
        "      <td>            Abdu</td>\n",
        "      <td>        Usman</td>\n",
        "      <td>       NaN</td>\n",
        "      <td> 1970</td>\n",
        "      <td> 01</td>\n",
        "      <td> 01</td>\n",
        "      <td>   Male</td>\n",
        "      <td>          garau kura</td>\n",
        "      <td> Farming/Fishing</td>\n",
        "      <td> 0\"</td>\n",
        "    </tr>\n",
        "    <tr>\n",
        "      <th>11    </th>\n",
        "      <td>   \"YOBE</td>\n",
        "      <td> YUNUSARI</td>\n",
        "      <td> ZAJIBIRI / DUMBAL</td>\n",
        "      <td>                          GARAU, DANDALI</td>\n",
        "      <td> 90F5AED665296403342</td>\n",
        "      <td> 35/16/10/005</td>\n",
        "      <td>           Bukar</td>\n",
        "      <td>          Lou</td>\n",
        "      <td>       NaN</td>\n",
        "      <td> 1990</td>\n",
        "      <td> 01</td>\n",
        "      <td> 01</td>\n",
        "      <td> Female</td>\n",
        "      <td>          garau kura</td>\n",
        "      <td> Farming/Fishing</td>\n",
        "      <td> 0\"</td>\n",
        "    </tr>\n",
        "    <tr>\n",
        "      <th>12    </th>\n",
        "      <td>   \"YOBE</td>\n",
        "      <td> YUNUSARI</td>\n",
        "      <td> ZAJIBIRI / DUMBAL</td>\n",
        "      <td>                          GARAU, DANDALI</td>\n",
        "      <td> 90F5AED665296403994</td>\n",
        "      <td> 35/16/10/005</td>\n",
        "      <td>    Alhaji Adamu</td>\n",
        "      <td>          Idi</td>\n",
        "      <td>       NaN</td>\n",
        "      <td> 1960</td>\n",
        "      <td> 01</td>\n",
        "      <td> 01</td>\n",
        "      <td>   Male</td>\n",
        "      <td>          garau kura</td>\n",
        "      <td> Farming/Fishing</td>\n",
        "      <td> 0\"</td>\n",
        "    </tr>\n",
        "    <tr>\n",
        "      <th>13    </th>\n",
        "      <td>   \"YOBE</td>\n",
        "      <td> YUNUSARI</td>\n",
        "      <td> ZAJIBIRI / DUMBAL</td>\n",
        "      <td>                          GARAU, DANDALI</td>\n",
        "      <td> 90F5AED665296404529</td>\n",
        "      <td> 35/16/10/005</td>\n",
        "      <td>             Ali</td>\n",
        "      <td>         Sale</td>\n",
        "      <td>       NaN</td>\n",
        "      <td> 1970</td>\n",
        "      <td> 01</td>\n",
        "      <td> 01</td>\n",
        "      <td>   Male</td>\n",
        "      <td>          garau kura</td>\n",
        "      <td> Farming/Fishing</td>\n",
        "      <td> 0\"</td>\n",
        "    </tr>\n",
        "    <tr>\n",
        "      <th>14    </th>\n",
        "      <td>   \"YOBE</td>\n",
        "      <td> YUNUSARI</td>\n",
        "      <td> ZAJIBIRI / DUMBAL</td>\n",
        "      <td>                          GARAU, DANDALI</td>\n",
        "      <td> 90F5AED665296404786</td>\n",
        "      <td> 35/16/10/005</td>\n",
        "      <td>             Ali</td>\n",
        "      <td>         Musa</td>\n",
        "      <td>       NaN</td>\n",
        "      <td> 1975</td>\n",
        "      <td> 01</td>\n",
        "      <td> 01</td>\n",
        "      <td>   Male</td>\n",
        "      <td>          garau kura</td>\n",
        "      <td> Farming/Fishing</td>\n",
        "      <td> 0\"</td>\n",
        "    </tr>\n",
        "    <tr>\n",
        "      <th>15    </th>\n",
        "      <td>   \"YOBE</td>\n",
        "      <td> YUNUSARI</td>\n",
        "      <td> ZAJIBIRI / DUMBAL</td>\n",
        "      <td>                          GARAU, DANDALI</td>\n",
        "      <td> 90F5AED665296404989</td>\n",
        "      <td> 35/16/10/005</td>\n",
        "      <td>      Mallam Ado</td>\n",
        "      <td>         Musa</td>\n",
        "      <td>       NaN</td>\n",
        "      <td> 1982</td>\n",
        "      <td> 01</td>\n",
        "      <td> 01</td>\n",
        "      <td>   Male</td>\n",
        "      <td>          garau kura</td>\n",
        "      <td> Farming/Fishing</td>\n",
        "      <td> 0\"</td>\n",
        "    </tr>\n",
        "    <tr>\n",
        "      <th>16    </th>\n",
        "      <td>   \"YOBE</td>\n",
        "      <td> YUNUSARI</td>\n",
        "      <td> ZAJIBIRI / DUMBAL</td>\n",
        "      <td>                          GARAU, DANDALI</td>\n",
        "      <td> 90F5AED665296405307</td>\n",
        "      <td> 35/16/10/005</td>\n",
        "      <td>           Adamu</td>\n",
        "      <td>        Awudu</td>\n",
        "      <td>       NaN</td>\n",
        "      <td> 1985</td>\n",
        "      <td> 01</td>\n",
        "      <td> 01</td>\n",
        "      <td>   Male</td>\n",
        "      <td>          garau kura</td>\n",
        "      <td> Farming/Fishing</td>\n",
        "      <td> 0\"</td>\n",
        "    </tr>\n",
        "    <tr>\n",
        "      <th>17    </th>\n",
        "      <td>   \"YOBE</td>\n",
        "      <td> YUNUSARI</td>\n",
        "      <td> ZAJIBIRI / DUMBAL</td>\n",
        "      <td>                          GARAU, DANDALI</td>\n",
        "      <td> 90F5AED665296405560</td>\n",
        "      <td> 35/16/10/005</td>\n",
        "      <td>           Adamu</td>\n",
        "      <td>          Isa</td>\n",
        "      <td>       NaN</td>\n",
        "      <td> 1950</td>\n",
        "      <td> 01</td>\n",
        "      <td> 01</td>\n",
        "      <td>   Male</td>\n",
        "      <td>          garau kura</td>\n",
        "      <td> Farming/Fishing</td>\n",
        "      <td> 0\"</td>\n",
        "    </tr>\n",
        "    <tr>\n",
        "      <th>18    </th>\n",
        "      <td>   \"YOBE</td>\n",
        "      <td> YUNUSARI</td>\n",
        "      <td> ZAJIBIRI / DUMBAL</td>\n",
        "      <td>                          GARAU, DANDALI</td>\n",
        "      <td> 90F5AED665296476265</td>\n",
        "      <td> 35/16/10/005</td>\n",
        "      <td>          Gabcha</td>\n",
        "      <td>        Malla</td>\n",
        "      <td>       NaN</td>\n",
        "      <td> 1940</td>\n",
        "      <td> 01</td>\n",
        "      <td> 01</td>\n",
        "      <td>   Male</td>\n",
        "      <td>          garau kura</td>\n",
        "      <td> Farming/Fishing</td>\n",
        "      <td> 0\"</td>\n",
        "    </tr>\n",
        "    <tr>\n",
        "      <th>19    </th>\n",
        "      <td>   \"YOBE</td>\n",
        "      <td> YUNUSARI</td>\n",
        "      <td> ZAJIBIRI / DUMBAL</td>\n",
        "      <td>                          GARAU, DANDALI</td>\n",
        "      <td> 90F5AED665296476521</td>\n",
        "      <td> 35/16/10/005</td>\n",
        "      <td>          Bashir</td>\n",
        "      <td>      Manzaji</td>\n",
        "      <td>       NaN</td>\n",
        "      <td> 1980</td>\n",
        "      <td> 01</td>\n",
        "      <td> 01</td>\n",
        "      <td>   Male</td>\n",
        "      <td>          garau kura</td>\n",
        "      <td>        Business</td>\n",
        "      <td> 0\"</td>\n",
        "    </tr>\n",
        "    <tr>\n",
        "      <th>20    </th>\n",
        "      <td>   \"YOBE</td>\n",
        "      <td> YUNUSARI</td>\n",
        "      <td> ZAJIBIRI / DUMBAL</td>\n",
        "      <td>                          GARAU, DANDALI</td>\n",
        "      <td> 90F5AED665296476748</td>\n",
        "      <td> 35/16/10/005</td>\n",
        "      <td>           Kyari</td>\n",
        "      <td>       Yakura</td>\n",
        "      <td>       NaN</td>\n",
        "      <td> 1960</td>\n",
        "      <td> 01</td>\n",
        "      <td> 01</td>\n",
        "      <td> Female</td>\n",
        "      <td>          garau kura</td>\n",
        "      <td> Farming/Fishing</td>\n",
        "      <td> 0\"</td>\n",
        "    </tr>\n",
        "    <tr>\n",
        "      <th>21    </th>\n",
        "      <td>   \"YOBE</td>\n",
        "      <td> YUNUSARI</td>\n",
        "      <td> ZAJIBIRI / DUMBAL</td>\n",
        "      <td>                          GARAU, DANDALI</td>\n",
        "      <td> 90F5AED665296477784</td>\n",
        "      <td> 35/16/10/005</td>\n",
        "      <td>        Kallammi</td>\n",
        "      <td>        Malla</td>\n",
        "      <td>       NaN</td>\n",
        "      <td> 1975</td>\n",
        "      <td> 01</td>\n",
        "      <td> 01</td>\n",
        "      <td>   Male</td>\n",
        "      <td>          garau kura</td>\n",
        "      <td>        Business</td>\n",
        "      <td> 0\"</td>\n",
        "    </tr>\n",
        "    <tr>\n",
        "      <th>22    </th>\n",
        "      <td>   \"YOBE</td>\n",
        "      <td> YUNUSARI</td>\n",
        "      <td> ZAJIBIRI / DUMBAL</td>\n",
        "      <td>                          GARAU, DANDALI</td>\n",
        "      <td> 90F5AED665296478083</td>\n",
        "      <td> 35/16/10/005</td>\n",
        "      <td>       Kyarikolo</td>\n",
        "      <td>      Ambalam</td>\n",
        "      <td>       NaN</td>\n",
        "      <td> 1985</td>\n",
        "      <td> 01</td>\n",
        "      <td> 01</td>\n",
        "      <td> Female</td>\n",
        "      <td>          garau kura</td>\n",
        "      <td> Farming/Fishing</td>\n",
        "      <td> 0\"</td>\n",
        "    </tr>\n",
        "    <tr>\n",
        "      <th>23    </th>\n",
        "      <td>   \"YOBE</td>\n",
        "      <td> YUNUSARI</td>\n",
        "      <td> ZAJIBIRI / DUMBAL</td>\n",
        "      <td>                          GARAU, DANDALI</td>\n",
        "      <td> 90F5AED665296478339</td>\n",
        "      <td> 35/16/10/005</td>\n",
        "      <td>             Gra</td>\n",
        "      <td> Alhaji Grema</td>\n",
        "      <td>       NaN</td>\n",
        "      <td> 1980</td>\n",
        "      <td> 01</td>\n",
        "      <td> 01</td>\n",
        "      <td>   Male</td>\n",
        "      <td>          garau kura</td>\n",
        "      <td> Farming/Fishing</td>\n",
        "      <td> 0\"</td>\n",
        "    </tr>\n",
        "    <tr>\n",
        "      <th>24    </th>\n",
        "      <td>   \"YOBE</td>\n",
        "      <td> YUNUSARI</td>\n",
        "      <td> ZAJIBIRI / DUMBAL</td>\n",
        "      <td>                          GARAU, DANDALI</td>\n",
        "      <td> 90F5AED665296479447</td>\n",
        "      <td> 35/16/10/005</td>\n",
        "      <td>         Ambadu </td>\n",
        "      <td>        Mangu</td>\n",
        "      <td>       NaN</td>\n",
        "      <td> 1980</td>\n",
        "      <td> 01</td>\n",
        "      <td> 01</td>\n",
        "      <td> Female</td>\n",
        "      <td>          garau kura</td>\n",
        "      <td> Farming/Fishing</td>\n",
        "      <td> 0\"</td>\n",
        "    </tr>\n",
        "    <tr>\n",
        "      <th>25    </th>\n",
        "      <td>   \"YOBE</td>\n",
        "      <td> YUNUSARI</td>\n",
        "      <td> ZAJIBIRI / DUMBAL</td>\n",
        "      <td>                          GARAU, DANDALI</td>\n",
        "      <td> 90F5AED665296479720</td>\n",
        "      <td> 35/16/10/005</td>\n",
        "      <td>         Aminami</td>\n",
        "      <td>      Mammadu</td>\n",
        "      <td>       NaN</td>\n",
        "      <td> 1985</td>\n",
        "      <td> 01</td>\n",
        "      <td> 01</td>\n",
        "      <td>   Male</td>\n",
        "      <td>          garau kura</td>\n",
        "      <td> Farming/Fishing</td>\n",
        "      <td> 0\"</td>\n",
        "    </tr>\n",
        "    <tr>\n",
        "      <th>26    </th>\n",
        "      <td>   \"YOBE</td>\n",
        "      <td> YUNUSARI</td>\n",
        "      <td> ZAJIBIRI / DUMBAL</td>\n",
        "      <td>                          GARAU, DANDALI</td>\n",
        "      <td> 90F5AED665296479984</td>\n",
        "      <td> 35/16/10/005</td>\n",
        "      <td>    Alhaji Bukar</td>\n",
        "      <td>         Zara</td>\n",
        "      <td>       NaN</td>\n",
        "      <td> 1980</td>\n",
        "      <td> 01</td>\n",
        "      <td> 01</td>\n",
        "      <td> Female</td>\n",
        "      <td>          garau kura</td>\n",
        "      <td> Farming/Fishing</td>\n",
        "      <td> 0\"</td>\n",
        "    </tr>\n",
        "    <tr>\n",
        "      <th>27    </th>\n",
        "      <td>   \"YOBE</td>\n",
        "      <td> YUNUSARI</td>\n",
        "      <td> ZAJIBIRI / DUMBAL</td>\n",
        "      <td>                          GARAU, DANDALI</td>\n",
        "      <td> 90F5AED665296480221</td>\n",
        "      <td> 35/16/10/005</td>\n",
        "      <td>             Gra</td>\n",
        "      <td>         Audu</td>\n",
        "      <td>       NaN</td>\n",
        "      <td> 1990</td>\n",
        "      <td> 01</td>\n",
        "      <td> 01</td>\n",
        "      <td> Female</td>\n",
        "      <td>          garau kura</td>\n",
        "      <td> Farming/Fishing</td>\n",
        "      <td> 0\"</td>\n",
        "    </tr>\n",
        "    <tr>\n",
        "      <th>28    </th>\n",
        "      <td>   \"YOBE</td>\n",
        "      <td> YUNUSARI</td>\n",
        "      <td> ZAJIBIRI / DUMBAL</td>\n",
        "      <td>                          GARAU, DANDALI</td>\n",
        "      <td> 90F5AED665296480429</td>\n",
        "      <td> 35/16/10/005</td>\n",
        "      <td> Alhaji Mustapha</td>\n",
        "      <td>        Fusam</td>\n",
        "      <td>       NaN</td>\n",
        "      <td> 1990</td>\n",
        "      <td> 01</td>\n",
        "      <td> 01</td>\n",
        "      <td>   Male</td>\n",
        "      <td>          garau kura</td>\n",
        "      <td> Farming/Fishing</td>\n",
        "      <td> 0\"</td>\n",
        "    </tr>\n",
        "    <tr>\n",
        "      <th>29    </th>\n",
        "      <td>   \"YOBE</td>\n",
        "      <td> YUNUSARI</td>\n",
        "      <td> ZAJIBIRI / DUMBAL</td>\n",
        "      <td>                          GARAU, DANDALI</td>\n",
        "      <td> 90F5AED665296480781</td>\n",
        "      <td> 35/16/10/005</td>\n",
        "      <td>           Bukar</td>\n",
        "      <td>         Umar</td>\n",
        "      <td>       NaN</td>\n",
        "      <td> 1990</td>\n",
        "      <td> 01</td>\n",
        "      <td> 01</td>\n",
        "      <td>   Male</td>\n",
        "      <td>          garau kura</td>\n",
        "      <td> Farming/Fishing</td>\n",
        "      <td> 0\"</td>\n",
        "    </tr>\n",
        "    <tr>\n",
        "      <th>...</th>\n",
        "      <td>...</td>\n",
        "      <td>...</td>\n",
        "      <td>...</td>\n",
        "      <td>...</td>\n",
        "      <td>...</td>\n",
        "      <td>...</td>\n",
        "      <td>...</td>\n",
        "      <td>...</td>\n",
        "      <td>...</td>\n",
        "      <td>...</td>\n",
        "      <td>...</td>\n",
        "      <td>...</td>\n",
        "      <td>...</td>\n",
        "      <td>...</td>\n",
        "      <td>...</td>\n",
        "      <td>...</td>\n",
        "    </tr>\n",
        "    <tr>\n",
        "      <th>999970</th>\n",
        "      <td> \"BAUCHI</td>\n",
        "      <td>   BAUCHI</td>\n",
        "      <td> MAKAMA/SARKI BAKI</td>\n",
        "      <td> RIMIN JAHUN, RIMIN JAHUN PRIMARY SCHOOL</td>\n",
        "      <td> 90F5B08F15295261814</td>\n",
        "      <td> 05/02/03/031</td>\n",
        "      <td>      B Sulaiman</td>\n",
        "      <td>         Muhd</td>\n",
        "      <td>       NaN</td>\n",
        "      <td> 1957</td>\n",
        "      <td> 01</td>\n",
        "      <td> 01</td>\n",
        "      <td>   Male</td>\n",
        "      <td> rimin jahun pri sch</td>\n",
        "      <td>  Public Servant</td>\n",
        "      <td> 1\"</td>\n",
        "    </tr>\n",
        "    <tr>\n",
        "      <th>999971</th>\n",
        "      <td> \"BAUCHI</td>\n",
        "      <td>   BAUCHI</td>\n",
        "      <td> MAKAMA/SARKI BAKI</td>\n",
        "      <td> RIMIN JAHUN, RIMIN JAHUN PRIMARY SCHOOL</td>\n",
        "      <td> 90F5B08F15295262050</td>\n",
        "      <td> 05/02/03/031</td>\n",
        "      <td>            Umar</td>\n",
        "      <td>     Nafisatu</td>\n",
        "      <td>       NaN</td>\n",
        "      <td> 1990</td>\n",
        "      <td> 01</td>\n",
        "      <td> 01</td>\n",
        "      <td> Female</td>\n",
        "      <td> rimin jahun pri sch</td>\n",
        "      <td>         Student</td>\n",
        "      <td> 1\"</td>\n",
        "    </tr>\n",
        "    <tr>\n",
        "      <th>999972</th>\n",
        "      <td> \"BAUCHI</td>\n",
        "      <td>   BAUCHI</td>\n",
        "      <td> MAKAMA/SARKI BAKI</td>\n",
        "      <td> RIMIN JAHUN, RIMIN JAHUN PRIMARY SCHOOL</td>\n",
        "      <td> 90F5B08F15295262224</td>\n",
        "      <td> 05/02/03/031</td>\n",
        "      <td>           Barwa</td>\n",
        "      <td>        Ahmad</td>\n",
        "      <td> Maimunatu</td>\n",
        "      <td> 1985</td>\n",
        "      <td> 01</td>\n",
        "      <td> 01</td>\n",
        "      <td> Female</td>\n",
        "      <td> rimin jahun pri sch</td>\n",
        "      <td>      House Wife</td>\n",
        "      <td> 1\"</td>\n",
        "    </tr>\n",
        "    <tr>\n",
        "      <th>999973</th>\n",
        "      <td> \"BAUCHI</td>\n",
        "      <td>   BAUCHI</td>\n",
        "      <td> MAKAMA/SARKI BAKI</td>\n",
        "      <td> RIMIN JAHUN, RIMIN JAHUN PRIMARY SCHOOL</td>\n",
        "      <td> 90F5B08F15295262408</td>\n",
        "      <td> 05/02/03/031</td>\n",
        "      <td>            Umar</td>\n",
        "      <td>       Maryam</td>\n",
        "      <td>       NaN</td>\n",
        "      <td> 1991</td>\n",
        "      <td> 01</td>\n",
        "      <td> 01</td>\n",
        "      <td> Female</td>\n",
        "      <td> rimin jahun pri sch</td>\n",
        "      <td>         Student</td>\n",
        "      <td> 1\"</td>\n",
        "    </tr>\n",
        "    <tr>\n",
        "      <th>999974</th>\n",
        "      <td> \"BAUCHI</td>\n",
        "      <td>   BAUCHI</td>\n",
        "      <td> MAKAMA/SARKI BAKI</td>\n",
        "      <td> RIMIN JAHUN, RIMIN JAHUN PRIMARY SCHOOL</td>\n",
        "      <td> 90F5B08F15295262651</td>\n",
        "      <td> 05/02/03/031</td>\n",
        "      <td>        Muhammed</td>\n",
        "      <td>        Shehu</td>\n",
        "      <td>       NaN</td>\n",
        "      <td> 1962</td>\n",
        "      <td> 02</td>\n",
        "      <td> 04</td>\n",
        "      <td>   Male</td>\n",
        "      <td> rimin jahun pri sch</td>\n",
        "      <td>   Civil Servant</td>\n",
        "      <td> 1\"</td>\n",
        "    </tr>\n",
        "    <tr>\n",
        "      <th>999975</th>\n",
        "      <td> \"BAUCHI</td>\n",
        "      <td>   BAUCHI</td>\n",
        "      <td> MAKAMA/SARKI BAKI</td>\n",
        "      <td> RIMIN JAHUN, RIMIN JAHUN PRIMARY SCHOOL</td>\n",
        "      <td> 90F5B08F15295262895</td>\n",
        "      <td> 05/02/03/031</td>\n",
        "      <td>            Baba</td>\n",
        "      <td>         Musa</td>\n",
        "      <td>    Fatima</td>\n",
        "      <td> 1991</td>\n",
        "      <td> 01</td>\n",
        "      <td> 01</td>\n",
        "      <td> Female</td>\n",
        "      <td> rimin jahun pri sch</td>\n",
        "      <td>         Student</td>\n",
        "      <td> 1\"</td>\n",
        "    </tr>\n",
        "    <tr>\n",
        "      <th>999976</th>\n",
        "      <td> \"BAUCHI</td>\n",
        "      <td>   BAUCHI</td>\n",
        "      <td> MAKAMA/SARKI BAKI</td>\n",
        "      <td> RIMIN JAHUN, RIMIN JAHUN PRIMARY SCHOOL</td>\n",
        "      <td> 90F5B08F15295263101</td>\n",
        "      <td> 05/02/03/031</td>\n",
        "      <td>            Baba</td>\n",
        "      <td>         Musa</td>\n",
        "      <td>    Zahira</td>\n",
        "      <td> 1989</td>\n",
        "      <td> 05</td>\n",
        "      <td> 25</td>\n",
        "      <td> Female</td>\n",
        "      <td> rimin jahun pri sch</td>\n",
        "      <td>         Student</td>\n",
        "      <td> 1\"</td>\n",
        "    </tr>\n",
        "    <tr>\n",
        "      <th>999977</th>\n",
        "      <td> \"BAUCHI</td>\n",
        "      <td>   BAUCHI</td>\n",
        "      <td> MAKAMA/SARKI BAKI</td>\n",
        "      <td> RIMIN JAHUN, RIMIN JAHUN PRIMARY SCHOOL</td>\n",
        "      <td> 90F5B08F15295263278</td>\n",
        "      <td> 05/02/03/031</td>\n",
        "      <td>            Baba</td>\n",
        "      <td>         Musa</td>\n",
        "      <td>    Hamida</td>\n",
        "      <td> 1992</td>\n",
        "      <td> 01</td>\n",
        "      <td> 01</td>\n",
        "      <td> Female</td>\n",
        "      <td> rimin jahun pri sch</td>\n",
        "      <td>         Student</td>\n",
        "      <td> 1\"</td>\n",
        "    </tr>\n",
        "    <tr>\n",
        "      <th>999978</th>\n",
        "      <td> \"BAUCHI</td>\n",
        "      <td>   BAUCHI</td>\n",
        "      <td> MAKAMA/SARKI BAKI</td>\n",
        "      <td> RIMIN JAHUN, RIMIN JAHUN PRIMARY SCHOOL</td>\n",
        "      <td> 90F5B08F15295263440</td>\n",
        "      <td> 05/02/03/031</td>\n",
        "      <td>          Nazeef</td>\n",
        "      <td>         Muhd</td>\n",
        "      <td>      Umar</td>\n",
        "      <td> 1988</td>\n",
        "      <td> 08</td>\n",
        "      <td> 15</td>\n",
        "      <td>   Male</td>\n",
        "      <td> rimin jahun pri sch</td>\n",
        "      <td>         Student</td>\n",
        "      <td> 1\"</td>\n",
        "    </tr>\n",
        "    <tr>\n",
        "      <th>999979</th>\n",
        "      <td> \"BAUCHI</td>\n",
        "      <td>   BAUCHI</td>\n",
        "      <td> MAKAMA/SARKI BAKI</td>\n",
        "      <td> RIMIN JAHUN, RIMIN JAHUN PRIMARY SCHOOL</td>\n",
        "      <td> 90F5B08F15295263609</td>\n",
        "      <td> 05/02/03/031</td>\n",
        "      <td>        Hussaini</td>\n",
        "      <td>      Hafsatu</td>\n",
        "      <td>       NaN</td>\n",
        "      <td> 1975</td>\n",
        "      <td> 01</td>\n",
        "      <td> 01</td>\n",
        "      <td> Female</td>\n",
        "      <td> rimin jahun pri sch</td>\n",
        "      <td>      House Wife</td>\n",
        "      <td> 1\"</td>\n",
        "    </tr>\n",
        "    <tr>\n",
        "      <th>999980</th>\n",
        "      <td> \"BAUCHI</td>\n",
        "      <td>   BAUCHI</td>\n",
        "      <td> MAKAMA/SARKI BAKI</td>\n",
        "      <td> RIMIN JAHUN, RIMIN JAHUN PRIMARY SCHOOL</td>\n",
        "      <td> 90F5B08F15295263804</td>\n",
        "      <td> 05/02/03/031</td>\n",
        "      <td>         M Dajin</td>\n",
        "      <td>       Yakubu</td>\n",
        "      <td>   Ibrahim</td>\n",
        "      <td> 1988</td>\n",
        "      <td> 01</td>\n",
        "      <td> 01</td>\n",
        "      <td>   Male</td>\n",
        "      <td> rimin jahun pri sch</td>\n",
        "      <td>         Student</td>\n",
        "      <td> 1\"</td>\n",
        "    </tr>\n",
        "    <tr>\n",
        "      <th>999981</th>\n",
        "      <td> \"BAUCHI</td>\n",
        "      <td>   BAUCHI</td>\n",
        "      <td> MAKAMA/SARKI BAKI</td>\n",
        "      <td> RIMIN JAHUN, RIMIN JAHUN PRIMARY SCHOOL</td>\n",
        "      <td> 90F5B08F15295264002</td>\n",
        "      <td> 05/02/03/031</td>\n",
        "      <td>            Muhd</td>\n",
        "      <td>     Mustapha</td>\n",
        "      <td>       NaN</td>\n",
        "      <td> 1983</td>\n",
        "      <td> 01</td>\n",
        "      <td> 01</td>\n",
        "      <td>   Male</td>\n",
        "      <td> rimin jahun pri sch</td>\n",
        "      <td>         Trading</td>\n",
        "      <td> 1\"</td>\n",
        "    </tr>\n",
        "    <tr>\n",
        "      <th>999982</th>\n",
        "      <td> \"BAUCHI</td>\n",
        "      <td>   BAUCHI</td>\n",
        "      <td> MAKAMA/SARKI BAKI</td>\n",
        "      <td> RIMIN JAHUN, RIMIN JAHUN PRIMARY SCHOOL</td>\n",
        "      <td> 90F5B08F15295264149</td>\n",
        "      <td> 05/02/03/031</td>\n",
        "      <td>           Garba</td>\n",
        "      <td>    Abdullahi</td>\n",
        "      <td>       NaN</td>\n",
        "      <td> 1945</td>\n",
        "      <td> 01</td>\n",
        "      <td> 01</td>\n",
        "      <td>   Male</td>\n",
        "      <td> rimin jahun pri sch</td>\n",
        "      <td>           Other</td>\n",
        "      <td> 1\"</td>\n",
        "    </tr>\n",
        "    <tr>\n",
        "      <th>999983</th>\n",
        "      <td> \"BAUCHI</td>\n",
        "      <td>   BAUCHI</td>\n",
        "      <td> MAKAMA/SARKI BAKI</td>\n",
        "      <td> RIMIN JAHUN, RIMIN JAHUN PRIMARY SCHOOL</td>\n",
        "      <td> 90F5B08F15295264339</td>\n",
        "      <td> 05/02/03/031</td>\n",
        "      <td>           Usman</td>\n",
        "      <td>     Abubakar</td>\n",
        "      <td>     Sadiq</td>\n",
        "      <td> 1985</td>\n",
        "      <td> 12</td>\n",
        "      <td> 12</td>\n",
        "      <td>   Male</td>\n",
        "      <td> rimin jahun pri sch</td>\n",
        "      <td>         Student</td>\n",
        "      <td> 1\"</td>\n",
        "    </tr>\n",
        "    <tr>\n",
        "      <th>999984</th>\n",
        "      <td> \"BAUCHI</td>\n",
        "      <td>   BAUCHI</td>\n",
        "      <td> MAKAMA/SARKI BAKI</td>\n",
        "      <td> RIMIN JAHUN, RIMIN JAHUN PRIMARY SCHOOL</td>\n",
        "      <td> 90F5B08F15295264464</td>\n",
        "      <td> 05/02/03/031</td>\n",
        "      <td>           Usman</td>\n",
        "      <td>         Umar</td>\n",
        "      <td>       NaN</td>\n",
        "      <td> 1950</td>\n",
        "      <td> 01</td>\n",
        "      <td> 01</td>\n",
        "      <td>   Male</td>\n",
        "      <td> rimin jahun pri sch</td>\n",
        "      <td>           Other</td>\n",
        "      <td> 1\"</td>\n",
        "    </tr>\n",
        "    <tr>\n",
        "      <th>999985</th>\n",
        "      <td> \"BAUCHI</td>\n",
        "      <td>   BAUCHI</td>\n",
        "      <td> MAKAMA/SARKI BAKI</td>\n",
        "      <td> RIMIN JAHUN, RIMIN JAHUN PRIMARY SCHOOL</td>\n",
        "      <td> 90F5B08F15295264613</td>\n",
        "      <td> 05/02/03/031</td>\n",
        "      <td>            Umar</td>\n",
        "      <td>       Zainab</td>\n",
        "      <td>       NaN</td>\n",
        "      <td> 1975</td>\n",
        "      <td> 01</td>\n",
        "      <td> 01</td>\n",
        "      <td> Female</td>\n",
        "      <td> rimin jahun pri sch</td>\n",
        "      <td>      House Wife</td>\n",
        "      <td> 1\"</td>\n",
        "    </tr>\n",
        "    <tr>\n",
        "      <th>999986</th>\n",
        "      <td> \"BAUCHI</td>\n",
        "      <td>   BAUCHI</td>\n",
        "      <td> MAKAMA/SARKI BAKI</td>\n",
        "      <td> RIMIN JAHUN, RIMIN JAHUN PRIMARY SCHOOL</td>\n",
        "      <td> 90F5B08F15295264743</td>\n",
        "      <td> 05/02/03/031</td>\n",
        "      <td>            Umar</td>\n",
        "      <td>       Hadiza</td>\n",
        "      <td>       NaN</td>\n",
        "      <td> 1982</td>\n",
        "      <td> 01</td>\n",
        "      <td> 01</td>\n",
        "      <td> Female</td>\n",
        "      <td> rimin jahun pri sch</td>\n",
        "      <td>      House Wife</td>\n",
        "      <td> 1\"</td>\n",
        "    </tr>\n",
        "    <tr>\n",
        "      <th>999987</th>\n",
        "      <td> \"BAUCHI</td>\n",
        "      <td>   BAUCHI</td>\n",
        "      <td> MAKAMA/SARKI BAKI</td>\n",
        "      <td> RIMIN JAHUN, RIMIN JAHUN PRIMARY SCHOOL</td>\n",
        "      <td> 90F5B08F15295264856</td>\n",
        "      <td> 05/02/03/031</td>\n",
        "      <td>            Umar</td>\n",
        "      <td>        Zanab</td>\n",
        "      <td>       NaN</td>\n",
        "      <td> 1965</td>\n",
        "      <td> 01</td>\n",
        "      <td> 01</td>\n",
        "      <td> Female</td>\n",
        "      <td> rimin jahun pri sch</td>\n",
        "      <td>      House Wife</td>\n",
        "      <td> 1\"</td>\n",
        "    </tr>\n",
        "    <tr>\n",
        "      <th>999988</th>\n",
        "      <td> \"BAUCHI</td>\n",
        "      <td>   BAUCHI</td>\n",
        "      <td> MAKAMA/SARKI BAKI</td>\n",
        "      <td> RIMIN JAHUN, RIMIN JAHUN PRIMARY SCHOOL</td>\n",
        "      <td> 90F5B08F15295265040</td>\n",
        "      <td> 05/02/03/031</td>\n",
        "      <td>          Muhd D</td>\n",
        "      <td>     Mustapha</td>\n",
        "      <td>       NaN</td>\n",
        "      <td> 1974</td>\n",
        "      <td> 01</td>\n",
        "      <td> 01</td>\n",
        "      <td>   Male</td>\n",
        "      <td> rimin jahun pri sch</td>\n",
        "      <td>   Civil Servant</td>\n",
        "      <td> 1\"</td>\n",
        "    </tr>\n",
        "    <tr>\n",
        "      <th>999989</th>\n",
        "      <td> \"BAUCHI</td>\n",
        "      <td>   BAUCHI</td>\n",
        "      <td> MAKAMA/SARKI BAKI</td>\n",
        "      <td> RIMIN JAHUN, RIMIN JAHUN PRIMARY SCHOOL</td>\n",
        "      <td> 90F5B08F15295265198</td>\n",
        "      <td> 05/02/03/031</td>\n",
        "      <td>          Saluhu</td>\n",
        "      <td>         Isah</td>\n",
        "      <td>       NaN</td>\n",
        "      <td> 1971</td>\n",
        "      <td> 01</td>\n",
        "      <td> 01</td>\n",
        "      <td>   Male</td>\n",
        "      <td> rimin jahun pri sch</td>\n",
        "      <td>  Public Servant</td>\n",
        "      <td> 1\"</td>\n",
        "    </tr>\n",
        "    <tr>\n",
        "      <th>999990</th>\n",
        "      <td> \"BAUCHI</td>\n",
        "      <td>   BAUCHI</td>\n",
        "      <td> MAKAMA/SARKI BAKI</td>\n",
        "      <td> RIMIN JAHUN, RIMIN JAHUN PRIMARY SCHOOL</td>\n",
        "      <td> 90F5B08F15295265368</td>\n",
        "      <td> 05/02/03/031</td>\n",
        "      <td>            Audi</td>\n",
        "      <td>      Al Tine</td>\n",
        "      <td>       NaN</td>\n",
        "      <td> 1976</td>\n",
        "      <td> 01</td>\n",
        "      <td> 01</td>\n",
        "      <td> Female</td>\n",
        "      <td> rimin jahun pri sch</td>\n",
        "      <td>      House Wife</td>\n",
        "      <td> 1\"</td>\n",
        "    </tr>\n",
        "    <tr>\n",
        "      <th>999991</th>\n",
        "      <td> \"BAUCHI</td>\n",
        "      <td>   BAUCHI</td>\n",
        "      <td> MAKAMA/SARKI BAKI</td>\n",
        "      <td> RIMIN JAHUN, RIMIN JAHUN PRIMARY SCHOOL</td>\n",
        "      <td> 90F5B08F15295265511</td>\n",
        "      <td> 05/02/03/031</td>\n",
        "      <td>        Galadima</td>\n",
        "      <td>         Rabo</td>\n",
        "      <td>       NaN</td>\n",
        "      <td> 1943</td>\n",
        "      <td> 12</td>\n",
        "      <td> 13</td>\n",
        "      <td>   Male</td>\n",
        "      <td> rimin jahun pri sch</td>\n",
        "      <td>   Civil Servant</td>\n",
        "      <td> 1\"</td>\n",
        "    </tr>\n",
        "    <tr>\n",
        "      <th>999992</th>\n",
        "      <td> \"BAUCHI</td>\n",
        "      <td>   BAUCHI</td>\n",
        "      <td> MAKAMA/SARKI BAKI</td>\n",
        "      <td> RIMIN JAHUN, RIMIN JAHUN PRIMARY SCHOOL</td>\n",
        "      <td> 90F5B08F15295265642</td>\n",
        "      <td> 05/02/03/031</td>\n",
        "      <td>             Isa</td>\n",
        "      <td>       Hauwau</td>\n",
        "      <td>       NaN</td>\n",
        "      <td> 1983</td>\n",
        "      <td> 01</td>\n",
        "      <td> 01</td>\n",
        "      <td> Female</td>\n",
        "      <td> rimin jahun pri sch</td>\n",
        "      <td>      House Wife</td>\n",
        "      <td> 1\"</td>\n",
        "    </tr>\n",
        "    <tr>\n",
        "      <th>999993</th>\n",
        "      <td> \"BAUCHI</td>\n",
        "      <td>   BAUCHI</td>\n",
        "      <td> MAKAMA/SARKI BAKI</td>\n",
        "      <td> RIMIN JAHUN, RIMIN JAHUN PRIMARY SCHOOL</td>\n",
        "      <td> 90F5B08F15295265847</td>\n",
        "      <td> 05/02/03/031</td>\n",
        "      <td>        Muhammad</td>\n",
        "      <td>     Hanifata</td>\n",
        "      <td>       NaN</td>\n",
        "      <td> 1985</td>\n",
        "      <td> 09</td>\n",
        "      <td> 04</td>\n",
        "      <td>   Male</td>\n",
        "      <td> rimin jahun pri sch</td>\n",
        "      <td>         Student</td>\n",
        "      <td> 1\"</td>\n",
        "    </tr>\n",
        "    <tr>\n",
        "      <th>999994</th>\n",
        "      <td> \"BAUCHI</td>\n",
        "      <td>   BAUCHI</td>\n",
        "      <td> MAKAMA/SARKI BAKI</td>\n",
        "      <td> RIMIN JAHUN, RIMIN JAHUN PRIMARY SCHOOL</td>\n",
        "      <td> 90F5B08F15295265985</td>\n",
        "      <td> 05/02/03/031</td>\n",
        "      <td>           Adamu</td>\n",
        "      <td>      Rashida</td>\n",
        "      <td>       NaN</td>\n",
        "      <td> 1963</td>\n",
        "      <td> 01</td>\n",
        "      <td> 01</td>\n",
        "      <td> Female</td>\n",
        "      <td> rimin jahun pri sch</td>\n",
        "      <td>      House Wife</td>\n",
        "      <td> 1\"</td>\n",
        "    </tr>\n",
        "    <tr>\n",
        "      <th>999995</th>\n",
        "      <td> \"BAUCHI</td>\n",
        "      <td>   BAUCHI</td>\n",
        "      <td> MAKAMA/SARKI BAKI</td>\n",
        "      <td> RIMIN JAHUN, RIMIN JAHUN PRIMARY SCHOOL</td>\n",
        "      <td> 90F5B08F15295266127</td>\n",
        "      <td> 05/02/03/031</td>\n",
        "      <td>            Muhd</td>\n",
        "      <td>      Ibrahim</td>\n",
        "      <td>       NaN</td>\n",
        "      <td> 1970</td>\n",
        "      <td> 01</td>\n",
        "      <td> 01</td>\n",
        "      <td>   Male</td>\n",
        "      <td> rimin jahun pri sch</td>\n",
        "      <td>   Civil Servant</td>\n",
        "      <td> 1\"</td>\n",
        "    </tr>\n",
        "    <tr>\n",
        "      <th>999996</th>\n",
        "      <td> \"BAUCHI</td>\n",
        "      <td>   BAUCHI</td>\n",
        "      <td> MAKAMA/SARKI BAKI</td>\n",
        "      <td> RIMIN JAHUN, RIMIN JAHUN PRIMARY SCHOOL</td>\n",
        "      <td> 90F5B08F15295266326</td>\n",
        "      <td> 05/02/03/031</td>\n",
        "      <td>       Abdukarim</td>\n",
        "      <td>       Sadiya</td>\n",
        "      <td>       NaN</td>\n",
        "      <td> 1991</td>\n",
        "      <td> 01</td>\n",
        "      <td> 01</td>\n",
        "      <td> Female</td>\n",
        "      <td> rimin jahun pri sch</td>\n",
        "      <td>         Student</td>\n",
        "      <td> 1\"</td>\n",
        "    </tr>\n",
        "    <tr>\n",
        "      <th>999997</th>\n",
        "      <td> \"BAUCHI</td>\n",
        "      <td>   BAUCHI</td>\n",
        "      <td> MAKAMA/SARKI BAKI</td>\n",
        "      <td> RIMIN JAHUN, RIMIN JAHUN PRIMARY SCHOOL</td>\n",
        "      <td> 90F5B08F15295266540</td>\n",
        "      <td> 05/02/03/031</td>\n",
        "      <td>            Sule</td>\n",
        "      <td>         Mato</td>\n",
        "      <td>       NaN</td>\n",
        "      <td> 1952</td>\n",
        "      <td> 12</td>\n",
        "      <td> 02</td>\n",
        "      <td>   Male</td>\n",
        "      <td> rimin jahun pri sch</td>\n",
        "      <td>   Civil Servant</td>\n",
        "      <td> 1\"</td>\n",
        "    </tr>\n",
        "    <tr>\n",
        "      <th>999998</th>\n",
        "      <td> \"BAUCHI</td>\n",
        "      <td>   BAUCHI</td>\n",
        "      <td> MAKAMA/SARKI BAKI</td>\n",
        "      <td> RIMIN JAHUN, RIMIN JAHUN PRIMARY SCHOOL</td>\n",
        "      <td> 90F5B08F15295266764</td>\n",
        "      <td> 05/02/03/031</td>\n",
        "      <td>          Y Musa</td>\n",
        "      <td>        Hamza</td>\n",
        "      <td>       NaN</td>\n",
        "      <td> 1969</td>\n",
        "      <td> 01</td>\n",
        "      <td> 01</td>\n",
        "      <td>   Male</td>\n",
        "      <td> rimin jahun pri sch</td>\n",
        "      <td>   Civil Servant</td>\n",
        "      <td> 1\"</td>\n",
        "    </tr>\n",
        "    <tr>\n",
        "      <th>999999</th>\n",
        "      <td> \"BAUCHI</td>\n",
        "      <td>   BAUCHI</td>\n",
        "      <td> MAKAMA/SARKI BAKI</td>\n",
        "      <td> RIMIN JAHUN, RIMIN JAHUN PRIMARY SCHOOL</td>\n",
        "      <td> 90F5B08F15295266928</td>\n",
        "      <td> 05/02/03/031</td>\n",
        "      <td>        Abubakar</td>\n",
        "      <td>       Dahiru</td>\n",
        "      <td>       NaN</td>\n",
        "      <td> 1961</td>\n",
        "      <td> 01</td>\n",
        "      <td> 01</td>\n",
        "      <td>   Male</td>\n",
        "      <td> rimin jahun pri sch</td>\n",
        "      <td>   Civil Servant</td>\n",
        "      <td> 1\"</td>\n",
        "    </tr>\n",
        "  </tbody>\n",
        "</table>\n",
        "<p>1000000 rows \u00d7 16 columns</p>\n",
        "</div>"
       ],
       "metadata": {},
       "output_type": "pyout",
       "prompt_number": 42,
       "text": [
        "             0         1                  2   \\\n",
        "0         \"YOBE  YUNUSARI  ZAJIBIRI / DUMBAL   \n",
        "1         \"YOBE  YUNUSARI  ZAJIBIRI / DUMBAL   \n",
        "2         \"YOBE  YUNUSARI  ZAJIBIRI / DUMBAL   \n",
        "3         \"YOBE  YUNUSARI  ZAJIBIRI / DUMBAL   \n",
        "4         \"YOBE  YUNUSARI  ZAJIBIRI / DUMBAL   \n",
        "5         \"YOBE  YUNUSARI  ZAJIBIRI / DUMBAL   \n",
        "6         \"YOBE  YUNUSARI  ZAJIBIRI / DUMBAL   \n",
        "7         \"YOBE  YUNUSARI  ZAJIBIRI / DUMBAL   \n",
        "8         \"YOBE  YUNUSARI  ZAJIBIRI / DUMBAL   \n",
        "9         \"YOBE  YUNUSARI  ZAJIBIRI / DUMBAL   \n",
        "10        \"YOBE  YUNUSARI  ZAJIBIRI / DUMBAL   \n",
        "11        \"YOBE  YUNUSARI  ZAJIBIRI / DUMBAL   \n",
        "12        \"YOBE  YUNUSARI  ZAJIBIRI / DUMBAL   \n",
        "13        \"YOBE  YUNUSARI  ZAJIBIRI / DUMBAL   \n",
        "14        \"YOBE  YUNUSARI  ZAJIBIRI / DUMBAL   \n",
        "15        \"YOBE  YUNUSARI  ZAJIBIRI / DUMBAL   \n",
        "16        \"YOBE  YUNUSARI  ZAJIBIRI / DUMBAL   \n",
        "17        \"YOBE  YUNUSARI  ZAJIBIRI / DUMBAL   \n",
        "18        \"YOBE  YUNUSARI  ZAJIBIRI / DUMBAL   \n",
        "19        \"YOBE  YUNUSARI  ZAJIBIRI / DUMBAL   \n",
        "20        \"YOBE  YUNUSARI  ZAJIBIRI / DUMBAL   \n",
        "21        \"YOBE  YUNUSARI  ZAJIBIRI / DUMBAL   \n",
        "22        \"YOBE  YUNUSARI  ZAJIBIRI / DUMBAL   \n",
        "23        \"YOBE  YUNUSARI  ZAJIBIRI / DUMBAL   \n",
        "24        \"YOBE  YUNUSARI  ZAJIBIRI / DUMBAL   \n",
        "25        \"YOBE  YUNUSARI  ZAJIBIRI / DUMBAL   \n",
        "26        \"YOBE  YUNUSARI  ZAJIBIRI / DUMBAL   \n",
        "27        \"YOBE  YUNUSARI  ZAJIBIRI / DUMBAL   \n",
        "28        \"YOBE  YUNUSARI  ZAJIBIRI / DUMBAL   \n",
        "29        \"YOBE  YUNUSARI  ZAJIBIRI / DUMBAL   \n",
        "...         ...       ...                ...   \n",
        "999970  \"BAUCHI    BAUCHI  MAKAMA/SARKI BAKI   \n",
        "999971  \"BAUCHI    BAUCHI  MAKAMA/SARKI BAKI   \n",
        "999972  \"BAUCHI    BAUCHI  MAKAMA/SARKI BAKI   \n",
        "999973  \"BAUCHI    BAUCHI  MAKAMA/SARKI BAKI   \n",
        "999974  \"BAUCHI    BAUCHI  MAKAMA/SARKI BAKI   \n",
        "999975  \"BAUCHI    BAUCHI  MAKAMA/SARKI BAKI   \n",
        "999976  \"BAUCHI    BAUCHI  MAKAMA/SARKI BAKI   \n",
        "999977  \"BAUCHI    BAUCHI  MAKAMA/SARKI BAKI   \n",
        "999978  \"BAUCHI    BAUCHI  MAKAMA/SARKI BAKI   \n",
        "999979  \"BAUCHI    BAUCHI  MAKAMA/SARKI BAKI   \n",
        "999980  \"BAUCHI    BAUCHI  MAKAMA/SARKI BAKI   \n",
        "999981  \"BAUCHI    BAUCHI  MAKAMA/SARKI BAKI   \n",
        "999982  \"BAUCHI    BAUCHI  MAKAMA/SARKI BAKI   \n",
        "999983  \"BAUCHI    BAUCHI  MAKAMA/SARKI BAKI   \n",
        "999984  \"BAUCHI    BAUCHI  MAKAMA/SARKI BAKI   \n",
        "999985  \"BAUCHI    BAUCHI  MAKAMA/SARKI BAKI   \n",
        "999986  \"BAUCHI    BAUCHI  MAKAMA/SARKI BAKI   \n",
        "999987  \"BAUCHI    BAUCHI  MAKAMA/SARKI BAKI   \n",
        "999988  \"BAUCHI    BAUCHI  MAKAMA/SARKI BAKI   \n",
        "999989  \"BAUCHI    BAUCHI  MAKAMA/SARKI BAKI   \n",
        "999990  \"BAUCHI    BAUCHI  MAKAMA/SARKI BAKI   \n",
        "999991  \"BAUCHI    BAUCHI  MAKAMA/SARKI BAKI   \n",
        "999992  \"BAUCHI    BAUCHI  MAKAMA/SARKI BAKI   \n",
        "999993  \"BAUCHI    BAUCHI  MAKAMA/SARKI BAKI   \n",
        "999994  \"BAUCHI    BAUCHI  MAKAMA/SARKI BAKI   \n",
        "999995  \"BAUCHI    BAUCHI  MAKAMA/SARKI BAKI   \n",
        "999996  \"BAUCHI    BAUCHI  MAKAMA/SARKI BAKI   \n",
        "999997  \"BAUCHI    BAUCHI  MAKAMA/SARKI BAKI   \n",
        "999998  \"BAUCHI    BAUCHI  MAKAMA/SARKI BAKI   \n",
        "999999  \"BAUCHI    BAUCHI  MAKAMA/SARKI BAKI   \n",
        "\n",
        "                                             3                    4   \\\n",
        "0                                GARAU, DANDALI  90F5AED665296399390   \n",
        "1                                GARAU, DANDALI  90F5AED665296399656   \n",
        "2                                GARAU, DANDALI  90F5AED665296399930   \n",
        "3                                GARAU, DANDALI  90F5AED665296400289   \n",
        "4                                GARAU, DANDALI  90F5AED665296400637   \n",
        "5                                GARAU, DANDALI  90F5AED665296401269   \n",
        "6                                GARAU, DANDALI  90F5AED665296402058   \n",
        "7                                GARAU, DANDALI  90F5AED665296402310   \n",
        "8                                GARAU, DANDALI  90F5AED665296402510   \n",
        "9                                GARAU, DANDALI  90F5AED665296402757   \n",
        "10                               GARAU, DANDALI  90F5AED665296403149   \n",
        "11                               GARAU, DANDALI  90F5AED665296403342   \n",
        "12                               GARAU, DANDALI  90F5AED665296403994   \n",
        "13                               GARAU, DANDALI  90F5AED665296404529   \n",
        "14                               GARAU, DANDALI  90F5AED665296404786   \n",
        "15                               GARAU, DANDALI  90F5AED665296404989   \n",
        "16                               GARAU, DANDALI  90F5AED665296405307   \n",
        "17                               GARAU, DANDALI  90F5AED665296405560   \n",
        "18                               GARAU, DANDALI  90F5AED665296476265   \n",
        "19                               GARAU, DANDALI  90F5AED665296476521   \n",
        "20                               GARAU, DANDALI  90F5AED665296476748   \n",
        "21                               GARAU, DANDALI  90F5AED665296477784   \n",
        "22                               GARAU, DANDALI  90F5AED665296478083   \n",
        "23                               GARAU, DANDALI  90F5AED665296478339   \n",
        "24                               GARAU, DANDALI  90F5AED665296479447   \n",
        "25                               GARAU, DANDALI  90F5AED665296479720   \n",
        "26                               GARAU, DANDALI  90F5AED665296479984   \n",
        "27                               GARAU, DANDALI  90F5AED665296480221   \n",
        "28                               GARAU, DANDALI  90F5AED665296480429   \n",
        "29                               GARAU, DANDALI  90F5AED665296480781   \n",
        "...                                         ...                  ...   \n",
        "999970  RIMIN JAHUN, RIMIN JAHUN PRIMARY SCHOOL  90F5B08F15295261814   \n",
        "999971  RIMIN JAHUN, RIMIN JAHUN PRIMARY SCHOOL  90F5B08F15295262050   \n",
        "999972  RIMIN JAHUN, RIMIN JAHUN PRIMARY SCHOOL  90F5B08F15295262224   \n",
        "999973  RIMIN JAHUN, RIMIN JAHUN PRIMARY SCHOOL  90F5B08F15295262408   \n",
        "999974  RIMIN JAHUN, RIMIN JAHUN PRIMARY SCHOOL  90F5B08F15295262651   \n",
        "999975  RIMIN JAHUN, RIMIN JAHUN PRIMARY SCHOOL  90F5B08F15295262895   \n",
        "999976  RIMIN JAHUN, RIMIN JAHUN PRIMARY SCHOOL  90F5B08F15295263101   \n",
        "999977  RIMIN JAHUN, RIMIN JAHUN PRIMARY SCHOOL  90F5B08F15295263278   \n",
        "999978  RIMIN JAHUN, RIMIN JAHUN PRIMARY SCHOOL  90F5B08F15295263440   \n",
        "999979  RIMIN JAHUN, RIMIN JAHUN PRIMARY SCHOOL  90F5B08F15295263609   \n",
        "999980  RIMIN JAHUN, RIMIN JAHUN PRIMARY SCHOOL  90F5B08F15295263804   \n",
        "999981  RIMIN JAHUN, RIMIN JAHUN PRIMARY SCHOOL  90F5B08F15295264002   \n",
        "999982  RIMIN JAHUN, RIMIN JAHUN PRIMARY SCHOOL  90F5B08F15295264149   \n",
        "999983  RIMIN JAHUN, RIMIN JAHUN PRIMARY SCHOOL  90F5B08F15295264339   \n",
        "999984  RIMIN JAHUN, RIMIN JAHUN PRIMARY SCHOOL  90F5B08F15295264464   \n",
        "999985  RIMIN JAHUN, RIMIN JAHUN PRIMARY SCHOOL  90F5B08F15295264613   \n",
        "999986  RIMIN JAHUN, RIMIN JAHUN PRIMARY SCHOOL  90F5B08F15295264743   \n",
        "999987  RIMIN JAHUN, RIMIN JAHUN PRIMARY SCHOOL  90F5B08F15295264856   \n",
        "999988  RIMIN JAHUN, RIMIN JAHUN PRIMARY SCHOOL  90F5B08F15295265040   \n",
        "999989  RIMIN JAHUN, RIMIN JAHUN PRIMARY SCHOOL  90F5B08F15295265198   \n",
        "999990  RIMIN JAHUN, RIMIN JAHUN PRIMARY SCHOOL  90F5B08F15295265368   \n",
        "999991  RIMIN JAHUN, RIMIN JAHUN PRIMARY SCHOOL  90F5B08F15295265511   \n",
        "999992  RIMIN JAHUN, RIMIN JAHUN PRIMARY SCHOOL  90F5B08F15295265642   \n",
        "999993  RIMIN JAHUN, RIMIN JAHUN PRIMARY SCHOOL  90F5B08F15295265847   \n",
        "999994  RIMIN JAHUN, RIMIN JAHUN PRIMARY SCHOOL  90F5B08F15295265985   \n",
        "999995  RIMIN JAHUN, RIMIN JAHUN PRIMARY SCHOOL  90F5B08F15295266127   \n",
        "999996  RIMIN JAHUN, RIMIN JAHUN PRIMARY SCHOOL  90F5B08F15295266326   \n",
        "999997  RIMIN JAHUN, RIMIN JAHUN PRIMARY SCHOOL  90F5B08F15295266540   \n",
        "999998  RIMIN JAHUN, RIMIN JAHUN PRIMARY SCHOOL  90F5B08F15295266764   \n",
        "999999  RIMIN JAHUN, RIMIN JAHUN PRIMARY SCHOOL  90F5B08F15295266928   \n",
        "\n",
        "                  5                6             7          8     9   10  11  \\\n",
        "0       35/16/10/005             Abdu        Ahmadu        NaN  1968  01  01   \n",
        "1       35/16/10/005          Ibrahim        Aisata        NaN  1980  01  01   \n",
        "2       35/16/10/005             Modu      Ari Kime        NaN  1980  01  01   \n",
        "3       35/16/10/005           Zumami          Garm        NaN  1992  01  01   \n",
        "4       35/16/10/005          Ibrahim        Mamodu        NaN  1960  01  01   \n",
        "5       35/16/10/005           Mamodu         Fanna        NaN  1980  01  01   \n",
        "6       35/16/10/005              Ado         Bukar        NaN  1965  01  01   \n",
        "7       35/16/10/005    Mallam Mubodu       Fannata        NaN  1988  01  01   \n",
        "8       35/16/10/005              Gra        Mamodu        NaN  1991  01  01   \n",
        "9       35/16/10/005           Mamodu          Faji        NaN  1980  01  01   \n",
        "10      35/16/10/005             Abdu         Usman        NaN  1970  01  01   \n",
        "11      35/16/10/005            Bukar           Lou        NaN  1990  01  01   \n",
        "12      35/16/10/005     Alhaji Adamu           Idi        NaN  1960  01  01   \n",
        "13      35/16/10/005              Ali          Sale        NaN  1970  01  01   \n",
        "14      35/16/10/005              Ali          Musa        NaN  1975  01  01   \n",
        "15      35/16/10/005       Mallam Ado          Musa        NaN  1982  01  01   \n",
        "16      35/16/10/005            Adamu         Awudu        NaN  1985  01  01   \n",
        "17      35/16/10/005            Adamu           Isa        NaN  1950  01  01   \n",
        "18      35/16/10/005           Gabcha         Malla        NaN  1940  01  01   \n",
        "19      35/16/10/005           Bashir       Manzaji        NaN  1980  01  01   \n",
        "20      35/16/10/005            Kyari        Yakura        NaN  1960  01  01   \n",
        "21      35/16/10/005         Kallammi         Malla        NaN  1975  01  01   \n",
        "22      35/16/10/005        Kyarikolo       Ambalam        NaN  1985  01  01   \n",
        "23      35/16/10/005              Gra  Alhaji Grema        NaN  1980  01  01   \n",
        "24      35/16/10/005          Ambadu          Mangu        NaN  1980  01  01   \n",
        "25      35/16/10/005          Aminami       Mammadu        NaN  1985  01  01   \n",
        "26      35/16/10/005     Alhaji Bukar          Zara        NaN  1980  01  01   \n",
        "27      35/16/10/005              Gra          Audu        NaN  1990  01  01   \n",
        "28      35/16/10/005  Alhaji Mustapha         Fusam        NaN  1990  01  01   \n",
        "29      35/16/10/005            Bukar          Umar        NaN  1990  01  01   \n",
        "...              ...              ...           ...        ...   ...  ..  ..   \n",
        "999970  05/02/03/031       B Sulaiman          Muhd        NaN  1957  01  01   \n",
        "999971  05/02/03/031             Umar      Nafisatu        NaN  1990  01  01   \n",
        "999972  05/02/03/031            Barwa         Ahmad  Maimunatu  1985  01  01   \n",
        "999973  05/02/03/031             Umar        Maryam        NaN  1991  01  01   \n",
        "999974  05/02/03/031         Muhammed         Shehu        NaN  1962  02  04   \n",
        "999975  05/02/03/031             Baba          Musa     Fatima  1991  01  01   \n",
        "999976  05/02/03/031             Baba          Musa     Zahira  1989  05  25   \n",
        "999977  05/02/03/031             Baba          Musa     Hamida  1992  01  01   \n",
        "999978  05/02/03/031           Nazeef          Muhd       Umar  1988  08  15   \n",
        "999979  05/02/03/031         Hussaini       Hafsatu        NaN  1975  01  01   \n",
        "999980  05/02/03/031          M Dajin        Yakubu    Ibrahim  1988  01  01   \n",
        "999981  05/02/03/031             Muhd      Mustapha        NaN  1983  01  01   \n",
        "999982  05/02/03/031            Garba     Abdullahi        NaN  1945  01  01   \n",
        "999983  05/02/03/031            Usman      Abubakar      Sadiq  1985  12  12   \n",
        "999984  05/02/03/031            Usman          Umar        NaN  1950  01  01   \n",
        "999985  05/02/03/031             Umar        Zainab        NaN  1975  01  01   \n",
        "999986  05/02/03/031             Umar        Hadiza        NaN  1982  01  01   \n",
        "999987  05/02/03/031             Umar         Zanab        NaN  1965  01  01   \n",
        "999988  05/02/03/031           Muhd D      Mustapha        NaN  1974  01  01   \n",
        "999989  05/02/03/031           Saluhu          Isah        NaN  1971  01  01   \n",
        "999990  05/02/03/031             Audi       Al Tine        NaN  1976  01  01   \n",
        "999991  05/02/03/031         Galadima          Rabo        NaN  1943  12  13   \n",
        "999992  05/02/03/031              Isa        Hauwau        NaN  1983  01  01   \n",
        "999993  05/02/03/031         Muhammad      Hanifata        NaN  1985  09  04   \n",
        "999994  05/02/03/031            Adamu       Rashida        NaN  1963  01  01   \n",
        "999995  05/02/03/031             Muhd       Ibrahim        NaN  1970  01  01   \n",
        "999996  05/02/03/031        Abdukarim        Sadiya        NaN  1991  01  01   \n",
        "999997  05/02/03/031             Sule          Mato        NaN  1952  12  02   \n",
        "999998  05/02/03/031           Y Musa         Hamza        NaN  1969  01  01   \n",
        "999999  05/02/03/031         Abubakar        Dahiru        NaN  1961  01  01   \n",
        "\n",
        "            12                   13               14  15  \n",
        "0         Male           garau kura  Farming/Fishing  0\"  \n",
        "1       Female           garau kura  Farming/Fishing  0\"  \n",
        "2         Male           garau kura  Farming/Fishing  0\"  \n",
        "3       Female           garau kura  Farming/Fishing  0\"  \n",
        "4         Male           garau kura  Farming/Fishing  0\"  \n",
        "5       Female           garau kura  Farming/Fishing  0\"  \n",
        "6         Male           garau kura  Farming/Fishing  0\"  \n",
        "7       Female           garau kura  Farming/Fishing  0\"  \n",
        "8         Male           garau kura  Farming/Fishing  0\"  \n",
        "9       Female           garau kura  Farming/Fishing  0\"  \n",
        "10        Male           garau kura  Farming/Fishing  0\"  \n",
        "11      Female           garau kura  Farming/Fishing  0\"  \n",
        "12        Male           garau kura  Farming/Fishing  0\"  \n",
        "13        Male           garau kura  Farming/Fishing  0\"  \n",
        "14        Male           garau kura  Farming/Fishing  0\"  \n",
        "15        Male           garau kura  Farming/Fishing  0\"  \n",
        "16        Male           garau kura  Farming/Fishing  0\"  \n",
        "17        Male           garau kura  Farming/Fishing  0\"  \n",
        "18        Male           garau kura  Farming/Fishing  0\"  \n",
        "19        Male           garau kura         Business  0\"  \n",
        "20      Female           garau kura  Farming/Fishing  0\"  \n",
        "21        Male           garau kura         Business  0\"  \n",
        "22      Female           garau kura  Farming/Fishing  0\"  \n",
        "23        Male           garau kura  Farming/Fishing  0\"  \n",
        "24      Female           garau kura  Farming/Fishing  0\"  \n",
        "25        Male           garau kura  Farming/Fishing  0\"  \n",
        "26      Female           garau kura  Farming/Fishing  0\"  \n",
        "27      Female           garau kura  Farming/Fishing  0\"  \n",
        "28        Male           garau kura  Farming/Fishing  0\"  \n",
        "29        Male           garau kura  Farming/Fishing  0\"  \n",
        "...        ...                  ...              ...  ..  \n",
        "999970    Male  rimin jahun pri sch   Public Servant  1\"  \n",
        "999971  Female  rimin jahun pri sch          Student  1\"  \n",
        "999972  Female  rimin jahun pri sch       House Wife  1\"  \n",
        "999973  Female  rimin jahun pri sch          Student  1\"  \n",
        "999974    Male  rimin jahun pri sch    Civil Servant  1\"  \n",
        "999975  Female  rimin jahun pri sch          Student  1\"  \n",
        "999976  Female  rimin jahun pri sch          Student  1\"  \n",
        "999977  Female  rimin jahun pri sch          Student  1\"  \n",
        "999978    Male  rimin jahun pri sch          Student  1\"  \n",
        "999979  Female  rimin jahun pri sch       House Wife  1\"  \n",
        "999980    Male  rimin jahun pri sch          Student  1\"  \n",
        "999981    Male  rimin jahun pri sch          Trading  1\"  \n",
        "999982    Male  rimin jahun pri sch            Other  1\"  \n",
        "999983    Male  rimin jahun pri sch          Student  1\"  \n",
        "999984    Male  rimin jahun pri sch            Other  1\"  \n",
        "999985  Female  rimin jahun pri sch       House Wife  1\"  \n",
        "999986  Female  rimin jahun pri sch       House Wife  1\"  \n",
        "999987  Female  rimin jahun pri sch       House Wife  1\"  \n",
        "999988    Male  rimin jahun pri sch    Civil Servant  1\"  \n",
        "999989    Male  rimin jahun pri sch   Public Servant  1\"  \n",
        "999990  Female  rimin jahun pri sch       House Wife  1\"  \n",
        "999991    Male  rimin jahun pri sch    Civil Servant  1\"  \n",
        "999992  Female  rimin jahun pri sch       House Wife  1\"  \n",
        "999993    Male  rimin jahun pri sch          Student  1\"  \n",
        "999994  Female  rimin jahun pri sch       House Wife  1\"  \n",
        "999995    Male  rimin jahun pri sch    Civil Servant  1\"  \n",
        "999996  Female  rimin jahun pri sch          Student  1\"  \n",
        "999997    Male  rimin jahun pri sch    Civil Servant  1\"  \n",
        "999998    Male  rimin jahun pri sch    Civil Servant  1\"  \n",
        "999999    Male  rimin jahun pri sch    Civil Servant  1\"  \n",
        "\n",
        "[1000000 rows x 16 columns]"
       ]
      }
     ],
     "prompt_number": 42
    },
    {
     "cell_type": "code",
     "collapsed": false,
     "input": [
      "states = pd.unique(voters[1].apply(str))\n",
      "print(states)"
     ],
     "language": "python",
     "metadata": {},
     "outputs": [
      {
       "output_type": "stream",
       "stream": "stdout",
       "text": [
        "['GUSAU' 'None' 'Farming/Fishing' 'House Wife' 'NNEWI NORTH' 'BAUCHI'\n",
        " 'MANGU' 'OSHODI/ISOLO' 'Student' 'Business' 'IKEJA' 'PORT HARCOURT'\n",
        " 'Civil Servant' 'Artisan' 'BUNGUDU' 'BAKURA' 'ANKA' 'BIRNIN MAGAJI'\n",
        " 'TSAFE' 'MARU' 'MARADUN' 'KHANA' 'Other' 'Public Servant' 'OSOGBO'\n",
        " 'BUKKUYUM' 'Trading' 'ZURMI' 'EGOR' 'KALTUNGO' 'Sani' 'KAURA NAMODA'\n",
        " 'Abdullahi' 'TALATA MAFARA' '1980' 'NEMBE' 'AGEGE' 'AJEROMI/IFELODUN'\n",
        " '1960']\n"
       ]
      }
     ],
     "prompt_number": 4
    },
    {
     "cell_type": "code",
     "collapsed": false,
     "input": [
      "#Unique \n",
      "polling_units = pd.unique(voters[5].apply(str))\n",
      "#len(polling_units)\n",
      "#print(polling_units)\n",
      "polling_units"
     ],
     "language": "python",
     "metadata": {},
     "outputs": [
      {
       "metadata": {},
       "output_type": "pyout",
       "prompt_number": 5,
       "text": [
        "array(['36/07/03/009', '36/07/03/028', '36/07/03/016', ..., '36/08/11/001',\n",
        "       '36/08/03/005', '36/08/09/002'], dtype=object)"
       ]
      }
     ],
     "prompt_number": 5
    },
    {
     "cell_type": "code",
     "collapsed": false,
     "input": [
      "grouped = voters.groupby([1,2,3,5])\n",
      "grouped = grouped[0].agg([np.count_nonzero])\n",
      "grouped.shape\n",
      "#grouped.columns=['LGA','Polling Unit Code','Voters']\n",
      "print grouped"
     ],
     "language": "python",
     "metadata": {},
     "outputs": [
      {
       "output_type": "stream",
       "stream": "stdout",
       "text": [
        "                                                                                           count_nonzero\n",
        "1                2               3                                       5                              \n",
        "1960             01              01                                      MALLAMAWAR YAMMA              1\n",
        "1980             07              09                                      Mafara                        1\n",
        "AGEGE            DAROCHA         JUNCTION OF BALOGUN/SUNMONU STREET      24/01/08/007                  1\n",
        "AJEROMI/IFELODUN AGO HAUSA       BABANI STREET, EZEOGU LANE              24/02/01/015                 77\n",
        "ANKA             BAGEGA          BAGEGA I/KANWURI                        36/01/01/001               1139\n",
        "                                 BAGEGA II/MAKARANTA                     36/01/01/002                989\n",
        "                                 DANGAZAU/PRI. SCH                       36/01/01/009               1178\n",
        "                                 DAWON -JIYA/KANWURI                     36/01/01/007               1144\n",
        "                                 DUTSI/GARKA                             36/01/01/010                932\n",
        "                                 DUZA/PRI. SCH                           36/01/01/008               1020\n",
        "                                 KASUMKA/PRI. SCHOOL                     36/01/01/012               1137\n",
        "                                 KAWAYE  II/KANWURI                      36/01/01/006               1096\n",
        "                                 KAWAYE I /MAKARANTA                     36/01/01/005                900\n",
        "                                 MAKAKARI/PRI. SCHOOL                    36/01/01/013                795\n",
        "                                 MALLAMAWA/PRI. SCH.                     36/01/01/004               1008\n",
        "                                 TUBUKI/GARKA                            36/01/01/003               1073\n",
        "                                 ZAMFARAWA/PRI. SCHOOL                   36/01/01/011                454\n",
        "                 BARAYAR-ZAKI    BARAYAR-ZAKI/KANWURI                    36/01/02/001                752\n",
        "                                 BARDI/KANWURI                           36/01/02/008               1087\n",
        "                                 DUTSIN DAN - AJIYA/G/ HAKIMI            36/01/02/005                602\n",
        "                                 JIGAWA/KANWURI                          36/01/02/007                702\n",
        "                                 LAHO/LAHO                               36/01/02/010                451\n",
        "                                 MALLAMAWA/PRI. SCH.                     36/01/02/009                700\n",
        "                                 RAFIN-GERO/KANWURI                      36/01/02/002                869\n",
        "                                 RAIYA/KANWURI                           36/01/02/006                659\n",
        "                                 S / GARIN TIGALLA/TIGALLA               36/01/02/017                298\n",
        "                                 S/GARI SALA/S/ GARI                     36/01/02/015                453\n",
        "                                 SALLAH/PRI SCHOOL                       36/01/02/011                358\n",
        "                                 SHIYAR - LIMAN/LIMANCHI                 36/01/02/012                594\n",
        "                                 SHIYAR S/GARI/SABON GARI                36/01/02/013                322\n",
        "...                                                                                                  ...\n",
        "ZURMI            YAN BUKI/ DUTSI MARESUWA II / GARKAR MAI GARI           36/14/10/012                639\n",
        "                                 RIMAYE / TOWN DISPEN.                   36/14/10/003                877\n",
        "                                 SH/AUCHI I /  M.P.S DUTSI               36/14/10/010               1355\n",
        "                                 SH/MAKERA / BAKIN MAKERA                36/14/10/002                962\n",
        "                                 SHIYAR AUCHI II  /  YAR KASUWA          36/14/10/015                755\n",
        "                                 TUNGAR MATA / TUNDUN MATSARA            36/14/10/017                244\n",
        "                                 YAR DONUWA / BAKIN KASUWA               36/14/10/014                623\n",
        "                                 YAR TANBUS / M.P.S. YANBUKI             36/14/10/001                953\n",
        "                 ZURMI           ALI BAWA / SHIYAR ALI BAWA              36/14/11/020                836\n",
        "                                 AWALA ZUMI/ AWALA                       36/14/11/021               1164\n",
        "                                 BAKON GEBE / YAR MAGASA                 36/14/11/012                634\n",
        "                                 DADA SHIYAR SABON GARI  ZAWAYYA DADA    36/14/11/007                692\n",
        "                                 GIDAN GADAJE / GARKAR GADAJE            36/14/11/011                724\n",
        "                                 GIDAN SHAHO  / GARKAR SARKIN NOMA       36/14/11/006                839\n",
        "                                 GIDIDI/GARKAR ARDO                      36/14/11/022                228\n",
        "                                 KADAMUTSA I / M.P.S.  KADAMUTSA         36/14/11/002               1024\n",
        "                                 KADAMUTSA II  - M.P.S. KADAMUTSA        36/14/11/003                921\n",
        "                                 KATANGA I / ISAU M.P.S. ZURMI           36/14/11/016                900\n",
        "                                 KATANGA II   /  BAKIN KOTU              36/14/11/017                864\n",
        "                                 KOFAR KUKA / YAR KOFA                   36/14/11/015                985\n",
        "                                 MADUBA  / YAR KASUWA                    36/14/11/001                567\n",
        "                                 MAJEMAWA I   /  J.N.I  ZURMI            36/14/11/013                860\n",
        "                                 MAJEMAWA II  /  J.N.I. ZURMI            36/14/11/014                976\n",
        "                                 MARMARO  /  PRI. SCH.                   36/14/11/010                876\n",
        "                                 NASARAWA I / M.P.S. NASARAWA            36/14/11/004                874\n",
        "                                 NASARAWA II / M.P.S. NASARAWA           36/14/11/005               1033\n",
        "                                 RIMNI  /   YAR KOFAR                    36/14/11/009                631\n",
        "                                 SH/GALADIMA  /  YAR YARA                36/14/11/008                666\n",
        "                                 SHIYAR GORA / WOMEN CENTRE ZURMI        36/14/11/018               1224\n",
        "                                 SHIYAR MAMMAN  /  TOWN DISPENSARY ZURMI 36/14/11/019                925\n",
        "\n",
        "[1267 rows x 1 columns]\n"
       ]
      }
     ],
     "prompt_number": 6
    },
    {
     "cell_type": "code",
     "collapsed": false,
     "input": [
      "#simple state level summary\n",
      "st_summary = voters.groupby(by=[0]).agg([np.count_nonzero])\n",
      "#st_summary = st_summary[0].agg([np.count_nonzero])\n",
      "#st_summary.columns.shape\n",
      "#grouped.columns=['LGA','Polling Unit Code','Voters']\n",
      "print st_summary"
     ],
     "language": "python",
     "metadata": {},
     "outputs": [
      {
       "output_type": "stream",
       "stream": "stdout",
       "text": [
        "                                                     1              2   \\\n",
        "                                          count_nonzero  count_nonzero   \n",
        "0                                                                        \n",
        "\",\\N,\"0\"                                              0              0   \n",
        "\",\\N,\"1\"                                              0              0   \n",
        "\"ANAMBRA                                              1              1   \n",
        "\"BAUCHI                                               1              1   \n",
        "\"BAYELSA                                              1              1   \n",
        "\"EDO                                                  1              1   \n",
        "\"GOMBE                                               52             52   \n",
        "\"LAGOS                                               95             95   \n",
        "\"OSUN                                                 1              1   \n",
        "\"PLATEAU                                              1              1   \n",
        "\"RIVERS                                               2              2   \n",
        "\"ZAMFARA                                         990365         990365   \n",
        "''t zamfara state                                     1              1   \n",
        "'t zamfara state                                      1              1   \n",
        "'yarijiya dosara                                      1              1   \n",
        "- - - Pleas                                           1              1   \n",
        "- - - Please Click Restart Device - - -\\              0              0   \n",
        "- - -\\                                                0              0   \n",
        "-State.                                               1              1   \n",
        "/goga                                                 1              1   \n",
        "/mkf                                                  1              1   \n",
        "/tukurawa g\\\\goga                                     1              1   \n",
        "080\\                                                  0              0   \n",
        "24,TOWOLAWI AVENUE,SURULERE,LAGOS.\\                   0              0   \n",
        "9                                                     1              1   \n",
        "AKIMI\\                                                0              0   \n",
        "ANGUWAR SAHABI\\                                       0              0   \n",
        "Agir kofar barade                                     1              1   \n",
        "Agira kofar barade                                    1              1   \n",
        "Alawa                                                 3              3   \n",
        "...                                                 ...            ...   \n",
        "tsafe                                                 2              2   \n",
        "tsibiri pry. sch.maradun\\                             0              0   \n",
        "tsoni                                                 1              1   \n",
        "tukurawa g\\                                           0              0   \n",
        "tukuwara g\\                                           0              0   \n",
        "tumfa garkar liman                                    4              4   \n",
        "tumfa garkar liman                                   10             10   \n",
        "tungar nasarawa\\                                      0              0   \n",
        "tungar rogo\\                                          0              0   \n",
        "udun wada area gusau\\                                 0              0   \n",
        "un                                                    1              1   \n",
        "ung bature 2                                          1              1   \n",
        "unguwar gyauro                                        3              3   \n",
        "unguwar gyauro\\                                       0              0   \n",
        "unguwar marafa mada gusau\\                            0              0   \n",
        "unguwar sarkin musulmi                                1              1   \n",
        "wanke Gabas1                                          1              1   \n",
        "ya\\                                                   0              0   \n",
        "yar gada\\                                             0              0   \n",
        "yar maizank\\                                          0              0   \n",
        "yar maizanke\\                                         0              0   \n",
        "zamfara                                              18             18   \n",
        "zamfara State                                        13             13   \n",
        "zamfara state                                        10             10   \n",
        "zamfara.                                             30             30   \n",
        "zamfara.\\                                             0              0   \n",
        "zamfarawa gusau\\                                      0              0   \n",
        "zawiyya1                                              1              1   \n",
        "zurmi                                                 2              2   \n",
        "zurmi\\                                                0              0   \n",
        "\n",
        "                                                     3              4   \\\n",
        "                                          count_nonzero  count_nonzero   \n",
        "0                                                                        \n",
        "\",\\N,\"0\"                                              0              0   \n",
        "\",\\N,\"1\"                                              0              0   \n",
        "\"ANAMBRA                                              1              1   \n",
        "\"BAUCHI                                               1              1   \n",
        "\"BAYELSA                                              1              1   \n",
        "\"EDO                                                  1              1   \n",
        "\"GOMBE                                               52             52   \n",
        "\"LAGOS                                               95             95   \n",
        "\"OSUN                                                 1              1   \n",
        "\"PLATEAU                                              1              1   \n",
        "\"RIVERS                                               2              2   \n",
        "\"ZAMFARA                                         990365         990365   \n",
        "''t zamfara state                                     0              0   \n",
        "'t zamfara state                                      0              0   \n",
        "'yarijiya dosara                                      0              0   \n",
        "- - - Pleas                                           1              1   \n",
        "- - - Please Click Restart Device - - -\\              0              0   \n",
        "- - -\\                                                0              0   \n",
        "-State.                                               0              0   \n",
        "/goga                                                 0              0   \n",
        "/mkf                                                  0              0   \n",
        "/tukurawa g\\\\goga                                     0              0   \n",
        "080\\                                                  0              0   \n",
        "24,TOWOLAWI AVENUE,SURULERE,LAGOS.\\                   0              0   \n",
        "9                                                     0              0   \n",
        "AKIMI\\                                                0              0   \n",
        "ANGUWAR SAHABI\\                                       0              0   \n",
        "Agir kofar barade                                     0              0   \n",
        "Agira kofar barade                                    0              0   \n",
        "Alawa                                                 0              0   \n",
        "...                                                 ...            ...   \n",
        "tsafe                                                 0              0   \n",
        "tsibiri pry. sch.maradun\\                             0              0   \n",
        "tsoni                                                 0              0   \n",
        "tukurawa g\\                                           0              0   \n",
        "tukuwara g\\                                           0              0   \n",
        "tumfa garkar liman                                    0              0   \n",
        "tumfa garkar liman                                    0              0   \n",
        "tungar nasarawa\\                                      0              0   \n",
        "tungar rogo\\                                          0              0   \n",
        "udun wada area gusau\\                                 0              0   \n",
        "un                                                    0              0   \n",
        "ung bature 2                                          0              0   \n",
        "unguwar gyauro                                        0              0   \n",
        "unguwar gyauro\\                                       0              0   \n",
        "unguwar marafa mada gusau\\                            0              0   \n",
        "unguwar sarkin musulmi                                0              0   \n",
        "wanke Gabas1                                          0              0   \n",
        "ya\\                                                   0              0   \n",
        "yar gada\\                                             0              0   \n",
        "yar maizank\\                                          0              0   \n",
        "yar maizanke\\                                         0              0   \n",
        "zamfara                                               0              0   \n",
        "zamfara State                                         0              0   \n",
        "zamfara state                                         0              0   \n",
        "zamfara.                                              0              0   \n",
        "zamfara.\\                                             0              0   \n",
        "zamfarawa gusau\\                                      0              0   \n",
        "zawiyya1                                              0              0   \n",
        "zurmi                                                 0              0   \n",
        "zurmi\\                                                0              0   \n",
        "\n",
        "                                                     5              6   \\\n",
        "                                          count_nonzero  count_nonzero   \n",
        "0                                                                        \n",
        "\",\\N,\"0\"                                              0              0   \n",
        "\",\\N,\"1\"                                              0              0   \n",
        "\"ANAMBRA                                              1              1   \n",
        "\"BAUCHI                                               1              1   \n",
        "\"BAYELSA                                              1              1   \n",
        "\"EDO                                                  1              1   \n",
        "\"GOMBE                                               52             52   \n",
        "\"LAGOS                                               95             95   \n",
        "\"OSUN                                                 1              1   \n",
        "\"PLATEAU                                              1              1   \n",
        "\"RIVERS                                               2              2   \n",
        "\"ZAMFARA                                         990365         990365   \n",
        "''t zamfara state                                     0              0   \n",
        "'t zamfara state                                      0              0   \n",
        "'yarijiya dosara                                      0              0   \n",
        "- - - Pleas                                           1              1   \n",
        "- - - Please Click Restart Device - - -\\              0              0   \n",
        "- - -\\                                                0              0   \n",
        "-State.                                               0              0   \n",
        "/goga                                                 0              0   \n",
        "/mkf                                                  0              0   \n",
        "/tukurawa g\\\\goga                                     0              0   \n",
        "080\\                                                  0              0   \n",
        "24,TOWOLAWI AVENUE,SURULERE,LAGOS.\\                   0              0   \n",
        "9                                                     0              0   \n",
        "AKIMI\\                                                0              0   \n",
        "ANGUWAR SAHABI\\                                       0              0   \n",
        "Agir kofar barade                                     0              0   \n",
        "Agira kofar barade                                    0              0   \n",
        "Alawa                                                 0              0   \n",
        "...                                                 ...            ...   \n",
        "tsafe                                                 0              0   \n",
        "tsibiri pry. sch.maradun\\                             0              0   \n",
        "tsoni                                                 0              0   \n",
        "tukurawa g\\                                           0              0   \n",
        "tukuwara g\\                                           0              0   \n",
        "tumfa garkar liman                                    0              0   \n",
        "tumfa garkar liman                                    0              0   \n",
        "tungar nasarawa\\                                      0              0   \n",
        "tungar rogo\\                                          0              0   \n",
        "udun wada area gusau\\                                 0              0   \n",
        "un                                                    0              0   \n",
        "ung bature 2                                          0              0   \n",
        "unguwar gyauro                                        0              0   \n",
        "unguwar gyauro\\                                       0              0   \n",
        "unguwar marafa mada gusau\\                            0              0   \n",
        "unguwar sarkin musulmi                                0              0   \n",
        "wanke Gabas1                                          0              0   \n",
        "ya\\                                                   0              0   \n",
        "yar gada\\                                             0              0   \n",
        "yar maizank\\                                          0              0   \n",
        "yar maizanke\\                                         0              0   \n",
        "zamfara                                               0              0   \n",
        "zamfara State                                         0              0   \n",
        "zamfara state                                         0              0   \n",
        "zamfara.                                              0              0   \n",
        "zamfara.\\                                             0              0   \n",
        "zamfarawa gusau\\                                      0              0   \n",
        "zawiyya1                                              0              0   \n",
        "zurmi                                                 0              0   \n",
        "zurmi\\                                                0              0   \n",
        "\n",
        "                                                     7              8   \\\n",
        "                                          count_nonzero  count_nonzero   \n",
        "0                                                                        \n",
        "\",\\N,\"0\"                                              0              0   \n",
        "\",\\N,\"1\"                                              0              0   \n",
        "\"ANAMBRA                                              1              1   \n",
        "\"BAUCHI                                               1              1   \n",
        "\"BAYELSA                                              1              1   \n",
        "\"EDO                                                  1              1   \n",
        "\"GOMBE                                               52             52   \n",
        "\"LAGOS                                               95             95   \n",
        "\"OSUN                                                 1              1   \n",
        "\"PLATEAU                                              1              1   \n",
        "\"RIVERS                                               2              2   \n",
        "\"ZAMFARA                                         990362         990362   \n",
        "''t zamfara state                                     0              0   \n",
        "'t zamfara state                                      0              0   \n",
        "'yarijiya dosara                                      0              0   \n",
        "- - - Pleas                                           1              1   \n",
        "- - - Please Click Restart Device - - -\\              0              0   \n",
        "- - -\\                                                0              0   \n",
        "-State.                                               0              0   \n",
        "/goga                                                 0              0   \n",
        "/mkf                                                  0              0   \n",
        "/tukurawa g\\\\goga                                     0              0   \n",
        "080\\                                                  0              0   \n",
        "24,TOWOLAWI AVENUE,SURULERE,LAGOS.\\                   0              0   \n",
        "9                                                     0              0   \n",
        "AKIMI\\                                                0              0   \n",
        "ANGUWAR SAHABI\\                                       0              0   \n",
        "Agir kofar barade                                     0              0   \n",
        "Agira kofar barade                                    0              0   \n",
        "Alawa                                                 0              0   \n",
        "...                                                 ...            ...   \n",
        "tsafe                                                 0              0   \n",
        "tsibiri pry. sch.maradun\\                             0              0   \n",
        "tsoni                                                 0              0   \n",
        "tukurawa g\\                                           0              0   \n",
        "tukuwara g\\                                           0              0   \n",
        "tumfa garkar liman                                    0              0   \n",
        "tumfa garkar liman                                    0              0   \n",
        "tungar nasarawa\\                                      0              0   \n",
        "tungar rogo\\                                          0              0   \n",
        "udun wada area gusau\\                                 0              0   \n",
        "un                                                    0              0   \n",
        "ung bature 2                                          0              0   \n",
        "unguwar gyauro                                        0              0   \n",
        "unguwar gyauro\\                                       0              0   \n",
        "unguwar marafa mada gusau\\                            0              0   \n",
        "unguwar sarkin musulmi                                0              0   \n",
        "wanke Gabas1                                          0              0   \n",
        "ya\\                                                   0              0   \n",
        "yar gada\\                                             0              0   \n",
        "yar maizank\\                                          0              0   \n",
        "yar maizanke\\                                         0              0   \n",
        "zamfara                                               0              0   \n",
        "zamfara State                                         0              0   \n",
        "zamfara state                                         0              0   \n",
        "zamfara.                                              0              0   \n",
        "zamfara.\\                                             0              0   \n",
        "zamfarawa gusau\\                                      0              0   \n",
        "zawiyya1                                              0              0   \n",
        "zurmi                                                 0              0   \n",
        "zurmi\\                                                0              0   \n",
        "\n",
        "                                                     9              10  \\\n",
        "                                          count_nonzero  count_nonzero   \n",
        "0                                                                        \n",
        "\",\\N,\"0\"                                              0              2   \n",
        "\",\\N,\"1\"                                              0              7   \n",
        "\"ANAMBRA                                              1              1   \n",
        "\"BAUCHI                                               1              1   \n",
        "\"BAYELSA                                              1              1   \n",
        "\"EDO                                                  1              1   \n",
        "\"GOMBE                                               52             52   \n",
        "\"LAGOS                                               95             95   \n",
        "\"OSUN                                                 1              1   \n",
        "\"PLATEAU                                              1              1   \n",
        "\"RIVERS                                               2              2   \n",
        "\"ZAMFARA                                         990360         990365   \n",
        "''t zamfara state                                     0              1   \n",
        "'t zamfara state                                      0              1   \n",
        "'yarijiya dosara                                      0              1   \n",
        "- - - Pleas                                           1              1   \n",
        "- - - Please Click Restart Device - - -\\              0              1   \n",
        "- - -\\                                                0              2   \n",
        "-State.                                               0              1   \n",
        "/goga                                                 0              1   \n",
        "/mkf                                                  0              1   \n",
        "/tukurawa g\\\\goga                                     0              1   \n",
        "080\\                                                  0              1   \n",
        "24,TOWOLAWI AVENUE,SURULERE,LAGOS.\\                   0              1   \n",
        "9                                                     0              1   \n",
        "AKIMI\\                                                0              1   \n",
        "ANGUWAR SAHABI\\                                       0              1   \n",
        "Agir kofar barade                                     0              1   \n",
        "Agira kofar barade                                    0              1   \n",
        "Alawa                                                 0              3   \n",
        "...                                                 ...            ...   \n",
        "tsafe                                                 0              2   \n",
        "tsibiri pry. sch.maradun\\                             0              1   \n",
        "tsoni                                                 0              1   \n",
        "tukurawa g\\                                           0              1   \n",
        "tukuwara g\\                                           0              1   \n",
        "tumfa garkar liman                                    0              4   \n",
        "tumfa garkar liman                                    0             10   \n",
        "tungar nasarawa\\                                      0              1   \n",
        "tungar rogo\\                                          0              1   \n",
        "udun wada area gusau\\                                 0              1   \n",
        "un                                                    0              1   \n",
        "ung bature 2                                          0              1   \n",
        "unguwar gyauro                                        0              3   \n",
        "unguwar gyauro\\                                       0              2   \n",
        "unguwar marafa mada gusau\\                            0              1   \n",
        "unguwar sarkin musulmi                                0              1   \n",
        "wanke Gabas1                                          0              1   \n",
        "ya\\                                                   0              1   \n",
        "yar gada\\                                             0              2   \n",
        "yar maizank\\                                          0              1   \n",
        "yar maizanke\\                                         0              1   \n",
        "zamfara                                               0             18   \n",
        "zamfara State                                         0             13   \n",
        "zamfara state                                         0             10   \n",
        "zamfara.                                              0             30   \n",
        "zamfara.\\                                             0              1   \n",
        "zamfarawa gusau\\                                      0              1   \n",
        "zawiyya1                                              0              1   \n",
        "zurmi                                                 0              2   \n",
        "zurmi\\                                                0              1   \n",
        "\n",
        "                                                     11             12  \\\n",
        "                                          count_nonzero  count_nonzero   \n",
        "0                                                                        \n",
        "\",\\N,\"0\"                                              0              0   \n",
        "\",\\N,\"1\"                                              0              0   \n",
        "\"ANAMBRA                                              1              1   \n",
        "\"BAUCHI                                               1              1   \n",
        "\"BAYELSA                                              1              1   \n",
        "\"EDO                                                  1              1   \n",
        "\"GOMBE                                               52             52   \n",
        "\"LAGOS                                               95             95   \n",
        "\"OSUN                                                 1              1   \n",
        "\"PLATEAU                                              1              1   \n",
        "\"RIVERS                                               2              2   \n",
        "\"ZAMFARA                                         990360         990326   \n",
        "''t zamfara state                                     0              0   \n",
        "'t zamfara state                                      0              0   \n",
        "'yarijiya dosara                                      0              0   \n",
        "- - - Pleas                                           0              0   \n",
        "- - - Please Click Restart Device - - -\\              0              0   \n",
        "- - -\\                                                0              0   \n",
        "-State.                                               0              0   \n",
        "/goga                                                 0              0   \n",
        "/mkf                                                  0              0   \n",
        "/tukurawa g\\\\goga                                     0              0   \n",
        "080\\                                                  0              0   \n",
        "24,TOWOLAWI AVENUE,SURULERE,LAGOS.\\                   0              0   \n",
        "9                                                     0              0   \n",
        "AKIMI\\                                                0              0   \n",
        "ANGUWAR SAHABI\\                                       0              0   \n",
        "Agir kofar barade                                     0              0   \n",
        "Agira kofar barade                                    0              0   \n",
        "Alawa                                                 0              0   \n",
        "...                                                 ...            ...   \n",
        "tsafe                                                 0              0   \n",
        "tsibiri pry. sch.maradun\\                             0              0   \n",
        "tsoni                                                 0              0   \n",
        "tukurawa g\\                                           0              0   \n",
        "tukuwara g\\                                           0              0   \n",
        "tumfa garkar liman                                    0              0   \n",
        "tumfa garkar liman                                    0              0   \n",
        "tungar nasarawa\\                                      0              0   \n",
        "tungar rogo\\                                          0              0   \n",
        "udun wada area gusau\\                                 0              0   \n",
        "un                                                    0              0   \n",
        "ung bature 2                                          0              0   \n",
        "unguwar gyauro                                        0              0   \n",
        "unguwar gyauro\\                                       0              0   \n",
        "unguwar marafa mada gusau\\                            0              0   \n",
        "unguwar sarkin musulmi                                0              0   \n",
        "wanke Gabas1                                          0              0   \n",
        "ya\\                                                   0              0   \n",
        "yar gada\\                                             0              0   \n",
        "yar maizank\\                                          0              0   \n",
        "yar maizanke\\                                         0              0   \n",
        "zamfara                                               0              0   \n",
        "zamfara State                                         0              0   \n",
        "zamfara state                                         0              0   \n",
        "zamfara.                                              0              0   \n",
        "zamfara.\\                                             0              0   \n",
        "zamfarawa gusau\\                                      0              0   \n",
        "zawiyya1                                              0              0   \n",
        "zurmi                                                 0              0   \n",
        "zurmi\\                                                0              0   \n",
        "\n",
        "                                                     13             14  \\\n",
        "                                          count_nonzero  count_nonzero   \n",
        "0                                                                        \n",
        "\",\\N,\"0\"                                              0              0   \n",
        "\",\\N,\"1\"                                              0              0   \n",
        "\"ANAMBRA                                              1              1   \n",
        "\"BAUCHI                                               1              1   \n",
        "\"BAYELSA                                              1              1   \n",
        "\"EDO                                                  1              1   \n",
        "\"GOMBE                                               52             52   \n",
        "\"LAGOS                                               95             95   \n",
        "\"OSUN                                                 1              1   \n",
        "\"PLATEAU                                              1              1   \n",
        "\"RIVERS                                               2              2   \n",
        "\"ZAMFARA                                         990326         982439   \n",
        "''t zamfara state                                     0              0   \n",
        "'t zamfara state                                      0              0   \n",
        "'yarijiya dosara                                      0              0   \n",
        "- - - Pleas                                           0              0   \n",
        "- - - Please Click Restart Device - - -\\              0              0   \n",
        "- - -\\                                                0              0   \n",
        "-State.                                               0              0   \n",
        "/goga                                                 0              0   \n",
        "/mkf                                                  0              0   \n",
        "/tukurawa g\\\\goga                                     0              0   \n",
        "080\\                                                  0              0   \n",
        "24,TOWOLAWI AVENUE,SURULERE,LAGOS.\\                   0              0   \n",
        "9                                                     0              0   \n",
        "AKIMI\\                                                0              0   \n",
        "ANGUWAR SAHABI\\                                       0              0   \n",
        "Agir kofar barade                                     0              0   \n",
        "Agira kofar barade                                    0              0   \n",
        "Alawa                                                 0              0   \n",
        "...                                                 ...            ...   \n",
        "tsafe                                                 0              0   \n",
        "tsibiri pry. sch.maradun\\                             0              0   \n",
        "tsoni                                                 0              0   \n",
        "tukurawa g\\                                           0              0   \n",
        "tukuwara g\\                                           0              0   \n",
        "tumfa garkar liman                                    0              0   \n",
        "tumfa garkar liman                                    0              0   \n",
        "tungar nasarawa\\                                      0              0   \n",
        "tungar rogo\\                                          0              0   \n",
        "udun wada area gusau\\                                 0              0   \n",
        "un                                                    0              0   \n",
        "ung bature 2                                          0              0   \n",
        "unguwar gyauro                                        0              0   \n",
        "unguwar gyauro\\                                       0              0   \n",
        "unguwar marafa mada gusau\\                            0              0   \n",
        "unguwar sarkin musulmi                                0              0   \n",
        "wanke Gabas1                                          0              0   \n",
        "ya\\                                                   0              0   \n",
        "yar gada\\                                             0              0   \n",
        "yar maizank\\                                          0              0   \n",
        "yar maizanke\\                                         0              0   \n",
        "zamfara                                               0              0   \n",
        "zamfara State                                         0              0   \n",
        "zamfara state                                         0              0   \n",
        "zamfara.                                              0              0   \n",
        "zamfara.\\                                             0              0   \n",
        "zamfarawa gusau\\                                      0              0   \n",
        "zawiyya1                                              0              0   \n",
        "zurmi                                                 0              0   \n",
        "zurmi\\                                                0              0   \n",
        "\n",
        "                                                     15  \n",
        "                                          count_nonzero  \n",
        "0                                                        \n",
        "\",\\N,\"0\"                                              0  \n",
        "\",\\N,\"1\"                                              0  \n",
        "\"ANAMBRA                                              1  \n",
        "\"BAUCHI                                               1  \n",
        "\"BAYELSA                                              1  \n",
        "\"EDO                                                  1  \n",
        "\"GOMBE                                               52  \n",
        "\"LAGOS                                               95  \n",
        "\"OSUN                                                 1  \n",
        "\"PLATEAU                                              1  \n",
        "\"RIVERS                                               2  \n",
        "\"ZAMFARA                                         982439  \n",
        "''t zamfara state                                     0  \n",
        "'t zamfara state                                      0  \n",
        "'yarijiya dosara                                      0  \n",
        "- - - Pleas                                           0  \n",
        "- - - Please Click Restart Device - - -\\              0  \n",
        "- - -\\                                                0  \n",
        "-State.                                               0  \n",
        "/goga                                                 0  \n",
        "/mkf                                                  0  \n",
        "/tukurawa g\\\\goga                                     0  \n",
        "080\\                                                  0  \n",
        "24,TOWOLAWI AVENUE,SURULERE,LAGOS.\\                   0  \n",
        "9                                                     0  \n",
        "AKIMI\\                                                0  \n",
        "ANGUWAR SAHABI\\                                       0  \n",
        "Agir kofar barade                                     0  \n",
        "Agira kofar barade                                    0  \n",
        "Alawa                                                 0  \n",
        "...                                                 ...  \n",
        "tsafe                                                 0  \n",
        "tsibiri pry. sch.maradun\\                             0  \n",
        "tsoni                                                 0  \n",
        "tukurawa g\\                                           0  \n",
        "tukuwara g\\                                           0  \n",
        "tumfa garkar liman                                    0  \n",
        "tumfa garkar liman                                    0  \n",
        "tungar nasarawa\\                                      0  \n",
        "tungar rogo\\                                          0  \n",
        "udun wada area gusau\\                                 0  \n",
        "un                                                    0  \n",
        "ung bature 2                                          0  \n",
        "unguwar gyauro                                        0  \n",
        "unguwar gyauro\\                                       0  \n",
        "unguwar marafa mada gusau\\                            0  \n",
        "unguwar sarkin musulmi                                0  \n",
        "wanke Gabas1                                          0  \n",
        "ya\\                                                   0  \n",
        "yar gada\\                                             0  \n",
        "yar maizank\\                                          0  \n",
        "yar maizanke\\                                         0  \n",
        "zamfara                                               0  \n",
        "zamfara State                                         0  \n",
        "zamfara state                                         0  \n",
        "zamfara.                                              0  \n",
        "zamfara.\\                                             0  \n",
        "zamfarawa gusau\\                                      0  \n",
        "zawiyya1                                              0  \n",
        "zurmi                                                 0  \n",
        "zurmi\\                                                0  \n",
        "\n",
        "[590 rows x 15 columns]\n"
       ]
      }
     ],
     "prompt_number": 8
    },
    {
     "cell_type": "code",
     "collapsed": false,
     "input": [
      "#Output this so I can take a good look at it\n",
      "#grouped.to_csv('/Users/carbz/Dropbox/sad/pandas.csv')"
     ],
     "language": "python",
     "metadata": {},
     "outputs": [],
     "prompt_number": 9
    },
    {
     "cell_type": "code",
     "collapsed": false,
     "input": [
      "#output a quick summary of each file\n",
      "import os\n",
      "from os import walk\n",
      "from os import listdir\n",
      "files = os.listdir('/Users/carbz/Dropbox/Nigeria-NEAP-GIS/DatafromEric-09292014/')\n",
      "type(files)\n",
      "\n",
      "for i in range(1,len(files)):\n",
      "#for i in range(1,3):  ##len(files)):\n",
      "    dir_name = '/Users/carbz/Dropbox/Nigeria-NEAP-GIS/DatafromEric-09292014/' + files[i]\n",
      "    print(dir_name)\n",
      "    \n",
      "    voters = pd.read_csv(dir_name,\n",
      "                         sep='\\\",\\\"', #ensure seperator is well-defined here \n",
      "                         header=None,  #preserve first row\n",
      "                         engine = 'python') #use the 'python' engine because the 'c' engine doesn't support regex separators \n",
      "    print(voters.shape) #dimensions of dataset\n",
      "    \n",
      "    #summarize each vote group by Polling Unit AKA 5th column\n",
      "    grouped = voters.groupby([1,2,3,5])\n",
      "    pu_summary = grouped[0].agg([np.count_nonzero])\n",
      "    \n",
      "    #Output to a useful director\n",
      "    output_dir = '/Users/carbz/Dropbox/Nigeria-NEAP-GIS/shapefiling/voter_04pu_summary/' + 'voter_sum_of-' + files[i] \n",
      "    pu_summary.to_csv(output_dir)\n",
      "    \n",
      "    \n",
      "    #summarize each voter by State too\n",
      "    st_summary = voters.groupby([0])\n",
      "    st_summary = st_summary[0].agg([np.count_nonzero])\n",
      "    \n",
      "    #output_dir = '/Users/carbz/Dropbox/Nigeria-NEAP-GIS/shapefiling/voter_01state_summary/' + 'voter_sum_of-' + files[i] \n",
      "    #st_summary.to_csv(output_dir)\n",
      "       \n",
      "       \n",
      "#for x in range(0, 3):"
     ],
     "language": "python",
     "metadata": {},
     "outputs": [
      {
       "output_type": "stream",
       "stream": "stdout",
       "text": [
        "/Users/carbz/Dropbox/Nigeria-NEAP-GIS/DatafromEric-09292014/sad_aa.csv\n",
        "(1000000, 16)"
       ]
      },
      {
       "output_type": "stream",
       "stream": "stdout",
       "text": [
        "\n",
        "/Users/carbz/Dropbox/Nigeria-NEAP-GIS/DatafromEric-09292014/sad_ab.csv"
       ]
      },
      {
       "output_type": "stream",
       "stream": "stdout",
       "text": [
        "\n",
        "(1000000, 16)"
       ]
      },
      {
       "output_type": "stream",
       "stream": "stdout",
       "text": [
        "\n",
        "/Users/carbz/Dropbox/Nigeria-NEAP-GIS/DatafromEric-09292014/sad_ac.csv"
       ]
      },
      {
       "output_type": "stream",
       "stream": "stdout",
       "text": [
        "\n",
        "(1000000, 16)"
       ]
      },
      {
       "output_type": "stream",
       "stream": "stdout",
       "text": [
        "\n",
        "/Users/carbz/Dropbox/Nigeria-NEAP-GIS/DatafromEric-09292014/sad_ad.csv"
       ]
      },
      {
       "output_type": "stream",
       "stream": "stdout",
       "text": [
        "\n",
        "(1000000, 16)"
       ]
      },
      {
       "output_type": "stream",
       "stream": "stdout",
       "text": [
        "\n",
        "/Users/carbz/Dropbox/Nigeria-NEAP-GIS/DatafromEric-09292014/sad_ae.csv"
       ]
      },
      {
       "output_type": "stream",
       "stream": "stdout",
       "text": [
        "\n",
        "(1000000, 16)"
       ]
      },
      {
       "output_type": "stream",
       "stream": "stdout",
       "text": [
        "\n",
        "/Users/carbz/Dropbox/Nigeria-NEAP-GIS/DatafromEric-09292014/sad_af.csv"
       ]
      },
      {
       "output_type": "stream",
       "stream": "stdout",
       "text": [
        "\n",
        "(1000000, 16)"
       ]
      },
      {
       "output_type": "stream",
       "stream": "stdout",
       "text": [
        "\n",
        "/Users/carbz/Dropbox/Nigeria-NEAP-GIS/DatafromEric-09292014/sad_ag.csv"
       ]
      },
      {
       "output_type": "stream",
       "stream": "stdout",
       "text": [
        "\n",
        "(1000002, 16)"
       ]
      },
      {
       "output_type": "stream",
       "stream": "stdout",
       "text": [
        "\n",
        "/Users/carbz/Dropbox/Nigeria-NEAP-GIS/DatafromEric-09292014/sad_ah.csv"
       ]
      },
      {
       "output_type": "stream",
       "stream": "stdout",
       "text": [
        "\n",
        "(1000000, 16)"
       ]
      },
      {
       "output_type": "stream",
       "stream": "stdout",
       "text": [
        "\n",
        "/Users/carbz/Dropbox/Nigeria-NEAP-GIS/DatafromEric-09292014/sad_ai.csv"
       ]
      },
      {
       "output_type": "stream",
       "stream": "stdout",
       "text": [
        "\n",
        "(1000000, 16)"
       ]
      },
      {
       "output_type": "stream",
       "stream": "stdout",
       "text": [
        "\n",
        "/Users/carbz/Dropbox/Nigeria-NEAP-GIS/DatafromEric-09292014/sad_aj.csv"
       ]
      },
      {
       "output_type": "stream",
       "stream": "stdout",
       "text": [
        "\n",
        "(1000000, 16)"
       ]
      },
      {
       "output_type": "stream",
       "stream": "stdout",
       "text": [
        "\n",
        "/Users/carbz/Dropbox/Nigeria-NEAP-GIS/DatafromEric-09292014/sad_ak.csv"
       ]
      },
      {
       "output_type": "stream",
       "stream": "stdout",
       "text": [
        "\n",
        "(1000000, 16)"
       ]
      },
      {
       "output_type": "stream",
       "stream": "stdout",
       "text": [
        "\n",
        "/Users/carbz/Dropbox/Nigeria-NEAP-GIS/DatafromEric-09292014/sad_al.csv"
       ]
      },
      {
       "output_type": "stream",
       "stream": "stdout",
       "text": [
        "\n",
        "(1000000, 16)"
       ]
      },
      {
       "output_type": "stream",
       "stream": "stdout",
       "text": [
        "\n",
        "/Users/carbz/Dropbox/Nigeria-NEAP-GIS/DatafromEric-09292014/sad_am.csv"
       ]
      },
      {
       "output_type": "stream",
       "stream": "stdout",
       "text": [
        "\n",
        "(1000000, 16)"
       ]
      },
      {
       "output_type": "stream",
       "stream": "stdout",
       "text": [
        "\n",
        "/Users/carbz/Dropbox/Nigeria-NEAP-GIS/DatafromEric-09292014/sad_an.csv"
       ]
      },
      {
       "output_type": "stream",
       "stream": "stdout",
       "text": [
        "\n",
        "(1000000, 16)"
       ]
      },
      {
       "output_type": "stream",
       "stream": "stdout",
       "text": [
        "\n",
        "/Users/carbz/Dropbox/Nigeria-NEAP-GIS/DatafromEric-09292014/sad_ao.csv"
       ]
      },
      {
       "output_type": "stream",
       "stream": "stdout",
       "text": [
        "\n",
        "(1000000, 16)"
       ]
      },
      {
       "output_type": "stream",
       "stream": "stdout",
       "text": [
        "\n",
        "/Users/carbz/Dropbox/Nigeria-NEAP-GIS/DatafromEric-09292014/sad_ap.csv"
       ]
      },
      {
       "output_type": "stream",
       "stream": "stdout",
       "text": [
        "\n",
        "(1000000, 16)"
       ]
      },
      {
       "output_type": "stream",
       "stream": "stdout",
       "text": [
        "\n",
        "/Users/carbz/Dropbox/Nigeria-NEAP-GIS/DatafromEric-09292014/sad_aq.csv"
       ]
      },
      {
       "output_type": "stream",
       "stream": "stdout",
       "text": [
        "\n",
        "(1000000, 16)"
       ]
      },
      {
       "output_type": "stream",
       "stream": "stdout",
       "text": [
        "\n",
        "/Users/carbz/Dropbox/Nigeria-NEAP-GIS/DatafromEric-09292014/sad_ar.csv"
       ]
      },
      {
       "output_type": "stream",
       "stream": "stdout",
       "text": [
        "\n",
        "(1000000, 16)"
       ]
      },
      {
       "output_type": "stream",
       "stream": "stdout",
       "text": [
        "\n",
        "/Users/carbz/Dropbox/Nigeria-NEAP-GIS/DatafromEric-09292014/sad_as.csv"
       ]
      },
      {
       "output_type": "stream",
       "stream": "stdout",
       "text": [
        "\n",
        "(1000000, 16)"
       ]
      },
      {
       "output_type": "stream",
       "stream": "stdout",
       "text": [
        "\n",
        "/Users/carbz/Dropbox/Nigeria-NEAP-GIS/DatafromEric-09292014/sad_at.csv"
       ]
      },
      {
       "output_type": "stream",
       "stream": "stdout",
       "text": [
        "\n",
        "(1000000, 16)"
       ]
      },
      {
       "output_type": "stream",
       "stream": "stdout",
       "text": [
        "\n",
        "/Users/carbz/Dropbox/Nigeria-NEAP-GIS/DatafromEric-09292014/sad_au.csv"
       ]
      },
      {
       "output_type": "stream",
       "stream": "stdout",
       "text": [
        "\n",
        "(1000000, 16)"
       ]
      },
      {
       "output_type": "stream",
       "stream": "stdout",
       "text": [
        "\n",
        "/Users/carbz/Dropbox/Nigeria-NEAP-GIS/DatafromEric-09292014/sad_av.csv"
       ]
      },
      {
       "output_type": "stream",
       "stream": "stdout",
       "text": [
        "\n",
        "(1000000, 16)"
       ]
      },
      {
       "output_type": "stream",
       "stream": "stdout",
       "text": [
        "\n",
        "/Users/carbz/Dropbox/Nigeria-NEAP-GIS/DatafromEric-09292014/sad_aw.csv"
       ]
      },
      {
       "output_type": "stream",
       "stream": "stdout",
       "text": [
        "\n",
        "(1000000, 16)"
       ]
      },
      {
       "output_type": "stream",
       "stream": "stdout",
       "text": [
        "\n",
        "/Users/carbz/Dropbox/Nigeria-NEAP-GIS/DatafromEric-09292014/sad_ax.csv"
       ]
      },
      {
       "output_type": "stream",
       "stream": "stdout",
       "text": [
        "\n",
        "(1000000, 16)"
       ]
      },
      {
       "output_type": "stream",
       "stream": "stdout",
       "text": [
        "\n",
        "/Users/carbz/Dropbox/Nigeria-NEAP-GIS/DatafromEric-09292014/sad_ay.csv"
       ]
      },
      {
       "output_type": "stream",
       "stream": "stdout",
       "text": [
        "\n",
        "(1000000, 16)"
       ]
      },
      {
       "output_type": "stream",
       "stream": "stdout",
       "text": [
        "\n",
        "/Users/carbz/Dropbox/Nigeria-NEAP-GIS/DatafromEric-09292014/sad_az.csv"
       ]
      },
      {
       "output_type": "stream",
       "stream": "stdout",
       "text": [
        "\n",
        "(1000000, 16)"
       ]
      },
      {
       "output_type": "stream",
       "stream": "stdout",
       "text": [
        "\n",
        "/Users/carbz/Dropbox/Nigeria-NEAP-GIS/DatafromEric-09292014/sad_ba.csv"
       ]
      },
      {
       "output_type": "stream",
       "stream": "stdout",
       "text": [
        "\n",
        "(1000000, 16)"
       ]
      },
      {
       "output_type": "stream",
       "stream": "stdout",
       "text": [
        "\n",
        "/Users/carbz/Dropbox/Nigeria-NEAP-GIS/DatafromEric-09292014/sad_bb.csv"
       ]
      },
      {
       "output_type": "stream",
       "stream": "stdout",
       "text": [
        "\n",
        "(1000000, 16)"
       ]
      },
      {
       "output_type": "stream",
       "stream": "stdout",
       "text": [
        "\n",
        "/Users/carbz/Dropbox/Nigeria-NEAP-GIS/DatafromEric-09292014/sad_bc.csv"
       ]
      },
      {
       "output_type": "stream",
       "stream": "stdout",
       "text": [
        "\n",
        "(1000000, 16)"
       ]
      },
      {
       "output_type": "stream",
       "stream": "stdout",
       "text": [
        "\n",
        "/Users/carbz/Dropbox/Nigeria-NEAP-GIS/DatafromEric-09292014/sad_bd.csv"
       ]
      },
      {
       "output_type": "stream",
       "stream": "stdout",
       "text": [
        "\n",
        "(1000000, 16)"
       ]
      },
      {
       "output_type": "stream",
       "stream": "stdout",
       "text": [
        "\n",
        "/Users/carbz/Dropbox/Nigeria-NEAP-GIS/DatafromEric-09292014/sad_be.csv"
       ]
      },
      {
       "output_type": "stream",
       "stream": "stdout",
       "text": [
        "\n",
        "(1000000, 16)"
       ]
      },
      {
       "output_type": "stream",
       "stream": "stdout",
       "text": [
        "\n",
        "/Users/carbz/Dropbox/Nigeria-NEAP-GIS/DatafromEric-09292014/sad_bf.csv"
       ]
      },
      {
       "output_type": "stream",
       "stream": "stdout",
       "text": [
        "\n",
        "(1000000, 16)"
       ]
      },
      {
       "output_type": "stream",
       "stream": "stdout",
       "text": [
        "\n",
        "/Users/carbz/Dropbox/Nigeria-NEAP-GIS/DatafromEric-09292014/sad_bg.csv"
       ]
      },
      {
       "output_type": "stream",
       "stream": "stdout",
       "text": [
        "\n",
        "(1000000, 16)"
       ]
      },
      {
       "output_type": "stream",
       "stream": "stdout",
       "text": [
        "\n",
        "/Users/carbz/Dropbox/Nigeria-NEAP-GIS/DatafromEric-09292014/sad_bh.csv"
       ]
      },
      {
       "output_type": "stream",
       "stream": "stdout",
       "text": [
        "\n",
        "(1000000, 16)"
       ]
      },
      {
       "output_type": "stream",
       "stream": "stdout",
       "text": [
        "\n",
        "/Users/carbz/Dropbox/Nigeria-NEAP-GIS/DatafromEric-09292014/sad_bi.csv"
       ]
      },
      {
       "output_type": "stream",
       "stream": "stdout",
       "text": [
        "\n",
        "(1000000, 16)"
       ]
      },
      {
       "output_type": "stream",
       "stream": "stdout",
       "text": [
        "\n",
        "/Users/carbz/Dropbox/Nigeria-NEAP-GIS/DatafromEric-09292014/sad_bj.csv"
       ]
      },
      {
       "output_type": "stream",
       "stream": "stdout",
       "text": [
        "\n",
        "(1000000, 16)"
       ]
      },
      {
       "output_type": "stream",
       "stream": "stdout",
       "text": [
        "\n",
        "/Users/carbz/Dropbox/Nigeria-NEAP-GIS/DatafromEric-09292014/sad_bk.csv"
       ]
      },
      {
       "output_type": "stream",
       "stream": "stdout",
       "text": [
        "\n",
        "(1000000, 16)"
       ]
      },
      {
       "output_type": "stream",
       "stream": "stdout",
       "text": [
        "\n",
        "/Users/carbz/Dropbox/Nigeria-NEAP-GIS/DatafromEric-09292014/sad_bl.csv"
       ]
      },
      {
       "output_type": "stream",
       "stream": "stdout",
       "text": [
        "\n",
        "(1000000, 16)"
       ]
      },
      {
       "output_type": "stream",
       "stream": "stdout",
       "text": [
        "\n",
        "/Users/carbz/Dropbox/Nigeria-NEAP-GIS/DatafromEric-09292014/sad_bm.csv"
       ]
      },
      {
       "output_type": "stream",
       "stream": "stdout",
       "text": [
        "\n",
        "(1000000, 16)"
       ]
      },
      {
       "output_type": "stream",
       "stream": "stdout",
       "text": [
        "\n",
        "/Users/carbz/Dropbox/Nigeria-NEAP-GIS/DatafromEric-09292014/sad_bn.csv"
       ]
      },
      {
       "output_type": "stream",
       "stream": "stdout",
       "text": [
        "\n",
        "(1000000, 16)"
       ]
      },
      {
       "output_type": "stream",
       "stream": "stdout",
       "text": [
        "\n",
        "/Users/carbz/Dropbox/Nigeria-NEAP-GIS/DatafromEric-09292014/sad_bo.csv"
       ]
      },
      {
       "output_type": "stream",
       "stream": "stdout",
       "text": [
        "\n",
        "(1000000, 16)"
       ]
      },
      {
       "output_type": "stream",
       "stream": "stdout",
       "text": [
        "\n",
        "/Users/carbz/Dropbox/Nigeria-NEAP-GIS/DatafromEric-09292014/sad_bp.csv"
       ]
      },
      {
       "output_type": "stream",
       "stream": "stdout",
       "text": [
        "\n",
        "(1000000, 16)"
       ]
      },
      {
       "output_type": "stream",
       "stream": "stdout",
       "text": [
        "\n",
        "/Users/carbz/Dropbox/Nigeria-NEAP-GIS/DatafromEric-09292014/sad_bq.csv"
       ]
      },
      {
       "output_type": "stream",
       "stream": "stdout",
       "text": [
        "\n",
        "(1000000, 16)"
       ]
      },
      {
       "output_type": "stream",
       "stream": "stdout",
       "text": [
        "\n",
        "/Users/carbz/Dropbox/Nigeria-NEAP-GIS/DatafromEric-09292014/sad_br.csv"
       ]
      },
      {
       "output_type": "stream",
       "stream": "stdout",
       "text": [
        "\n",
        "(1000000, 16)"
       ]
      },
      {
       "output_type": "stream",
       "stream": "stdout",
       "text": [
        "\n",
        "/Users/carbz/Dropbox/Nigeria-NEAP-GIS/DatafromEric-09292014/sad_bs.csv"
       ]
      },
      {
       "output_type": "stream",
       "stream": "stdout",
       "text": [
        "\n",
        "(1000000, 16)"
       ]
      },
      {
       "output_type": "stream",
       "stream": "stdout",
       "text": [
        "\n",
        "/Users/carbz/Dropbox/Nigeria-NEAP-GIS/DatafromEric-09292014/sad_bt.csv"
       ]
      },
      {
       "output_type": "stream",
       "stream": "stdout",
       "text": [
        "\n",
        "(1000000, 16)"
       ]
      },
      {
       "output_type": "stream",
       "stream": "stdout",
       "text": [
        "\n",
        "/Users/carbz/Dropbox/Nigeria-NEAP-GIS/DatafromEric-09292014/sad_bu.csv"
       ]
      },
      {
       "output_type": "stream",
       "stream": "stdout",
       "text": [
        "\n",
        "(1000000, 16)"
       ]
      },
      {
       "output_type": "stream",
       "stream": "stdout",
       "text": [
        "\n",
        "/Users/carbz/Dropbox/Nigeria-NEAP-GIS/DatafromEric-09292014/sad_bv.csv"
       ]
      },
      {
       "output_type": "stream",
       "stream": "stdout",
       "text": [
        "\n",
        "(1000000, 16)"
       ]
      },
      {
       "output_type": "stream",
       "stream": "stdout",
       "text": [
        "\n",
        "/Users/carbz/Dropbox/Nigeria-NEAP-GIS/DatafromEric-09292014/sad_bw.csv"
       ]
      },
      {
       "output_type": "stream",
       "stream": "stdout",
       "text": [
        "\n",
        "(1000000, 16)"
       ]
      },
      {
       "output_type": "stream",
       "stream": "stdout",
       "text": [
        "\n",
        "/Users/carbz/Dropbox/Nigeria-NEAP-GIS/DatafromEric-09292014/sad_bx.csv"
       ]
      },
      {
       "output_type": "stream",
       "stream": "stdout",
       "text": [
        "\n",
        "(1000000, 16)"
       ]
      },
      {
       "output_type": "stream",
       "stream": "stdout",
       "text": [
        "\n",
        "/Users/carbz/Dropbox/Nigeria-NEAP-GIS/DatafromEric-09292014/sad_by.csv"
       ]
      },
      {
       "output_type": "stream",
       "stream": "stdout",
       "text": [
        "\n",
        "(1000000, 16)"
       ]
      },
      {
       "output_type": "stream",
       "stream": "stdout",
       "text": [
        "\n",
        "/Users/carbz/Dropbox/Nigeria-NEAP-GIS/DatafromEric-09292014/sad_bz.csv"
       ]
      },
      {
       "output_type": "stream",
       "stream": "stdout",
       "text": [
        "\n",
        "(1000000, 16)"
       ]
      },
      {
       "output_type": "stream",
       "stream": "stdout",
       "text": [
        "\n",
        "/Users/carbz/Dropbox/Nigeria-NEAP-GIS/DatafromEric-09292014/sad_ca.csv"
       ]
      },
      {
       "output_type": "stream",
       "stream": "stdout",
       "text": [
        "\n",
        "(1000000, 16)"
       ]
      },
      {
       "output_type": "stream",
       "stream": "stdout",
       "text": [
        "\n",
        "/Users/carbz/Dropbox/Nigeria-NEAP-GIS/DatafromEric-09292014/sad_cb.csv"
       ]
      },
      {
       "output_type": "stream",
       "stream": "stdout",
       "text": [
        "\n",
        "(1000000, 16)"
       ]
      },
      {
       "output_type": "stream",
       "stream": "stdout",
       "text": [
        "\n",
        "/Users/carbz/Dropbox/Nigeria-NEAP-GIS/DatafromEric-09292014/sad_cc.csv"
       ]
      },
      {
       "output_type": "stream",
       "stream": "stdout",
       "text": [
        "\n",
        "(1000000, 16)"
       ]
      },
      {
       "output_type": "stream",
       "stream": "stdout",
       "text": [
        "\n",
        "/Users/carbz/Dropbox/Nigeria-NEAP-GIS/DatafromEric-09292014/sad_cd.csv"
       ]
      },
      {
       "output_type": "stream",
       "stream": "stdout",
       "text": [
        "\n",
        "(1000000, 16)"
       ]
      },
      {
       "output_type": "stream",
       "stream": "stdout",
       "text": [
        "\n",
        "/Users/carbz/Dropbox/Nigeria-NEAP-GIS/DatafromEric-09292014/sad_ce.csv"
       ]
      },
      {
       "output_type": "stream",
       "stream": "stdout",
       "text": [
        "\n",
        "(1000000, 16)"
       ]
      },
      {
       "output_type": "stream",
       "stream": "stdout",
       "text": [
        "\n",
        "/Users/carbz/Dropbox/Nigeria-NEAP-GIS/DatafromEric-09292014/sad_cf.csv"
       ]
      },
      {
       "output_type": "stream",
       "stream": "stdout",
       "text": [
        "\n",
        "(1000000, 16)"
       ]
      },
      {
       "output_type": "stream",
       "stream": "stdout",
       "text": [
        "\n",
        "/Users/carbz/Dropbox/Nigeria-NEAP-GIS/DatafromEric-09292014/sad_cg.csv"
       ]
      },
      {
       "output_type": "stream",
       "stream": "stdout",
       "text": [
        "\n",
        "(1000000, 16)"
       ]
      },
      {
       "output_type": "stream",
       "stream": "stdout",
       "text": [
        "\n",
        "/Users/carbz/Dropbox/Nigeria-NEAP-GIS/DatafromEric-09292014/sad_ch.csv"
       ]
      },
      {
       "output_type": "stream",
       "stream": "stdout",
       "text": [
        "\n",
        "(1000000, 16)"
       ]
      },
      {
       "output_type": "stream",
       "stream": "stdout",
       "text": [
        "\n",
        "/Users/carbz/Dropbox/Nigeria-NEAP-GIS/DatafromEric-09292014/sad_ci.csv"
       ]
      },
      {
       "output_type": "stream",
       "stream": "stdout",
       "text": [
        "\n",
        "(1000000, 16)"
       ]
      },
      {
       "output_type": "stream",
       "stream": "stdout",
       "text": [
        "\n",
        "/Users/carbz/Dropbox/Nigeria-NEAP-GIS/DatafromEric-09292014/sad_cj.csv"
       ]
      },
      {
       "output_type": "stream",
       "stream": "stdout",
       "text": [
        "\n",
        "(1000000, 16)"
       ]
      },
      {
       "output_type": "stream",
       "stream": "stdout",
       "text": [
        "\n",
        "/Users/carbz/Dropbox/Nigeria-NEAP-GIS/DatafromEric-09292014/sad_ck.csv"
       ]
      },
      {
       "output_type": "stream",
       "stream": "stdout",
       "text": [
        "\n",
        "(1000000, 16)"
       ]
      },
      {
       "output_type": "stream",
       "stream": "stdout",
       "text": [
        "\n",
        "/Users/carbz/Dropbox/Nigeria-NEAP-GIS/DatafromEric-09292014/sad_cl.csv"
       ]
      },
      {
       "output_type": "stream",
       "stream": "stdout",
       "text": [
        "\n",
        "(1000000, 16)"
       ]
      },
      {
       "output_type": "stream",
       "stream": "stdout",
       "text": [
        "\n",
        "/Users/carbz/Dropbox/Nigeria-NEAP-GIS/DatafromEric-09292014/sad_cm.csv"
       ]
      },
      {
       "output_type": "stream",
       "stream": "stdout",
       "text": [
        "\n",
        "(1000000, 16)"
       ]
      },
      {
       "output_type": "stream",
       "stream": "stdout",
       "text": [
        "\n",
        "/Users/carbz/Dropbox/Nigeria-NEAP-GIS/DatafromEric-09292014/sad_cn.csv"
       ]
      },
      {
       "output_type": "stream",
       "stream": "stdout",
       "text": [
        "\n",
        "(1000000, 16)"
       ]
      },
      {
       "output_type": "stream",
       "stream": "stdout",
       "text": [
        "\n",
        "/Users/carbz/Dropbox/Nigeria-NEAP-GIS/DatafromEric-09292014/sad_co.csv"
       ]
      },
      {
       "output_type": "stream",
       "stream": "stdout",
       "text": [
        "\n",
        "(1000000, 16)"
       ]
      },
      {
       "output_type": "stream",
       "stream": "stdout",
       "text": [
        "\n",
        "/Users/carbz/Dropbox/Nigeria-NEAP-GIS/DatafromEric-09292014/sad_cp.csv"
       ]
      },
      {
       "output_type": "stream",
       "stream": "stdout",
       "text": [
        "\n",
        "(1000000, 16)"
       ]
      },
      {
       "output_type": "stream",
       "stream": "stdout",
       "text": [
        "\n",
        "/Users/carbz/Dropbox/Nigeria-NEAP-GIS/DatafromEric-09292014/sad_cq.csv"
       ]
      },
      {
       "output_type": "stream",
       "stream": "stdout",
       "text": [
        "\n",
        "(1000000, 16)"
       ]
      },
      {
       "output_type": "stream",
       "stream": "stdout",
       "text": [
        "\n",
        "/Users/carbz/Dropbox/Nigeria-NEAP-GIS/DatafromEric-09292014/sad_cr.csv"
       ]
      },
      {
       "output_type": "stream",
       "stream": "stdout",
       "text": [
        "\n",
        "(1000000, 16)"
       ]
      },
      {
       "output_type": "stream",
       "stream": "stdout",
       "text": [
        "\n",
        "/Users/carbz/Dropbox/Nigeria-NEAP-GIS/DatafromEric-09292014/sad_cs.csv"
       ]
      },
      {
       "output_type": "stream",
       "stream": "stdout",
       "text": [
        "\n",
        "(1000000, 16)"
       ]
      },
      {
       "output_type": "stream",
       "stream": "stdout",
       "text": [
        "\n",
        "/Users/carbz/Dropbox/Nigeria-NEAP-GIS/DatafromEric-09292014/sad_ct  FCT.csv"
       ]
      },
      {
       "output_type": "stream",
       "stream": "stdout",
       "text": [
        "\n",
        "(1000000, 16)"
       ]
      },
      {
       "output_type": "stream",
       "stream": "stdout",
       "text": [
        "\n",
        "/Users/carbz/Dropbox/Nigeria-NEAP-GIS/DatafromEric-09292014/sad_cu.csv"
       ]
      },
      {
       "output_type": "stream",
       "stream": "stdout",
       "text": [
        "\n",
        "(770273, 16)"
       ]
      },
      {
       "output_type": "stream",
       "stream": "stdout",
       "text": [
        "\n",
        "/Users/carbz/Dropbox/Nigeria-NEAP-GIS/DatafromEric-09292014/tmg_data.csv"
       ]
      },
      {
       "output_type": "stream",
       "stream": "stdout",
       "text": [
        "\n",
        "(24066690, 16)"
       ]
      },
      {
       "output_type": "stream",
       "stream": "stdout",
       "text": [
        "\n"
       ]
      }
     ],
     "prompt_number": 75
    },
    {
     "cell_type": "code",
     "collapsed": false,
     "input": [
      "table = pivot_table(voters, 'tip_pct', rows=['time', 'sex'],\n",
      "                            cols='smoker')\n"
     ],
     "language": "python",
     "metadata": {},
     "outputs": [
      {
       "metadata": {},
       "output_type": "pyout",
       "prompt_number": 43,
       "text": [
        "'/Users/carbz/Dropbox/Nigeria-NEAP-GIS/DatafromEric-09292014/sad_aa.csv'"
       ]
      }
     ],
     "prompt_number": 43
    },
    {
     "cell_type": "code",
     "collapsed": false,
     "input": [
      "voters.shape"
     ],
     "language": "python",
     "metadata": {},
     "outputs": [
      {
       "metadata": {},
       "output_type": "pyout",
       "prompt_number": 76,
       "text": [
        "(24066690, 16)"
       ]
      }
     ],
     "prompt_number": 76
    },
    {
     "cell_type": "code",
     "collapsed": false,
     "input": [
      "len(files)"
     ],
     "language": "python",
     "metadata": {},
     "outputs": [
      {
       "metadata": {},
       "output_type": "pyout",
       "prompt_number": 77,
       "text": [
        "75"
       ]
      }
     ],
     "prompt_number": 77
    },
    {
     "cell_type": "code",
     "collapsed": false,
     "input": [
      "#f = open('/Users/carbz/Dropbox/Nigeria-NEAP-GIS/DatafromEric-09292014/sad_co.csv')\n",
      "\n",
      "bad_string = '\"BAUCHI\",\"GAMAWA\",\"UDUBO\",\"GWARBATU  \\\"A\\\",  PRUIMARY SCHOOL\",\"90F5AFE20F295188667\",\"05/07/07/012\",\"Bello\",\"Ibrahim\",\"Yusuf\",\"1988\",\"07\",\"07\",\"Male\",\"Railway road Bauchi\",\"Other\",\"0\"'\n",
      "\n",
      "print('Example of Bad Row of Data:\\n'+\n",
      "      bad_string)\n",
      "\n",
      "str2search ='\",\"' \n",
      "better_string = re.sub(str2search,'|',bad_string)\n",
      "better_string = re.sub('\"','',better_string)\n",
      "\n",
      "print('\\nExample of More Uniform Data:\\n'+better_string)\n",
      "\n",
      "#Via Unix\n",
      "# sed s/\\\",\\\"/\\|/g test.txt  | sed s/\\\"//g > test_piped.txt \n"
     ],
     "language": "python",
     "metadata": {},
     "outputs": [
      {
       "output_type": "stream",
       "stream": "stdout",
       "text": [
        "Example of Bad Row of Data:\n",
        "\"BAUCHI\",\"GAMAWA\",\"UDUBO\",\"GWARBATU  \"A\",  PRUIMARY SCHOOL\",\"90F5AFE20F295188667\",\"05/07/07/012\",\"Bello\",\"Ibrahim\",\"Yusuf\",\"1988\",\"07\",\"07\",\"Male\",\"Railway road Bauchi\",\"Other\",\"0\"\n",
        "\n",
        "Example of More Uniform Data:\n",
        "BAUCHI|GAMAWA|UDUBO|GWARBATU  A,  PRUIMARY SCHOOL|90F5AFE20F295188667|05/07/07/012|Bello|Ibrahim|Yusuf|1988|07|07|Male|Railway road Bauchi|Other|0\n"
       ]
      }
     ],
     "prompt_number": 88
    },
    {
     "cell_type": "code",
     "collapsed": false,
     "input": [
      "f=cat('/Users/carbz/Dropbox/Nigeria-NEAP-GIS/DatafromEric-09292014/sad_co.csv')\n",
      "#f2 = re.sub(str2search,'|',f)\n",
      "f.read"
     ],
     "language": "python",
     "metadata": {},
     "outputs": [
      {
       "ename": "NameError",
       "evalue": "name 'cat' is not defined",
       "output_type": "pyerr",
       "traceback": [
        "\u001b[0;31m---------------------------------------------------------------------------\u001b[0m\n\u001b[0;31mNameError\u001b[0m                                 Traceback (most recent call last)",
        "\u001b[0;32m<ipython-input-115-b9df8dbaf0f5>\u001b[0m in \u001b[0;36m<module>\u001b[0;34m()\u001b[0m\n\u001b[0;32m----> 1\u001b[0;31m \u001b[0mf\u001b[0m\u001b[0;34m=\u001b[0m\u001b[0mcat\u001b[0m\u001b[0;34m(\u001b[0m\u001b[0;34m'/Users/carbz/Dropbox/Nigeria-NEAP-GIS/DatafromEric-09292014/sad_co.csv'\u001b[0m\u001b[0;34m)\u001b[0m\u001b[0;34m\u001b[0m\u001b[0m\n\u001b[0m\u001b[1;32m      2\u001b[0m \u001b[0;31m#f2 = re.sub(str2search,'|',f)\u001b[0m\u001b[0;34m\u001b[0m\u001b[0;34m\u001b[0m\u001b[0m\n\u001b[1;32m      3\u001b[0m \u001b[0mf\u001b[0m\u001b[0;34m.\u001b[0m\u001b[0mread\u001b[0m\u001b[0;34m\u001b[0m\u001b[0m\n",
        "\u001b[0;31mNameError\u001b[0m: name 'cat' is not defined"
       ]
      }
     ],
     "prompt_number": 115
    },
    {
     "cell_type": "code",
     "collapsed": false,
     "input": [],
     "language": "python",
     "metadata": {},
     "outputs": []
    }
   ],
   "metadata": {}
  }
 ]
}