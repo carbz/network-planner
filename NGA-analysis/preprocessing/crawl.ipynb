{
 "metadata": {
  "name": "",
  "signature": "sha256:9fdb90924e434c047d0398ed2853f90d66113cd4afe407dbc04c0ca5f26d25d6"
 },
 "nbformat": 3,
 "nbformat_minor": 0,
 "worksheets": [
  {
   "cells": [
    {
     "cell_type": "markdown",
     "metadata": {},
     "source": [
      "# Chris Tan, October 14, 2014\n",
      "Nigeria polling booths crawler\n",
      "\n",
      "https://gist.github.com/csytan/01f430c6336da1ab2db8"
     ]
    },
    {
     "cell_type": "code",
     "collapsed": false,
     "input": [
      "import csv\n",
      "import json\n",
      "import os\n",
      "import time\n",
      "import urllib\n",
      " \n",
      " \n",
      " \n",
      "def load(**kwargs):\n",
      "    url = 'http://booths.nigeriaelections.org/getStuff.php'\n",
      "    response = urllib.urlopen(url, urllib.urlencode(kwargs))\n",
      "    return json.loads(response.read())\n",
      " \n",
      " \n",
      "def write_csv(items):\n",
      "    with open('/Users/carbz/Dropbox/booths.csv', 'wb') as csvfile:\n",
      "        writer = csv.writer(csvfile)\n",
      "        keys = items[0].keys()\n",
      "        # write header\n",
      "        writer.writerow(keys)\n",
      "        # write lines\n",
      "        for item in items:\n",
      "            writer.writerow([item[key].encode('utf8') for key in keys])\n",
      " \n",
      " \n",
      "def crawl():\n",
      "    points = []\n",
      "    \n",
      "    print('loading states...')\n",
      "    states = load(stuff='states').keys()\n",
      "    \n",
      "    for state in states:\n",
      "        print('loading lgas for ' + state)\n",
      "        lgas = load(stuff='lgas', code=state)\n",
      "        \n",
      "        for lga_id, lga in lgas.items():\n",
      "            print('loading lga wards for ' + lga['LgaName'])\n",
      "            wards = load(stuff='wards', code=state, code2=lga_id)\n",
      "            \n",
      "            for ward_id, ward in wards.items():\n",
      "                print('loading booths for ' + ward['WardName'])\n",
      "                booths = load(stuff='booths', code=state, code2=lga_id, code3=ward_id)\n",
      "                booths = booths.values()\n",
      "                for b in booths:\n",
      "                    b['state'] = state\n",
      "                    b['lga'] = lga['LgaName']\n",
      "                    b['ward'] = ward['WardName']\n",
      "                points += booths\n",
      "`\n",
      "                time.sleep(5)\n",
      "    \n",
      "    write_csv(points)\n",
      "            \n",
      " \n",
      "crawl()"
     ],
     "language": "python",
     "metadata": {},
     "outputs": []
    },
    {
     "cell_type": "code",
     "collapsed": false,
     "input": [],
     "language": "python",
     "metadata": {},
     "outputs": []
    }
   ],
   "metadata": {}
  }
 ]
}