{
 "metadata": {
  "name": "",
  "signature": "sha256:158cfd4092ee5315a51ed609d505c9abf9801b1bb0cee1021753025697b7d4a8"
 },
 "nbformat": 3,
 "nbformat_minor": 0,
 "worksheets": [
  {
   "cells": [
    {
     "cell_type": "code",
     "collapsed": false,
     "input": [
      "# %prun [x for x in range(50)]\n",
      "# %timeit"
     ],
     "language": "python",
     "metadata": {},
     "outputs": [],
     "prompt_number": 26
    },
    {
     "cell_type": "code",
     "collapsed": false,
     "input": [
      "import networkx as nx"
     ],
     "language": "python",
     "metadata": {},
     "outputs": [],
     "prompt_number": 1
    },
    {
     "cell_type": "code",
     "collapsed": false,
     "input": [
      "# %%timeit\n",
      "import pandas as pd\n",
      "import numpy as np\n",
      "\n",
      "compounds_identified_dir = '/Users/carbz/Dropbox/Nigeria-NEAP-GIS/shapefiling/Kano_Voter_Validation/StructureCountNearPollingBooths-20141117.csv'\n",
      "compounds_identified_shp = '/Users/carbz/Dropbox/Nigeria-NEAP-GIS/shapefiling/Kano_Voter_Validation/StructureCountNearPollingBooths.shp'\n",
      "\n",
      "compounds = pd.read_csv(compounds_identified_dir)\n",
      "\n",
      "# lat = [id for id in compounds.Y]\n",
      "# lon = [id for id in compounds.X]"
     ],
     "language": "python",
     "metadata": {},
     "outputs": [],
     "prompt_number": 27
    },
    {
     "cell_type": "code",
     "collapsed": false,
     "input": [
      "len(compounds)"
     ],
     "language": "python",
     "metadata": {},
     "outputs": [
      {
       "metadata": {},
       "output_type": "pyout",
       "prompt_number": 34,
       "text": [
        "742"
       ]
      }
     ],
     "prompt_number": 34
    },
    {
     "cell_type": "code",
     "collapsed": false,
     "input": [
      "%%timeit\n",
      "##Set up the nodal NX thang\n",
      "\n",
      "#Reading in shape file\n",
      "nodes = nx.read_shp(compounds_identified_shp)\n",
      "\n",
      "# convert the node names from coords to integers, cache the coords as attrs\n",
      "nodes = nx.convert_node_labels_to_integers(nodes, label_attribute='Cluster')\n",
      "\n",
      "# create a dataframe with the network nodes with int label index, attrs as cols\n",
      "node_df = pd.DataFrame(nodes.node).T\n",
      "\n",
      "# cast coords to tuples (hashable)\n",
      "node_df['Cluster'] = node_df['Cluster'].apply(tuple)\n",
      "\n",
      "# build a vector of all the coordinates in the metrics dataframe\n",
      "coords_vec = np.vstack(node_df['Cluster'].values)"
     ],
     "language": "python",
     "metadata": {},
     "outputs": [
      {
       "ename": "SyntaxError",
       "evalue": "invalid syntax (<ipython-input-23-9bb81f0792f2>, line 2)",
       "output_type": "pyerr",
       "traceback": [
        "\u001b[0;36m  File \u001b[0;32m\"<ipython-input-23-9bb81f0792f2>\"\u001b[0;36m, line \u001b[0;32m2\u001b[0m\n\u001b[0;31m    %%prun\u001b[0m\n\u001b[0m    ^\u001b[0m\n\u001b[0;31mSyntaxError\u001b[0m\u001b[0;31m:\u001b[0m invalid syntax\n"
       ]
      }
     ],
     "prompt_number": 23
    },
    {
     "cell_type": "code",
     "collapsed": false,
     "input": [
      "hav_dist(coords_vec,coords_vec[5])"
     ],
     "language": "python",
     "metadata": {},
     "outputs": [
      {
       "metadata": {},
       "output_type": "pyout",
       "prompt_number": 35,
       "text": [
        "array([  1.26819898e+05,   4.65885962e+04,   5.46626718e+04,\n",
        "         1.72664589e+03,   5.43102459e+04,   0.00000000e+00,\n",
        "         7.17766908e+04,   5.17790472e+02,   5.37902443e+04,\n",
        "         7.26598307e+04,   4.77478941e+04,   5.44549585e+04,\n",
        "         4.84722893e+04,   5.46188683e+04,   1.26728230e+05,\n",
        "         5.35981579e+04,   3.22844703e+04,   4.71173430e+04,\n",
        "         4.74126199e+04,   5.43512995e+04,   5.86669354e+04,\n",
        "         4.75169423e+04,   7.26215034e+04,   4.68948880e+04,\n",
        "         4.75539247e+04,   3.22794702e+04,   7.16629198e+04,\n",
        "         4.70709859e+04,   1.26819084e+05,   4.62915627e+04,\n",
        "         4.77843607e+04,   4.83018363e+04,   7.18234860e+04,\n",
        "         6.51429395e+02,   4.55141371e+04,   4.85974680e+04,\n",
        "         1.26724451e+05,   4.55484899e+04,   5.91542620e+04,\n",
        "         4.63870550e+04,   3.24315017e+04,   4.56498362e+04,\n",
        "         1.26604755e+05,   3.23054021e+04,   3.19450814e+04,\n",
        "         1.01263794e+03,   4.56129043e+04,   1.26766389e+05,\n",
        "         7.25220647e+04,   4.86013791e+04,   5.39647521e+04,\n",
        "         1.26915961e+05,   1.26854143e+05,   1.26603910e+05,\n",
        "         5.76626687e+04,   1.26497943e+05,   5.03478460e+02,\n",
        "         7.24984062e+04,   4.74679066e+04,   1.56835204e+03,\n",
        "         5.41876247e+04,   7.18233948e+04,   3.24395199e+04,\n",
        "         5.39085614e+04,   4.57270701e+04,   3.24185390e+04,\n",
        "         4.68498561e+04,   4.69233786e+04,   5.54220744e+04,\n",
        "         1.74651977e+03,   4.85418517e+04,   5.40913741e+02,\n",
        "         1.26769705e+05,   4.71372052e+04,   3.57929881e+02,\n",
        "         4.59515912e+04,   1.26975464e+05,   1.26775466e+05,\n",
        "         4.63136303e+04,   4.55766274e+04,   4.81986555e+04,\n",
        "         5.77813614e+04,   7.17750663e+04,   4.68641418e+04,\n",
        "         4.85660223e+04,   4.64020405e+04,   4.76172426e+04,\n",
        "         4.69856631e+04,   5.88618845e+04,   4.58827965e+04,\n",
        "         5.92893501e+04,   5.43595318e+04,   9.11363431e+02,\n",
        "         1.26899825e+05,   9.71154155e+02,   4.57800988e+04,\n",
        "         4.83020651e+04,   4.55868512e+04,   4.56881546e+04,\n",
        "         7.17365206e+04,   4.62805629e+04,   5.86207159e+04,\n",
        "         2.66102545e+02,   4.73730606e+04,   5.81152001e+04,\n",
        "         5.43927714e+04,   4.70560262e+04,   7.25729826e+04,\n",
        "         1.26879772e+05,   4.77169897e+04,   4.59174962e+04,\n",
        "         4.77663693e+04,   1.26882303e+05,   4.62715745e+04,\n",
        "         5.79113150e+04,   7.34012751e+04,   4.71167837e+04,\n",
        "         6.04540296e+02,   5.43131555e+04,   4.58258808e+04,\n",
        "         4.84268336e+04,   1.07721253e+03,   5.44226304e+04,\n",
        "         4.67921018e+04,   4.86990474e+04,   7.16705302e+04,\n",
        "         4.81547592e+04,   4.76339966e+04,   7.24686956e+04,\n",
        "         5.39819035e+04,   4.82345098e+04,   1.26561151e+05,\n",
        "         7.26096714e+04,   1.26490866e+05,   5.76192687e+04,\n",
        "         6.51399020e+02,   4.61737949e+04,   4.80686860e+04,\n",
        "         4.85002176e+04,   4.59821322e+04,   6.40183819e+02,\n",
        "         5.38698140e+04,   9.45095286e+01,   1.25619158e+03,\n",
        "         1.26537545e+05,   1.05462045e+03,   4.76576770e+04,\n",
        "         1.26541854e+05,   7.25690939e+04,   5.76288195e+04,\n",
        "         4.57616500e+04,   1.26948718e+05,   4.83251960e+04,\n",
        "         7.24066207e+04,   7.25273777e+04,   2.35396003e+02,\n",
        "         5.45399163e+04,   4.59920661e+04,   4.85834237e+04,\n",
        "         5.56827794e+04,   4.71145338e+04,   3.22457675e+04,\n",
        "         5.36987691e+04,   4.86221700e+04,   4.61451732e+04,\n",
        "         5.40125329e+04,   5.68172754e+02,   1.26757803e+05,\n",
        "         8.44255113e+01,   2.97178990e+02,   5.77395381e+04,\n",
        "         5.44667902e+04,   1.26829826e+05,   2.41249520e+02,\n",
        "         6.00210909e+02,   4.61517995e+04,   4.69098919e+04,\n",
        "         1.26607778e+05,   5.40760086e+04,   4.75991787e+04,\n",
        "         5.38030011e+04,   7.25260084e+04,   4.76089819e+04,\n",
        "         4.78311812e+04,   5.46172620e+04,   5.92330078e+04,\n",
        "         6.06102295e+02,   7.24098498e+04,   1.26636181e+05,\n",
        "         7.17325202e+04,   3.24980689e+04,   1.26733687e+05,\n",
        "         6.16602253e+02,   5.37660079e+04,   4.57944113e+04,\n",
        "         5.92508550e+04,   7.18156215e+04,   7.17018260e+04,\n",
        "         4.82695767e+04,   1.05002113e+03,   1.33998827e+03,\n",
        "         7.16948463e+04,   4.56429519e+02,   3.86892465e+02,\n",
        "         5.80549643e+04,   4.90484475e+02,   5.43687724e+04,\n",
        "         1.26743077e+05,   5.45341604e+04,   2.41617244e+02,\n",
        "         5.80600099e+04,   7.25482291e+04,   4.68733252e+04,\n",
        "         4.68354271e+04,   5.30866409e+02,   3.04848171e+02,\n",
        "         7.25069659e+04,   7.25340260e+04,   3.22401797e+04,\n",
        "         1.26433746e+05,   4.59722160e+04,   3.22355427e+04,\n",
        "         4.63662326e+04,   5.27839721e+02,   7.18561100e+04,\n",
        "         4.70144172e+04,   4.67736159e+04,   2.95880963e+02,\n",
        "         8.80785212e+02,   4.66008118e+04,   7.26265976e+04,\n",
        "         1.26906957e+05,   1.26708207e+05,   4.69518113e+04,\n",
        "         4.84300467e+04,   4.73529279e+04,   4.68639039e+04,\n",
        "         4.86709732e+04,   4.58782264e+04,   4.58418009e+04,\n",
        "         5.86900851e+04,   5.35549660e+04,   4.93967473e+02,\n",
        "         7.24016381e+04,   3.16602146e+04,   5.45241352e+04,\n",
        "         1.20322632e+03,   1.71528481e+02,   4.66639374e+04,\n",
        "         4.83457462e+04,   3.03917017e+02,   4.58874771e+04,\n",
        "         1.31185215e+03,   4.61832544e+04,   4.70049574e+04,\n",
        "         4.76421286e+04,   4.44440034e+01,   4.71515798e+04,\n",
        "         5.43422854e+04,   1.25810766e+05,   5.80327879e+04,\n",
        "         5.91823740e+04,   7.16391892e+04,   7.23108324e+04,\n",
        "         5.94782277e+04,   4.68035211e+04,   7.23882118e+04,\n",
        "         5.92880050e+04,   5.93286638e+02,   2.37186865e+02,\n",
        "         7.16468554e+04,   3.22775612e+04,   1.11587762e+02,\n",
        "         5.43576071e+04,   4.75705174e+04,   4.69905035e+04,\n",
        "         7.24812785e+04,   3.69316192e+01,   4.78620538e+04,\n",
        "         4.57278137e+04,   1.75743708e+02,   5.87439219e+04,\n",
        "         1.89394215e+02,   5.40827911e+04,   1.37878974e+03,\n",
        "         5.45164239e+04,   3.16415883e+04,   4.60633401e+04,\n",
        "         4.76936298e+04,   5.38311591e+04,   5.45524257e+04,\n",
        "         1.25751962e+05,   4.61713311e+04,   5.50040600e+02,\n",
        "         5.54708774e+04,   6.25316824e+02,   5.37317776e+04,\n",
        "         1.14133396e+03,   5.01321695e+02,   5.36804549e+04,\n",
        "         7.27768701e+04,   4.58834782e+04,   1.23932835e+03,\n",
        "         5.45615493e+04,   4.45577607e+02,   1.63207427e+02,\n",
        "         3.24584948e+04,   5.36498072e+04,   7.25480639e+04,\n",
        "         4.68315956e+04,   3.21601285e+04,   5.40214127e+04,\n",
        "         1.26520421e+05,   3.16069950e+04,   3.23923728e+04,\n",
        "         1.26783811e+05,   1.26964326e+05,   7.25300530e+04,\n",
        "         3.23137150e+04,   4.57198143e+04,   5.38026366e+04,\n",
        "         5.43980016e+04,   1.26593927e+05,   4.62170427e+04,\n",
        "         1.26577383e+05,   5.86034483e+04,   5.38536410e+04,\n",
        "         4.86262702e+04,   4.55569706e+04,   1.20159531e+03,\n",
        "         7.26243417e+04,   1.26842039e+05,   1.94494634e+02,\n",
        "         5.80947297e+04,   4.88394764e+02,   2.28764967e+02,\n",
        "         7.23929462e+04,   4.70914350e+04,   4.84956648e+04,\n",
        "         4.68988469e+04,   4.63620479e+02,   7.16911213e+04,\n",
        "         1.26581408e+05,   4.67973692e+04,   4.84098800e+04,\n",
        "         7.24494043e+04,   1.13754516e+03,   1.26490970e+05,\n",
        "         4.56475365e+04,   4.74621249e+02,   5.45074639e+04,\n",
        "         4.75880593e+04,   1.23520729e+03,   7.25982829e+04,\n",
        "         7.23898591e+04,   3.61815862e+02,   4.70350391e+04,\n",
        "         3.16209704e+04,   5.38378556e+04,   2.17495983e+02,\n",
        "         4.56404200e+04,   4.55713244e+04,   4.62451930e+04,\n",
        "         4.62357655e+04,   4.58966895e+04,   5.44276483e+04,\n",
        "         4.60668601e+04,   5.45683084e+04,   5.77105014e+04,\n",
        "         4.69326750e+04,   4.84837814e+04,   5.38330815e+04,\n",
        "         5.76730210e+04,   5.38420498e+04,   5.81106879e+04,\n",
        "         4.60795232e+04,   7.25156863e+04,   5.38846496e+04,\n",
        "         4.61942187e+04,   4.76659814e+04,   4.83514383e+04,\n",
        "         5.39470579e+04,   5.44613896e+02,   5.40355398e+04,\n",
        "         4.78023188e+04,   5.80047485e+02,   4.61463139e+04,\n",
        "         3.16236660e+04,   2.97734436e+02,   4.56232652e+04,\n",
        "         5.32058551e+02,   4.85847583e+04,   1.26763639e+05,\n",
        "         2.37902936e+02,   4.70157395e+04,   7.17092802e+04,\n",
        "         4.60948235e+04,   3.22273055e+04,   4.60118981e+04,\n",
        "         4.58146232e+04,   4.87048305e+04,   5.78521274e+04,\n",
        "         5.37698149e+04,   3.31660266e+02,   7.25258645e+04,\n",
        "         4.72066023e+04,   4.84041919e+04,   4.72445369e+04,\n",
        "         4.73452986e+04,   4.55968227e+04,   3.26403487e+04,\n",
        "         7.17340077e+04,   5.79378246e+04,   5.90207318e+04,\n",
        "         4.50111205e+02,   7.16614429e+04,   5.48792019e+04,\n",
        "         7.26527501e+04,   4.76664753e+04,   1.26769820e+05,\n",
        "         7.27472922e+04,   1.26457924e+05,   7.13336225e+01,\n",
        "         4.84136689e+04,   4.70028192e+04,   1.26884442e+05,\n",
        "         2.26758548e+02,   4.77303798e+04,   4.84153661e+04,\n",
        "         1.26706588e+05,   5.35664264e+04,   1.26484958e+05,\n",
        "         4.61634390e+04,   4.54188205e+04,   5.38819876e+04,\n",
        "         5.44138071e+04,   3.16214749e+04,   4.76544861e+04,\n",
        "         4.56092677e+04,   3.16588583e+04,   1.26656059e+05,\n",
        "         1.25755651e+05,   3.16564024e+04,   5.42388190e+02,\n",
        "         5.44411047e+04,   7.25966074e+04,   4.62131238e+04,\n",
        "         4.86252623e+04,   5.82899967e+04,   7.24330833e+04,\n",
        "         4.71657735e+04,   7.24748987e+04,   7.24841993e+04,\n",
        "         4.84500109e+04,   5.66067366e+02,   5.37916060e+04,\n",
        "         4.72099898e+04,   5.39009341e+04,   4.63645934e+04,\n",
        "         3.87674898e+02,   4.83853395e+04,   1.26462438e+05,\n",
        "         4.68683809e+04,   1.26942678e+05,   1.79204372e+03,\n",
        "         5.83817993e+04,   4.65419639e+04,   1.26796756e+05,\n",
        "         4.69677052e+04,   1.26680645e+05,   5.39140004e+04,\n",
        "         1.26923127e+05,   7.27813545e+04,   7.25923337e+04,\n",
        "         4.72926144e+04,   4.66838455e+04,   5.91447339e+04,\n",
        "         3.16431279e+04,   4.56597077e+04,   1.26581243e+05,\n",
        "         1.26561664e+05,   4.72530452e+02,   5.37594601e+04,\n",
        "         7.17343749e+04,   1.26600052e+05,   5.46340597e+04,\n",
        "         4.78897519e+04,   4.77448168e+04,   1.45938375e+03,\n",
        "         1.21238051e+03,   4.72936030e+04,   1.35507507e+03,\n",
        "         5.37317301e+04,   5.44753776e+04,   5.75726832e+04,\n",
        "         4.71347492e+04,   4.99289681e+02,   4.59921470e+04,\n",
        "         7.25683834e+04,   5.37969091e+04,   5.87291637e+04,\n",
        "         3.69351244e+02,   5.45883711e+04,   7.17109630e+04,\n",
        "         4.81715683e+04,   1.26555016e+05,   4.81186872e+04,\n",
        "         4.61895744e+04,   3.17339351e+04,   4.54816105e+04,\n",
        "         5.76283355e+04,   4.66011488e+04,   1.26610088e+05,\n",
        "         4.58103680e+04,   7.24504306e+04,   1.31968020e+03,\n",
        "         6.53080771e+01,   5.45634010e+04,   4.76738126e+04,\n",
        "         4.59904070e+02,   4.68659169e+04,   7.26320864e+04,\n",
        "         2.48373304e+02,   4.70881213e+04,   4.89765603e+02,\n",
        "         5.36586385e+04,   4.68092239e+04,   4.84926478e+04,\n",
        "         4.81984504e+04,   5.76790859e+04,   3.16858095e+04,\n",
        "         4.06252298e+02,   5.76227400e+02,   4.87366324e+04,\n",
        "         7.25492984e+04,   4.82083333e+04,   1.14320771e+03,\n",
        "         4.62688454e+04,   1.26626917e+05,   4.56293302e+04,\n",
        "         5.18315738e+02,   7.25083712e+04,   1.26482268e+05,\n",
        "         5.67152110e+02,   4.70288142e+04,   2.24402917e+02,\n",
        "         4.73187640e+04,   6.15537420e+02,   9.14601057e+02,\n",
        "         4.82179502e+04,   5.50972864e+02,   3.29512093e+04,\n",
        "         3.24367592e+04,   7.17841730e+04,   3.24724855e+04,\n",
        "         4.57429318e+04,   3.23953758e+04,   1.26609670e+05,\n",
        "         4.56516148e+04,   5.45901967e+04,   1.09774566e+03,\n",
        "         7.24285998e+04,   4.60830938e+04,   5.43157225e+04,\n",
        "         5.92417427e+04,   4.74385807e+04,   5.87646309e+04,\n",
        "         5.46387580e+04,   7.33473861e+04,   5.07310690e+02,\n",
        "         8.73509437e+02,   5.37312917e+04,   1.17675262e+03,\n",
        "         1.26633481e+05,   5.80343769e+04,   4.78656906e+04,\n",
        "         2.08486916e+02,   3.20253624e+04,   1.26617254e+05,\n",
        "         4.72413424e+04,   3.28293069e+02,   4.73067091e+04,\n",
        "         3.23715494e+04,   5.86352090e+04,   5.45161536e+04,\n",
        "         4.67158115e+04,   5.37546777e+04,   1.25738303e+05,\n",
        "         6.18417590e+02,   4.74479518e+04,   5.98900269e+02,\n",
        "         5.90560068e+04,   3.11651824e+02,   4.73004312e+04,\n",
        "         3.23322335e+04,   3.21218353e+04,   5.70472937e+02,\n",
        "         1.26487491e+05,   4.76628906e+04,   9.27682749e+02,\n",
        "         5.38956007e+04,   4.76493739e+04,   1.25708147e+05,\n",
        "         5.44887854e+04,   4.62892289e+04,   4.58494361e+04,\n",
        "         1.29658764e+03,   1.26789947e+05,   1.26505304e+05,\n",
        "         5.24101794e+02,   4.55872394e+04,   4.56543800e+04,\n",
        "         5.38659603e+04,   4.76727815e+04,   5.90698061e+04,\n",
        "         4.71779289e+04,   1.08013442e+03,   1.26886650e+05,\n",
        "         4.75028315e+04,   1.26688715e+05,   1.26677110e+05,\n",
        "         7.23487636e+04,   4.83012337e+04,   4.56665943e+04,\n",
        "         3.24288963e+04,   7.23490681e+04,   4.76194204e+04,\n",
        "         5.62148372e+02,   7.23988198e+04,   3.34132208e+02,\n",
        "         1.38169201e+02,   4.53447400e+04,   4.77981740e+04,\n",
        "         5.38775621e+04,   4.13277340e+02,   4.69701026e+04,\n",
        "         1.19759802e+02,   1.33997149e+02,   4.60571768e+04,\n",
        "         5.47336690e+04,   1.26715334e+05,   4.71719164e+04,\n",
        "         7.23644097e+04,   5.39164532e+04,   1.26420828e+05,\n",
        "         4.69281057e+04,   5.76961127e+04,   1.26867700e+05,\n",
        "         4.74271895e+04,   5.39301808e+04,   3.23363701e+04,\n",
        "         7.26131464e+04,   5.45582932e+04,   4.55932692e+04,\n",
        "         3.24630479e+04,   4.66034681e+04,   7.25780394e+04,\n",
        "         4.70395551e+04,   5.96665823e+04,   7.27547173e+04,\n",
        "         3.16397588e+04,   4.94749734e+02,   5.44766331e+04,\n",
        "         5.76064478e+04,   4.81931038e+04,   4.65086341e+04,\n",
        "         1.11486668e+03,   5.91168011e+04,   4.73885964e+04,\n",
        "         3.17657426e+04,   5.80984762e+04,   5.93201968e+04,\n",
        "         1.26667687e+05,   4.64839805e+04,   1.26800253e+05,\n",
        "         4.63598269e+04,   4.60081440e+04,   2.60975989e+02,\n",
        "         4.85738926e+04,   1.26745943e+05,   4.73376116e+04,\n",
        "         7.23242194e+04,   7.24193358e+04,   7.25932157e+04,\n",
        "         4.82775308e+04,   7.25289568e+04,   7.26061946e+04,\n",
        "         6.03541799e+01,   1.26612367e+05,   4.84550082e+04,\n",
        "         1.26709250e+05,   4.67119757e+04,   4.72202665e+02,\n",
        "         4.61275113e+04,   1.21385847e+03,   5.46178724e+04,\n",
        "         1.20799859e+03,   4.70723369e+04,   4.74567717e+04,\n",
        "         7.25602040e+04,   1.26631652e+05,   2.74785903e+02,\n",
        "         5.80633814e+04,   5.86542121e+04,   4.84276206e+04,\n",
        "         1.15464634e+03,   4.55821501e+04,   4.81288246e+04,\n",
        "         6.24219432e+02,   5.80578709e+04,   7.17756059e+04,\n",
        "         3.23555230e+04,   4.59633483e+04,   5.40853135e+04,\n",
        "         2.02099899e+02,   5.38487983e+04,   5.36955886e+04,\n",
        "         7.26852156e+04,   4.66534346e+04,   1.26573993e+05,\n",
        "         4.69892007e+04,   7.23738901e+04,   5.37180128e+04,\n",
        "         1.20716480e+03,   3.58994728e+02,   3.23085686e+04,\n",
        "         5.45454481e+04,   4.61884351e+04,   1.51882889e+02,\n",
        "         4.71130762e+04,   3.22600614e+04,   1.26640436e+05,\n",
        "         4.66035481e+04,   4.27654735e+02,   1.33327495e+03,\n",
        "         5.39815265e+04,   4.58888120e+04,   5.76551472e+04,\n",
        "         1.26542427e+05,   1.26858212e+05,   3.24088783e+04,\n",
        "         4.72781829e+04])"
       ]
      }
     ],
     "prompt_number": 35
    },
    {
     "cell_type": "code",
     "collapsed": false,
     "input": [
      "coords_vec[0:5]"
     ],
     "language": "python",
     "metadata": {},
     "outputs": [
      {
       "metadata": {},
       "output_type": "pyout",
       "prompt_number": 7,
       "text": [
        "array([[  8.61204368,  10.74475376],\n",
        "       [  9.16942996,  11.58711692],\n",
        "       [  8.54554244,  12.25496807],\n",
        "       [  8.86426284,  11.85683235],\n",
        "       [  8.5472462 ,  12.2522339 ]])"
       ]
      }
     ],
     "prompt_number": 7
    },
    {
     "cell_type": "code",
     "collapsed": false,
     "input": [
      "G=nx.Graph()\n",
      "\n",
      "G.add_nodes_from(coords_vec[0])"
     ],
     "language": "python",
     "metadata": {},
     "outputs": [],
     "prompt_number": 9
    },
    {
     "cell_type": "code",
     "collapsed": false,
     "input": [
      "H=nx.path_graph(10)\n",
      "nx.draw_graphviz(H)\n",
      "plt.show()"
     ],
     "language": "python",
     "metadata": {},
     "outputs": [
      {
       "metadata": {},
       "output_type": "display_data",
       "png": "[encoded data removed]",
       "text": [
        "<matplotlib.figure.Figure at 0x103753c90>"
       ]
      }
     ],
     "prompt_number": 16
    },
    {
     "cell_type": "code",
     "collapsed": false,
     "input": [
      "import matplotlib.pyplot as plt\n",
      "\n",
      "nx.draw(G)\n",
      "plt.show()\n"
     ],
     "language": "python",
     "metadata": {},
     "outputs": [],
     "prompt_number": 11
    },
    {
     "cell_type": "code",
     "collapsed": false,
     "input": [],
     "language": "python",
     "metadata": {},
     "outputs": []
    },
    {
     "cell_type": "code",
     "collapsed": false,
     "input": [],
     "language": "python",
     "metadata": {},
     "outputs": []
    },
    {
     "cell_type": "code",
     "collapsed": false,
     "input": [
      "#build a distance martrix (edge weights)\n",
      "## convert lat/longs to nx crs, then pass it \n",
      "\n",
      "__author__ = 'Brandon Ogle'\n",
      "import numpy as np\n",
      "from numpy import sin, cos, pi, arcsin, sqrt\n",
      "\n",
      "\n",
      "def hav_dist(vector,point):\n",
      "    lat = vector[:, 0]\n",
      "    lon = vector[:, 1]\n",
      "    x, y = point\n",
      "    return get_hav_distance(lat, lon, x, y)\n",
      "\n",
      "def get_hav_distance(lat, lon, pcode_lat, pcode_lon):\n",
      "    \"\"\"\n",
      "    Find the distance between a vector of (lat,lon) and the reference point (pcode_lat,pcode_lon).\n",
      "    \"\"\"\n",
      "    rad_factor = pi / 180.0  # degrees to radians for trig functions\n",
      "    lat_in_rad = lat * rad_factor\n",
      "    lon_in_rad = lon * rad_factor\n",
      "    pcode_lat_in_rad = pcode_lat * rad_factor\n",
      "    pcode_lon_in_rad = pcode_lon * rad_factor\n",
      "    delta_lon = lon_in_rad - pcode_lon_in_rad\n",
      "    delta_lat = lat_in_rad - pcode_lat_in_rad\n",
      "    # Next two lines is the Haversine formula\n",
      "    inverse_angle = (np.sin(delta_lat / 2) ** 2 + np.cos(pcode_lat_in_rad) *\n",
      "                     np.cos(lat_in_rad) * np.sin(delta_lon / 2) ** 2)\n",
      "    haversine_angle = 2 * np.arcsin(np.sqrt(inverse_angle))\n",
      "    earth_radius =  6371010 # meters\n",
      "    return haversine_angle * earth_radius\n",
      "\n",
      "\n",
      "# \"\"\"Returns the computed distance matrix\"\"\"\n",
      "def dist_mat(coords):\n",
      "    \"\"\"\n",
      "    returns the distance matrix of a numpy array (haversine)\n",
      "    \"\"\"\n",
      "    return np.row_stack(map(lambda pt: hav_dist(coords, pt), coords))\n",
      "    \n",
      "def connected_graph_mst(coords, plot=True):\n",
      "    dmat = dist_mat(coords)\n",
      "    G = nx.from_numpy_matrix(dmat)\n",
      "    nx.set_node_attributes(G, 'coords', {i:coord for i, coord in enumerate(coords)})\n",
      "    mst = nx.algorithms.minimum_spanning_tree(G)\n",
      "    \n",
      "    if plot:\n",
      "        import matplotlib.pyplot as plt\n",
      "        fig = plt.figure(figsize=(10,10))\n",
      "        ax = fig.add_subplot(111)\n",
      "        nx.draw(mst, nx.get_node_attributes(mst, 'coords'), node_size=40, ax=ax)\n",
      "    return mst"
     ],
     "language": "python",
     "metadata": {},
     "outputs": [],
     "prompt_number": 24
    },
    {
     "cell_type": "code",
     "collapsed": false,
     "input": [
      "connected_graph_mst = connected_graph_mst(coords_vec)"
     ],
     "language": "python",
     "metadata": {},
     "outputs": [
      {
       "metadata": {},
       "output_type": "display_data",
       "png": "[encoded data removed]",
       "text": [
        "<matplotlib.figure.Figure at 0x10cdc2a50>"
       ]
      }
     ],
     "prompt_number": 28
    },
    {
     "cell_type": "code",
     "collapsed": false,
     "input": [
      "connected_graph_mst.size()"
     ],
     "language": "python",
     "metadata": {},
     "outputs": [
      {
       "metadata": {},
       "output_type": "pyout",
       "prompt_number": 33,
       "text": [
        "741"
       ]
      }
     ],
     "prompt_number": 33
    },
    {
     "cell_type": "code",
     "collapsed": false,
     "input": [],
     "language": "python",
     "metadata": {},
     "outputs": []
    },
    {
     "cell_type": "code",
     "collapsed": false,
     "input": [
      "node_df['Cluster']"
     ],
     "language": "python",
     "metadata": {},
     "outputs": [
      {
       "metadata": {},
       "output_type": "pyout",
       "prompt_number": 92,
       "text": [
        "0     (8.61204367743, 10.7447537582)\n",
        "1     (9.16942995766, 11.5871169191)\n",
        "2     (8.54554244424, 12.2549680668)\n",
        "3      (8.86426284283, 11.856832352)\n",
        "4     (8.54724619757, 12.2522339026)\n",
        "5     (8.85844884996, 11.8714048521)\n",
        "6      (8.3921220849, 12.3228441568)\n",
        "7     (8.86003853003, 11.8758345466)\n",
        "8      (8.5603036881, 12.2567956332)\n",
        "9      (8.3866346834, 12.3286597112)\n",
        "10    (8.75135792872, 12.2922021494)\n",
        "11    (8.54664701826, 12.2534406043)\n",
        "12    (8.73212365295, 12.2935853374)\n",
        "13    (8.54574043392, 12.2546167512)\n",
        "14    (8.61262367864, 10.7454773539)\n",
        "...\n",
        "727    (9.17107512353, 11.5944752437)\n",
        "728    (8.85899046168, 11.8701357689)\n",
        "729     (9.1773941492, 11.5889990777)\n",
        "730    (8.60922758236, 11.7211392485)\n",
        "731     (8.61308399706, 10.746191903)\n",
        "732    (9.17713404226, 11.5957897205)\n",
        "733    (8.86024952382, 11.8748442948)\n",
        "734    (8.85741207963, 11.8593151569)\n",
        "735    (8.56061575631, 12.2592488146)\n",
        "736    (9.17008039675, 11.5974724892)\n",
        "737    (8.38167768033, 11.6652717939)\n",
        "738    (8.61457542874, 10.7467707769)\n",
        "739    (8.61343383906, 10.7440844306)\n",
        "740    (8.60887939977, 11.7190937074)\n",
        "741    (8.75428151844, 12.2885470521)\n",
        "Name: Cluster, Length: 742, dtype: object"
       ]
      }
     ],
     "prompt_number": 92
    },
    {
     "cell_type": "code",
     "collapsed": false,
     "input": [],
     "language": "python",
     "metadata": {},
     "outputs": []
    },
    {
     "cell_type": "code",
     "collapsed": false,
     "input": [
      "#initialize a nx.Graph  (or nx.from_numpy_matrix) instance \n",
      "\n",
      "# haversine = lambda coord: get_hav_distance(coords[:, 0], coords[:, 1], *coord) \n",
      "\n",
      "haversine = lambda coord: hav_dist(coords_vec, *coord) \n",
      "\n",
      "map(haversine, coords_vec)\n",
      "# dist_matrix = np.vstack(map(haversine, coords_vec))"
     ],
     "language": "python",
     "metadata": {},
     "outputs": [
      {
       "ename": "TypeError",
       "evalue": "hav_dist() takes exactly 2 arguments (3 given)",
       "output_type": "pyerr",
       "traceback": [
        "\u001b[0;31m---------------------------------------------------------------------------\u001b[0m\n\u001b[0;31mTypeError\u001b[0m                                 Traceback (most recent call last)",
        "\u001b[0;32m<ipython-input-102-f2c5957c61f2>\u001b[0m in \u001b[0;36m<module>\u001b[0;34m()\u001b[0m\n\u001b[1;32m      5\u001b[0m \u001b[0mhaversine\u001b[0m \u001b[0;34m=\u001b[0m \u001b[0;32mlambda\u001b[0m \u001b[0mcoord\u001b[0m\u001b[0;34m:\u001b[0m \u001b[0mhav_dist\u001b[0m\u001b[0;34m(\u001b[0m\u001b[0mcoords_vec\u001b[0m\u001b[0;34m,\u001b[0m \u001b[0;34m*\u001b[0m\u001b[0mcoord\u001b[0m\u001b[0;34m)\u001b[0m\u001b[0;34m\u001b[0m\u001b[0m\n\u001b[1;32m      6\u001b[0m \u001b[0;34m\u001b[0m\u001b[0m\n\u001b[0;32m----> 7\u001b[0;31m \u001b[0mmap\u001b[0m\u001b[0;34m(\u001b[0m\u001b[0mhaversine\u001b[0m\u001b[0;34m,\u001b[0m \u001b[0mcoords_vec\u001b[0m\u001b[0;34m)\u001b[0m\u001b[0;34m\u001b[0m\u001b[0m\n\u001b[0m\u001b[1;32m      8\u001b[0m \u001b[0;31m# dist_matrix = np.vstack(map(haversine, coords_vec))\u001b[0m\u001b[0;34m\u001b[0m\u001b[0;34m\u001b[0m\u001b[0m\n",
        "\u001b[0;32m<ipython-input-102-f2c5957c61f2>\u001b[0m in \u001b[0;36m<lambda>\u001b[0;34m(coord)\u001b[0m\n\u001b[1;32m      3\u001b[0m \u001b[0;31m# haversine = lambda coord: get_hav_distance(coords[:, 0], coords[:, 1], *coord)\u001b[0m\u001b[0;34m\u001b[0m\u001b[0;34m\u001b[0m\u001b[0m\n\u001b[1;32m      4\u001b[0m \u001b[0;34m\u001b[0m\u001b[0m\n\u001b[0;32m----> 5\u001b[0;31m \u001b[0mhaversine\u001b[0m \u001b[0;34m=\u001b[0m \u001b[0;32mlambda\u001b[0m \u001b[0mcoord\u001b[0m\u001b[0;34m:\u001b[0m \u001b[0mhav_dist\u001b[0m\u001b[0;34m(\u001b[0m\u001b[0mcoords_vec\u001b[0m\u001b[0;34m,\u001b[0m \u001b[0;34m*\u001b[0m\u001b[0mcoord\u001b[0m\u001b[0;34m)\u001b[0m\u001b[0;34m\u001b[0m\u001b[0m\n\u001b[0m\u001b[1;32m      6\u001b[0m \u001b[0;34m\u001b[0m\u001b[0m\n\u001b[1;32m      7\u001b[0m \u001b[0mmap\u001b[0m\u001b[0;34m(\u001b[0m\u001b[0mhaversine\u001b[0m\u001b[0;34m,\u001b[0m \u001b[0mcoords_vec\u001b[0m\u001b[0;34m)\u001b[0m\u001b[0;34m\u001b[0m\u001b[0m\n",
        "\u001b[0;31mTypeError\u001b[0m: hav_dist() takes exactly 2 arguments (3 given)"
       ]
      }
     ],
     "prompt_number": 102
    },
    {
     "cell_type": "code",
     "collapsed": false,
     "input": [
      "#then run nx.algorithms.minimum_spanning_tree on it. \n",
      "\n",
      "nx.algorithms.minimum_spanning_tree()"
     ],
     "language": "python",
     "metadata": {},
     "outputs": []
    },
    {
     "cell_type": "code",
     "collapsed": false,
     "input": [],
     "language": "python",
     "metadata": {},
     "outputs": []
    }
   ],
   "metadata": {}
  }
 ]
}