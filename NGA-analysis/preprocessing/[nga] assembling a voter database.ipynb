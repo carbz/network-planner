{
 "metadata": {
  "name": "",
  "signature": "sha256:48e519559510111509c86010961ddf88aeb530979e01bde08dcc68ac5685499e"
 },
 "nbformat": 3,
 "nbformat_minor": 0,
 "worksheets": [
  {
   "cells": [
    {
     "cell_type": "markdown",
     "metadata": {},
     "source": [
      "<div><h1 style=\"width: 500px; margin: 0 auto;\">[NGA] Assembling a Voter Database</h1><img src=\"http://modi.mech.columbia.edu/wp-content/uploads/2013/10/sel-logotype.png\" style=\"width:200px; float:right\" />\n",
      "</div>\n",
      "\n",
      "- Tan and Carbz collaborating on Database structure\n",
      "- setting up db for NGA voter registration dataset\n",
      "- will be using rethinkDB framework\n",
      "\n",
      "Start: Oct 27, 14"
     ]
    },
    {
     "cell_type": "markdown",
     "metadata": {},
     "source": [
      "## 1.0 CSVs of interest for database\n",
      "- carbz + brandon previously cleaned these files up \n",
      "- should be uniform in structure..."
     ]
    },
    {
     "cell_type": "code",
     "collapsed": false,
     "input": [
      "import os\n",
      "\n",
      "#voter files that were cleaned live here\n",
      "clean_path = '/Users/carbz/Dropbox/Nigeria-NEAP-GIS/shapefiling/sad_converted/'\n",
      "listed_files = os.listdir(clean_path) #all files in directory\n",
      "\n",
      "#Build a list only of csvs of interest w/ this filter\n",
      "filenames = [fname for fname in listed_files if fname.endswith('.csv')]"
     ],
     "language": "python",
     "metadata": {},
     "outputs": [],
     "prompt_number": 59
    },
    {
     "cell_type": "markdown",
     "metadata": {},
     "source": [
      "## 2.0 Import all CSVs to rethinkDB"
     ]
    },
    {
     "cell_type": "code",
     "collapsed": false,
     "input": [
      "#Preparing to set up database\n",
      "#2.1 define header schema\n",
      "headers = ['state','lga','ward','polling_unit','voter_id',\n",
      "           'puid','name_1','name_2','name_3','birth_year','birth_month',\n",
      "           'birth_day','sex','address','profession','status']\n",
      "\n",
      "#2.2 Defining a function to convert common strings to int types\n",
      "def convert_to_int(obj, key):\n",
      "    '''\n",
      "    Converts element, key, from within object, obj, to an integer type\n",
      "    If not possible, returns None value\n",
      "    \n",
      "    Useage: \n",
      "    > convert_to_int(voter, 'status')\n",
      "    > convert_to_int(voter,'birth_month')\n",
      "    > convert_to_int(voter, 'birth_day')\n",
      "    > convert_to_int(voter,'birth_year') \n",
      "    \n",
      "    Where voter looks like such: \n",
      "        {'address': \"King's Compound\",\n",
      "         'birth_day': 25,\n",
      "         'birth_month': 9,\n",
      "         'birth_year': 1970,\n",
      "         'status': '0'}\n",
      "    '''\n",
      "    try:\n",
      "        obj[key]= int(obj[key])\n",
      "    except:\n",
      "        obj[key] = None   \n",
      "    ##equivalent to return None |OR simply| pass"
     ],
     "language": "python",
     "metadata": {},
     "outputs": [],
     "prompt_number": 61
    },
    {
     "cell_type": "code",
     "collapsed": false,
     "input": [
      "import csv\n",
      "import rethinkdb as r\n",
      "\n",
      "# Connect to the rethinkdb database\n",
      "r.connect('localhost', 28015).repl() #connecting to the db\n",
      "db = r.db('nga_voters') \n",
      "\n",
      "# insert some data\n",
      "for fname in filenames[6:7]: #ran on 10/28 successfully... \n",
      "#for fname in filenames[5:-1]: #ran on 10/27 @ 11pm but failed within filenames[6]\n",
      "#for fname in filenames[1:5]: #ran on 10/27 @ 7pm\n",
      "#for fname in filenames[0:1]: ran on 10/27 @ 6pm\n",
      "    fpath = os.path.join(clean_path,fname)\n",
      "    with open(fpath, 'r') as csvfile:\n",
      "        #reader = csv.reader(csvfile, delimiter = '|')\n",
      "        voters = []\n",
      "        for row in csvfile:\n",
      "            row = row.decode('utf8', 'ignore')\n",
      "            row = row.strip('\\n').split('|') #string to list\n",
      "            voter = dict(zip(headers, row))\n",
      "            convert_to_int(voter,'birth_month')\n",
      "            convert_to_int(voter, 'birth_day')\n",
      "            convert_to_int(voter,'birth_year')\n",
      "            ##add secondary index\n",
      "            \n",
      "            \n",
      "            #add source file in\n",
      "            voter['source_file']=fname            \n",
      "            voters.append(voter)\n",
      "            if len(voters) > 1800:\n",
      "                (db.table('test_table')\n",
      "                     .insert(voters)\n",
      "                     .run())\n",
      "                voters =[]"
     ],
     "language": "python",
     "metadata": {},
     "outputs": [],
     "prompt_number": 105
    },
    {
     "cell_type": "code",
     "collapsed": false,
     "input": [],
     "language": "python",
     "metadata": {},
     "outputs": [],
     "prompt_number": 104
    },
    {
     "cell_type": "code",
     "collapsed": false,
     "input": [
      "#Failed on filenames[6] AKA 'sad_ag.csv' on 10/27 evening\n",
      "#around row \n",
      "\n",
      "# ---------------------------------------------------------------------------\n",
      "# UnicodeDecodeError                        Traceback (most recent call last)\n",
      "# <ipython-input-51-0e77801d0142> in <module>()\n",
      "#      39             if len(voters) > 1500:\n",
      "#      40                 (db.table('voters')\n",
      "# ---> 41                      .insert(voters)\n",
      "#      42                      .run())\n",
      "#      43                 voters =[]\n",
      "#...\n",
      "#UnicodeDecodeError: 'ascii' codec can't decode byte 0xd3 in position 605939: ordinal not in range(128)\n",
      "fname"
     ],
     "language": "python",
     "metadata": {},
     "outputs": [
      {
       "metadata": {},
       "output_type": "pyout",
       "prompt_number": 52,
       "text": [
        "'sad_ag.csv'"
       ]
      }
     ],
     "prompt_number": 52
    },
    {
     "cell_type": "code",
     "collapsed": false,
     "input": [
      "import rethinkdb as r\n",
      "# Connect to the rethinkdb database\n",
      "r.connect('localhost', 28015).repl() #connecting to the db\n",
      "db = r.db('nga_voters') \n",
      "voters = (db.table('test_table')\n",
      "       #.group(index ='voter_id')\n",
      "       #.filter({'puid': '06/07/05/023'})\n",
      "     .run())\n",
      "\n",
      "ids = {}\n",
      "for voter in voters:\n",
      "    id = voter.get('voter_id', 'whhatttt?')\n",
      "    ids.setdefault(id, 0)\n",
      "    ids[id] += 1\n",
      "    if ids[id] > 1:\n",
      "        print id\n",
      "        print ids[id]\n",
      "        print '-------------'\n"
     ],
     "language": "python",
     "metadata": {},
     "outputs": [
      {
       "output_type": "stream",
       "stream": "stdout",
       "text": [
        "whhatttt?\n",
        "2\n",
        "-------------\n"
       ]
      }
     ],
     "prompt_number": 126
    },
    {
     "cell_type": "code",
     "collapsed": false,
     "input": [],
     "language": "python",
     "metadata": {},
     "outputs": [],
     "prompt_number": 124
    },
    {
     "cell_type": "code",
     "collapsed": false,
     "input": [],
     "language": "python",
     "metadata": {},
     "outputs": [],
     "prompt_number": 105
    },
    {
     "cell_type": "code",
     "collapsed": false,
     "input": [],
     "language": "python",
     "metadata": {},
     "outputs": [],
     "prompt_number": 105
    },
    {
     "cell_type": "code",
     "collapsed": false,
     "input": [
      "string = '''\n",
      "BAYELSA|SOUTHERN IJAW|OTUAN|OFONI WARI SECONDARY SCH.|90F5AED5D3295617191|06/07/05/023|Bunu|Helen|Koruowei|1970|09|25|Female|King's Compound|Civil Servant|0\n",
      "'''\n",
      "print string.split('|')"
     ],
     "language": "python",
     "metadata": {},
     "outputs": [
      {
       "output_type": "stream",
       "stream": "stdout",
       "text": [
        "['\\nBAYELSA', 'SOUTHERN IJAW', 'OTUAN', 'OFONI WARI SECONDARY SCH.', '90F5AED5D3295617191', '06/07/05/023', 'Bunu', 'Helen', 'Koruowei', '1970', '09', '25', 'Female', \"King's Compound\", 'Civil Servant', '0\\n']\n"
       ]
      }
     ],
     "prompt_number": 81
    },
    {
     "cell_type": "code",
     "collapsed": false,
     "input": [],
     "language": "python",
     "metadata": {},
     "outputs": []
    }
   ],
   "metadata": {}
  }
 ]
}