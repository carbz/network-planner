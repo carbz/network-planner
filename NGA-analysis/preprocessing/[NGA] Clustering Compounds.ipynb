{
 "metadata": {
  "name": "",
  "signature": "sha256:7ee962c5f33422c4e252860a18378aeee37e73e214c4e15c54050b1029214c1e"
 },
 "nbformat": 3,
 "nbformat_minor": 0,
 "worksheets": [
  {
   "cells": [
    {
     "cell_type": "markdown",
     "metadata": {},
     "source": [
      "<div><h1 style=\"width: 500px; margin: 0 auto;\">[NGA] Clustering Compounds to Determine Villages</h1><img src=\"http://modi.mech.columbia.edu/wp-content/uploads/2013/10/sel-logotype.png\" style=\"width:200px; float:right\" />\n",
      "</div>\n",
      "\n",
      "- exploring scikit-learn to cluster compounds\n",
      "- input: compounds manually identified via visual inspection\n",
      "- output: villages cosisting of compounds \n",
      "\n",
      "Start: Dec 16, 14"
     ]
    },
    {
     "cell_type": "code",
     "collapsed": false,
     "input": [
      "\"\"\"\n",
      "===================================\n",
      "Demo of DBSCAN clustering algorithm\n",
      "===================================\n",
      "\n",
      "Finds core samples of high density and expands clusters from them.\n",
      "\n",
      "\"\"\"\n",
      "print(__doc__)\n",
      "\n",
      "import numpy as np\n",
      "\n",
      "from sklearn.cluster import DBSCAN\n",
      "from sklearn import metrics\n",
      "from sklearn.datasets.samples_generator import make_blobs\n",
      "from sklearn.preprocessing import StandardScaler\n"
     ],
     "language": "python",
     "metadata": {},
     "outputs": [
      {
       "output_type": "stream",
       "stream": "stdout",
       "text": [
        "\n",
        "===================================\n",
        "Demo of DBSCAN clustering algorithm\n",
        "===================================\n",
        "\n",
        "Finds core samples of high density and expands clusters from them.\n",
        "\n",
        "\n"
       ]
      },
      {
       "ename": "ImportError",
       "evalue": "cannot import name inplace_column_scale",
       "output_type": "pyerr",
       "traceback": [
        "\u001b[0;31m---------------------------------------------------------------------------\u001b[0m\n\u001b[0;31mImportError\u001b[0m                               Traceback (most recent call last)",
        "\u001b[0;32m<ipython-input-2-c5db18d29917>\u001b[0m in \u001b[0;36m<module>\u001b[0;34m()\u001b[0m\n\u001b[1;32m     11\u001b[0m \u001b[0;32mimport\u001b[0m \u001b[0mnumpy\u001b[0m \u001b[0;32mas\u001b[0m \u001b[0mnp\u001b[0m\u001b[0;34m\u001b[0m\u001b[0m\n\u001b[1;32m     12\u001b[0m \u001b[0;34m\u001b[0m\u001b[0m\n\u001b[0;32m---> 13\u001b[0;31m \u001b[0;32mfrom\u001b[0m \u001b[0msklearn\u001b[0m\u001b[0;34m.\u001b[0m\u001b[0mcluster\u001b[0m \u001b[0;32mimport\u001b[0m \u001b[0mDBSCAN\u001b[0m\u001b[0;34m\u001b[0m\u001b[0m\n\u001b[0m\u001b[1;32m     14\u001b[0m \u001b[0;32mfrom\u001b[0m \u001b[0msklearn\u001b[0m \u001b[0;32mimport\u001b[0m \u001b[0mmetrics\u001b[0m\u001b[0;34m\u001b[0m\u001b[0m\n\u001b[1;32m     15\u001b[0m \u001b[0;32mfrom\u001b[0m \u001b[0msklearn\u001b[0m\u001b[0;34m.\u001b[0m\u001b[0mdatasets\u001b[0m\u001b[0;34m.\u001b[0m\u001b[0msamples_generator\u001b[0m \u001b[0;32mimport\u001b[0m \u001b[0mmake_blobs\u001b[0m\u001b[0;34m\u001b[0m\u001b[0m\n",
        "\u001b[0;32m/Users/carbz/anaconda/lib/python2.7/site-packages/sklearn/cluster/__init__.py\u001b[0m in \u001b[0;36m<module>\u001b[0;34m()\u001b[0m\n\u001b[1;32m      4\u001b[0m \"\"\"\n\u001b[1;32m      5\u001b[0m \u001b[0;34m\u001b[0m\u001b[0m\n\u001b[0;32m----> 6\u001b[0;31m \u001b[0;32mfrom\u001b[0m \u001b[0;34m.\u001b[0m\u001b[0mspectral\u001b[0m \u001b[0;32mimport\u001b[0m \u001b[0mspectral_clustering\u001b[0m\u001b[0;34m,\u001b[0m \u001b[0mSpectralClustering\u001b[0m\u001b[0;34m\u001b[0m\u001b[0m\n\u001b[0m\u001b[1;32m      7\u001b[0m \u001b[0;32mfrom\u001b[0m \u001b[0;34m.\u001b[0m\u001b[0mmean_shift_\u001b[0m \u001b[0;32mimport\u001b[0m \u001b[0mmean_shift\u001b[0m\u001b[0;34m,\u001b[0m \u001b[0mMeanShift\u001b[0m\u001b[0;34m,\u001b[0m \u001b[0mestimate_bandwidth\u001b[0m\u001b[0;34m,\u001b[0m\u001b[0;31m \u001b[0m\u001b[0;31m\\\u001b[0m\u001b[0;34m\u001b[0m\u001b[0m\n\u001b[1;32m      8\u001b[0m     \u001b[0mget_bin_seeds\u001b[0m\u001b[0;34m\u001b[0m\u001b[0m\n",
        "\u001b[0;32m/Users/carbz/anaconda/lib/python2.7/site-packages/sklearn/cluster/spectral.py\u001b[0m in \u001b[0;36m<module>\u001b[0;34m()\u001b[0m\n\u001b[1;32m     13\u001b[0m \u001b[0;32mfrom\u001b[0m \u001b[0;34m.\u001b[0m\u001b[0;34m.\u001b[0m\u001b[0mutils\u001b[0m \u001b[0;32mimport\u001b[0m \u001b[0mcheck_random_state\u001b[0m\u001b[0;34m,\u001b[0m \u001b[0mas_float_array\u001b[0m\u001b[0;34m\u001b[0m\u001b[0m\n\u001b[1;32m     14\u001b[0m \u001b[0;32mfrom\u001b[0m \u001b[0;34m.\u001b[0m\u001b[0;34m.\u001b[0m\u001b[0mutils\u001b[0m\u001b[0;34m.\u001b[0m\u001b[0mextmath\u001b[0m \u001b[0;32mimport\u001b[0m \u001b[0mnorm\u001b[0m\u001b[0;34m\u001b[0m\u001b[0m\n\u001b[0;32m---> 15\u001b[0;31m \u001b[0;32mfrom\u001b[0m \u001b[0;34m.\u001b[0m\u001b[0;34m.\u001b[0m\u001b[0mmetrics\u001b[0m\u001b[0;34m.\u001b[0m\u001b[0mpairwise\u001b[0m \u001b[0;32mimport\u001b[0m \u001b[0mpairwise_kernels\u001b[0m\u001b[0;34m\u001b[0m\u001b[0m\n\u001b[0m\u001b[1;32m     16\u001b[0m \u001b[0;32mfrom\u001b[0m \u001b[0;34m.\u001b[0m\u001b[0;34m.\u001b[0m\u001b[0mneighbors\u001b[0m \u001b[0;32mimport\u001b[0m \u001b[0mkneighbors_graph\u001b[0m\u001b[0;34m\u001b[0m\u001b[0m\n\u001b[1;32m     17\u001b[0m \u001b[0;32mfrom\u001b[0m \u001b[0;34m.\u001b[0m\u001b[0;34m.\u001b[0m\u001b[0mmanifold\u001b[0m \u001b[0;32mimport\u001b[0m \u001b[0mspectral_embedding\u001b[0m\u001b[0;34m\u001b[0m\u001b[0m\n",
        "\u001b[0;32m/Users/carbz/anaconda/lib/python2.7/site-packages/sklearn/metrics/__init__.py\u001b[0m in \u001b[0;36m<module>\u001b[0;34m()\u001b[0m\n\u001b[1;32m      4\u001b[0m \"\"\"\n\u001b[1;32m      5\u001b[0m \u001b[0;34m\u001b[0m\u001b[0m\n\u001b[0;32m----> 6\u001b[0;31m from .metrics import (accuracy_score,\n\u001b[0m\u001b[1;32m      7\u001b[0m                       \u001b[0maverage_precision_score\u001b[0m\u001b[0;34m,\u001b[0m\u001b[0;34m\u001b[0m\u001b[0m\n\u001b[1;32m      8\u001b[0m                       \u001b[0mauc\u001b[0m\u001b[0;34m,\u001b[0m\u001b[0;34m\u001b[0m\u001b[0m\n",
        "\u001b[0;32m/Users/carbz/anaconda/lib/python2.7/site-packages/sklearn/metrics/metrics.py\u001b[0m in \u001b[0;36m<module>\u001b[0;34m()\u001b[0m\n\u001b[1;32m     29\u001b[0m \u001b[0;32mfrom\u001b[0m \u001b[0;34m.\u001b[0m\u001b[0;34m.\u001b[0m\u001b[0mexternals\u001b[0m\u001b[0;34m.\u001b[0m\u001b[0msix\u001b[0m\u001b[0;34m.\u001b[0m\u001b[0mmoves\u001b[0m \u001b[0;32mimport\u001b[0m \u001b[0mzip\u001b[0m\u001b[0;34m\u001b[0m\u001b[0m\n\u001b[1;32m     30\u001b[0m \u001b[0;32mfrom\u001b[0m \u001b[0;34m.\u001b[0m\u001b[0;34m.\u001b[0m\u001b[0mexternals\u001b[0m\u001b[0;34m.\u001b[0m\u001b[0msix\u001b[0m\u001b[0;34m.\u001b[0m\u001b[0mmoves\u001b[0m \u001b[0;32mimport\u001b[0m \u001b[0mxrange\u001b[0m \u001b[0;32mas\u001b[0m \u001b[0mrange\u001b[0m\u001b[0;34m\u001b[0m\u001b[0m\n\u001b[0;32m---> 31\u001b[0;31m \u001b[0;32mfrom\u001b[0m \u001b[0;34m.\u001b[0m\u001b[0;34m.\u001b[0m\u001b[0mpreprocessing\u001b[0m \u001b[0;32mimport\u001b[0m \u001b[0mLabelBinarizer\u001b[0m\u001b[0;34m,\u001b[0m \u001b[0mlabel_binarize\u001b[0m\u001b[0;34m\u001b[0m\u001b[0m\n\u001b[0m\u001b[1;32m     32\u001b[0m \u001b[0;32mfrom\u001b[0m \u001b[0;34m.\u001b[0m\u001b[0;34m.\u001b[0m\u001b[0mpreprocessing\u001b[0m \u001b[0;32mimport\u001b[0m \u001b[0mLabelEncoder\u001b[0m\u001b[0;34m\u001b[0m\u001b[0m\n\u001b[1;32m     33\u001b[0m \u001b[0;32mfrom\u001b[0m \u001b[0;34m.\u001b[0m\u001b[0;34m.\u001b[0m\u001b[0mutils\u001b[0m \u001b[0;32mimport\u001b[0m \u001b[0mcheck_arrays\u001b[0m\u001b[0;34m\u001b[0m\u001b[0m\n",
        "\u001b[0;32m/Users/carbz/anaconda/lib/python2.7/site-packages/sklearn/preprocessing/__init__.py\u001b[0m in \u001b[0;36m<module>\u001b[0;34m()\u001b[0m\n\u001b[1;32m      4\u001b[0m \"\"\"\n\u001b[1;32m      5\u001b[0m \u001b[0;34m\u001b[0m\u001b[0m\n\u001b[0;32m----> 6\u001b[0;31m \u001b[0;32mfrom\u001b[0m \u001b[0;34m.\u001b[0m\u001b[0mdata\u001b[0m \u001b[0;32mimport\u001b[0m \u001b[0mBinarizer\u001b[0m\u001b[0;34m\u001b[0m\u001b[0m\n\u001b[0m\u001b[1;32m      7\u001b[0m \u001b[0;32mfrom\u001b[0m \u001b[0;34m.\u001b[0m\u001b[0mdata\u001b[0m \u001b[0;32mimport\u001b[0m \u001b[0mKernelCenterer\u001b[0m\u001b[0;34m\u001b[0m\u001b[0m\n\u001b[1;32m      8\u001b[0m \u001b[0;32mfrom\u001b[0m \u001b[0;34m.\u001b[0m\u001b[0mdata\u001b[0m \u001b[0;32mimport\u001b[0m \u001b[0mMinMaxScaler\u001b[0m\u001b[0;34m\u001b[0m\u001b[0m\n",
        "\u001b[0;32m/Users/carbz/anaconda/lib/python2.7/site-packages/sklearn/preprocessing/data.py\u001b[0m in \u001b[0;36m<module>\u001b[0;34m()\u001b[0m\n\u001b[1;32m     23\u001b[0m \u001b[0;32mfrom\u001b[0m \u001b[0;34m.\u001b[0m\u001b[0;34m.\u001b[0m\u001b[0mutils\u001b[0m\u001b[0;34m.\u001b[0m\u001b[0msparsefuncs_fast\u001b[0m \u001b[0;32mimport\u001b[0m \u001b[0minplace_csr_row_normalize_l1\u001b[0m\u001b[0;34m\u001b[0m\u001b[0m\n\u001b[1;32m     24\u001b[0m \u001b[0;32mfrom\u001b[0m \u001b[0;34m.\u001b[0m\u001b[0;34m.\u001b[0m\u001b[0mutils\u001b[0m\u001b[0;34m.\u001b[0m\u001b[0msparsefuncs_fast\u001b[0m \u001b[0;32mimport\u001b[0m \u001b[0minplace_csr_row_normalize_l2\u001b[0m\u001b[0;34m\u001b[0m\u001b[0m\n\u001b[0;32m---> 25\u001b[0;31m \u001b[0;32mfrom\u001b[0m \u001b[0;34m.\u001b[0m\u001b[0;34m.\u001b[0m\u001b[0mutils\u001b[0m\u001b[0;34m.\u001b[0m\u001b[0msparsefuncs\u001b[0m \u001b[0;32mimport\u001b[0m \u001b[0minplace_column_scale\u001b[0m\u001b[0;34m\u001b[0m\u001b[0m\n\u001b[0m\u001b[1;32m     26\u001b[0m \u001b[0;32mfrom\u001b[0m \u001b[0;34m.\u001b[0m\u001b[0;34m.\u001b[0m\u001b[0mutils\u001b[0m\u001b[0;34m.\u001b[0m\u001b[0msparsefuncs\u001b[0m \u001b[0;32mimport\u001b[0m \u001b[0mmean_variance_axis0\u001b[0m\u001b[0;34m\u001b[0m\u001b[0m\n\u001b[1;32m     27\u001b[0m \u001b[0;34m\u001b[0m\u001b[0m\n",
        "\u001b[0;31mImportError\u001b[0m: cannot import name inplace_column_scale"
       ]
      }
     ],
     "prompt_number": 2
    },
    {
     "cell_type": "code",
     "collapsed": false,
     "input": [
      "# -*- coding: utf-8 -*-\n",
      "\"\"\"\n",
      "===================================\n",
      "Demo of DBSCAN clustering algorithm\n",
      "===================================\n",
      "\n",
      "Finds core samples of high density and expands clusters from them.\n",
      "\n",
      "\"\"\"\n",
      "print(__doc__)\n",
      "\n",
      "import numpy as np\n",
      "\n",
      "from sklearn.cluster import DBSCAN\n",
      "from sklearn import metrics\n",
      "from sklearn.datasets.samples_generator import make_blobs\n",
      "from sklearn.preprocessing import StandardScaler\n",
      "\n",
      "\n",
      "##############################################################################\n",
      "# Generate sample data\n",
      "centers = [[1, 1], [-1, -1], [1, -1]]\n",
      "X, labels_true = make_blobs(n_samples=750, centers=centers, cluster_std=0.4,\n",
      "                            random_state=0)\n",
      "\n",
      "X = StandardScaler().fit_transform(X)\n",
      "\n",
      "##############################################################################\n",
      "# Compute DBSCAN\n",
      "db = DBSCAN(eps=0.3, min_samples=10).fit(X)\n",
      "core_samples_mask = np.zeros_like(db.labels_, dtype=bool)\n",
      "core_samples_mask[db.core_sample_indices_] = True\n",
      "labels = db.labels_\n",
      "\n",
      "# Number of clusters in labels, ignoring noise if present.\n",
      "n_clusters_ = len(set(labels)) - (1 if -1 in labels else 0)\n",
      "\n",
      "print('Estimated number of clusters: %d' % n_clusters_)\n",
      "print(\"Homogeneity: %0.3f\" % metrics.homogeneity_score(labels_true, labels))\n",
      "print(\"Completeness: %0.3f\" % metrics.completeness_score(labels_true, labels))\n",
      "print(\"V-measure: %0.3f\" % metrics.v_measure_score(labels_true, labels))\n",
      "print(\"Adjusted Rand Index: %0.3f\"\n",
      "      % metrics.adjusted_rand_score(labels_true, labels))\n",
      "print(\"Adjusted Mutual Information: %0.3f\"\n",
      "      % metrics.adjusted_mutual_info_score(labels_true, labels))\n",
      "print(\"Silhouette Coefficient: %0.3f\"\n",
      "      % metrics.silhouette_score(X, labels))\n",
      "\n",
      "##############################################################################\n",
      "# Plot result\n",
      "import matplotlib.pyplot as plt\n",
      "\n",
      "# Black removed and is used for noise instead.\n",
      "unique_labels = set(labels)\n",
      "colors = plt.cm.Spectral(np.linspace(0, 1, len(unique_labels)))\n",
      "for k, col in zip(unique_labels, colors):\n",
      "    if k == -1:\n",
      "        # Black used for noise.\n",
      "        col = 'k'\n",
      "\n",
      "    class_member_mask = (labels == k)\n",
      "\n",
      "    xy = X[class_member_mask & core_samples_mask]\n",
      "    plt.plot(xy[:, 0], xy[:, 1], 'o', markerfacecolor=col,\n",
      "             markeredgecolor='k', markersize=14)\n",
      "\n",
      "    xy = X[class_member_mask & ~core_samples_mask]\n",
      "    plt.plot(xy[:, 0], xy[:, 1], 'o', markerfacecolor=col,\n",
      "             markeredgecolor='k', markersize=6)\n",
      "\n",
      "plt.title('Estimated number of clusters: %d' % n_clusters_)\n",
      "plt.show()"
     ],
     "language": "python",
     "metadata": {},
     "outputs": []
    }
   ],
   "metadata": {}
  }
 ]
}