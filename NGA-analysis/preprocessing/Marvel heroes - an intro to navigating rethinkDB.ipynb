{
 "metadata": {
  "name": "",
  "signature": "sha256:743c99804ec82a31b724893bceeb1c24b3577cebb8b49cb3dd6dd573fba4714e"
 },
 "nbformat": 3,
 "nbformat_minor": 0,
 "worksheets": [
  {
   "cells": [
    {
     "cell_type": "code",
     "collapsed": false,
     "input": [
      "##Playing with superheroes\n",
      "\n",
      "import rethinkdb as r\n",
      "r.connect('localhost', 28015).repl()\n",
      "print r.db_list().run()\n"
     ],
     "language": "python",
     "metadata": {},
     "outputs": [
      {
       "output_type": "stream",
       "stream": "stdout",
       "text": [
        "[u'nga_voters', u'test']\n"
       ]
      }
     ],
     "prompt_number": 2
    },
    {
     "cell_type": "code",
     "collapsed": false,
     "input": [
      "##LET'S just work with the test dataset\n",
      "test = r.db('test')"
     ],
     "language": "python",
     "metadata": {},
     "outputs": [],
     "prompt_number": 3
    },
    {
     "cell_type": "code",
     "collapsed": false,
     "input": [
      "##make a new database too\n",
      "#r.db_drop('python_tutorial').run() ##delete a database if one already exists\n",
      "r.db_create('python_tutorial').run()\n",
      "print r.db_list().run()\n"
     ],
     "language": "python",
     "metadata": {},
     "outputs": [
      {
       "output_type": "stream",
       "stream": "stdout",
       "text": [
        "[u'nga_voters', u'python_tutorial', u'test']\n"
       ]
      }
     ],
     "prompt_number": 17
    },
    {
     "cell_type": "code",
     "collapsed": false,
     "input": [
      "##within the database, creat a new table\n",
      "#r.db('python_tutorial').table_drop('heroes').run() #delete a table in case it already exists\n",
      "r.db('python_tutorial').table_create('heroes').run()\n",
      "\n",
      "print r.db('python_tutorial').table_list().run()"
     ],
     "language": "python",
     "metadata": {},
     "outputs": [
      {
       "output_type": "stream",
       "stream": "stdout",
       "text": [
        "[u'heroes']\n"
       ]
      }
     ],
     "prompt_number": 25
    },
    {
     "cell_type": "code",
     "collapsed": false,
     "input": [
      "print r.db('python_tutorial').table_list().run()\n",
      "\n",
      "heroes = r.db('python_tutorial').table('heroes')"
     ],
     "language": "python",
     "metadata": {},
     "outputs": [
      {
       "output_type": "stream",
       "stream": "stdout",
       "text": [
        "[u'heroes']\n"
       ]
      }
     ],
     "prompt_number": 26
    },
    {
     "cell_type": "code",
     "collapsed": false,
     "input": [
      "heroes.insert({\n",
      "'hero': 'Wolverine',\n",
      "'name': 'James Logan Howlett',\n",
      "'magazine_title': ['Amazing Spider-Man vs. Wolverine', \n",
      "                   'Avengers',\n",
      "                   'X-Men Unlimited',\n",
      "                   'Magneto War',\n",
      "                   'Prime'],\n",
      "'appearances_count': 98\n",
      "}).run()"
     ],
     "language": "python",
     "metadata": {},
     "outputs": [
      {
       "metadata": {},
       "output_type": "pyout",
       "prompt_number": 27,
       "text": [
        "{u'deleted': 0,\n",
        " u'errors': 0,\n",
        " u'generated_keys': [u'73f5c1d3-adad-4a3a-bc51-fe04b980e332'],\n",
        " u'inserted': 1,\n",
        " u'replaced': 0,\n",
        " u'skipped': 0,\n",
        " u'unchanged': 0}"
       ]
      }
     ],
     "prompt_number": 27
    },
    {
     "cell_type": "code",
     "collapsed": false,
     "input": [
      "heroes.insert([\n",
      "    {\n",
      "        \"hero\": \"Magneto\", \n",
      "        \"name\": \"Max Eisenhardt\", \n",
      "        \"aka\": [\"Magnus\", \"Erik Lehnsherr\", \"Lehnsherr\"],  \n",
      "        \"magazine_titles\": [\"Alpha Flight\", \"Avengers\", \"Avengers West Coast\"],\n",
      "        \"appearances_count\": 42\n",
      "    },\n",
      "    {   \n",
      "        \"hero\": \"Professor Xavier\", \n",
      "        \"name\": \"Charles Francis Xavier\", \n",
      "        \"magazine_titles\": [\"Alpha Flight\", \"Avengers\", \"Bishop\", \"Defenders\"],\n",
      "        \"appearances_count\": 72\n",
      "    },\n",
      "    {\n",
      "        \"hero\": \"Storm\", \n",
      "        \"name\": \"Ororo Monroe\", \n",
      "        \"magazine_titles\": [\"Amazing Spider-Man vs. Wolverine\", \"Excalibur\",\n",
      "            \"Fantastic Four\", \"Iron Fist\"],\n",
      "        \"appearances_count\": 72\n",
      "    }\n",
      "]).run()"
     ],
     "language": "python",
     "metadata": {},
     "outputs": [
      {
       "metadata": {},
       "output_type": "pyout",
       "prompt_number": 28,
       "text": [
        "{u'deleted': 0,\n",
        " u'errors': 0,\n",
        " u'generated_keys': [u'beb81eb5-e49b-4641-a1c4-2ecf6e5cb4f6',\n",
        "  u'90e4c061-7374-4b46-b1ab-bc317a403841',\n",
        "  u'34163bf5-144d-4d6f-b0c4-52fb57ba70aa'],\n",
        " u'inserted': 3,\n",
        " u'replaced': 0,\n",
        " u'skipped': 0,\n",
        " u'unchanged': 0}"
       ]
      }
     ],
     "prompt_number": 28
    },
    {
     "cell_type": "code",
     "collapsed": false,
     "input": [
      "heroes.run()"
     ],
     "language": "python",
     "metadata": {},
     "outputs": [
      {
       "metadata": {},
       "output_type": "pyout",
       "prompt_number": 29,
       "text": [
        "<rethinkdb.net.Cursor at 0x10499f610>"
       ]
      }
     ],
     "prompt_number": 29
    },
    {
     "cell_type": "code",
     "collapsed": false,
     "input": [
      "heroes.get('beb81eb5-e49b-4641-a1c4-2ecf6e5cb4f6').run()"
     ],
     "language": "python",
     "metadata": {},
     "outputs": [
      {
       "metadata": {},
       "output_type": "pyout",
       "prompt_number": 31,
       "text": [
        "{u'aka': [u'Magnus', u'Erik Lehnsherr', u'Lehnsherr'],\n",
        " u'appearances_count': 42,\n",
        " u'hero': u'Magneto',\n",
        " u'id': u'beb81eb5-e49b-4641-a1c4-2ecf6e5cb4f6',\n",
        " u'magazine_titles': [u'Alpha Flight', u'Avengers', u'Avengers West Coast'],\n",
        " u'name': u'Max Eisenhardt'}"
       ]
      }
     ],
     "prompt_number": 31
    },
    {
     "cell_type": "code",
     "collapsed": false,
     "input": [
      "heroes.filter({'name': 'Charles Francis Xavier'}).run()"
     ],
     "language": "python",
     "metadata": {},
     "outputs": [
      {
       "metadata": {},
       "output_type": "pyout",
       "prompt_number": 32,
       "text": [
        "<rethinkdb.net.Cursor at 0x1049fc0d0>"
       ]
      }
     ],
     "prompt_number": 32
    },
    {
     "cell_type": "code",
     "collapsed": false,
     "input": [
      "heroes.order_by(r.asc('appearances_count')).pluck('hero',\n",
      "        'appearances_count').run()"
     ],
     "language": "python",
     "metadata": {},
     "outputs": [
      {
       "metadata": {},
       "output_type": "pyout",
       "prompt_number": 36,
       "text": [
        "[{u'appearances_count': 42, u'hero': u'Magneto'},\n",
        " {u'appearances_count': 72, u'hero': u'Storm'},\n",
        " {u'appearances_count': 72, u'hero': u'Professor Xavier'},\n",
        " {u'appearances_count': 98, u'hero': u'Wolverine'}]"
       ]
      }
     ],
     "prompt_number": 36
    },
    {
     "cell_type": "code",
     "collapsed": false,
     "input": [
      "heroes.filter(r.row['appearances_count'] >= 90).pluck('hero',\n",
      "        'name', 'appearances_count').run()"
     ],
     "language": "python",
     "metadata": {},
     "outputs": [
      {
       "output_type": "stream",
       "stream": "stdout",
       "text": [
        "<rethinkdb.net.Cursor object at 0x1049d2c50>\n"
       ]
      }
     ],
     "prompt_number": 40
    },
    {
     "cell_type": "code",
     "collapsed": false,
     "input": [
      "heroes.filter(\n",
      "    r.row['magazine_titles'].filter(\n",
      "        lambda mag: mag == 'Amazing Spider-Man vs. Wolverine'\n",
      "    ).count() > 0\n",
      ").pluck('hero').run()"
     ],
     "language": "python",
     "metadata": {},
     "outputs": [
      {
       "metadata": {},
       "output_type": "pyout",
       "prompt_number": 46,
       "text": [
        "<rethinkdb.net.Cursor at 0x10499fa50>"
       ]
      }
     ],
     "prompt_number": 46
    },
    {
     "cell_type": "code",
     "collapsed": false,
     "input": [
      "heroes.update({\n",
      "    'appearances_count': r.row['appearances_count'] + 1,\n",
      "    'magazine_titles': r.row['magazine_titles'].append(\n",
      "        'The Fantastic RethinkDB')\n",
      "}).run()\n",
      " "
     ],
     "language": "python",
     "metadata": {},
     "outputs": [
      {
       "metadata": {},
       "output_type": "pyout",
       "prompt_number": 47,
       "text": [
        "{u'deleted': 0,\n",
        " u'errors': 1,\n",
        " u'first_error': u'No attribute `magazine_titles` in object:\\n{\\n\\t\"appearances_count\":\\t98,\\n\\t\"hero\":\\t\"Wolverine\",\\n\\t\"id\":\\t\"73f5c1d3-adad-4a3a-bc51-fe04b980e332\",\\n\\t\"magazine_title\":\\t[\"Amazing Spider-Man vs. Wolverine\", \"Avengers\", \"X-Men Unlimited\", \"Magneto War\", \"Prime\"],\\n\\t\"name\":\\t\"James Logan Howlett\"\\n}',\n",
        " u'inserted': 0,\n",
        " u'replaced': 3,\n",
        " u'skipped': 0,\n",
        " u'unchanged': 0}"
       ]
      }
     ],
     "prompt_number": 47
    },
    {
     "cell_type": "code",
     "collapsed": false,
     "input": [
      "## Moving to NGA type data\n",
      "# Connect to the rethinkdb database\n",
      "r.connect('localhost', 28015).repl() #connecting to the db\n",
      "db = r.db('nga_voters') \n",
      "unique_first_names = (db.table('test_table')\n",
      "       #.group(index ='voter_id')\n",
      "       .filter({'puid': '06/07/05/023'})\n",
      "       .pluck('voter_id','name_1','name_2','name_3')\n",
      "       .distinct()\n",
      "       .count()\n",
      "       .run())\n",
      "\n",
      "print unique_first_names\n",
      "# first_names = (db.table('test_table')\n",
      "#        #.group(index ='voter_id')\n",
      "#        .filter({'puid': '06/07/05/023'})\n",
      "#        .pluck('name_1')\n",
      "#        .count()\n",
      "#        .run())"
     ],
     "language": "python",
     "metadata": {},
     "outputs": [
      {
       "output_type": "stream",
       "stream": "stdout",
       "text": [
        "213\n"
       ]
      }
     ],
     "prompt_number": 60
    },
    {
     "cell_type": "code",
     "collapsed": false,
     "input": [
      "print first_names"
     ],
     "language": "python",
     "metadata": {},
     "outputs": [
      {
       "output_type": "stream",
       "stream": "stdout",
       "text": [
        "214\n"
       ]
      }
     ],
     "prompt_number": 58
    },
    {
     "cell_type": "code",
     "collapsed": false,
     "input": [
      "print unique_first_names"
     ],
     "language": "python",
     "metadata": {},
     "outputs": [
      {
       "output_type": "stream",
       "stream": "stdout",
       "text": [
        "153\n"
       ]
      }
     ],
     "prompt_number": 56
    },
    {
     "cell_type": "code",
     "collapsed": false,
     "input": [
      "puid = (db.table('test_table')\n",
      "        .filter({'puid': ['06/07/05/023','06/02/01/013']})\n",
      "        )\n",
      "\n",
      "print puid"
     ],
     "language": "python",
     "metadata": {},
     "outputs": [
      {
       "output_type": "stream",
       "stream": "stdout",
       "text": [
        "r.db('nga_voters').table('test_table').filter(r.expr({'puid': '06/07/05/023'}))\n"
       ]
      }
     ],
     "prompt_number": 61
    },
    {
     "cell_type": "code",
     "collapsed": false,
     "input": [
      "puids = ['06/02/01/013','06/07/05/023']\n",
      "puids"
     ],
     "language": "python",
     "metadata": {},
     "outputs": [
      {
       "metadata": {},
       "output_type": "pyout",
       "prompt_number": 63,
       "text": [
        "['06/02/01/013', '06/07/05/023']"
       ]
      }
     ],
     "prompt_number": 63
    },
    {
     "cell_type": "code",
     "collapsed": false,
     "input": [
      "kano_voters = (db.table('test_table')\n",
      "               .filter(lambda contains_puid: \n",
      "                       r.expr(puids)\n",
      "                       .contains(contains_puid['puid'])\n",
      "                       ).run())"
     ],
     "language": "python",
     "metadata": {},
     "outputs": [],
     "prompt_number": 66
    },
    {
     "cell_type": "code",
     "collapsed": false,
     "input": [],
     "language": "python",
     "metadata": {},
     "outputs": [
      {
       "ename": "AttributeError",
       "evalue": "'Cursor' object has no attribute 'count'",
       "output_type": "pyerr",
       "traceback": [
        "\u001b[0;31m---------------------------------------------------------------------------\u001b[0m\n\u001b[0;31mAttributeError\u001b[0m                            Traceback (most recent call last)",
        "\u001b[0;32m<ipython-input-65-443227e53b7c>\u001b[0m in \u001b[0;36m<module>\u001b[0;34m()\u001b[0m\n\u001b[0;32m----> 1\u001b[0;31m \u001b[0mkano_voters\u001b[0m\u001b[0;34m.\u001b[0m\u001b[0mcount\u001b[0m\u001b[0;34m(\u001b[0m\u001b[0;34m)\u001b[0m\u001b[0;34m\u001b[0m\u001b[0m\n\u001b[0m",
        "\u001b[0;31mAttributeError\u001b[0m: 'Cursor' object has no attribute 'count'"
       ]
      }
     ],
     "prompt_number": 65
    },
    {
     "cell_type": "code",
     "collapsed": false,
     "input": [],
     "language": "python",
     "metadata": {},
     "outputs": []
    }
   ],
   "metadata": {}
  }
 ]
}