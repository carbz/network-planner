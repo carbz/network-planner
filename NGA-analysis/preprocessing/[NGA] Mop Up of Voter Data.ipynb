{
 "metadata": {
  "name": "",
  "signature": "sha256:59271b2d9636409fd322699953274cc24eb30b74c7680e22b8cd85d665f0912b"
 },
 "nbformat": 3,
 "nbformat_minor": 0,
 "worksheets": [
  {
   "cells": [
    {
     "cell_type": "markdown",
     "metadata": {},
     "source": [
      "> * #'Mop-Up' Nigeria Voter Registration Data#\n",
      "\n",
      "> * #Clean SharedSolar Data#\n",
      "\n",
      "First look at the voter registration data WorldBank shared with us for Nigeria\n",
      "Watch out for stray quotes [\"]\n",
      "Summarize by Polling Units\n",
      "Eventually geo-tag each Polling Unit\n",
      "\n",
      "carbz (+ brandon)\n",
      "Oct 1, 2014"
     ]
    },
    {
     "cell_type": "code",
     "collapsed": false,
     "input": [
      "#pwd ##present working directory"
     ],
     "language": "python",
     "metadata": {},
     "outputs": [],
     "prompt_number": 79
    },
    {
     "cell_type": "code",
     "collapsed": false,
     "input": [
      "%pylab inline\n",
      "import pandas as pd\n",
      "#import numpy as np\n",
      "#import matplotlib.pyplot as plt"
     ],
     "language": "python",
     "metadata": {},
     "outputs": [
      {
       "output_type": "stream",
       "stream": "stdout",
       "text": [
        "Populating the interactive namespace from numpy and matplotlib\n"
       ]
      }
     ],
     "prompt_number": 57
    },
    {
     "cell_type": "markdown",
     "metadata": {},
     "source": [
      "\n",
      "\n",
      "\n",
      "\n"
     ]
    },
    {
     "cell_type": "code",
     "collapsed": false,
     "input": [
      "#Read in one same dataset from the Voter registration set as ex.\n",
      "voters = pd.read_csv('/Users/carbz/Dropbox/Nigeria-NEAP-GIS/DatafromEric-09292014/sad_aa.csv', \n",
      "                 sep='\\\",\\\"', #ensure seperator is well-defined here \n",
      "                 header=None,  #preserve first row\n",
      "                 engine = 'python') #use the 'python' engine because the 'c' engine doesn't support regex separators \n",
      "voters.shape #dimensions of dataset"
     ],
     "language": "python",
     "metadata": {},
     "outputs": [
      {
       "metadata": {},
       "output_type": "pyout",
       "prompt_number": 3,
       "text": [
        "(1000000, 16)"
       ]
      }
     ],
     "prompt_number": 3
    },
    {
     "cell_type": "code",
     "collapsed": false,
     "input": [
      "voters #preview dataset\n"
     ],
     "language": "python",
     "metadata": {},
     "outputs": [
      {
       "html": [
        "<div style=\"max-height:1000px;max-width:1500px;overflow:auto;\">\n",
        "<table border=\"1\" class=\"dataframe\">\n",
        "  <thead>\n",
        "    <tr style=\"text-align: right;\">\n",
        "      <th></th>\n",
        "      <th>0</th>\n",
        "      <th>1</th>\n",
        "      <th>2</th>\n",
        "      <th>3</th>\n",
        "      <th>4</th>\n",
        "      <th>5</th>\n",
        "      <th>6</th>\n",
        "      <th>7</th>\n",
        "      <th>8</th>\n",
        "      <th>9</th>\n",
        "      <th>10</th>\n",
        "      <th>11</th>\n",
        "      <th>12</th>\n",
        "      <th>13</th>\n",
        "      <th>14</th>\n",
        "      <th>15</th>\n",
        "    </tr>\n",
        "  </thead>\n",
        "  <tbody>\n",
        "    <tr>\n",
        "      <th>0     </th>\n",
        "      <td> \"ZAMFARA</td>\n",
        "      <td>        GUSAU</td>\n",
        "      <td>     MADA</td>\n",
        "      <td> SHIYAR TUDU II   /  YAR KAIWA</td>\n",
        "      <td> 030DF108D1295348711</td>\n",
        "      <td> 36/07/03/009</td>\n",
        "      <td>     Sifiyanu</td>\n",
        "      <td>         Sani</td>\n",
        "      <td> NaN</td>\n",
        "      <td> 1982</td>\n",
        "      <td>  1</td>\n",
        "      <td> 01</td>\n",
        "      <td>   Male</td>\n",
        "      <td>     yar mai zaki</td>\n",
        "      <td>           Other</td>\n",
        "      <td> 0\"</td>\n",
        "    </tr>\n",
        "    <tr>\n",
        "      <th>1     </th>\n",
        "      <td> \"ZAMFARA</td>\n",
        "      <td>        GUSAU</td>\n",
        "      <td>     MADA</td>\n",
        "      <td> SHIYAR TUDU II   /  YAR KAIWA</td>\n",
        "      <td> 030DF108D1295349564</td>\n",
        "      <td> 36/07/03/009</td>\n",
        "      <td>      Ibrahim</td>\n",
        "      <td>  Abdul Malik</td>\n",
        "      <td> NaN</td>\n",
        "      <td> 1992</td>\n",
        "      <td>  1</td>\n",
        "      <td> 01</td>\n",
        "      <td>   Male</td>\n",
        "      <td>      yar mi zaki</td>\n",
        "      <td> Farming/Fishing</td>\n",
        "      <td> 0\"</td>\n",
        "    </tr>\n",
        "    <tr>\n",
        "      <th>2     </th>\n",
        "      <td> \"ZAMFARA</td>\n",
        "      <td>        GUSAU</td>\n",
        "      <td>     MADA</td>\n",
        "      <td> SHIYAR TUDU II   /  YAR KAIWA</td>\n",
        "      <td> 030DF108D1295352002</td>\n",
        "      <td> 36/07/03/009</td>\n",
        "      <td>        Satha</td>\n",
        "      <td>       Driver</td>\n",
        "      <td> NaN</td>\n",
        "      <td> 1955</td>\n",
        "      <td>  1</td>\n",
        "      <td> 01</td>\n",
        "      <td>   Male</td>\n",
        "      <td>     yar mai zaki</td>\n",
        "      <td>           Other</td>\n",
        "      <td> 0\"</td>\n",
        "    </tr>\n",
        "    <tr>\n",
        "      <th>3     </th>\n",
        "      <td> \"ZAMFARA</td>\n",
        "      <td>        GUSAU</td>\n",
        "      <td>     MADA</td>\n",
        "      <td> SHIYAR TUDU II   /  YAR KAIWA</td>\n",
        "      <td> 030DF108D1295353159</td>\n",
        "      <td> 36/07/03/009</td>\n",
        "      <td>    Abdullahi</td>\n",
        "      <td>         Umar</td>\n",
        "      <td> NaN</td>\n",
        "      <td> 1978</td>\n",
        "      <td>  1</td>\n",
        "      <td> 01</td>\n",
        "      <td>   Male</td>\n",
        "      <td>      yar maizaki</td>\n",
        "      <td>           Other</td>\n",
        "      <td> 1\"</td>\n",
        "    </tr>\n",
        "    <tr>\n",
        "      <th>4     </th>\n",
        "      <td> \"ZAMFARA</td>\n",
        "      <td>        GUSAU</td>\n",
        "      <td>     MADA</td>\n",
        "      <td> SHIYAR TUDU II   /  YAR KAIWA</td>\n",
        "      <td> 030DF108D1295353559</td>\n",
        "      <td> 36/07/03/009</td>\n",
        "      <td>       Talimu</td>\n",
        "      <td>        Adamu</td>\n",
        "      <td> NaN</td>\n",
        "      <td> 1983</td>\n",
        "      <td>  1</td>\n",
        "      <td> 01</td>\n",
        "      <td>   Male</td>\n",
        "      <td>      yar maizaki</td>\n",
        "      <td>           Other</td>\n",
        "      <td> 0\"</td>\n",
        "    </tr>\n",
        "    <tr>\n",
        "      <th>5     </th>\n",
        "      <td> \"ZAMFARA</td>\n",
        "      <td>        GUSAU</td>\n",
        "      <td>     MADA</td>\n",
        "      <td> SHIYAR TUDU II   /  YAR KAIWA</td>\n",
        "      <td> 030DF108D1295353932</td>\n",
        "      <td> 36/07/03/009</td>\n",
        "      <td>      Zahairu</td>\n",
        "      <td>        Black</td>\n",
        "      <td> NaN</td>\n",
        "      <td> 1992</td>\n",
        "      <td>  1</td>\n",
        "      <td> 01</td>\n",
        "      <td>   Male</td>\n",
        "      <td>      yar maizaki</td>\n",
        "      <td>         Student</td>\n",
        "      <td> 1\"</td>\n",
        "    </tr>\n",
        "    <tr>\n",
        "      <th>6     </th>\n",
        "      <td> \"ZAMFARA</td>\n",
        "      <td>        GUSAU</td>\n",
        "      <td>     MADA</td>\n",
        "      <td> SHIYAR TUDU II   /  YAR KAIWA</td>\n",
        "      <td> 030DF108D1295354432</td>\n",
        "      <td> 36/07/03/009</td>\n",
        "      <td>      Ibrahim</td>\n",
        "      <td>     Danasoke</td>\n",
        "      <td> NaN</td>\n",
        "      <td> 1930</td>\n",
        "      <td>  1</td>\n",
        "      <td> 01</td>\n",
        "      <td>   Male</td>\n",
        "      <td>      yar maizaki</td>\n",
        "      <td>        Business</td>\n",
        "      <td> 1\"</td>\n",
        "    </tr>\n",
        "    <tr>\n",
        "      <th>7     </th>\n",
        "      <td> \"ZAMFARA</td>\n",
        "      <td>        GUSAU</td>\n",
        "      <td>     MADA</td>\n",
        "      <td> SHIYAR TUDU II   /  YAR KAIWA</td>\n",
        "      <td> 030DF108D1295354774</td>\n",
        "      <td> 36/07/03/009</td>\n",
        "      <td>      Ibrahim</td>\n",
        "      <td>        Usman</td>\n",
        "      <td> NaN</td>\n",
        "      <td> 1960</td>\n",
        "      <td>  1</td>\n",
        "      <td> 01</td>\n",
        "      <td>   Male</td>\n",
        "      <td>      yar maizaki</td>\n",
        "      <td>        Business</td>\n",
        "      <td> 1\"</td>\n",
        "    </tr>\n",
        "    <tr>\n",
        "      <th>8     </th>\n",
        "      <td> \"ZAMFARA</td>\n",
        "      <td>        GUSAU</td>\n",
        "      <td>     MADA</td>\n",
        "      <td> SHIYAR TUDU II   /  YAR KAIWA</td>\n",
        "      <td> 030DF108D1295355141</td>\n",
        "      <td> 36/07/03/009</td>\n",
        "      <td>   Alh Salisu</td>\n",
        "      <td>       Hamisu</td>\n",
        "      <td> NaN</td>\n",
        "      <td> 1930</td>\n",
        "      <td>  1</td>\n",
        "      <td> 01</td>\n",
        "      <td>   Male</td>\n",
        "      <td>      yar maizaki</td>\n",
        "      <td>           Other</td>\n",
        "      <td> 1\"</td>\n",
        "    </tr>\n",
        "    <tr>\n",
        "      <th>9     </th>\n",
        "      <td> \"ZAMFARA</td>\n",
        "      <td>        GUSAU</td>\n",
        "      <td>     MADA</td>\n",
        "      <td> SHIYAR TUDU II   /  YAR KAIWA</td>\n",
        "      <td> 030DF108D1295355626</td>\n",
        "      <td> 36/07/03/009</td>\n",
        "      <td>     Suleiman</td>\n",
        "      <td>   Sarki Diya</td>\n",
        "      <td> NaN</td>\n",
        "      <td> 1955</td>\n",
        "      <td>  1</td>\n",
        "      <td> 01</td>\n",
        "      <td>   Male</td>\n",
        "      <td>      yar maizaki</td>\n",
        "      <td>        Business</td>\n",
        "      <td> 1\"</td>\n",
        "    </tr>\n",
        "    <tr>\n",
        "      <th>10    </th>\n",
        "      <td> \"ZAMFARA</td>\n",
        "      <td>        GUSAU</td>\n",
        "      <td>     MADA</td>\n",
        "      <td> SHIYAR TUDU II   /  YAR KAIWA</td>\n",
        "      <td> 030DF108D1295358364</td>\n",
        "      <td> 36/07/03/009</td>\n",
        "      <td>       Hassan</td>\n",
        "      <td>        Rabiu</td>\n",
        "      <td> NaN</td>\n",
        "      <td> 1950</td>\n",
        "      <td>  1</td>\n",
        "      <td> 01</td>\n",
        "      <td>   Male</td>\n",
        "      <td> yar maizaki mada</td>\n",
        "      <td> Farming/Fishing</td>\n",
        "      <td> 1\"</td>\n",
        "    </tr>\n",
        "    <tr>\n",
        "      <th>11    </th>\n",
        "      <td> \"ZAMFARA</td>\n",
        "      <td>        GUSAU</td>\n",
        "      <td>     MADA</td>\n",
        "      <td> SHIYAR TUDU II   /  YAR KAIWA</td>\n",
        "      <td> 030DF108D1295358824</td>\n",
        "      <td> 36/07/03/009</td>\n",
        "      <td>      Bashiru</td>\n",
        "      <td>        Barau</td>\n",
        "      <td> NaN</td>\n",
        "      <td> 1990</td>\n",
        "      <td>  1</td>\n",
        "      <td> 01</td>\n",
        "      <td>   Male</td>\n",
        "      <td>      yar maizaki</td>\n",
        "      <td>           Other</td>\n",
        "      <td> 1\"</td>\n",
        "    </tr>\n",
        "    <tr>\n",
        "      <th>12    </th>\n",
        "      <td> \"ZAMFARA</td>\n",
        "      <td>        GUSAU</td>\n",
        "      <td>     MADA</td>\n",
        "      <td> SHIYAR TUDU II   /  YAR KAIWA</td>\n",
        "      <td> 030DF108D1295359133</td>\n",
        "      <td> 36/07/03/009</td>\n",
        "      <td>   Muhd Liman</td>\n",
        "      <td>        Usman</td>\n",
        "      <td> NaN</td>\n",
        "      <td> 1975</td>\n",
        "      <td>  1</td>\n",
        "      <td> 01</td>\n",
        "      <td>   Male</td>\n",
        "      <td> yar maizaki mada</td>\n",
        "      <td> Farming/Fishing</td>\n",
        "      <td> 1\"</td>\n",
        "    </tr>\n",
        "    <tr>\n",
        "      <th>13    </th>\n",
        "      <td> \"ZAMFARA</td>\n",
        "      <td>        GUSAU</td>\n",
        "      <td>     MADA</td>\n",
        "      <td> SHIYAR TUDU II   /  YAR KAIWA</td>\n",
        "      <td> 030DF108D1295359543</td>\n",
        "      <td> 36/07/03/009</td>\n",
        "      <td>        Aminu</td>\n",
        "      <td> Abdul Ahmeed</td>\n",
        "      <td> NaN</td>\n",
        "      <td> 1985</td>\n",
        "      <td>  1</td>\n",
        "      <td> 01</td>\n",
        "      <td>   Male</td>\n",
        "      <td>      yar maizaki</td>\n",
        "      <td>         Student</td>\n",
        "      <td> 1\"</td>\n",
        "    </tr>\n",
        "    <tr>\n",
        "      <th>14    </th>\n",
        "      <td> \"ZAMFARA</td>\n",
        "      <td>        GUSAU</td>\n",
        "      <td>     MADA</td>\n",
        "      <td> SHIYAR TUDU II   /  YAR KAIWA</td>\n",
        "      <td> 030DF108D1295359816</td>\n",
        "      <td> 36/07/03/009</td>\n",
        "      <td>       Bashar</td>\n",
        "      <td>       Dahiru</td>\n",
        "      <td> NaN</td>\n",
        "      <td> 1991</td>\n",
        "      <td>  1</td>\n",
        "      <td> 01</td>\n",
        "      <td>   Male</td>\n",
        "      <td>      yar maizaki</td>\n",
        "      <td>         Student</td>\n",
        "      <td> 1\"</td>\n",
        "    </tr>\n",
        "    <tr>\n",
        "      <th>15    </th>\n",
        "      <td> \"ZAMFARA</td>\n",
        "      <td>        GUSAU</td>\n",
        "      <td>     MADA</td>\n",
        "      <td> SHIYAR TUDU II   /  YAR KAIWA</td>\n",
        "      <td> 030DF108D1295360029</td>\n",
        "      <td> 36/07/03/009</td>\n",
        "      <td>    Bilyaminu</td>\n",
        "      <td>         Umar</td>\n",
        "      <td> NaN</td>\n",
        "      <td> 1986</td>\n",
        "      <td>  1</td>\n",
        "      <td> 01</td>\n",
        "      <td>   Male</td>\n",
        "      <td>      yar maizaki</td>\n",
        "      <td>         Student</td>\n",
        "      <td> 1\"</td>\n",
        "    </tr>\n",
        "    <tr>\n",
        "      <th>16    </th>\n",
        "      <td> \"ZAMFARA</td>\n",
        "      <td>        GUSAU</td>\n",
        "      <td>     MADA</td>\n",
        "      <td> SHIYAR TUDU II   /  YAR KAIWA</td>\n",
        "      <td> 030DF108D1295360267</td>\n",
        "      <td> 36/07/03/009</td>\n",
        "      <td>      Najeebu</td>\n",
        "      <td>        Nafiu</td>\n",
        "      <td> NaN</td>\n",
        "      <td> 1992</td>\n",
        "      <td>  1</td>\n",
        "      <td> 01</td>\n",
        "      <td>   Male</td>\n",
        "      <td>      yar maizaki</td>\n",
        "      <td>         Student</td>\n",
        "      <td> 1\"</td>\n",
        "    </tr>\n",
        "    <tr>\n",
        "      <th>17    </th>\n",
        "      <td> \"ZAMFARA</td>\n",
        "      <td>        GUSAU</td>\n",
        "      <td>     MADA</td>\n",
        "      <td> SHIYAR TUDU II   /  YAR KAIWA</td>\n",
        "      <td> 030DF108D1295360785</td>\n",
        "      <td> 36/07/03/009</td>\n",
        "      <td>     Suleiman</td>\n",
        "      <td>      Samaila</td>\n",
        "      <td> NaN</td>\n",
        "      <td> 1991</td>\n",
        "      <td>  1</td>\n",
        "      <td> 01</td>\n",
        "      <td>   Male</td>\n",
        "      <td>     yai mai zaki</td>\n",
        "      <td>         Student</td>\n",
        "      <td> 1\"</td>\n",
        "    </tr>\n",
        "    <tr>\n",
        "      <th>18    </th>\n",
        "      <td> \"ZAMFARA</td>\n",
        "      <td>        GUSAU</td>\n",
        "      <td>     MADA</td>\n",
        "      <td> SHIYAR TUDU II   /  YAR KAIWA</td>\n",
        "      <td> 030DF108D1295361067</td>\n",
        "      <td> 36/07/03/009</td>\n",
        "      <td>       Habibu</td>\n",
        "      <td>      Lauwali</td>\n",
        "      <td> NaN</td>\n",
        "      <td> 1991</td>\n",
        "      <td>  1</td>\n",
        "      <td> 01</td>\n",
        "      <td>   Male</td>\n",
        "      <td>     yar mai zaki</td>\n",
        "      <td>         Student</td>\n",
        "      <td> 1\"</td>\n",
        "    </tr>\n",
        "    <tr>\n",
        "      <th>19    </th>\n",
        "      <td> \"ZAMFARA</td>\n",
        "      <td>        GUSAU</td>\n",
        "      <td>     MADA</td>\n",
        "      <td> SHIYAR TUDU II   /  YAR KAIWA</td>\n",
        "      <td> 030DF108D1295361581</td>\n",
        "      <td> 36/07/03/009</td>\n",
        "      <td>        Atiku</td>\n",
        "      <td>         Bala</td>\n",
        "      <td> NaN</td>\n",
        "      <td> 1988</td>\n",
        "      <td>  1</td>\n",
        "      <td> 01</td>\n",
        "      <td>   Male</td>\n",
        "      <td>     yar mai zaki</td>\n",
        "      <td>         Student</td>\n",
        "      <td> 1\"</td>\n",
        "    </tr>\n",
        "    <tr>\n",
        "      <th>20    </th>\n",
        "      <td> \"ZAMFARA</td>\n",
        "      <td>        GUSAU</td>\n",
        "      <td>     MADA</td>\n",
        "      <td> SHIYAR TUDU II   /  YAR KAIWA</td>\n",
        "      <td> 030DF108D1295362357</td>\n",
        "      <td> 36/07/03/009</td>\n",
        "      <td>      Habeebu</td>\n",
        "      <td>      Lauwali</td>\n",
        "      <td> NaN</td>\n",
        "      <td> 1990</td>\n",
        "      <td>  1</td>\n",
        "      <td> 01</td>\n",
        "      <td>   Male</td>\n",
        "      <td>      yar maizaki</td>\n",
        "      <td>         Student</td>\n",
        "      <td> 1\"</td>\n",
        "    </tr>\n",
        "    <tr>\n",
        "      <th>21    </th>\n",
        "      <td> \"ZAMFARA</td>\n",
        "      <td>        GUSAU</td>\n",
        "      <td>     MADA</td>\n",
        "      <td> SHIYAR TUDU II   /  YAR KAIWA</td>\n",
        "      <td> 030DF108D1295362606</td>\n",
        "      <td> 36/07/03/009</td>\n",
        "      <td>  Muhd Bashar</td>\n",
        "      <td>      Samaila</td>\n",
        "      <td> NaN</td>\n",
        "      <td> 1990</td>\n",
        "      <td>  1</td>\n",
        "      <td> 01</td>\n",
        "      <td>   Male</td>\n",
        "      <td>      yar maizaki</td>\n",
        "      <td>         Student</td>\n",
        "      <td> 1\"</td>\n",
        "    </tr>\n",
        "    <tr>\n",
        "      <th>22    </th>\n",
        "      <td> \"ZAMFARA</td>\n",
        "      <td>        GUSAU</td>\n",
        "      <td>     MADA</td>\n",
        "      <td> SHIYAR TUDU II   /  YAR KAIWA</td>\n",
        "      <td> 030DF108D1295362889</td>\n",
        "      <td> 36/07/03/009</td>\n",
        "      <td>        Nafiu</td>\n",
        "      <td>      Samaila</td>\n",
        "      <td> NaN</td>\n",
        "      <td> 1990</td>\n",
        "      <td>  1</td>\n",
        "      <td> 01</td>\n",
        "      <td>   Male</td>\n",
        "      <td>      yar maizaki</td>\n",
        "      <td>         Student</td>\n",
        "      <td> 1\"</td>\n",
        "    </tr>\n",
        "    <tr>\n",
        "      <th>23    </th>\n",
        "      <td> \"ZAMFARA</td>\n",
        "      <td>        GUSAU</td>\n",
        "      <td>     MADA</td>\n",
        "      <td> SHIYAR TUDU II   /  YAR KAIWA</td>\n",
        "      <td> 030DF108D1295363444</td>\n",
        "      <td> 36/07/03/009</td>\n",
        "      <td> Abul Rahaman</td>\n",
        "      <td>         Isah</td>\n",
        "      <td> NaN</td>\n",
        "      <td> 1990</td>\n",
        "      <td>  1</td>\n",
        "      <td> 01</td>\n",
        "      <td>   Male</td>\n",
        "      <td>     yar mai zaki</td>\n",
        "      <td>         Student</td>\n",
        "      <td> 1\"</td>\n",
        "    </tr>\n",
        "    <tr>\n",
        "      <th>24    </th>\n",
        "      <td> \"ZAMFARA</td>\n",
        "      <td>        GUSAU</td>\n",
        "      <td>     MADA</td>\n",
        "      <td> SHIYAR TUDU II   /  YAR KAIWA</td>\n",
        "      <td> 030DF108D1295363709</td>\n",
        "      <td> 36/07/03/009</td>\n",
        "      <td>      Naminu </td>\n",
        "      <td>         Musa</td>\n",
        "      <td> NaN</td>\n",
        "      <td> 1990</td>\n",
        "      <td>  1</td>\n",
        "      <td> 01</td>\n",
        "      <td>   Male</td>\n",
        "      <td>      yar maizaki</td>\n",
        "      <td>         Student</td>\n",
        "      <td> 1\"</td>\n",
        "    </tr>\n",
        "    <tr>\n",
        "      <th>25    </th>\n",
        "      <td> \"ZAMFARA</td>\n",
        "      <td>        GUSAU</td>\n",
        "      <td>     MADA</td>\n",
        "      <td> SHIYAR TUDU II   /  YAR KAIWA</td>\n",
        "      <td> 030DF108D1295363975</td>\n",
        "      <td> 36/07/03/009</td>\n",
        "      <td>         Musa</td>\n",
        "      <td>      Danbaba</td>\n",
        "      <td> NaN</td>\n",
        "      <td> 1980</td>\n",
        "      <td>  1</td>\n",
        "      <td> 01</td>\n",
        "      <td>   Male</td>\n",
        "      <td>      yar maizaki</td>\n",
        "      <td>        Business</td>\n",
        "      <td> 1\"</td>\n",
        "    </tr>\n",
        "    <tr>\n",
        "      <th>26    </th>\n",
        "      <td> \"ZAMFARA</td>\n",
        "      <td>        GUSAU</td>\n",
        "      <td>     MADA</td>\n",
        "      <td> SHIYAR TUDU II   /  YAR KAIWA</td>\n",
        "      <td> 030DF108D1295364581</td>\n",
        "      <td> 36/07/03/009</td>\n",
        "      <td>         Musa</td>\n",
        "      <td>      Danbaba</td>\n",
        "      <td> NaN</td>\n",
        "      <td> 1980</td>\n",
        "      <td>  1</td>\n",
        "      <td> 01</td>\n",
        "      <td>   Male</td>\n",
        "      <td>     YAR MAI ZAKI</td>\n",
        "      <td>        Business</td>\n",
        "      <td> 1\"</td>\n",
        "    </tr>\n",
        "    <tr>\n",
        "      <th>27    </th>\n",
        "      <td> \"ZAMFARA</td>\n",
        "      <td>        GUSAU</td>\n",
        "      <td>     MADA</td>\n",
        "      <td> SHIYAR TUDU II   /  YAR KAIWA</td>\n",
        "      <td> 030DF108D1295365458</td>\n",
        "      <td> 36/07/03/009</td>\n",
        "      <td>        Nafiu</td>\n",
        "      <td>      Murtala</td>\n",
        "      <td> NaN</td>\n",
        "      <td> 1968</td>\n",
        "      <td>  1</td>\n",
        "      <td> 01</td>\n",
        "      <td>   Male</td>\n",
        "      <td>    yar mai zaki </td>\n",
        "      <td>        Business</td>\n",
        "      <td> 1\"</td>\n",
        "    </tr>\n",
        "    <tr>\n",
        "      <th>28    </th>\n",
        "      <td> \"ZAMFARA</td>\n",
        "      <td>        GUSAU</td>\n",
        "      <td>     MADA</td>\n",
        "      <td> SHIYAR TUDU II   /  YAR KAIWA</td>\n",
        "      <td> 030DF108D1295366774</td>\n",
        "      <td> 36/07/03/009</td>\n",
        "      <td>        Mansr</td>\n",
        "      <td>        Aminu</td>\n",
        "      <td> NaN</td>\n",
        "      <td> 1985</td>\n",
        "      <td>  1</td>\n",
        "      <td> 01</td>\n",
        "      <td>   Male</td>\n",
        "      <td>    yar mai zaki </td>\n",
        "      <td>        Business</td>\n",
        "      <td> 1\"</td>\n",
        "    </tr>\n",
        "    <tr>\n",
        "      <th>29    </th>\n",
        "      <td> \"ZAMFARA</td>\n",
        "      <td>        GUSAU</td>\n",
        "      <td>     MADA</td>\n",
        "      <td> SHIYAR TUDU II   /  YAR KAIWA</td>\n",
        "      <td> 030DF108D1295367060</td>\n",
        "      <td> 36/07/03/009</td>\n",
        "      <td>     Muhammed</td>\n",
        "      <td>         Umar</td>\n",
        "      <td> NaN</td>\n",
        "      <td> 1970</td>\n",
        "      <td>  1</td>\n",
        "      <td> 01</td>\n",
        "      <td>   Male</td>\n",
        "      <td>    yar mai zaki </td>\n",
        "      <td>        Business</td>\n",
        "      <td> 1\"</td>\n",
        "    </tr>\n",
        "    <tr>\n",
        "      <th>...</th>\n",
        "      <td>...</td>\n",
        "      <td>...</td>\n",
        "      <td>...</td>\n",
        "      <td>...</td>\n",
        "      <td>...</td>\n",
        "      <td>...</td>\n",
        "      <td>...</td>\n",
        "      <td>...</td>\n",
        "      <td>...</td>\n",
        "      <td>...</td>\n",
        "      <td>...</td>\n",
        "      <td>...</td>\n",
        "      <td>...</td>\n",
        "      <td>...</td>\n",
        "      <td>...</td>\n",
        "      <td>...</td>\n",
        "    </tr>\n",
        "    <tr>\n",
        "      <th>999970</th>\n",
        "      <td> \"ZAMFARA</td>\n",
        "      <td> KAURA NAMODA</td>\n",
        "      <td> SAKAJIKI</td>\n",
        "      <td>            ALKO / SHIYAR TUDU</td>\n",
        "      <td> 90F5B194B1296040616</td>\n",
        "      <td> 36/08/09/002</td>\n",
        "      <td>        Mande</td>\n",
        "      <td>       Salisu</td>\n",
        "      <td> NaN</td>\n",
        "      <td> 1970</td>\n",
        "      <td>  1</td>\n",
        "      <td> 01</td>\n",
        "      <td>   Male</td>\n",
        "      <td> alko shiyar tudu</td>\n",
        "      <td> Farming/Fishing</td>\n",
        "      <td> 0\"</td>\n",
        "    </tr>\n",
        "    <tr>\n",
        "      <th>999971</th>\n",
        "      <td> \"ZAMFARA</td>\n",
        "      <td> KAURA NAMODA</td>\n",
        "      <td> SAKAJIKI</td>\n",
        "      <td>            ALKO / SHIYAR TUDU</td>\n",
        "      <td> 90F5B194B1296041061</td>\n",
        "      <td> 36/08/09/002</td>\n",
        "      <td>    Mohammadu</td>\n",
        "      <td>         Isha</td>\n",
        "      <td> NaN</td>\n",
        "      <td> 1958</td>\n",
        "      <td>  1</td>\n",
        "      <td> 01</td>\n",
        "      <td>   Male</td>\n",
        "      <td> alko shiyar tudu</td>\n",
        "      <td>      House Wife</td>\n",
        "      <td> 0\"</td>\n",
        "    </tr>\n",
        "    <tr>\n",
        "      <th>999972</th>\n",
        "      <td> \"ZAMFARA</td>\n",
        "      <td> KAURA NAMODA</td>\n",
        "      <td> SAKAJIKI</td>\n",
        "      <td>            ALKO / SHIYAR TUDU</td>\n",
        "      <td> 90F5B194B1296041550</td>\n",
        "      <td> 36/08/09/002</td>\n",
        "      <td>         Umar</td>\n",
        "      <td>         Paru</td>\n",
        "      <td> NaN</td>\n",
        "      <td> 1974</td>\n",
        "      <td>  1</td>\n",
        "      <td> 08</td>\n",
        "      <td>   Male</td>\n",
        "      <td> alko shiyar tudu</td>\n",
        "      <td> Farming/Fishing</td>\n",
        "      <td> 0\"</td>\n",
        "    </tr>\n",
        "    <tr>\n",
        "      <th>999973</th>\n",
        "      <td> \"ZAMFARA</td>\n",
        "      <td> KAURA NAMODA</td>\n",
        "      <td> SAKAJIKI</td>\n",
        "      <td>            ALKO / SHIYAR TUDU</td>\n",
        "      <td> 90F5B194B1296041986</td>\n",
        "      <td> 36/08/09/002</td>\n",
        "      <td>         Alko</td>\n",
        "      <td>        Amiru</td>\n",
        "      <td> NaN</td>\n",
        "      <td> 1965</td>\n",
        "      <td>  1</td>\n",
        "      <td> 01</td>\n",
        "      <td>   Male</td>\n",
        "      <td> alko shiyar tudu</td>\n",
        "      <td>        Business</td>\n",
        "      <td> 0\"</td>\n",
        "    </tr>\n",
        "    <tr>\n",
        "      <th>999974</th>\n",
        "      <td> \"ZAMFARA</td>\n",
        "      <td> KAURA NAMODA</td>\n",
        "      <td> SAKAJIKI</td>\n",
        "      <td>            ALKO / SHIYAR TUDU</td>\n",
        "      <td> 90F5B194B1296044987</td>\n",
        "      <td> 36/08/09/002</td>\n",
        "      <td>     Abubakar</td>\n",
        "      <td>       Lawali</td>\n",
        "      <td> NaN</td>\n",
        "      <td> 1961</td>\n",
        "      <td>  1</td>\n",
        "      <td> 01</td>\n",
        "      <td>   Male</td>\n",
        "      <td>      alko shiyar</td>\n",
        "      <td> Farming/Fishing</td>\n",
        "      <td> 0\"</td>\n",
        "    </tr>\n",
        "    <tr>\n",
        "      <th>999975</th>\n",
        "      <td> \"ZAMFARA</td>\n",
        "      <td> KAURA NAMODA</td>\n",
        "      <td> SAKAJIKI</td>\n",
        "      <td>            ALKO / SHIYAR TUDU</td>\n",
        "      <td> 90F5B194B1296045282</td>\n",
        "      <td> 36/08/09/002</td>\n",
        "      <td>    Mohammadu</td>\n",
        "      <td>    Abdullahi</td>\n",
        "      <td> NaN</td>\n",
        "      <td> 1955</td>\n",
        "      <td>  1</td>\n",
        "      <td> 01</td>\n",
        "      <td>   Male</td>\n",
        "      <td> alko shiyar tudu</td>\n",
        "      <td> Farming/Fishing</td>\n",
        "      <td> 0\"</td>\n",
        "    </tr>\n",
        "    <tr>\n",
        "      <th>999976</th>\n",
        "      <td> \"ZAMFARA</td>\n",
        "      <td> KAURA NAMODA</td>\n",
        "      <td> SAKAJIKI</td>\n",
        "      <td>            ALKO / SHIYAR TUDU</td>\n",
        "      <td> 90F5B194B1296045706</td>\n",
        "      <td> 36/08/09/002</td>\n",
        "      <td>     Mohammad</td>\n",
        "      <td>       Lawali</td>\n",
        "      <td> NaN</td>\n",
        "      <td> 1968</td>\n",
        "      <td>  1</td>\n",
        "      <td> 01</td>\n",
        "      <td>   Male</td>\n",
        "      <td> alko shiyar tudu</td>\n",
        "      <td> Farming/Fishing</td>\n",
        "      <td> 0\"</td>\n",
        "    </tr>\n",
        "    <tr>\n",
        "      <th>999977</th>\n",
        "      <td> \"ZAMFARA</td>\n",
        "      <td> KAURA NAMODA</td>\n",
        "      <td> SAKAJIKI</td>\n",
        "      <td>            ALKO / SHIYAR TUDU</td>\n",
        "      <td> 90F5B194B1296045998</td>\n",
        "      <td> 36/08/09/002</td>\n",
        "      <td>     Mohammad</td>\n",
        "      <td>       Hadisa</td>\n",
        "      <td> NaN</td>\n",
        "      <td> 1964</td>\n",
        "      <td>  1</td>\n",
        "      <td> 01</td>\n",
        "      <td> Female</td>\n",
        "      <td> ALKO SHIYAR TUDU</td>\n",
        "      <td>      House Wife</td>\n",
        "      <td> 0\"</td>\n",
        "    </tr>\n",
        "    <tr>\n",
        "      <th>999978</th>\n",
        "      <td> \"ZAMFARA</td>\n",
        "      <td> KAURA NAMODA</td>\n",
        "      <td> SAKAJIKI</td>\n",
        "      <td>            ALKO / SHIYAR TUDU</td>\n",
        "      <td> 90F5B194B1296046366</td>\n",
        "      <td> 36/08/09/002</td>\n",
        "      <td>       Lawali</td>\n",
        "      <td>      Ibrahim</td>\n",
        "      <td> NaN</td>\n",
        "      <td> 1965</td>\n",
        "      <td>  1</td>\n",
        "      <td> 01</td>\n",
        "      <td>   Male</td>\n",
        "      <td>      ALKO SHIYAR</td>\n",
        "      <td> Farming/Fishing</td>\n",
        "      <td> 0\"</td>\n",
        "    </tr>\n",
        "    <tr>\n",
        "      <th>999979</th>\n",
        "      <td> \"ZAMFARA</td>\n",
        "      <td> KAURA NAMODA</td>\n",
        "      <td> SAKAJIKI</td>\n",
        "      <td>            ALKO / SHIYAR TUDU</td>\n",
        "      <td> 90F5B194B1296046565</td>\n",
        "      <td> 36/08/09/002</td>\n",
        "      <td>       Lawali</td>\n",
        "      <td>       Nasiru</td>\n",
        "      <td> NaN</td>\n",
        "      <td> 1980</td>\n",
        "      <td> 11</td>\n",
        "      <td> 01</td>\n",
        "      <td>   Male</td>\n",
        "      <td> ALKO SHIYAR TUDU</td>\n",
        "      <td> Farming/Fishing</td>\n",
        "      <td> 0\"</td>\n",
        "    </tr>\n",
        "    <tr>\n",
        "      <th>999980</th>\n",
        "      <td> \"ZAMFARA</td>\n",
        "      <td> KAURA NAMODA</td>\n",
        "      <td> SAKAJIKI</td>\n",
        "      <td>            ALKO / SHIYAR TUDU</td>\n",
        "      <td> 90F5B194B1296046910</td>\n",
        "      <td> 36/08/09/002</td>\n",
        "      <td>     Mohammad</td>\n",
        "      <td>    Abdullahi</td>\n",
        "      <td> NaN</td>\n",
        "      <td> 1980</td>\n",
        "      <td>  1</td>\n",
        "      <td> 01</td>\n",
        "      <td>   Male</td>\n",
        "      <td> ALKO SHIYAR TUDU</td>\n",
        "      <td> Farming/Fishing</td>\n",
        "      <td> 0\"</td>\n",
        "    </tr>\n",
        "    <tr>\n",
        "      <th>999981</th>\n",
        "      <td> \"ZAMFARA</td>\n",
        "      <td> KAURA NAMODA</td>\n",
        "      <td> SAKAJIKI</td>\n",
        "      <td>            ALKO / SHIYAR TUDU</td>\n",
        "      <td> 90F5B194B1296047313</td>\n",
        "      <td> 36/08/09/002</td>\n",
        "      <td>       Janado</td>\n",
        "      <td>     Baramasi</td>\n",
        "      <td> NaN</td>\n",
        "      <td> 1989</td>\n",
        "      <td>  1</td>\n",
        "      <td> 01</td>\n",
        "      <td>   Male</td>\n",
        "      <td> ALKO SHIYAR TUDU</td>\n",
        "      <td> Farming/Fishing</td>\n",
        "      <td> 0\"</td>\n",
        "    </tr>\n",
        "    <tr>\n",
        "      <th>999982</th>\n",
        "      <td> \"ZAMFARA</td>\n",
        "      <td> KAURA NAMODA</td>\n",
        "      <td> SAKAJIKI</td>\n",
        "      <td>            ALKO / SHIYAR TUDU</td>\n",
        "      <td> 90F5B194B1296048049</td>\n",
        "      <td> 36/08/09/002</td>\n",
        "      <td>        Umaru</td>\n",
        "      <td>         Sani</td>\n",
        "      <td> NaN</td>\n",
        "      <td> 1970</td>\n",
        "      <td> 11</td>\n",
        "      <td> 01</td>\n",
        "      <td>   Male</td>\n",
        "      <td> alko shiyar tudu</td>\n",
        "      <td> Farming/Fishing</td>\n",
        "      <td> 0\"</td>\n",
        "    </tr>\n",
        "    <tr>\n",
        "      <th>999983</th>\n",
        "      <td> \"ZAMFARA</td>\n",
        "      <td> KAURA NAMODA</td>\n",
        "      <td> SAKAJIKI</td>\n",
        "      <td>            ALKO / SHIYAR TUDU</td>\n",
        "      <td> 90F5B194B1296048286</td>\n",
        "      <td> 36/08/09/002</td>\n",
        "      <td>        Umaru</td>\n",
        "      <td>       Dahiru</td>\n",
        "      <td> NaN</td>\n",
        "      <td> 1972</td>\n",
        "      <td>  1</td>\n",
        "      <td> 01</td>\n",
        "      <td>   Male</td>\n",
        "      <td> alko shiyar tudu</td>\n",
        "      <td> Farming/Fishing</td>\n",
        "      <td> 0\"</td>\n",
        "    </tr>\n",
        "    <tr>\n",
        "      <th>999984</th>\n",
        "      <td> \"ZAMFARA</td>\n",
        "      <td> KAURA NAMODA</td>\n",
        "      <td> SAKAJIKI</td>\n",
        "      <td>            ALKO / SHIYAR TUDU</td>\n",
        "      <td> 90F5B194B1296048754</td>\n",
        "      <td> 36/08/09/002</td>\n",
        "      <td>     Sulueman</td>\n",
        "      <td>         Ushe</td>\n",
        "      <td> NaN</td>\n",
        "      <td> 1986</td>\n",
        "      <td>  4</td>\n",
        "      <td> 01</td>\n",
        "      <td> Female</td>\n",
        "      <td> alko shiyar tudu</td>\n",
        "      <td>      House Wife</td>\n",
        "      <td> 0\"</td>\n",
        "    </tr>\n",
        "    <tr>\n",
        "      <th>999985</th>\n",
        "      <td> \"ZAMFARA</td>\n",
        "      <td> KAURA NAMODA</td>\n",
        "      <td> SAKAJIKI</td>\n",
        "      <td>            ALKO / SHIYAR TUDU</td>\n",
        "      <td> 90F5B194B1296048959</td>\n",
        "      <td> 36/08/09/002</td>\n",
        "      <td>        Adamu</td>\n",
        "      <td>        Adisa</td>\n",
        "      <td> NaN</td>\n",
        "      <td> 1984</td>\n",
        "      <td>  9</td>\n",
        "      <td> 01</td>\n",
        "      <td> Female</td>\n",
        "      <td> alko shiyar tudu</td>\n",
        "      <td>      House Wife</td>\n",
        "      <td> 0\"</td>\n",
        "    </tr>\n",
        "    <tr>\n",
        "      <th>999986</th>\n",
        "      <td> \"ZAMFARA</td>\n",
        "      <td> KAURA NAMODA</td>\n",
        "      <td> SAKAJIKI</td>\n",
        "      <td>            ALKO / SHIYAR TUDU</td>\n",
        "      <td> 90F5B194B1296049189</td>\n",
        "      <td> 36/08/09/002</td>\n",
        "      <td>      Suleman</td>\n",
        "      <td>        Amina</td>\n",
        "      <td> NaN</td>\n",
        "      <td> 1978</td>\n",
        "      <td>  7</td>\n",
        "      <td> 01</td>\n",
        "      <td> Female</td>\n",
        "      <td> alko shiyar tudu</td>\n",
        "      <td>      House Wife</td>\n",
        "      <td> 0\"</td>\n",
        "    </tr>\n",
        "    <tr>\n",
        "      <th>999987</th>\n",
        "      <td> \"ZAMFARA</td>\n",
        "      <td> KAURA NAMODA</td>\n",
        "      <td> SAKAJIKI</td>\n",
        "      <td>            ALKO / SHIYAR TUDU</td>\n",
        "      <td> 90F5B194B1296049440</td>\n",
        "      <td> 36/08/09/002</td>\n",
        "      <td>       Salisu</td>\n",
        "      <td>        Asama</td>\n",
        "      <td> NaN</td>\n",
        "      <td> 1965</td>\n",
        "      <td>  1</td>\n",
        "      <td> 23</td>\n",
        "      <td> Female</td>\n",
        "      <td> alko shiyar tudu</td>\n",
        "      <td>      House Wife</td>\n",
        "      <td> 0\"</td>\n",
        "    </tr>\n",
        "    <tr>\n",
        "      <th>999988</th>\n",
        "      <td> \"ZAMFARA</td>\n",
        "      <td> KAURA NAMODA</td>\n",
        "      <td> SAKAJIKI</td>\n",
        "      <td>            ALKO / SHIYAR TUDU</td>\n",
        "      <td> 90F5B194B1296049789</td>\n",
        "      <td> 36/08/09/002</td>\n",
        "      <td>       Lawali</td>\n",
        "      <td>         Mary</td>\n",
        "      <td> NaN</td>\n",
        "      <td> 1983</td>\n",
        "      <td>  4</td>\n",
        "      <td> 01</td>\n",
        "      <td> Female</td>\n",
        "      <td> alko shiyar tudu</td>\n",
        "      <td>      House Wife</td>\n",
        "      <td> 0\"</td>\n",
        "    </tr>\n",
        "    <tr>\n",
        "      <th>999989</th>\n",
        "      <td> \"ZAMFARA</td>\n",
        "      <td> KAURA NAMODA</td>\n",
        "      <td> SAKAJIKI</td>\n",
        "      <td>            ALKO / SHIYAR TUDU</td>\n",
        "      <td> 90F5B194B1296050257</td>\n",
        "      <td> 36/08/09/002</td>\n",
        "      <td>        Bello</td>\n",
        "      <td>        Idris</td>\n",
        "      <td> NaN</td>\n",
        "      <td> 1967</td>\n",
        "      <td>  1</td>\n",
        "      <td> 01</td>\n",
        "      <td>   Male</td>\n",
        "      <td> alko shiyar tudu</td>\n",
        "      <td> Farming/Fishing</td>\n",
        "      <td> 0\"</td>\n",
        "    </tr>\n",
        "    <tr>\n",
        "      <th>999990</th>\n",
        "      <td> \"ZAMFARA</td>\n",
        "      <td> KAURA NAMODA</td>\n",
        "      <td> SAKAJIKI</td>\n",
        "      <td>            ALKO / SHIYAR TUDU</td>\n",
        "      <td> 90F5B194B1296121011</td>\n",
        "      <td> 36/08/09/002</td>\n",
        "      <td>       Lawali</td>\n",
        "      <td>          Yau</td>\n",
        "      <td> NaN</td>\n",
        "      <td> 1985</td>\n",
        "      <td> 11</td>\n",
        "      <td> 01</td>\n",
        "      <td>   Male</td>\n",
        "      <td> alko shiyar tudu</td>\n",
        "      <td> Farming/Fishing</td>\n",
        "      <td> 0\"</td>\n",
        "    </tr>\n",
        "    <tr>\n",
        "      <th>999991</th>\n",
        "      <td> \"ZAMFARA</td>\n",
        "      <td> KAURA NAMODA</td>\n",
        "      <td> SAKAJIKI</td>\n",
        "      <td>            ALKO / SHIYAR TUDU</td>\n",
        "      <td> 90F5B194B1296121302</td>\n",
        "      <td> 36/08/09/002</td>\n",
        "      <td>        Garba</td>\n",
        "      <td>       Haruna</td>\n",
        "      <td> NaN</td>\n",
        "      <td> 1985</td>\n",
        "      <td> 12</td>\n",
        "      <td> 31</td>\n",
        "      <td>   Male</td>\n",
        "      <td> alko shiyar tudu</td>\n",
        "      <td> Farming/Fishing</td>\n",
        "      <td> 0\"</td>\n",
        "    </tr>\n",
        "    <tr>\n",
        "      <th>999992</th>\n",
        "      <td> \"ZAMFARA</td>\n",
        "      <td> KAURA NAMODA</td>\n",
        "      <td> SAKAJIKI</td>\n",
        "      <td>            ALKO / SHIYAR TUDU</td>\n",
        "      <td> 90F5B194B1296121534</td>\n",
        "      <td> 36/08/09/002</td>\n",
        "      <td>       Lawali</td>\n",
        "      <td>     Mustapha</td>\n",
        "      <td> NaN</td>\n",
        "      <td> 1988</td>\n",
        "      <td>  1</td>\n",
        "      <td> 01</td>\n",
        "      <td>   Male</td>\n",
        "      <td> alko shiyar tudu</td>\n",
        "      <td> Farming/Fishing</td>\n",
        "      <td> 0\"</td>\n",
        "    </tr>\n",
        "    <tr>\n",
        "      <th>999993</th>\n",
        "      <td> \"ZAMFARA</td>\n",
        "      <td> KAURA NAMODA</td>\n",
        "      <td> SAKAJIKI</td>\n",
        "      <td>            ALKO / SHIYAR TUDU</td>\n",
        "      <td> 90F5B194B1296122189</td>\n",
        "      <td> 36/08/09/002</td>\n",
        "      <td>       Salisu</td>\n",
        "      <td>        Yusuf</td>\n",
        "      <td> NaN</td>\n",
        "      <td> 1985</td>\n",
        "      <td>  5</td>\n",
        "      <td> 01</td>\n",
        "      <td>   Male</td>\n",
        "      <td>             alko</td>\n",
        "      <td> Farming/Fishing</td>\n",
        "      <td> 0\"</td>\n",
        "    </tr>\n",
        "    <tr>\n",
        "      <th>999994</th>\n",
        "      <td> \"ZAMFARA</td>\n",
        "      <td> KAURA NAMODA</td>\n",
        "      <td> SAKAJIKI</td>\n",
        "      <td>            ALKO / SHIYAR TUDU</td>\n",
        "      <td> 90F5B194B1296122407</td>\n",
        "      <td> 36/08/09/002</td>\n",
        "      <td>       Karuba</td>\n",
        "      <td>       Lawali</td>\n",
        "      <td> NaN</td>\n",
        "      <td> 1982</td>\n",
        "      <td>  1</td>\n",
        "      <td> 01</td>\n",
        "      <td>   Male</td>\n",
        "      <td> alko shiyar tudu</td>\n",
        "      <td> Farming/Fishing</td>\n",
        "      <td> 0\"</td>\n",
        "    </tr>\n",
        "    <tr>\n",
        "      <th>999995</th>\n",
        "      <td> \"ZAMFARA</td>\n",
        "      <td> KAURA NAMODA</td>\n",
        "      <td> SAKAJIKI</td>\n",
        "      <td>            ALKO / SHIYAR TUDU</td>\n",
        "      <td> 90F5B194B1296123191</td>\n",
        "      <td> 36/08/09/002</td>\n",
        "      <td>        Mande</td>\n",
        "      <td>       Ashiru</td>\n",
        "      <td> NaN</td>\n",
        "      <td> 1985</td>\n",
        "      <td>  7</td>\n",
        "      <td> 01</td>\n",
        "      <td>   Male</td>\n",
        "      <td> alko shiyar tudu</td>\n",
        "      <td> Farming/Fishing</td>\n",
        "      <td> 0\"</td>\n",
        "    </tr>\n",
        "    <tr>\n",
        "      <th>999996</th>\n",
        "      <td> \"ZAMFARA</td>\n",
        "      <td> KAURA NAMODA</td>\n",
        "      <td> SAKAJIKI</td>\n",
        "      <td>            ALKO / SHIYAR TUDU</td>\n",
        "      <td> 90F5B194B1296123434</td>\n",
        "      <td> 36/08/09/002</td>\n",
        "      <td>         Sali</td>\n",
        "      <td>        Umaru</td>\n",
        "      <td> NaN</td>\n",
        "      <td> 1981</td>\n",
        "      <td>  9</td>\n",
        "      <td> 01</td>\n",
        "      <td>   Male</td>\n",
        "      <td> alko shiyar tudu</td>\n",
        "      <td> Farming/Fishing</td>\n",
        "      <td> 0\"</td>\n",
        "    </tr>\n",
        "    <tr>\n",
        "      <th>999997</th>\n",
        "      <td> \"ZAMFARA</td>\n",
        "      <td> KAURA NAMODA</td>\n",
        "      <td> SAKAJIKI</td>\n",
        "      <td>            ALKO / SHIYAR TUDU</td>\n",
        "      <td> 90F5B194B1296123635</td>\n",
        "      <td> 36/08/09/002</td>\n",
        "      <td>      Ibrahim</td>\n",
        "      <td>     Abubakar</td>\n",
        "      <td> NaN</td>\n",
        "      <td> 1970</td>\n",
        "      <td> 11</td>\n",
        "      <td> 01</td>\n",
        "      <td>   Male</td>\n",
        "      <td> alko shiyar tudu</td>\n",
        "      <td> Farming/Fishing</td>\n",
        "      <td> 0\"</td>\n",
        "    </tr>\n",
        "    <tr>\n",
        "      <th>999998</th>\n",
        "      <td> \"ZAMFARA</td>\n",
        "      <td> KAURA NAMODA</td>\n",
        "      <td> SAKAJIKI</td>\n",
        "      <td>            ALKO / SHIYAR TUDU</td>\n",
        "      <td> 90F5B194B1296124794</td>\n",
        "      <td> 36/08/09/002</td>\n",
        "      <td>        Oseni</td>\n",
        "      <td>        Tukur</td>\n",
        "      <td> NaN</td>\n",
        "      <td> 1974</td>\n",
        "      <td>  1</td>\n",
        "      <td> 01</td>\n",
        "      <td>   Male</td>\n",
        "      <td> alko shiyar tudu</td>\n",
        "      <td> Farming/Fishing</td>\n",
        "      <td> 0\"</td>\n",
        "    </tr>\n",
        "    <tr>\n",
        "      <th>999999</th>\n",
        "      <td> \"ZAMFARA</td>\n",
        "      <td> KAURA NAMODA</td>\n",
        "      <td> SAKAJIKI</td>\n",
        "      <td>            ALKO / SHIYAR TUDU</td>\n",
        "      <td> 90F5B194B1296125498</td>\n",
        "      <td> 36/08/09/002</td>\n",
        "      <td>        Usman</td>\n",
        "      <td>         Sani</td>\n",
        "      <td> NaN</td>\n",
        "      <td> 1948</td>\n",
        "      <td>  1</td>\n",
        "      <td> 01</td>\n",
        "      <td>   Male</td>\n",
        "      <td> ALKO SHIYAR TUDU</td>\n",
        "      <td> Farming/Fishing</td>\n",
        "      <td> 0\"</td>\n",
        "    </tr>\n",
        "  </tbody>\n",
        "</table>\n",
        "<p>1000000 rows \u00d7 16 columns</p>\n",
        "</div>"
       ],
       "metadata": {},
       "output_type": "pyout",
       "prompt_number": 4,
       "text": [
        "              0             1         2                              3   \\\n",
        "0       \"ZAMFARA         GUSAU      MADA  SHIYAR TUDU II   /  YAR KAIWA   \n",
        "1       \"ZAMFARA         GUSAU      MADA  SHIYAR TUDU II   /  YAR KAIWA   \n",
        "2       \"ZAMFARA         GUSAU      MADA  SHIYAR TUDU II   /  YAR KAIWA   \n",
        "3       \"ZAMFARA         GUSAU      MADA  SHIYAR TUDU II   /  YAR KAIWA   \n",
        "4       \"ZAMFARA         GUSAU      MADA  SHIYAR TUDU II   /  YAR KAIWA   \n",
        "5       \"ZAMFARA         GUSAU      MADA  SHIYAR TUDU II   /  YAR KAIWA   \n",
        "6       \"ZAMFARA         GUSAU      MADA  SHIYAR TUDU II   /  YAR KAIWA   \n",
        "7       \"ZAMFARA         GUSAU      MADA  SHIYAR TUDU II   /  YAR KAIWA   \n",
        "8       \"ZAMFARA         GUSAU      MADA  SHIYAR TUDU II   /  YAR KAIWA   \n",
        "9       \"ZAMFARA         GUSAU      MADA  SHIYAR TUDU II   /  YAR KAIWA   \n",
        "10      \"ZAMFARA         GUSAU      MADA  SHIYAR TUDU II   /  YAR KAIWA   \n",
        "11      \"ZAMFARA         GUSAU      MADA  SHIYAR TUDU II   /  YAR KAIWA   \n",
        "12      \"ZAMFARA         GUSAU      MADA  SHIYAR TUDU II   /  YAR KAIWA   \n",
        "13      \"ZAMFARA         GUSAU      MADA  SHIYAR TUDU II   /  YAR KAIWA   \n",
        "14      \"ZAMFARA         GUSAU      MADA  SHIYAR TUDU II   /  YAR KAIWA   \n",
        "15      \"ZAMFARA         GUSAU      MADA  SHIYAR TUDU II   /  YAR KAIWA   \n",
        "16      \"ZAMFARA         GUSAU      MADA  SHIYAR TUDU II   /  YAR KAIWA   \n",
        "17      \"ZAMFARA         GUSAU      MADA  SHIYAR TUDU II   /  YAR KAIWA   \n",
        "18      \"ZAMFARA         GUSAU      MADA  SHIYAR TUDU II   /  YAR KAIWA   \n",
        "19      \"ZAMFARA         GUSAU      MADA  SHIYAR TUDU II   /  YAR KAIWA   \n",
        "20      \"ZAMFARA         GUSAU      MADA  SHIYAR TUDU II   /  YAR KAIWA   \n",
        "21      \"ZAMFARA         GUSAU      MADA  SHIYAR TUDU II   /  YAR KAIWA   \n",
        "22      \"ZAMFARA         GUSAU      MADA  SHIYAR TUDU II   /  YAR KAIWA   \n",
        "23      \"ZAMFARA         GUSAU      MADA  SHIYAR TUDU II   /  YAR KAIWA   \n",
        "24      \"ZAMFARA         GUSAU      MADA  SHIYAR TUDU II   /  YAR KAIWA   \n",
        "25      \"ZAMFARA         GUSAU      MADA  SHIYAR TUDU II   /  YAR KAIWA   \n",
        "26      \"ZAMFARA         GUSAU      MADA  SHIYAR TUDU II   /  YAR KAIWA   \n",
        "27      \"ZAMFARA         GUSAU      MADA  SHIYAR TUDU II   /  YAR KAIWA   \n",
        "28      \"ZAMFARA         GUSAU      MADA  SHIYAR TUDU II   /  YAR KAIWA   \n",
        "29      \"ZAMFARA         GUSAU      MADA  SHIYAR TUDU II   /  YAR KAIWA   \n",
        "...          ...           ...       ...                            ...   \n",
        "999970  \"ZAMFARA  KAURA NAMODA  SAKAJIKI             ALKO / SHIYAR TUDU   \n",
        "999971  \"ZAMFARA  KAURA NAMODA  SAKAJIKI             ALKO / SHIYAR TUDU   \n",
        "999972  \"ZAMFARA  KAURA NAMODA  SAKAJIKI             ALKO / SHIYAR TUDU   \n",
        "999973  \"ZAMFARA  KAURA NAMODA  SAKAJIKI             ALKO / SHIYAR TUDU   \n",
        "999974  \"ZAMFARA  KAURA NAMODA  SAKAJIKI             ALKO / SHIYAR TUDU   \n",
        "999975  \"ZAMFARA  KAURA NAMODA  SAKAJIKI             ALKO / SHIYAR TUDU   \n",
        "999976  \"ZAMFARA  KAURA NAMODA  SAKAJIKI             ALKO / SHIYAR TUDU   \n",
        "999977  \"ZAMFARA  KAURA NAMODA  SAKAJIKI             ALKO / SHIYAR TUDU   \n",
        "999978  \"ZAMFARA  KAURA NAMODA  SAKAJIKI             ALKO / SHIYAR TUDU   \n",
        "999979  \"ZAMFARA  KAURA NAMODA  SAKAJIKI             ALKO / SHIYAR TUDU   \n",
        "999980  \"ZAMFARA  KAURA NAMODA  SAKAJIKI             ALKO / SHIYAR TUDU   \n",
        "999981  \"ZAMFARA  KAURA NAMODA  SAKAJIKI             ALKO / SHIYAR TUDU   \n",
        "999982  \"ZAMFARA  KAURA NAMODA  SAKAJIKI             ALKO / SHIYAR TUDU   \n",
        "999983  \"ZAMFARA  KAURA NAMODA  SAKAJIKI             ALKO / SHIYAR TUDU   \n",
        "999984  \"ZAMFARA  KAURA NAMODA  SAKAJIKI             ALKO / SHIYAR TUDU   \n",
        "999985  \"ZAMFARA  KAURA NAMODA  SAKAJIKI             ALKO / SHIYAR TUDU   \n",
        "999986  \"ZAMFARA  KAURA NAMODA  SAKAJIKI             ALKO / SHIYAR TUDU   \n",
        "999987  \"ZAMFARA  KAURA NAMODA  SAKAJIKI             ALKO / SHIYAR TUDU   \n",
        "999988  \"ZAMFARA  KAURA NAMODA  SAKAJIKI             ALKO / SHIYAR TUDU   \n",
        "999989  \"ZAMFARA  KAURA NAMODA  SAKAJIKI             ALKO / SHIYAR TUDU   \n",
        "999990  \"ZAMFARA  KAURA NAMODA  SAKAJIKI             ALKO / SHIYAR TUDU   \n",
        "999991  \"ZAMFARA  KAURA NAMODA  SAKAJIKI             ALKO / SHIYAR TUDU   \n",
        "999992  \"ZAMFARA  KAURA NAMODA  SAKAJIKI             ALKO / SHIYAR TUDU   \n",
        "999993  \"ZAMFARA  KAURA NAMODA  SAKAJIKI             ALKO / SHIYAR TUDU   \n",
        "999994  \"ZAMFARA  KAURA NAMODA  SAKAJIKI             ALKO / SHIYAR TUDU   \n",
        "999995  \"ZAMFARA  KAURA NAMODA  SAKAJIKI             ALKO / SHIYAR TUDU   \n",
        "999996  \"ZAMFARA  KAURA NAMODA  SAKAJIKI             ALKO / SHIYAR TUDU   \n",
        "999997  \"ZAMFARA  KAURA NAMODA  SAKAJIKI             ALKO / SHIYAR TUDU   \n",
        "999998  \"ZAMFARA  KAURA NAMODA  SAKAJIKI             ALKO / SHIYAR TUDU   \n",
        "999999  \"ZAMFARA  KAURA NAMODA  SAKAJIKI             ALKO / SHIYAR TUDU   \n",
        "\n",
        "                         4             5             6             7    8   \\\n",
        "0       030DF108D1295348711  36/07/03/009      Sifiyanu          Sani  NaN   \n",
        "1       030DF108D1295349564  36/07/03/009       Ibrahim   Abdul Malik  NaN   \n",
        "2       030DF108D1295352002  36/07/03/009         Satha        Driver  NaN   \n",
        "3       030DF108D1295353159  36/07/03/009     Abdullahi          Umar  NaN   \n",
        "4       030DF108D1295353559  36/07/03/009        Talimu         Adamu  NaN   \n",
        "5       030DF108D1295353932  36/07/03/009       Zahairu         Black  NaN   \n",
        "6       030DF108D1295354432  36/07/03/009       Ibrahim      Danasoke  NaN   \n",
        "7       030DF108D1295354774  36/07/03/009       Ibrahim         Usman  NaN   \n",
        "8       030DF108D1295355141  36/07/03/009    Alh Salisu        Hamisu  NaN   \n",
        "9       030DF108D1295355626  36/07/03/009      Suleiman    Sarki Diya  NaN   \n",
        "10      030DF108D1295358364  36/07/03/009        Hassan         Rabiu  NaN   \n",
        "11      030DF108D1295358824  36/07/03/009       Bashiru         Barau  NaN   \n",
        "12      030DF108D1295359133  36/07/03/009    Muhd Liman         Usman  NaN   \n",
        "13      030DF108D1295359543  36/07/03/009         Aminu  Abdul Ahmeed  NaN   \n",
        "14      030DF108D1295359816  36/07/03/009        Bashar        Dahiru  NaN   \n",
        "15      030DF108D1295360029  36/07/03/009     Bilyaminu          Umar  NaN   \n",
        "16      030DF108D1295360267  36/07/03/009       Najeebu         Nafiu  NaN   \n",
        "17      030DF108D1295360785  36/07/03/009      Suleiman       Samaila  NaN   \n",
        "18      030DF108D1295361067  36/07/03/009        Habibu       Lauwali  NaN   \n",
        "19      030DF108D1295361581  36/07/03/009         Atiku          Bala  NaN   \n",
        "20      030DF108D1295362357  36/07/03/009       Habeebu       Lauwali  NaN   \n",
        "21      030DF108D1295362606  36/07/03/009   Muhd Bashar       Samaila  NaN   \n",
        "22      030DF108D1295362889  36/07/03/009         Nafiu       Samaila  NaN   \n",
        "23      030DF108D1295363444  36/07/03/009  Abul Rahaman          Isah  NaN   \n",
        "24      030DF108D1295363709  36/07/03/009       Naminu           Musa  NaN   \n",
        "25      030DF108D1295363975  36/07/03/009          Musa       Danbaba  NaN   \n",
        "26      030DF108D1295364581  36/07/03/009          Musa       Danbaba  NaN   \n",
        "27      030DF108D1295365458  36/07/03/009         Nafiu       Murtala  NaN   \n",
        "28      030DF108D1295366774  36/07/03/009         Mansr         Aminu  NaN   \n",
        "29      030DF108D1295367060  36/07/03/009      Muhammed          Umar  NaN   \n",
        "...                     ...           ...           ...           ...  ...   \n",
        "999970  90F5B194B1296040616  36/08/09/002         Mande        Salisu  NaN   \n",
        "999971  90F5B194B1296041061  36/08/09/002     Mohammadu          Isha  NaN   \n",
        "999972  90F5B194B1296041550  36/08/09/002          Umar          Paru  NaN   \n",
        "999973  90F5B194B1296041986  36/08/09/002          Alko         Amiru  NaN   \n",
        "999974  90F5B194B1296044987  36/08/09/002      Abubakar        Lawali  NaN   \n",
        "999975  90F5B194B1296045282  36/08/09/002     Mohammadu     Abdullahi  NaN   \n",
        "999976  90F5B194B1296045706  36/08/09/002      Mohammad        Lawali  NaN   \n",
        "999977  90F5B194B1296045998  36/08/09/002      Mohammad        Hadisa  NaN   \n",
        "999978  90F5B194B1296046366  36/08/09/002        Lawali       Ibrahim  NaN   \n",
        "999979  90F5B194B1296046565  36/08/09/002        Lawali        Nasiru  NaN   \n",
        "999980  90F5B194B1296046910  36/08/09/002      Mohammad     Abdullahi  NaN   \n",
        "999981  90F5B194B1296047313  36/08/09/002        Janado      Baramasi  NaN   \n",
        "999982  90F5B194B1296048049  36/08/09/002         Umaru          Sani  NaN   \n",
        "999983  90F5B194B1296048286  36/08/09/002         Umaru        Dahiru  NaN   \n",
        "999984  90F5B194B1296048754  36/08/09/002      Sulueman          Ushe  NaN   \n",
        "999985  90F5B194B1296048959  36/08/09/002         Adamu         Adisa  NaN   \n",
        "999986  90F5B194B1296049189  36/08/09/002       Suleman         Amina  NaN   \n",
        "999987  90F5B194B1296049440  36/08/09/002        Salisu         Asama  NaN   \n",
        "999988  90F5B194B1296049789  36/08/09/002        Lawali          Mary  NaN   \n",
        "999989  90F5B194B1296050257  36/08/09/002         Bello         Idris  NaN   \n",
        "999990  90F5B194B1296121011  36/08/09/002        Lawali           Yau  NaN   \n",
        "999991  90F5B194B1296121302  36/08/09/002         Garba        Haruna  NaN   \n",
        "999992  90F5B194B1296121534  36/08/09/002        Lawali      Mustapha  NaN   \n",
        "999993  90F5B194B1296122189  36/08/09/002        Salisu         Yusuf  NaN   \n",
        "999994  90F5B194B1296122407  36/08/09/002        Karuba        Lawali  NaN   \n",
        "999995  90F5B194B1296123191  36/08/09/002         Mande        Ashiru  NaN   \n",
        "999996  90F5B194B1296123434  36/08/09/002          Sali         Umaru  NaN   \n",
        "999997  90F5B194B1296123635  36/08/09/002       Ibrahim      Abubakar  NaN   \n",
        "999998  90F5B194B1296124794  36/08/09/002         Oseni         Tukur  NaN   \n",
        "999999  90F5B194B1296125498  36/08/09/002         Usman          Sani  NaN   \n",
        "\n",
        "          9   10  11      12                13               14  15  \n",
        "0       1982   1  01    Male      yar mai zaki            Other  0\"  \n",
        "1       1992   1  01    Male       yar mi zaki  Farming/Fishing  0\"  \n",
        "2       1955   1  01    Male      yar mai zaki            Other  0\"  \n",
        "3       1978   1  01    Male       yar maizaki            Other  1\"  \n",
        "4       1983   1  01    Male       yar maizaki            Other  0\"  \n",
        "5       1992   1  01    Male       yar maizaki          Student  1\"  \n",
        "6       1930   1  01    Male       yar maizaki         Business  1\"  \n",
        "7       1960   1  01    Male       yar maizaki         Business  1\"  \n",
        "8       1930   1  01    Male       yar maizaki            Other  1\"  \n",
        "9       1955   1  01    Male       yar maizaki         Business  1\"  \n",
        "10      1950   1  01    Male  yar maizaki mada  Farming/Fishing  1\"  \n",
        "11      1990   1  01    Male       yar maizaki            Other  1\"  \n",
        "12      1975   1  01    Male  yar maizaki mada  Farming/Fishing  1\"  \n",
        "13      1985   1  01    Male       yar maizaki          Student  1\"  \n",
        "14      1991   1  01    Male       yar maizaki          Student  1\"  \n",
        "15      1986   1  01    Male       yar maizaki          Student  1\"  \n",
        "16      1992   1  01    Male       yar maizaki          Student  1\"  \n",
        "17      1991   1  01    Male      yai mai zaki          Student  1\"  \n",
        "18      1991   1  01    Male      yar mai zaki          Student  1\"  \n",
        "19      1988   1  01    Male      yar mai zaki          Student  1\"  \n",
        "20      1990   1  01    Male       yar maizaki          Student  1\"  \n",
        "21      1990   1  01    Male       yar maizaki          Student  1\"  \n",
        "22      1990   1  01    Male       yar maizaki          Student  1\"  \n",
        "23      1990   1  01    Male      yar mai zaki          Student  1\"  \n",
        "24      1990   1  01    Male       yar maizaki          Student  1\"  \n",
        "25      1980   1  01    Male       yar maizaki         Business  1\"  \n",
        "26      1980   1  01    Male      YAR MAI ZAKI         Business  1\"  \n",
        "27      1968   1  01    Male     yar mai zaki          Business  1\"  \n",
        "28      1985   1  01    Male     yar mai zaki          Business  1\"  \n",
        "29      1970   1  01    Male     yar mai zaki          Business  1\"  \n",
        "...      ...  ..  ..     ...               ...              ...  ..  \n",
        "999970  1970   1  01    Male  alko shiyar tudu  Farming/Fishing  0\"  \n",
        "999971  1958   1  01    Male  alko shiyar tudu       House Wife  0\"  \n",
        "999972  1974   1  08    Male  alko shiyar tudu  Farming/Fishing  0\"  \n",
        "999973  1965   1  01    Male  alko shiyar tudu         Business  0\"  \n",
        "999974  1961   1  01    Male       alko shiyar  Farming/Fishing  0\"  \n",
        "999975  1955   1  01    Male  alko shiyar tudu  Farming/Fishing  0\"  \n",
        "999976  1968   1  01    Male  alko shiyar tudu  Farming/Fishing  0\"  \n",
        "999977  1964   1  01  Female  ALKO SHIYAR TUDU       House Wife  0\"  \n",
        "999978  1965   1  01    Male       ALKO SHIYAR  Farming/Fishing  0\"  \n",
        "999979  1980  11  01    Male  ALKO SHIYAR TUDU  Farming/Fishing  0\"  \n",
        "999980  1980   1  01    Male  ALKO SHIYAR TUDU  Farming/Fishing  0\"  \n",
        "999981  1989   1  01    Male  ALKO SHIYAR TUDU  Farming/Fishing  0\"  \n",
        "999982  1970  11  01    Male  alko shiyar tudu  Farming/Fishing  0\"  \n",
        "999983  1972   1  01    Male  alko shiyar tudu  Farming/Fishing  0\"  \n",
        "999984  1986   4  01  Female  alko shiyar tudu       House Wife  0\"  \n",
        "999985  1984   9  01  Female  alko shiyar tudu       House Wife  0\"  \n",
        "999986  1978   7  01  Female  alko shiyar tudu       House Wife  0\"  \n",
        "999987  1965   1  23  Female  alko shiyar tudu       House Wife  0\"  \n",
        "999988  1983   4  01  Female  alko shiyar tudu       House Wife  0\"  \n",
        "999989  1967   1  01    Male  alko shiyar tudu  Farming/Fishing  0\"  \n",
        "999990  1985  11  01    Male  alko shiyar tudu  Farming/Fishing  0\"  \n",
        "999991  1985  12  31    Male  alko shiyar tudu  Farming/Fishing  0\"  \n",
        "999992  1988   1  01    Male  alko shiyar tudu  Farming/Fishing  0\"  \n",
        "999993  1985   5  01    Male              alko  Farming/Fishing  0\"  \n",
        "999994  1982   1  01    Male  alko shiyar tudu  Farming/Fishing  0\"  \n",
        "999995  1985   7  01    Male  alko shiyar tudu  Farming/Fishing  0\"  \n",
        "999996  1981   9  01    Male  alko shiyar tudu  Farming/Fishing  0\"  \n",
        "999997  1970  11  01    Male  alko shiyar tudu  Farming/Fishing  0\"  \n",
        "999998  1974   1  01    Male  alko shiyar tudu  Farming/Fishing  0\"  \n",
        "999999  1948   1  01    Male  ALKO SHIYAR TUDU  Farming/Fishing  0\"  \n",
        "\n",
        "[1000000 rows x 16 columns]"
       ]
      }
     ],
     "prompt_number": 4
    },
    {
     "cell_type": "code",
     "collapsed": false,
     "input": [
      "states = pd.unique(voters[1].apply(str))\n",
      "print(states)"
     ],
     "language": "python",
     "metadata": {},
     "outputs": [
      {
       "output_type": "stream",
       "stream": "stdout",
       "text": [
        "['GUSAU' 'None' 'Farming/Fishing' 'House Wife' 'NNEWI NORTH' 'BAUCHI'\n",
        " 'MANGU' 'OSHODI/ISOLO' 'Student' 'Business' 'IKEJA' 'PORT HARCOURT'\n",
        " 'Civil Servant' 'Artisan' 'BUNGUDU' 'BAKURA' 'ANKA' 'BIRNIN MAGAJI'\n",
        " 'TSAFE' 'MARU' 'MARADUN' 'KHANA' 'Other' 'Public Servant' 'OSOGBO'\n",
        " 'BUKKUYUM' 'Trading' 'ZURMI' 'EGOR' 'KALTUNGO' 'Sani' 'KAURA NAMODA'\n",
        " 'Abdullahi' 'TALATA MAFARA' '1980' 'NEMBE' 'AGEGE' 'AJEROMI/IFELODUN'\n",
        " '1960']\n"
       ]
      }
     ],
     "prompt_number": 11
    },
    {
     "cell_type": "code",
     "collapsed": false,
     "input": [
      "#Unique \n",
      "polling_units = pd.unique(voters[5].apply(str))\n",
      "#len(polling_units)\n",
      "#print(polling_units)\n",
      "polling_units"
     ],
     "language": "python",
     "metadata": {},
     "outputs": [
      {
       "metadata": {},
       "output_type": "pyout",
       "prompt_number": 12,
       "text": [
        "array(['36/07/03/009', '36/07/03/028', '36/07/03/016', ..., '36/08/11/001',\n",
        "       '36/08/03/005', '36/08/09/002'], dtype=object)"
       ]
      }
     ],
     "prompt_number": 12
    },
    {
     "cell_type": "code",
     "collapsed": false,
     "input": [
      "grouped = voters.groupby([1,2,3,5])\n",
      "grouped = grouped[0].agg([np.count_nonzero])\n",
      "grouped.shape\n",
      "#grouped.columns=['LGA','Polling Unit Code','Voters']\n",
      "print grouped"
     ],
     "language": "python",
     "metadata": {},
     "outputs": [
      {
       "metadata": {},
       "output_type": "pyout",
       "prompt_number": 15,
       "text": [
        "(1267, 1)"
       ]
      }
     ],
     "prompt_number": 15
    },
    {
     "cell_type": "code",
     "collapsed": false,
     "input": [
      "#simple state level summary\n",
      "st_summary = voters.groupby(by=[0]).agg([np.count_nonzero])\n",
      "#st_summary = st_summary[0].agg([np.count_nonzero])\n",
      "#st_summary.columns.shape\n",
      "#grouped.columns=['LGA','Polling Unit Code','Voters']\n",
      "print st_summary"
     ],
     "language": "python",
     "metadata": {},
     "outputs": [
      {
       "output_type": "stream",
       "stream": "stdout",
       "text": [
        "                                                            1              2   \\\n",
        "                                                 count_nonzero  count_nonzero   \n",
        "0                                                                               \n",
        "\",\\N,\"0\"                                                     0              0   \n",
        "\"ABIA                                                       13             13   \n",
        "\"ADAMAWA                                                227137         227137   \n",
        "\"AKWA IBOM                                                   1              1   \n",
        "\"ANAMBRA                                                     2              2   \n",
        "\"KADUNA                                                      1              1   \n",
        "\"LAGOS                                                       1              1   \n",
        "\"OYO                                                         1              1   \n",
        "\"ZAMFARA                                                766946         766946   \n",
        ",                                                            1              1   \n",
        ".\\                                                           0              0   \n",
        ".g.a zamfara state                                           2              2   \n",
        "/\\                                                           0              0   \n",
        "29 MAYO BELWA STREET LIMAWA\\                                 0              0   \n",
        "67Mohd Mustafa Way.Jimeta, Yola Adamawa State.               1              1   \n",
        "ADAMAWA STATE.\\                                              0              0   \n",
        "ALGAITAWA AREAR GUMMI                                        1              1   \n",
        "Aba, Abia State                                              1              1   \n",
        "Abuja                                                        2              2   \n",
        "Abuja.                                                       1              1   \n",
        "Adamawa State.                                               1              1   \n",
        "Adegbayi N\\\\ Ife road Ibadan                                 1              1   \n",
        "Algaitawa area Gmmi                                          1              1   \n",
        "Anambra State                                                1              1   \n",
        "Anguwan Faransa, Gombi South\\                                0              0   \n",
        "Arafa\\                                                       0              0   \n",
        "Awala, kuga                                                  1              1   \n",
        "BAFYAU                                                       1              1   \n",
        "BAICHI,BAKURA.                                               1              1   \n",
        "BAKURA                                                       1              1   \n",
        "...                                                        ...            ...   \n",
        "tazame\\                                                      0              0   \n",
        "tofa                                                         1              1   \n",
        "tsakya garin kurmi                                           1              1   \n",
        "tudun wada bingi\\                                            0              0   \n",
        "tudunwada                                                    1              1   \n",
        "tung ar\\                                                     0              0   \n",
        "tungar kofa, yargeda                                         1              1   \n",
        "ubwan\\                                                       0              0   \n",
        "ulani\\                                                       0              0   \n",
        "unguwar dunya kwatarkwashi bungudu lga                       1              1   \n",
        "upper benue,yola                                             1              1   \n",
        "uwa  gusau                                                   1              1   \n",
        "vgghhh                                                       1              1   \n",
        "ware II Furfuri                                              1              1   \n",
        "wuri                                                         2              2   \n",
        "wuri\\                                                        0              0   \n",
        "yang                                                         1              1   \n",
        "yar guramu                                                   1              1   \n",
        "yarkofa                                                      1              1   \n",
        "yautabaki 2                                                  1              1   \n",
        "yola town                                                    1              1   \n",
        "yolde kohi                                                   1              1   \n",
        "yolde kohi\\                                                  0              0   \n",
        "yolde pate                                                   1              1   \n",
        "yolde pate\\                                                  0              0   \n",
        "zamfara state.                                               2              2   \n",
        "zamfarawa                                                    1              1   \n",
        "zangon hassi                                                 1              1   \n",
        "zinari                                                       1              1   \n",
        "zm                                                           1              1   \n",
        "\n",
        "                                                            3              4   \\\n",
        "                                                 count_nonzero  count_nonzero   \n",
        "0                                                                               \n",
        "\",\\N,\"0\"                                                     0              0   \n",
        "\"ABIA                                                       13             13   \n",
        "\"ADAMAWA                                                227137         227137   \n",
        "\"AKWA IBOM                                                   1              1   \n",
        "\"ANAMBRA                                                     2              2   \n",
        "\"KADUNA                                                      1              1   \n",
        "\"LAGOS                                                       1              1   \n",
        "\"OYO                                                         1              1   \n",
        "\"ZAMFARA                                                766946         766946   \n",
        ",                                                            0              0   \n",
        ".\\                                                           0              0   \n",
        ".g.a zamfara state                                           0              0   \n",
        "/\\                                                           0              0   \n",
        "29 MAYO BELWA STREET LIMAWA\\                                 0              0   \n",
        "67Mohd Mustafa Way.Jimeta, Yola Adamawa State.               0              0   \n",
        "ADAMAWA STATE.\\                                              0              0   \n",
        "ALGAITAWA AREAR GUMMI                                        0              0   \n",
        "Aba, Abia State                                              0              0   \n",
        "Abuja                                                        0              0   \n",
        "Abuja.                                                       0              0   \n",
        "Adamawa State.                                               0              0   \n",
        "Adegbayi N\\\\ Ife road Ibadan                                 0              0   \n",
        "Algaitawa area Gmmi                                          0              0   \n",
        "Anambra State                                                0              0   \n",
        "Anguwan Faransa, Gombi South\\                                0              0   \n",
        "Arafa\\                                                       0              0   \n",
        "Awala, kuga                                                  0              0   \n",
        "BAFYAU                                                       0              0   \n",
        "BAICHI,BAKURA.                                               0              0   \n",
        "BAKURA                                                       0              0   \n",
        "...                                                        ...            ...   \n",
        "tazame\\                                                      0              0   \n",
        "tofa                                                         0              0   \n",
        "tsakya garin kurmi                                           0              0   \n",
        "tudun wada bingi\\                                            0              0   \n",
        "tudunwada                                                    0              0   \n",
        "tung ar\\                                                     0              0   \n",
        "tungar kofa, yargeda                                         0              0   \n",
        "ubwan\\                                                       0              0   \n",
        "ulani\\                                                       0              0   \n",
        "unguwar dunya kwatarkwashi bungudu lga                       0              0   \n",
        "upper benue,yola                                             0              0   \n",
        "uwa  gusau                                                   0              0   \n",
        "vgghhh                                                       0              0   \n",
        "ware II Furfuri                                              0              0   \n",
        "wuri                                                         0              0   \n",
        "wuri\\                                                        0              0   \n",
        "yang                                                         0              0   \n",
        "yar guramu                                                   0              0   \n",
        "yarkofa                                                      0              0   \n",
        "yautabaki 2                                                  0              0   \n",
        "yola town                                                    0              0   \n",
        "yolde kohi                                                   0              0   \n",
        "yolde kohi\\                                                  0              0   \n",
        "yolde pate                                                   0              0   \n",
        "yolde pate\\                                                  0              0   \n",
        "zamfara state.                                               0              0   \n",
        "zamfarawa                                                    0              0   \n",
        "zangon hassi                                                 0              0   \n",
        "zinari                                                       0              0   \n",
        "zm                                                           0              0   \n",
        "\n",
        "                                                            5              6   \\\n",
        "                                                 count_nonzero  count_nonzero   \n",
        "0                                                                               \n",
        "\",\\N,\"0\"                                                     0              0   \n",
        "\"ABIA                                                       13             13   \n",
        "\"ADAMAWA                                                227137         227137   \n",
        "\"AKWA IBOM                                                   1              1   \n",
        "\"ANAMBRA                                                     2              2   \n",
        "\"KADUNA                                                      1              1   \n",
        "\"LAGOS                                                       1              1   \n",
        "\"OYO                                                         1              1   \n",
        "\"ZAMFARA                                                766946         766946   \n",
        ",                                                            0              0   \n",
        ".\\                                                           0              0   \n",
        ".g.a zamfara state                                           0              0   \n",
        "/\\                                                           0              0   \n",
        "29 MAYO BELWA STREET LIMAWA\\                                 0              0   \n",
        "67Mohd Mustafa Way.Jimeta, Yola Adamawa State.               0              0   \n",
        "ADAMAWA STATE.\\                                              0              0   \n",
        "ALGAITAWA AREAR GUMMI                                        0              0   \n",
        "Aba, Abia State                                              0              0   \n",
        "Abuja                                                        0              0   \n",
        "Abuja.                                                       0              0   \n",
        "Adamawa State.                                               0              0   \n",
        "Adegbayi N\\\\ Ife road Ibadan                                 0              0   \n",
        "Algaitawa area Gmmi                                          0              0   \n",
        "Anambra State                                                0              0   \n",
        "Anguwan Faransa, Gombi South\\                                0              0   \n",
        "Arafa\\                                                       0              0   \n",
        "Awala, kuga                                                  0              0   \n",
        "BAFYAU                                                       0              0   \n",
        "BAICHI,BAKURA.                                               0              0   \n",
        "BAKURA                                                       0              0   \n",
        "...                                                        ...            ...   \n",
        "tazame\\                                                      0              0   \n",
        "tofa                                                         0              0   \n",
        "tsakya garin kurmi                                           0              0   \n",
        "tudun wada bingi\\                                            0              0   \n",
        "tudunwada                                                    0              0   \n",
        "tung ar\\                                                     0              0   \n",
        "tungar kofa, yargeda                                         0              0   \n",
        "ubwan\\                                                       0              0   \n",
        "ulani\\                                                       0              0   \n",
        "unguwar dunya kwatarkwashi bungudu lga                       0              0   \n",
        "upper benue,yola                                             0              0   \n",
        "uwa  gusau                                                   0              0   \n",
        "vgghhh                                                       0              0   \n",
        "ware II Furfuri                                              0              0   \n",
        "wuri                                                         0              0   \n",
        "wuri\\                                                        0              0   \n",
        "yang                                                         0              0   \n",
        "yar guramu                                                   0              0   \n",
        "yarkofa                                                      0              0   \n",
        "yautabaki 2                                                  0              0   \n",
        "yola town                                                    0              0   \n",
        "yolde kohi                                                   0              0   \n",
        "yolde kohi\\                                                  0              0   \n",
        "yolde pate                                                   0              0   \n",
        "yolde pate\\                                                  0              0   \n",
        "zamfara state.                                               0              0   \n",
        "zamfarawa                                                    0              0   \n",
        "zangon hassi                                                 0              0   \n",
        "zinari                                                       0              0   \n",
        "zm                                                           0              0   \n",
        "\n",
        "                                                            7              8   \\\n",
        "                                                 count_nonzero  count_nonzero   \n",
        "0                                                                               \n",
        "\",\\N,\"0\"                                                     0              0   \n",
        "\"ABIA                                                       13             13   \n",
        "\"ADAMAWA                                                227137         227136   \n",
        "\"AKWA IBOM                                                   1              1   \n",
        "\"ANAMBRA                                                     2              2   \n",
        "\"KADUNA                                                      1              1   \n",
        "\"LAGOS                                                       1              1   \n",
        "\"OYO                                                         1              1   \n",
        "\"ZAMFARA                                                766942         766941   \n",
        ",                                                            0              0   \n",
        ".\\                                                           0              0   \n",
        ".g.a zamfara state                                           0              0   \n",
        "/\\                                                           0              0   \n",
        "29 MAYO BELWA STREET LIMAWA\\                                 0              0   \n",
        "67Mohd Mustafa Way.Jimeta, Yola Adamawa State.               0              0   \n",
        "ADAMAWA STATE.\\                                              0              0   \n",
        "ALGAITAWA AREAR GUMMI                                        0              0   \n",
        "Aba, Abia State                                              0              0   \n",
        "Abuja                                                        0              0   \n",
        "Abuja.                                                       0              0   \n",
        "Adamawa State.                                               0              0   \n",
        "Adegbayi N\\\\ Ife road Ibadan                                 0              0   \n",
        "Algaitawa area Gmmi                                          0              0   \n",
        "Anambra State                                                0              0   \n",
        "Anguwan Faransa, Gombi South\\                                0              0   \n",
        "Arafa\\                                                       0              0   \n",
        "Awala, kuga                                                  0              0   \n",
        "BAFYAU                                                       0              0   \n",
        "BAICHI,BAKURA.                                               0              0   \n",
        "BAKURA                                                       0              0   \n",
        "...                                                        ...            ...   \n",
        "tazame\\                                                      0              0   \n",
        "tofa                                                         0              0   \n",
        "tsakya garin kurmi                                           0              0   \n",
        "tudun wada bingi\\                                            0              0   \n",
        "tudunwada                                                    0              0   \n",
        "tung ar\\                                                     0              0   \n",
        "tungar kofa, yargeda                                         0              0   \n",
        "ubwan\\                                                       0              0   \n",
        "ulani\\                                                       0              0   \n",
        "unguwar dunya kwatarkwashi bungudu lga                       0              0   \n",
        "upper benue,yola                                             0              0   \n",
        "uwa  gusau                                                   0              0   \n",
        "vgghhh                                                       0              0   \n",
        "ware II Furfuri                                              0              0   \n",
        "wuri                                                         0              0   \n",
        "wuri\\                                                        0              0   \n",
        "yang                                                         0              0   \n",
        "yar guramu                                                   0              0   \n",
        "yarkofa                                                      0              0   \n",
        "yautabaki 2                                                  0              0   \n",
        "yola town                                                    0              0   \n",
        "yolde kohi                                                   0              0   \n",
        "yolde kohi\\                                                  0              0   \n",
        "yolde pate                                                   0              0   \n",
        "yolde pate\\                                                  0              0   \n",
        "zamfara state.                                               0              0   \n",
        "zamfarawa                                                    0              0   \n",
        "zangon hassi                                                 0              0   \n",
        "zinari                                                       0              0   \n",
        "zm                                                           0              0   \n",
        "\n",
        "                                                            9              10  \\\n",
        "                                                 count_nonzero  count_nonzero   \n",
        "0                                                                               \n",
        "\",\\N,\"0\"                                                     0              4   \n",
        "\"ABIA                                                       13             13   \n",
        "\"ADAMAWA                                                227136         227137   \n",
        "\"AKWA IBOM                                                   1              1   \n",
        "\"ANAMBRA                                                     2              2   \n",
        "\"KADUNA                                                      1              1   \n",
        "\"LAGOS                                                       1              1   \n",
        "\"OYO                                                         1              1   \n",
        "\"ZAMFARA                                                766940         766946   \n",
        ",                                                            0              1   \n",
        ".\\                                                           0              1   \n",
        ".g.a zamfara state                                           0              2   \n",
        "/\\                                                           0              1   \n",
        "29 MAYO BELWA STREET LIMAWA\\                                 0              1   \n",
        "67Mohd Mustafa Way.Jimeta, Yola Adamawa State.               0              1   \n",
        "ADAMAWA STATE.\\                                              0              1   \n",
        "ALGAITAWA AREAR GUMMI                                        0              1   \n",
        "Aba, Abia State                                              0              1   \n",
        "Abuja                                                        0              2   \n",
        "Abuja.                                                       0              1   \n",
        "Adamawa State.                                               0              1   \n",
        "Adegbayi N\\\\ Ife road Ibadan                                 0              1   \n",
        "Algaitawa area Gmmi                                          0              1   \n",
        "Anambra State                                                0              1   \n",
        "Anguwan Faransa, Gombi South\\                                0              1   \n",
        "Arafa\\                                                       0              1   \n",
        "Awala, kuga                                                  0              1   \n",
        "BAFYAU                                                       0              1   \n",
        "BAICHI,BAKURA.                                               0              1   \n",
        "BAKURA                                                       0              1   \n",
        "...                                                        ...            ...   \n",
        "tazame\\                                                      0              1   \n",
        "tofa                                                         0              1   \n",
        "tsakya garin kurmi                                           0              1   \n",
        "tudun wada bingi\\                                            0              1   \n",
        "tudunwada                                                    0              1   \n",
        "tung ar\\                                                     0              1   \n",
        "tungar kofa, yargeda                                         0              1   \n",
        "ubwan\\                                                       0              1   \n",
        "ulani\\                                                       0              1   \n",
        "unguwar dunya kwatarkwashi bungudu lga                       0              1   \n",
        "upper benue,yola                                             0              1   \n",
        "uwa  gusau                                                   0              1   \n",
        "vgghhh                                                       0              1   \n",
        "ware II Furfuri                                              0              1   \n",
        "wuri                                                         0              2   \n",
        "wuri\\                                                        0              1   \n",
        "yang                                                         0              1   \n",
        "yar guramu                                                   0              1   \n",
        "yarkofa                                                      0              1   \n",
        "yautabaki 2                                                  0              1   \n",
        "yola town                                                    0              1   \n",
        "yolde kohi                                                   0              1   \n",
        "yolde kohi\\                                                  0              1   \n",
        "yolde pate                                                   0              1   \n",
        "yolde pate\\                                                  0              1   \n",
        "zamfara state.                                               0              2   \n",
        "zamfarawa                                                    0              1   \n",
        "zangon hassi                                                 0              1   \n",
        "zinari                                                       0              1   \n",
        "zm                                                           0              1   \n",
        "\n",
        "                                                            11             12  \\\n",
        "                                                 count_nonzero  count_nonzero   \n",
        "0                                                                               \n",
        "\",\\N,\"0\"                                                     0              0   \n",
        "\"ABIA                                                       13             13   \n",
        "\"ADAMAWA                                                227136         227124   \n",
        "\"AKWA IBOM                                                   1              1   \n",
        "\"ANAMBRA                                                     2              2   \n",
        "\"KADUNA                                                      1              1   \n",
        "\"LAGOS                                                       1              1   \n",
        "\"OYO                                                         1              1   \n",
        "\"ZAMFARA                                                766940         766893   \n",
        ",                                                            0              0   \n",
        ".\\                                                           0              0   \n",
        ".g.a zamfara state                                           0              0   \n",
        "/\\                                                           0              0   \n",
        "29 MAYO BELWA STREET LIMAWA\\                                 0              0   \n",
        "67Mohd Mustafa Way.Jimeta, Yola Adamawa State.               0              0   \n",
        "ADAMAWA STATE.\\                                              0              0   \n",
        "ALGAITAWA AREAR GUMMI                                        0              0   \n",
        "Aba, Abia State                                              0              0   \n",
        "Abuja                                                        0              0   \n",
        "Abuja.                                                       0              0   \n",
        "Adamawa State.                                               0              0   \n",
        "Adegbayi N\\\\ Ife road Ibadan                                 0              0   \n",
        "Algaitawa area Gmmi                                          0              0   \n",
        "Anambra State                                                0              0   \n",
        "Anguwan Faransa, Gombi South\\                                0              0   \n",
        "Arafa\\                                                       0              0   \n",
        "Awala, kuga                                                  0              0   \n",
        "BAFYAU                                                       0              0   \n",
        "BAICHI,BAKURA.                                               0              0   \n",
        "BAKURA                                                       0              0   \n",
        "...                                                        ...            ...   \n",
        "tazame\\                                                      0              0   \n",
        "tofa                                                         0              0   \n",
        "tsakya garin kurmi                                           0              0   \n",
        "tudun wada bingi\\                                            0              0   \n",
        "tudunwada                                                    0              0   \n",
        "tung ar\\                                                     0              0   \n",
        "tungar kofa, yargeda                                         0              0   \n",
        "ubwan\\                                                       0              0   \n",
        "ulani\\                                                       0              0   \n",
        "unguwar dunya kwatarkwashi bungudu lga                       0              0   \n",
        "upper benue,yola                                             0              0   \n",
        "uwa  gusau                                                   0              0   \n",
        "vgghhh                                                       0              0   \n",
        "ware II Furfuri                                              0              0   \n",
        "wuri                                                         0              0   \n",
        "wuri\\                                                        0              0   \n",
        "yang                                                         0              0   \n",
        "yar guramu                                                   0              0   \n",
        "yarkofa                                                      0              0   \n",
        "yautabaki 2                                                  0              0   \n",
        "yola town                                                    0              0   \n",
        "yolde kohi                                                   0              0   \n",
        "yolde kohi\\                                                  0              0   \n",
        "yolde pate                                                   0              0   \n",
        "yolde pate\\                                                  0              0   \n",
        "zamfara state.                                               0              0   \n",
        "zamfarawa                                                    0              0   \n",
        "zangon hassi                                                 0              0   \n",
        "zinari                                                       0              0   \n",
        "zm                                                           0              0   \n",
        "\n",
        "                                                            13             14  \\\n",
        "                                                 count_nonzero  count_nonzero   \n",
        "0                                                                               \n",
        "\",\\N,\"0\"                                                     0              0   \n",
        "\"ABIA                                                       13             13   \n",
        "\"ADAMAWA                                                227124         226301   \n",
        "\"AKWA IBOM                                                   1              1   \n",
        "\"ANAMBRA                                                     2              2   \n",
        "\"KADUNA                                                      1              1   \n",
        "\"LAGOS                                                       1              1   \n",
        "\"OYO                                                         1              1   \n",
        "\"ZAMFARA                                                766893         762235   \n",
        ",                                                            0              0   \n",
        ".\\                                                           0              0   \n",
        ".g.a zamfara state                                           0              0   \n",
        "/\\                                                           0              0   \n",
        "29 MAYO BELWA STREET LIMAWA\\                                 0              0   \n",
        "67Mohd Mustafa Way.Jimeta, Yola Adamawa State.               0              0   \n",
        "ADAMAWA STATE.\\                                              0              0   \n",
        "ALGAITAWA AREAR GUMMI                                        0              0   \n",
        "Aba, Abia State                                              0              0   \n",
        "Abuja                                                        0              0   \n",
        "Abuja.                                                       0              0   \n",
        "Adamawa State.                                               0              0   \n",
        "Adegbayi N\\\\ Ife road Ibadan                                 0              0   \n",
        "Algaitawa area Gmmi                                          0              0   \n",
        "Anambra State                                                0              0   \n",
        "Anguwan Faransa, Gombi South\\                                0              0   \n",
        "Arafa\\                                                       0              0   \n",
        "Awala, kuga                                                  0              0   \n",
        "BAFYAU                                                       0              0   \n",
        "BAICHI,BAKURA.                                               0              0   \n",
        "BAKURA                                                       0              0   \n",
        "...                                                        ...            ...   \n",
        "tazame\\                                                      0              0   \n",
        "tofa                                                         0              0   \n",
        "tsakya garin kurmi                                           0              0   \n",
        "tudun wada bingi\\                                            0              0   \n",
        "tudunwada                                                    0              0   \n",
        "tung ar\\                                                     0              0   \n",
        "tungar kofa, yargeda                                         0              0   \n",
        "ubwan\\                                                       0              0   \n",
        "ulani\\                                                       0              0   \n",
        "unguwar dunya kwatarkwashi bungudu lga                       0              0   \n",
        "upper benue,yola                                             0              0   \n",
        "uwa  gusau                                                   0              0   \n",
        "vgghhh                                                       0              0   \n",
        "ware II Furfuri                                              0              0   \n",
        "wuri                                                         0              0   \n",
        "wuri\\                                                        0              0   \n",
        "yang                                                         0              0   \n",
        "yar guramu                                                   0              0   \n",
        "yarkofa                                                      0              0   \n",
        "yautabaki 2                                                  0              0   \n",
        "yola town                                                    0              0   \n",
        "yolde kohi                                                   0              0   \n",
        "yolde kohi\\                                                  0              0   \n",
        "yolde pate                                                   0              0   \n",
        "yolde pate\\                                                  0              0   \n",
        "zamfara state.                                               0              0   \n",
        "zamfarawa                                                    0              0   \n",
        "zangon hassi                                                 0              0   \n",
        "zinari                                                       0              0   \n",
        "zm                                                           0              0   \n",
        "\n",
        "                                                            15  \n",
        "                                                 count_nonzero  \n",
        "0                                                               \n",
        "\",\\N,\"0\"                                                     0  \n",
        "\"ABIA                                                       13  \n",
        "\"ADAMAWA                                                226301  \n",
        "\"AKWA IBOM                                                   1  \n",
        "\"ANAMBRA                                                     2  \n",
        "\"KADUNA                                                      1  \n",
        "\"LAGOS                                                       1  \n",
        "\"OYO                                                         1  \n",
        "\"ZAMFARA                                                762235  \n",
        ",                                                            0  \n",
        ".\\                                                           0  \n",
        ".g.a zamfara state                                           0  \n",
        "/\\                                                           0  \n",
        "29 MAYO BELWA STREET LIMAWA\\                                 0  \n",
        "67Mohd Mustafa Way.Jimeta, Yola Adamawa State.               0  \n",
        "ADAMAWA STATE.\\                                              0  \n",
        "ALGAITAWA AREAR GUMMI                                        0  \n",
        "Aba, Abia State                                              0  \n",
        "Abuja                                                        0  \n",
        "Abuja.                                                       0  \n",
        "Adamawa State.                                               0  \n",
        "Adegbayi N\\\\ Ife road Ibadan                                 0  \n",
        "Algaitawa area Gmmi                                          0  \n",
        "Anambra State                                                0  \n",
        "Anguwan Faransa, Gombi South\\                                0  \n",
        "Arafa\\                                                       0  \n",
        "Awala, kuga                                                  0  \n",
        "BAFYAU                                                       0  \n",
        "BAICHI,BAKURA.                                               0  \n",
        "BAKURA                                                       0  \n",
        "...                                                        ...  \n",
        "tazame\\                                                      0  \n",
        "tofa                                                         0  \n",
        "tsakya garin kurmi                                           0  \n",
        "tudun wada bingi\\                                            0  \n",
        "tudunwada                                                    0  \n",
        "tung ar\\                                                     0  \n",
        "tungar kofa, yargeda                                         0  \n",
        "ubwan\\                                                       0  \n",
        "ulani\\                                                       0  \n",
        "unguwar dunya kwatarkwashi bungudu lga                       0  \n",
        "upper benue,yola                                             0  \n",
        "uwa  gusau                                                   0  \n",
        "vgghhh                                                       0  \n",
        "ware II Furfuri                                              0  \n",
        "wuri                                                         0  \n",
        "wuri\\                                                        0  \n",
        "yang                                                         0  \n",
        "yar guramu                                                   0  \n",
        "yarkofa                                                      0  \n",
        "yautabaki 2                                                  0  \n",
        "yola town                                                    0  \n",
        "yolde kohi                                                   0  \n",
        "yolde kohi\\                                                  0  \n",
        "yolde pate                                                   0  \n",
        "yolde pate\\                                                  0  \n",
        "zamfara state.                                               0  \n",
        "zamfarawa                                                    0  \n",
        "zangon hassi                                                 0  \n",
        "zinari                                                       0  \n",
        "zm                                                           0  \n",
        "\n",
        "[545 rows x 15 columns]\n"
       ]
      }
     ],
     "prompt_number": 74
    },
    {
     "cell_type": "code",
     "collapsed": false,
     "input": [
      "#Output this so I can take a good look at it\n",
      "#grouped.to_csv('/Users/carbz/Dropbox/sad/pandas.csv')"
     ],
     "language": "python",
     "metadata": {},
     "outputs": [],
     "prompt_number": 71
    },
    {
     "cell_type": "code",
     "collapsed": false,
     "input": [
      "#output a quick summary of each file\n",
      "import os\n",
      "from os import walk\n",
      "from os import listdir\n",
      "files = os.listdir('/Users/carbz/Dropbox/Nigeria-NEAP-GIS/DatafromEric-09292014/')\n",
      "type(files)\n",
      "\n",
      "for i in range(1,len(files)):\n",
      "#for i in range(1,3):  ##len(files)):\n",
      "    dir_name = '/Users/carbz/Dropbox/Nigeria-NEAP-GIS/DatafromEric-09292014/' + files[i]\n",
      "    print(dir_name)\n",
      "    \n",
      "    voters = pd.read_csv(dir_name,\n",
      "                         sep='\\\",\\\"', #ensure seperator is well-defined here \n",
      "                         header=None,  #preserve first row\n",
      "                         engine = 'python') #use the 'python' engine because the 'c' engine doesn't support regex separators \n",
      "    print(voters.shape) #dimensions of dataset\n",
      "    \n",
      "    #summarize each vote group by Polling Unit AKA 5th column\n",
      "    grouped = voters.groupby([1,2,3,5])\n",
      "    pu_summary = grouped[0].agg([np.count_nonzero])\n",
      "    \n",
      "    #Output to a useful director\n",
      "    output_dir = '/Users/carbz/Dropbox/Nigeria-NEAP-GIS/shapefiling/voter_04pu_summary/' + 'voter_sum_of-' + files[i] \n",
      "    pu_summary.to_csv(output_dir)\n",
      "    \n",
      "    \n",
      "    #summarize each voter by State too\n",
      "    st_summary = voters.groupby([0])\n",
      "    st_summary = st_summary[0].agg([np.count_nonzero])\n",
      "    \n",
      "    #output_dir = '/Users/carbz/Dropbox/Nigeria-NEAP-GIS/shapefiling/voter_01state_summary/' + 'voter_sum_of-' + files[i] \n",
      "    #st_summary.to_csv(output_dir)\n",
      "       \n",
      "       \n",
      "#for x in range(0, 3):"
     ],
     "language": "python",
     "metadata": {},
     "outputs": [
      {
       "output_type": "stream",
       "stream": "stdout",
       "text": [
        "/Users/carbz/Dropbox/Nigeria-NEAP-GIS/DatafromEric-09292014/sad_aa.csv\n",
        "(1000000, 16)"
       ]
      },
      {
       "output_type": "stream",
       "stream": "stdout",
       "text": [
        "\n",
        "/Users/carbz/Dropbox/Nigeria-NEAP-GIS/DatafromEric-09292014/sad_ab.csv"
       ]
      },
      {
       "output_type": "stream",
       "stream": "stdout",
       "text": [
        "\n",
        "(1000000, 16)"
       ]
      },
      {
       "output_type": "stream",
       "stream": "stdout",
       "text": [
        "\n",
        "/Users/carbz/Dropbox/Nigeria-NEAP-GIS/DatafromEric-09292014/sad_ac.csv"
       ]
      },
      {
       "output_type": "stream",
       "stream": "stdout",
       "text": [
        "\n",
        "(1000000, 16)"
       ]
      },
      {
       "output_type": "stream",
       "stream": "stdout",
       "text": [
        "\n",
        "/Users/carbz/Dropbox/Nigeria-NEAP-GIS/DatafromEric-09292014/sad_ad.csv"
       ]
      },
      {
       "output_type": "stream",
       "stream": "stdout",
       "text": [
        "\n",
        "(1000000, 16)"
       ]
      },
      {
       "output_type": "stream",
       "stream": "stdout",
       "text": [
        "\n",
        "/Users/carbz/Dropbox/Nigeria-NEAP-GIS/DatafromEric-09292014/sad_ae.csv"
       ]
      },
      {
       "output_type": "stream",
       "stream": "stdout",
       "text": [
        "\n",
        "(1000000, 16)"
       ]
      },
      {
       "output_type": "stream",
       "stream": "stdout",
       "text": [
        "\n",
        "/Users/carbz/Dropbox/Nigeria-NEAP-GIS/DatafromEric-09292014/sad_af.csv"
       ]
      },
      {
       "output_type": "stream",
       "stream": "stdout",
       "text": [
        "\n",
        "(1000000, 16)"
       ]
      },
      {
       "output_type": "stream",
       "stream": "stdout",
       "text": [
        "\n",
        "/Users/carbz/Dropbox/Nigeria-NEAP-GIS/DatafromEric-09292014/sad_ag.csv"
       ]
      },
      {
       "output_type": "stream",
       "stream": "stdout",
       "text": [
        "\n",
        "(1000002, 16)"
       ]
      },
      {
       "output_type": "stream",
       "stream": "stdout",
       "text": [
        "\n",
        "/Users/carbz/Dropbox/Nigeria-NEAP-GIS/DatafromEric-09292014/sad_ah.csv"
       ]
      },
      {
       "output_type": "stream",
       "stream": "stdout",
       "text": [
        "\n",
        "(1000000, 16)"
       ]
      },
      {
       "output_type": "stream",
       "stream": "stdout",
       "text": [
        "\n",
        "/Users/carbz/Dropbox/Nigeria-NEAP-GIS/DatafromEric-09292014/sad_ai.csv"
       ]
      },
      {
       "output_type": "stream",
       "stream": "stdout",
       "text": [
        "\n",
        "(1000000, 16)"
       ]
      },
      {
       "output_type": "stream",
       "stream": "stdout",
       "text": [
        "\n",
        "/Users/carbz/Dropbox/Nigeria-NEAP-GIS/DatafromEric-09292014/sad_aj.csv"
       ]
      },
      {
       "output_type": "stream",
       "stream": "stdout",
       "text": [
        "\n",
        "(1000000, 16)"
       ]
      },
      {
       "output_type": "stream",
       "stream": "stdout",
       "text": [
        "\n",
        "/Users/carbz/Dropbox/Nigeria-NEAP-GIS/DatafromEric-09292014/sad_ak.csv"
       ]
      },
      {
       "output_type": "stream",
       "stream": "stdout",
       "text": [
        "\n",
        "(1000000, 16)"
       ]
      },
      {
       "output_type": "stream",
       "stream": "stdout",
       "text": [
        "\n",
        "/Users/carbz/Dropbox/Nigeria-NEAP-GIS/DatafromEric-09292014/sad_al.csv"
       ]
      },
      {
       "output_type": "stream",
       "stream": "stdout",
       "text": [
        "\n",
        "(1000000, 16)"
       ]
      },
      {
       "output_type": "stream",
       "stream": "stdout",
       "text": [
        "\n",
        "/Users/carbz/Dropbox/Nigeria-NEAP-GIS/DatafromEric-09292014/sad_am.csv"
       ]
      },
      {
       "output_type": "stream",
       "stream": "stdout",
       "text": [
        "\n",
        "(1000000, 16)"
       ]
      },
      {
       "output_type": "stream",
       "stream": "stdout",
       "text": [
        "\n",
        "/Users/carbz/Dropbox/Nigeria-NEAP-GIS/DatafromEric-09292014/sad_an.csv"
       ]
      },
      {
       "output_type": "stream",
       "stream": "stdout",
       "text": [
        "\n",
        "(1000000, 16)"
       ]
      },
      {
       "output_type": "stream",
       "stream": "stdout",
       "text": [
        "\n",
        "/Users/carbz/Dropbox/Nigeria-NEAP-GIS/DatafromEric-09292014/sad_ao.csv"
       ]
      },
      {
       "output_type": "stream",
       "stream": "stdout",
       "text": [
        "\n",
        "(1000000, 16)"
       ]
      },
      {
       "output_type": "stream",
       "stream": "stdout",
       "text": [
        "\n",
        "/Users/carbz/Dropbox/Nigeria-NEAP-GIS/DatafromEric-09292014/sad_ap.csv"
       ]
      },
      {
       "output_type": "stream",
       "stream": "stdout",
       "text": [
        "\n",
        "(1000000, 16)"
       ]
      },
      {
       "output_type": "stream",
       "stream": "stdout",
       "text": [
        "\n",
        "/Users/carbz/Dropbox/Nigeria-NEAP-GIS/DatafromEric-09292014/sad_aq.csv"
       ]
      },
      {
       "output_type": "stream",
       "stream": "stdout",
       "text": [
        "\n",
        "(1000000, 16)"
       ]
      },
      {
       "output_type": "stream",
       "stream": "stdout",
       "text": [
        "\n",
        "/Users/carbz/Dropbox/Nigeria-NEAP-GIS/DatafromEric-09292014/sad_ar.csv"
       ]
      },
      {
       "output_type": "stream",
       "stream": "stdout",
       "text": [
        "\n",
        "(1000000, 16)"
       ]
      },
      {
       "output_type": "stream",
       "stream": "stdout",
       "text": [
        "\n",
        "/Users/carbz/Dropbox/Nigeria-NEAP-GIS/DatafromEric-09292014/sad_as.csv"
       ]
      },
      {
       "output_type": "stream",
       "stream": "stdout",
       "text": [
        "\n",
        "(1000000, 16)"
       ]
      },
      {
       "output_type": "stream",
       "stream": "stdout",
       "text": [
        "\n",
        "/Users/carbz/Dropbox/Nigeria-NEAP-GIS/DatafromEric-09292014/sad_at.csv"
       ]
      },
      {
       "output_type": "stream",
       "stream": "stdout",
       "text": [
        "\n",
        "(1000000, 16)"
       ]
      },
      {
       "output_type": "stream",
       "stream": "stdout",
       "text": [
        "\n",
        "/Users/carbz/Dropbox/Nigeria-NEAP-GIS/DatafromEric-09292014/sad_au.csv"
       ]
      },
      {
       "output_type": "stream",
       "stream": "stdout",
       "text": [
        "\n",
        "(1000000, 16)"
       ]
      },
      {
       "output_type": "stream",
       "stream": "stdout",
       "text": [
        "\n",
        "/Users/carbz/Dropbox/Nigeria-NEAP-GIS/DatafromEric-09292014/sad_av.csv"
       ]
      },
      {
       "output_type": "stream",
       "stream": "stdout",
       "text": [
        "\n",
        "(1000000, 16)"
       ]
      },
      {
       "output_type": "stream",
       "stream": "stdout",
       "text": [
        "\n",
        "/Users/carbz/Dropbox/Nigeria-NEAP-GIS/DatafromEric-09292014/sad_aw.csv"
       ]
      },
      {
       "output_type": "stream",
       "stream": "stdout",
       "text": [
        "\n",
        "(1000000, 16)"
       ]
      },
      {
       "output_type": "stream",
       "stream": "stdout",
       "text": [
        "\n",
        "/Users/carbz/Dropbox/Nigeria-NEAP-GIS/DatafromEric-09292014/sad_ax.csv"
       ]
      },
      {
       "output_type": "stream",
       "stream": "stdout",
       "text": [
        "\n",
        "(1000000, 16)"
       ]
      },
      {
       "output_type": "stream",
       "stream": "stdout",
       "text": [
        "\n",
        "/Users/carbz/Dropbox/Nigeria-NEAP-GIS/DatafromEric-09292014/sad_ay.csv"
       ]
      },
      {
       "output_type": "stream",
       "stream": "stdout",
       "text": [
        "\n",
        "(1000000, 16)"
       ]
      },
      {
       "output_type": "stream",
       "stream": "stdout",
       "text": [
        "\n",
        "/Users/carbz/Dropbox/Nigeria-NEAP-GIS/DatafromEric-09292014/sad_az.csv"
       ]
      },
      {
       "output_type": "stream",
       "stream": "stdout",
       "text": [
        "\n",
        "(1000000, 16)"
       ]
      },
      {
       "output_type": "stream",
       "stream": "stdout",
       "text": [
        "\n",
        "/Users/carbz/Dropbox/Nigeria-NEAP-GIS/DatafromEric-09292014/sad_ba.csv"
       ]
      },
      {
       "output_type": "stream",
       "stream": "stdout",
       "text": [
        "\n",
        "(1000000, 16)"
       ]
      },
      {
       "output_type": "stream",
       "stream": "stdout",
       "text": [
        "\n",
        "/Users/carbz/Dropbox/Nigeria-NEAP-GIS/DatafromEric-09292014/sad_bb.csv"
       ]
      },
      {
       "output_type": "stream",
       "stream": "stdout",
       "text": [
        "\n",
        "(1000000, 16)"
       ]
      },
      {
       "output_type": "stream",
       "stream": "stdout",
       "text": [
        "\n",
        "/Users/carbz/Dropbox/Nigeria-NEAP-GIS/DatafromEric-09292014/sad_bc.csv"
       ]
      },
      {
       "output_type": "stream",
       "stream": "stdout",
       "text": [
        "\n",
        "(1000000, 16)"
       ]
      },
      {
       "output_type": "stream",
       "stream": "stdout",
       "text": [
        "\n",
        "/Users/carbz/Dropbox/Nigeria-NEAP-GIS/DatafromEric-09292014/sad_bd.csv"
       ]
      },
      {
       "output_type": "stream",
       "stream": "stdout",
       "text": [
        "\n",
        "(1000000, 16)"
       ]
      },
      {
       "output_type": "stream",
       "stream": "stdout",
       "text": [
        "\n",
        "/Users/carbz/Dropbox/Nigeria-NEAP-GIS/DatafromEric-09292014/sad_be.csv"
       ]
      },
      {
       "output_type": "stream",
       "stream": "stdout",
       "text": [
        "\n",
        "(1000000, 16)"
       ]
      },
      {
       "output_type": "stream",
       "stream": "stdout",
       "text": [
        "\n",
        "/Users/carbz/Dropbox/Nigeria-NEAP-GIS/DatafromEric-09292014/sad_bf.csv"
       ]
      },
      {
       "output_type": "stream",
       "stream": "stdout",
       "text": [
        "\n",
        "(1000000, 16)"
       ]
      },
      {
       "output_type": "stream",
       "stream": "stdout",
       "text": [
        "\n",
        "/Users/carbz/Dropbox/Nigeria-NEAP-GIS/DatafromEric-09292014/sad_bg.csv"
       ]
      },
      {
       "output_type": "stream",
       "stream": "stdout",
       "text": [
        "\n",
        "(1000000, 16)"
       ]
      },
      {
       "output_type": "stream",
       "stream": "stdout",
       "text": [
        "\n",
        "/Users/carbz/Dropbox/Nigeria-NEAP-GIS/DatafromEric-09292014/sad_bh.csv"
       ]
      },
      {
       "output_type": "stream",
       "stream": "stdout",
       "text": [
        "\n",
        "(1000000, 16)"
       ]
      },
      {
       "output_type": "stream",
       "stream": "stdout",
       "text": [
        "\n",
        "/Users/carbz/Dropbox/Nigeria-NEAP-GIS/DatafromEric-09292014/sad_bi.csv"
       ]
      },
      {
       "output_type": "stream",
       "stream": "stdout",
       "text": [
        "\n",
        "(1000000, 16)"
       ]
      },
      {
       "output_type": "stream",
       "stream": "stdout",
       "text": [
        "\n",
        "/Users/carbz/Dropbox/Nigeria-NEAP-GIS/DatafromEric-09292014/sad_bj.csv"
       ]
      },
      {
       "output_type": "stream",
       "stream": "stdout",
       "text": [
        "\n",
        "(1000000, 16)"
       ]
      },
      {
       "output_type": "stream",
       "stream": "stdout",
       "text": [
        "\n",
        "/Users/carbz/Dropbox/Nigeria-NEAP-GIS/DatafromEric-09292014/sad_bk.csv"
       ]
      },
      {
       "output_type": "stream",
       "stream": "stdout",
       "text": [
        "\n",
        "(1000000, 16)"
       ]
      },
      {
       "output_type": "stream",
       "stream": "stdout",
       "text": [
        "\n",
        "/Users/carbz/Dropbox/Nigeria-NEAP-GIS/DatafromEric-09292014/sad_bl.csv"
       ]
      },
      {
       "output_type": "stream",
       "stream": "stdout",
       "text": [
        "\n",
        "(1000000, 16)"
       ]
      },
      {
       "output_type": "stream",
       "stream": "stdout",
       "text": [
        "\n",
        "/Users/carbz/Dropbox/Nigeria-NEAP-GIS/DatafromEric-09292014/sad_bm.csv"
       ]
      },
      {
       "output_type": "stream",
       "stream": "stdout",
       "text": [
        "\n",
        "(1000000, 16)"
       ]
      },
      {
       "output_type": "stream",
       "stream": "stdout",
       "text": [
        "\n",
        "/Users/carbz/Dropbox/Nigeria-NEAP-GIS/DatafromEric-09292014/sad_bn.csv"
       ]
      },
      {
       "output_type": "stream",
       "stream": "stdout",
       "text": [
        "\n",
        "(1000000, 16)"
       ]
      },
      {
       "output_type": "stream",
       "stream": "stdout",
       "text": [
        "\n",
        "/Users/carbz/Dropbox/Nigeria-NEAP-GIS/DatafromEric-09292014/sad_bo.csv"
       ]
      },
      {
       "output_type": "stream",
       "stream": "stdout",
       "text": [
        "\n",
        "(1000000, 16)"
       ]
      },
      {
       "output_type": "stream",
       "stream": "stdout",
       "text": [
        "\n",
        "/Users/carbz/Dropbox/Nigeria-NEAP-GIS/DatafromEric-09292014/sad_bp.csv"
       ]
      },
      {
       "output_type": "stream",
       "stream": "stdout",
       "text": [
        "\n",
        "(1000000, 16)"
       ]
      },
      {
       "output_type": "stream",
       "stream": "stdout",
       "text": [
        "\n",
        "/Users/carbz/Dropbox/Nigeria-NEAP-GIS/DatafromEric-09292014/sad_bq.csv"
       ]
      },
      {
       "output_type": "stream",
       "stream": "stdout",
       "text": [
        "\n",
        "(1000000, 16)"
       ]
      },
      {
       "output_type": "stream",
       "stream": "stdout",
       "text": [
        "\n",
        "/Users/carbz/Dropbox/Nigeria-NEAP-GIS/DatafromEric-09292014/sad_br.csv"
       ]
      },
      {
       "output_type": "stream",
       "stream": "stdout",
       "text": [
        "\n",
        "(1000000, 16)"
       ]
      },
      {
       "output_type": "stream",
       "stream": "stdout",
       "text": [
        "\n",
        "/Users/carbz/Dropbox/Nigeria-NEAP-GIS/DatafromEric-09292014/sad_bs.csv"
       ]
      },
      {
       "output_type": "stream",
       "stream": "stdout",
       "text": [
        "\n",
        "(1000000, 16)"
       ]
      },
      {
       "output_type": "stream",
       "stream": "stdout",
       "text": [
        "\n",
        "/Users/carbz/Dropbox/Nigeria-NEAP-GIS/DatafromEric-09292014/sad_bt.csv"
       ]
      },
      {
       "output_type": "stream",
       "stream": "stdout",
       "text": [
        "\n",
        "(1000000, 16)"
       ]
      },
      {
       "output_type": "stream",
       "stream": "stdout",
       "text": [
        "\n",
        "/Users/carbz/Dropbox/Nigeria-NEAP-GIS/DatafromEric-09292014/sad_bu.csv"
       ]
      },
      {
       "output_type": "stream",
       "stream": "stdout",
       "text": [
        "\n",
        "(1000000, 16)"
       ]
      },
      {
       "output_type": "stream",
       "stream": "stdout",
       "text": [
        "\n",
        "/Users/carbz/Dropbox/Nigeria-NEAP-GIS/DatafromEric-09292014/sad_bv.csv"
       ]
      },
      {
       "output_type": "stream",
       "stream": "stdout",
       "text": [
        "\n",
        "(1000000, 16)"
       ]
      },
      {
       "output_type": "stream",
       "stream": "stdout",
       "text": [
        "\n",
        "/Users/carbz/Dropbox/Nigeria-NEAP-GIS/DatafromEric-09292014/sad_bw.csv"
       ]
      },
      {
       "output_type": "stream",
       "stream": "stdout",
       "text": [
        "\n",
        "(1000000, 16)"
       ]
      },
      {
       "output_type": "stream",
       "stream": "stdout",
       "text": [
        "\n",
        "/Users/carbz/Dropbox/Nigeria-NEAP-GIS/DatafromEric-09292014/sad_bx.csv"
       ]
      },
      {
       "output_type": "stream",
       "stream": "stdout",
       "text": [
        "\n",
        "(1000000, 16)"
       ]
      },
      {
       "output_type": "stream",
       "stream": "stdout",
       "text": [
        "\n",
        "/Users/carbz/Dropbox/Nigeria-NEAP-GIS/DatafromEric-09292014/sad_by.csv"
       ]
      },
      {
       "output_type": "stream",
       "stream": "stdout",
       "text": [
        "\n",
        "(1000000, 16)"
       ]
      },
      {
       "output_type": "stream",
       "stream": "stdout",
       "text": [
        "\n",
        "/Users/carbz/Dropbox/Nigeria-NEAP-GIS/DatafromEric-09292014/sad_bz.csv"
       ]
      },
      {
       "output_type": "stream",
       "stream": "stdout",
       "text": [
        "\n",
        "(1000000, 16)"
       ]
      },
      {
       "output_type": "stream",
       "stream": "stdout",
       "text": [
        "\n",
        "/Users/carbz/Dropbox/Nigeria-NEAP-GIS/DatafromEric-09292014/sad_ca.csv"
       ]
      },
      {
       "output_type": "stream",
       "stream": "stdout",
       "text": [
        "\n",
        "(1000000, 16)"
       ]
      },
      {
       "output_type": "stream",
       "stream": "stdout",
       "text": [
        "\n",
        "/Users/carbz/Dropbox/Nigeria-NEAP-GIS/DatafromEric-09292014/sad_cb.csv"
       ]
      },
      {
       "output_type": "stream",
       "stream": "stdout",
       "text": [
        "\n",
        "(1000000, 16)"
       ]
      },
      {
       "output_type": "stream",
       "stream": "stdout",
       "text": [
        "\n",
        "/Users/carbz/Dropbox/Nigeria-NEAP-GIS/DatafromEric-09292014/sad_cc.csv"
       ]
      },
      {
       "output_type": "stream",
       "stream": "stdout",
       "text": [
        "\n",
        "(1000000, 16)"
       ]
      },
      {
       "output_type": "stream",
       "stream": "stdout",
       "text": [
        "\n",
        "/Users/carbz/Dropbox/Nigeria-NEAP-GIS/DatafromEric-09292014/sad_cd.csv"
       ]
      },
      {
       "output_type": "stream",
       "stream": "stdout",
       "text": [
        "\n",
        "(1000000, 16)"
       ]
      },
      {
       "output_type": "stream",
       "stream": "stdout",
       "text": [
        "\n",
        "/Users/carbz/Dropbox/Nigeria-NEAP-GIS/DatafromEric-09292014/sad_ce.csv"
       ]
      },
      {
       "output_type": "stream",
       "stream": "stdout",
       "text": [
        "\n",
        "(1000000, 16)"
       ]
      },
      {
       "output_type": "stream",
       "stream": "stdout",
       "text": [
        "\n",
        "/Users/carbz/Dropbox/Nigeria-NEAP-GIS/DatafromEric-09292014/sad_cf.csv"
       ]
      },
      {
       "output_type": "stream",
       "stream": "stdout",
       "text": [
        "\n",
        "(1000000, 16)"
       ]
      },
      {
       "output_type": "stream",
       "stream": "stdout",
       "text": [
        "\n",
        "/Users/carbz/Dropbox/Nigeria-NEAP-GIS/DatafromEric-09292014/sad_cg.csv"
       ]
      },
      {
       "output_type": "stream",
       "stream": "stdout",
       "text": [
        "\n",
        "(1000000, 16)"
       ]
      },
      {
       "output_type": "stream",
       "stream": "stdout",
       "text": [
        "\n",
        "/Users/carbz/Dropbox/Nigeria-NEAP-GIS/DatafromEric-09292014/sad_ch.csv"
       ]
      },
      {
       "output_type": "stream",
       "stream": "stdout",
       "text": [
        "\n",
        "(1000000, 16)"
       ]
      },
      {
       "output_type": "stream",
       "stream": "stdout",
       "text": [
        "\n",
        "/Users/carbz/Dropbox/Nigeria-NEAP-GIS/DatafromEric-09292014/sad_ci.csv"
       ]
      },
      {
       "output_type": "stream",
       "stream": "stdout",
       "text": [
        "\n",
        "(1000000, 16)"
       ]
      },
      {
       "output_type": "stream",
       "stream": "stdout",
       "text": [
        "\n",
        "/Users/carbz/Dropbox/Nigeria-NEAP-GIS/DatafromEric-09292014/sad_cj.csv"
       ]
      },
      {
       "output_type": "stream",
       "stream": "stdout",
       "text": [
        "\n",
        "(1000000, 16)"
       ]
      },
      {
       "output_type": "stream",
       "stream": "stdout",
       "text": [
        "\n",
        "/Users/carbz/Dropbox/Nigeria-NEAP-GIS/DatafromEric-09292014/sad_ck.csv"
       ]
      },
      {
       "output_type": "stream",
       "stream": "stdout",
       "text": [
        "\n",
        "(1000000, 16)"
       ]
      },
      {
       "output_type": "stream",
       "stream": "stdout",
       "text": [
        "\n",
        "/Users/carbz/Dropbox/Nigeria-NEAP-GIS/DatafromEric-09292014/sad_cl.csv"
       ]
      },
      {
       "output_type": "stream",
       "stream": "stdout",
       "text": [
        "\n",
        "(1000000, 16)"
       ]
      },
      {
       "output_type": "stream",
       "stream": "stdout",
       "text": [
        "\n",
        "/Users/carbz/Dropbox/Nigeria-NEAP-GIS/DatafromEric-09292014/sad_cm.csv"
       ]
      },
      {
       "output_type": "stream",
       "stream": "stdout",
       "text": [
        "\n",
        "(1000000, 16)"
       ]
      },
      {
       "output_type": "stream",
       "stream": "stdout",
       "text": [
        "\n",
        "/Users/carbz/Dropbox/Nigeria-NEAP-GIS/DatafromEric-09292014/sad_cn.csv"
       ]
      },
      {
       "output_type": "stream",
       "stream": "stdout",
       "text": [
        "\n",
        "(1000000, 16)"
       ]
      },
      {
       "output_type": "stream",
       "stream": "stdout",
       "text": [
        "\n",
        "/Users/carbz/Dropbox/Nigeria-NEAP-GIS/DatafromEric-09292014/sad_co.csv"
       ]
      },
      {
       "output_type": "stream",
       "stream": "stdout",
       "text": [
        "\n",
        "(1000000, 16)"
       ]
      },
      {
       "output_type": "stream",
       "stream": "stdout",
       "text": [
        "\n",
        "/Users/carbz/Dropbox/Nigeria-NEAP-GIS/DatafromEric-09292014/sad_cp.csv"
       ]
      },
      {
       "output_type": "stream",
       "stream": "stdout",
       "text": [
        "\n",
        "(1000000, 16)"
       ]
      },
      {
       "output_type": "stream",
       "stream": "stdout",
       "text": [
        "\n",
        "/Users/carbz/Dropbox/Nigeria-NEAP-GIS/DatafromEric-09292014/sad_cq.csv"
       ]
      },
      {
       "output_type": "stream",
       "stream": "stdout",
       "text": [
        "\n",
        "(1000000, 16)"
       ]
      },
      {
       "output_type": "stream",
       "stream": "stdout",
       "text": [
        "\n",
        "/Users/carbz/Dropbox/Nigeria-NEAP-GIS/DatafromEric-09292014/sad_cr.csv"
       ]
      },
      {
       "output_type": "stream",
       "stream": "stdout",
       "text": [
        "\n",
        "(1000000, 16)"
       ]
      },
      {
       "output_type": "stream",
       "stream": "stdout",
       "text": [
        "\n",
        "/Users/carbz/Dropbox/Nigeria-NEAP-GIS/DatafromEric-09292014/sad_cs.csv"
       ]
      },
      {
       "output_type": "stream",
       "stream": "stdout",
       "text": [
        "\n",
        "(1000000, 16)"
       ]
      },
      {
       "output_type": "stream",
       "stream": "stdout",
       "text": [
        "\n",
        "/Users/carbz/Dropbox/Nigeria-NEAP-GIS/DatafromEric-09292014/sad_ct  FCT.csv"
       ]
      },
      {
       "output_type": "stream",
       "stream": "stdout",
       "text": [
        "\n",
        "(1000000, 16)"
       ]
      },
      {
       "output_type": "stream",
       "stream": "stdout",
       "text": [
        "\n",
        "/Users/carbz/Dropbox/Nigeria-NEAP-GIS/DatafromEric-09292014/sad_cu.csv"
       ]
      },
      {
       "output_type": "stream",
       "stream": "stdout",
       "text": [
        "\n",
        "(770273, 16)"
       ]
      },
      {
       "output_type": "stream",
       "stream": "stdout",
       "text": [
        "\n",
        "/Users/carbz/Dropbox/Nigeria-NEAP-GIS/DatafromEric-09292014/tmg_data.csv"
       ]
      },
      {
       "output_type": "stream",
       "stream": "stdout",
       "text": [
        "\n",
        "(24066690, 16)"
       ]
      },
      {
       "output_type": "stream",
       "stream": "stdout",
       "text": [
        "\n"
       ]
      }
     ],
     "prompt_number": 75
    },
    {
     "cell_type": "code",
     "collapsed": false,
     "input": [
      "table = pivot_table(voters, 'tip_pct', rows=['time', 'sex'],\n",
      "                            cols='smoker')\n"
     ],
     "language": "python",
     "metadata": {},
     "outputs": [
      {
       "metadata": {},
       "output_type": "pyout",
       "prompt_number": 43,
       "text": [
        "'/Users/carbz/Dropbox/Nigeria-NEAP-GIS/DatafromEric-09292014/sad_aa.csv'"
       ]
      }
     ],
     "prompt_number": 43
    },
    {
     "cell_type": "code",
     "collapsed": false,
     "input": [
      "voters.shape"
     ],
     "language": "python",
     "metadata": {},
     "outputs": [
      {
       "metadata": {},
       "output_type": "pyout",
       "prompt_number": 76,
       "text": [
        "(24066690, 16)"
       ]
      }
     ],
     "prompt_number": 76
    },
    {
     "cell_type": "code",
     "collapsed": false,
     "input": [
      "len(files)"
     ],
     "language": "python",
     "metadata": {},
     "outputs": [
      {
       "metadata": {},
       "output_type": "pyout",
       "prompt_number": 77,
       "text": [
        "75"
       ]
      }
     ],
     "prompt_number": 77
    },
    {
     "cell_type": "code",
     "collapsed": false,
     "input": [],
     "language": "python",
     "metadata": {},
     "outputs": []
    }
   ],
   "metadata": {}
  }
 ]
}