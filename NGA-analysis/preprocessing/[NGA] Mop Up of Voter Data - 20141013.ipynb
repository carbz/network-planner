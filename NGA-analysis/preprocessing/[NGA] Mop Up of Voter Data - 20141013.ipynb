{
 "metadata": {
  "name": "",
  "signature": "sha256:e2c7426ab0b0a7274d9cfca264a828eec0f9ca544d58ba3a115094812f59ca49"
 },
 "nbformat": 3,
 "nbformat_minor": 0,
 "worksheets": [
  {
   "cells": [
    {
     "cell_type": "markdown",
     "metadata": {},
     "source": [
      "# Nigeria Voter Registration Data (circa ~2011)\n",
      "##Processes to peak at, clean, aggregate and summarize\n",
      "\n",
      "\n",
      "First look at the voter registration data WorldBank shared with us for Nigeria\n",
      "\n",
      ">Why?\n",
      ">* 0 establish consistent way to read all files ~80\n",
      "> * 1 Summarize by Polling Units (PU)\n",
      "> * 2 Eventually geo-tag each PU \n",
      "> * 3 Revisit to pull out demographic statistics per PU\n",
      "\n",
      "carbz + brandon (w/ natali help unauthorized by Myf)\n",
      "\n",
      "Oct 13, 2014"
     ]
    },
    {
     "cell_type": "code",
     "collapsed": false,
     "input": [
      "%pylab inline\n",
      "import pandas as pd"
     ],
     "language": "python",
     "metadata": {},
     "outputs": [
      {
       "output_type": "stream",
       "stream": "stdout",
       "text": [
        "Populating the interactive namespace from numpy and matplotlib\n"
       ]
      }
     ],
     "prompt_number": 10
    },
    {
     "cell_type": "markdown",
     "metadata": {},
     "source": [
      "## 0. Scrape Voter CSV's clean of all inconsistencies\n",
      ">* get rid of new lines (?)\n",
      ">* replace blank data \"\\N\" with white space\n",
      ">* remove floating quotes\n",
      ">* use pipes (|) as main delim\n",
      ">* copy edited files to a new directory for future use\n",
      "\n",
      "NOTE: Cannot do for the 28M person dataset <tmg_data.csv> as machine crashes and burns"
     ]
    },
    {
     "cell_type": "code",
     "collapsed": false,
     "input": [
      "###0.0 Remove and replace most irregular formatting\n",
      "#Open each file of interest\n",
      "#perform sort of transformation on them to clean up delims\n",
      "#Updated Oct 13 to account for in-quote line breaks\n",
      "\n",
      "import re\n",
      "import os\n",
      "\n",
      "old_path = '/Users/carbz/Dropbox/sad/'\n",
      "cleaned_path = '/Users/carbz/Dropbox/Nigeria-NEAP-GIS/shapefiling/sad_converted/'\n",
      "listed_files = os.listdir(old_path)\n",
      "\n",
      "#Things I want to search and replace\n",
      "midrow_linebreaks = re.compile(r'[A-z]\\n', re.DOTALL)\n",
      "coded_blanks = '\\\\\\N' ##blank data is often reports as '\\N', let's make it a \"\" instead\n",
      "pre_existing_pipes = '\\|'\n",
      "normal_delims = '(\")(,)(\")'#normal delims will be replaced with something less used\n",
      "errant_quotes = '\"'\n",
      "\n",
      "for listed_file in filter(lambda name: '.' != name[0], listed_files):\n",
      "    voter_file = os.path.join(old_path, listed_file)\n",
      "    new_path = os.path.join(cleaned_path, listed_file)\n",
      "    print voter_file\n",
      "    print new_path\n",
      "    with open(voter_file) as voter_set:\n",
      "        data = voter_set.read()\n",
      "        better_data0 = re.sub(midrow_linebreaks, '_', data) #midrow line breaks swapped with '_' underscores\n",
      "        better_data1 = re.sub(coded_blanks,'\"\"',better_data0) #making coded blanks empty spaces\n",
      "        better_data2 = re.sub(pre_existing_pipes,'-',better_data1) #remove any pipes currently in use, sorry but here's a dash instead\n",
      "        better_data3 = re.sub(normal_delims,'|',better_data2) #replacing normal delims with pipes |'s\n",
      "        best_data = re.sub(errant_quotes,'',better_data3) #any dangling quotes will be removed for now \n",
      "        with open(new_path, 'w') as cleaned_voter_set:\n",
      "            cleaned_voter_set.write(best_data)\n",
      "\n",
      "#Via Unix and working stuff out with Natali\n",
      "# sed s/\\\",\\\"/\\|/g test.txt  | sed s/\\\"//g > | \\\\test_piped.txt \n",
      "#Or more developed into\n",
      "#sed s/\\|/\\-/g sad_co.csv | sed s/\\\",\\\"/\\|/g | sed s/\\\"//g > /Users/carbz/Dropbox/Nigeria-NEAP-GIS/shapefiling/sad_co_piped.csv \n"
     ],
     "language": "python",
     "metadata": {},
     "outputs": [
      {
       "output_type": "stream",
       "stream": "stdout",
       "text": [
        "/Users/carbz/Dropbox/sad/sad_aa.csv\n",
        "/Users/carbz/Dropbox/Nigeria-NEAP-GIS/shapefiling/sad_converted/sad_aa.csv\n",
        "/Users/carbz/Dropbox/sad/sad_ab.csv"
       ]
      },
      {
       "output_type": "stream",
       "stream": "stdout",
       "text": [
        "\n",
        "/Users/carbz/Dropbox/Nigeria-NEAP-GIS/shapefiling/sad_converted/sad_ab.csv\n",
        "/Users/carbz/Dropbox/sad/sad_ac.csv"
       ]
      },
      {
       "output_type": "stream",
       "stream": "stdout",
       "text": [
        "\n",
        "/Users/carbz/Dropbox/Nigeria-NEAP-GIS/shapefiling/sad_converted/sad_ac.csv\n",
        "/Users/carbz/Dropbox/sad/sad_ad.csv"
       ]
      },
      {
       "output_type": "stream",
       "stream": "stdout",
       "text": [
        "\n",
        "/Users/carbz/Dropbox/Nigeria-NEAP-GIS/shapefiling/sad_converted/sad_ad.csv\n",
        "/Users/carbz/Dropbox/sad/sad_ae.csv"
       ]
      },
      {
       "output_type": "stream",
       "stream": "stdout",
       "text": [
        "\n",
        "/Users/carbz/Dropbox/Nigeria-NEAP-GIS/shapefiling/sad_converted/sad_ae.csv\n",
        "/Users/carbz/Dropbox/sad/sad_af.csv"
       ]
      },
      {
       "output_type": "stream",
       "stream": "stdout",
       "text": [
        "\n",
        "/Users/carbz/Dropbox/Nigeria-NEAP-GIS/shapefiling/sad_converted/sad_af.csv\n",
        "/Users/carbz/Dropbox/sad/sad_ag.csv"
       ]
      },
      {
       "output_type": "stream",
       "stream": "stdout",
       "text": [
        "\n",
        "/Users/carbz/Dropbox/Nigeria-NEAP-GIS/shapefiling/sad_converted/sad_ag.csv\n",
        "/Users/carbz/Dropbox/sad/sad_ah.csv"
       ]
      },
      {
       "output_type": "stream",
       "stream": "stdout",
       "text": [
        "\n",
        "/Users/carbz/Dropbox/Nigeria-NEAP-GIS/shapefiling/sad_converted/sad_ah.csv\n",
        "/Users/carbz/Dropbox/sad/sad_ai.csv"
       ]
      },
      {
       "output_type": "stream",
       "stream": "stdout",
       "text": [
        "\n",
        "/Users/carbz/Dropbox/Nigeria-NEAP-GIS/shapefiling/sad_converted/sad_ai.csv\n",
        "/Users/carbz/Dropbox/sad/sad_aj.csv"
       ]
      },
      {
       "output_type": "stream",
       "stream": "stdout",
       "text": [
        "\n",
        "/Users/carbz/Dropbox/Nigeria-NEAP-GIS/shapefiling/sad_converted/sad_aj.csv\n",
        "/Users/carbz/Dropbox/sad/sad_ak.csv"
       ]
      },
      {
       "output_type": "stream",
       "stream": "stdout",
       "text": [
        "\n",
        "/Users/carbz/Dropbox/Nigeria-NEAP-GIS/shapefiling/sad_converted/sad_ak.csv\n",
        "/Users/carbz/Dropbox/sad/sad_al.csv"
       ]
      },
      {
       "output_type": "stream",
       "stream": "stdout",
       "text": [
        "\n",
        "/Users/carbz/Dropbox/Nigeria-NEAP-GIS/shapefiling/sad_converted/sad_al.csv\n",
        "/Users/carbz/Dropbox/sad/sad_am.csv"
       ]
      },
      {
       "output_type": "stream",
       "stream": "stdout",
       "text": [
        "\n",
        "/Users/carbz/Dropbox/Nigeria-NEAP-GIS/shapefiling/sad_converted/sad_am.csv\n",
        "/Users/carbz/Dropbox/sad/sad_an.csv"
       ]
      },
      {
       "output_type": "stream",
       "stream": "stdout",
       "text": [
        "\n",
        "/Users/carbz/Dropbox/Nigeria-NEAP-GIS/shapefiling/sad_converted/sad_an.csv\n",
        "/Users/carbz/Dropbox/sad/sad_ao.csv"
       ]
      },
      {
       "output_type": "stream",
       "stream": "stdout",
       "text": [
        "\n",
        "/Users/carbz/Dropbox/Nigeria-NEAP-GIS/shapefiling/sad_converted/sad_ao.csv\n",
        "/Users/carbz/Dropbox/sad/sad_ap.csv"
       ]
      },
      {
       "output_type": "stream",
       "stream": "stdout",
       "text": [
        "\n",
        "/Users/carbz/Dropbox/Nigeria-NEAP-GIS/shapefiling/sad_converted/sad_ap.csv\n",
        "/Users/carbz/Dropbox/sad/sad_aq.csv"
       ]
      },
      {
       "output_type": "stream",
       "stream": "stdout",
       "text": [
        "\n",
        "/Users/carbz/Dropbox/Nigeria-NEAP-GIS/shapefiling/sad_converted/sad_aq.csv\n",
        "/Users/carbz/Dropbox/sad/sad_ar.csv"
       ]
      },
      {
       "output_type": "stream",
       "stream": "stdout",
       "text": [
        "\n",
        "/Users/carbz/Dropbox/Nigeria-NEAP-GIS/shapefiling/sad_converted/sad_ar.csv\n",
        "/Users/carbz/Dropbox/sad/sad_as.csv"
       ]
      },
      {
       "output_type": "stream",
       "stream": "stdout",
       "text": [
        "\n",
        "/Users/carbz/Dropbox/Nigeria-NEAP-GIS/shapefiling/sad_converted/sad_as.csv\n",
        "/Users/carbz/Dropbox/sad/sad_at.csv"
       ]
      },
      {
       "output_type": "stream",
       "stream": "stdout",
       "text": [
        "\n",
        "/Users/carbz/Dropbox/Nigeria-NEAP-GIS/shapefiling/sad_converted/sad_at.csv\n",
        "/Users/carbz/Dropbox/sad/sad_au.csv"
       ]
      },
      {
       "output_type": "stream",
       "stream": "stdout",
       "text": [
        "\n",
        "/Users/carbz/Dropbox/Nigeria-NEAP-GIS/shapefiling/sad_converted/sad_au.csv\n",
        "/Users/carbz/Dropbox/sad/sad_av.csv"
       ]
      },
      {
       "output_type": "stream",
       "stream": "stdout",
       "text": [
        "\n",
        "/Users/carbz/Dropbox/Nigeria-NEAP-GIS/shapefiling/sad_converted/sad_av.csv\n",
        "/Users/carbz/Dropbox/sad/sad_aw.csv"
       ]
      },
      {
       "output_type": "stream",
       "stream": "stdout",
       "text": [
        "\n",
        "/Users/carbz/Dropbox/Nigeria-NEAP-GIS/shapefiling/sad_converted/sad_aw.csv\n",
        "/Users/carbz/Dropbox/sad/sad_ax.csv"
       ]
      },
      {
       "output_type": "stream",
       "stream": "stdout",
       "text": [
        "\n",
        "/Users/carbz/Dropbox/Nigeria-NEAP-GIS/shapefiling/sad_converted/sad_ax.csv\n",
        "/Users/carbz/Dropbox/sad/sad_ay.csv"
       ]
      },
      {
       "output_type": "stream",
       "stream": "stdout",
       "text": [
        "\n",
        "/Users/carbz/Dropbox/Nigeria-NEAP-GIS/shapefiling/sad_converted/sad_ay.csv\n",
        "/Users/carbz/Dropbox/sad/sad_az.csv"
       ]
      },
      {
       "output_type": "stream",
       "stream": "stdout",
       "text": [
        "\n",
        "/Users/carbz/Dropbox/Nigeria-NEAP-GIS/shapefiling/sad_converted/sad_az.csv\n",
        "/Users/carbz/Dropbox/sad/sad_ba.csv"
       ]
      },
      {
       "output_type": "stream",
       "stream": "stdout",
       "text": [
        "\n",
        "/Users/carbz/Dropbox/Nigeria-NEAP-GIS/shapefiling/sad_converted/sad_ba.csv\n",
        "/Users/carbz/Dropbox/sad/sad_bb.csv"
       ]
      },
      {
       "output_type": "stream",
       "stream": "stdout",
       "text": [
        "\n",
        "/Users/carbz/Dropbox/Nigeria-NEAP-GIS/shapefiling/sad_converted/sad_bb.csv\n",
        "/Users/carbz/Dropbox/sad/sad_bc.csv"
       ]
      },
      {
       "output_type": "stream",
       "stream": "stdout",
       "text": [
        "\n",
        "/Users/carbz/Dropbox/Nigeria-NEAP-GIS/shapefiling/sad_converted/sad_bc.csv\n",
        "/Users/carbz/Dropbox/sad/sad_bd.csv"
       ]
      },
      {
       "output_type": "stream",
       "stream": "stdout",
       "text": [
        "\n",
        "/Users/carbz/Dropbox/Nigeria-NEAP-GIS/shapefiling/sad_converted/sad_bd.csv\n",
        "/Users/carbz/Dropbox/sad/sad_be.csv"
       ]
      },
      {
       "output_type": "stream",
       "stream": "stdout",
       "text": [
        "\n",
        "/Users/carbz/Dropbox/Nigeria-NEAP-GIS/shapefiling/sad_converted/sad_be.csv\n",
        "/Users/carbz/Dropbox/sad/sad_bf.csv"
       ]
      },
      {
       "output_type": "stream",
       "stream": "stdout",
       "text": [
        "\n",
        "/Users/carbz/Dropbox/Nigeria-NEAP-GIS/shapefiling/sad_converted/sad_bf.csv\n",
        "/Users/carbz/Dropbox/sad/sad_bg.csv"
       ]
      },
      {
       "output_type": "stream",
       "stream": "stdout",
       "text": [
        "\n",
        "/Users/carbz/Dropbox/Nigeria-NEAP-GIS/shapefiling/sad_converted/sad_bg.csv\n",
        "/Users/carbz/Dropbox/sad/sad_bh.csv"
       ]
      },
      {
       "output_type": "stream",
       "stream": "stdout",
       "text": [
        "\n",
        "/Users/carbz/Dropbox/Nigeria-NEAP-GIS/shapefiling/sad_converted/sad_bh.csv\n",
        "/Users/carbz/Dropbox/sad/sad_bi.csv"
       ]
      },
      {
       "output_type": "stream",
       "stream": "stdout",
       "text": [
        "\n",
        "/Users/carbz/Dropbox/Nigeria-NEAP-GIS/shapefiling/sad_converted/sad_bi.csv\n",
        "/Users/carbz/Dropbox/sad/sad_bj.csv"
       ]
      },
      {
       "output_type": "stream",
       "stream": "stdout",
       "text": [
        "\n",
        "/Users/carbz/Dropbox/Nigeria-NEAP-GIS/shapefiling/sad_converted/sad_bj.csv\n",
        "/Users/carbz/Dropbox/sad/sad_bk.csv"
       ]
      },
      {
       "output_type": "stream",
       "stream": "stdout",
       "text": [
        "\n",
        "/Users/carbz/Dropbox/Nigeria-NEAP-GIS/shapefiling/sad_converted/sad_bk.csv\n",
        "/Users/carbz/Dropbox/sad/sad_bl.csv"
       ]
      },
      {
       "output_type": "stream",
       "stream": "stdout",
       "text": [
        "\n",
        "/Users/carbz/Dropbox/Nigeria-NEAP-GIS/shapefiling/sad_converted/sad_bl.csv\n",
        "/Users/carbz/Dropbox/sad/sad_bm.csv"
       ]
      },
      {
       "output_type": "stream",
       "stream": "stdout",
       "text": [
        "\n",
        "/Users/carbz/Dropbox/Nigeria-NEAP-GIS/shapefiling/sad_converted/sad_bm.csv\n",
        "/Users/carbz/Dropbox/sad/sad_bn.csv"
       ]
      },
      {
       "output_type": "stream",
       "stream": "stdout",
       "text": [
        "\n",
        "/Users/carbz/Dropbox/Nigeria-NEAP-GIS/shapefiling/sad_converted/sad_bn.csv\n",
        "/Users/carbz/Dropbox/sad/sad_bo.csv"
       ]
      },
      {
       "output_type": "stream",
       "stream": "stdout",
       "text": [
        "\n",
        "/Users/carbz/Dropbox/Nigeria-NEAP-GIS/shapefiling/sad_converted/sad_bo.csv\n",
        "/Users/carbz/Dropbox/sad/sad_bp.csv"
       ]
      },
      {
       "output_type": "stream",
       "stream": "stdout",
       "text": [
        "\n",
        "/Users/carbz/Dropbox/Nigeria-NEAP-GIS/shapefiling/sad_converted/sad_bp.csv\n",
        "/Users/carbz/Dropbox/sad/sad_bq.csv"
       ]
      },
      {
       "output_type": "stream",
       "stream": "stdout",
       "text": [
        "\n",
        "/Users/carbz/Dropbox/Nigeria-NEAP-GIS/shapefiling/sad_converted/sad_bq.csv\n",
        "/Users/carbz/Dropbox/sad/sad_br.csv"
       ]
      },
      {
       "output_type": "stream",
       "stream": "stdout",
       "text": [
        "\n",
        "/Users/carbz/Dropbox/Nigeria-NEAP-GIS/shapefiling/sad_converted/sad_br.csv\n",
        "/Users/carbz/Dropbox/sad/sad_bs.csv"
       ]
      },
      {
       "output_type": "stream",
       "stream": "stdout",
       "text": [
        "\n",
        "/Users/carbz/Dropbox/Nigeria-NEAP-GIS/shapefiling/sad_converted/sad_bs.csv\n",
        "/Users/carbz/Dropbox/sad/sad_bt.csv"
       ]
      },
      {
       "output_type": "stream",
       "stream": "stdout",
       "text": [
        "\n",
        "/Users/carbz/Dropbox/Nigeria-NEAP-GIS/shapefiling/sad_converted/sad_bt.csv\n",
        "/Users/carbz/Dropbox/sad/sad_bu.csv"
       ]
      },
      {
       "output_type": "stream",
       "stream": "stdout",
       "text": [
        "\n",
        "/Users/carbz/Dropbox/Nigeria-NEAP-GIS/shapefiling/sad_converted/sad_bu.csv\n",
        "/Users/carbz/Dropbox/sad/sad_bv.csv"
       ]
      },
      {
       "output_type": "stream",
       "stream": "stdout",
       "text": [
        "\n",
        "/Users/carbz/Dropbox/Nigeria-NEAP-GIS/shapefiling/sad_converted/sad_bv.csv\n",
        "/Users/carbz/Dropbox/sad/sad_bw.csv"
       ]
      },
      {
       "output_type": "stream",
       "stream": "stdout",
       "text": [
        "\n",
        "/Users/carbz/Dropbox/Nigeria-NEAP-GIS/shapefiling/sad_converted/sad_bw.csv\n",
        "/Users/carbz/Dropbox/sad/sad_bx.csv"
       ]
      },
      {
       "output_type": "stream",
       "stream": "stdout",
       "text": [
        "\n",
        "/Users/carbz/Dropbox/Nigeria-NEAP-GIS/shapefiling/sad_converted/sad_bx.csv\n",
        "/Users/carbz/Dropbox/sad/sad_by.csv"
       ]
      },
      {
       "output_type": "stream",
       "stream": "stdout",
       "text": [
        "\n",
        "/Users/carbz/Dropbox/Nigeria-NEAP-GIS/shapefiling/sad_converted/sad_by.csv\n",
        "/Users/carbz/Dropbox/sad/sad_bz.csv"
       ]
      },
      {
       "output_type": "stream",
       "stream": "stdout",
       "text": [
        "\n",
        "/Users/carbz/Dropbox/Nigeria-NEAP-GIS/shapefiling/sad_converted/sad_bz.csv\n",
        "/Users/carbz/Dropbox/sad/sad_ca.csv"
       ]
      },
      {
       "output_type": "stream",
       "stream": "stdout",
       "text": [
        "\n",
        "/Users/carbz/Dropbox/Nigeria-NEAP-GIS/shapefiling/sad_converted/sad_ca.csv\n",
        "/Users/carbz/Dropbox/sad/sad_cb.csv"
       ]
      },
      {
       "output_type": "stream",
       "stream": "stdout",
       "text": [
        "\n",
        "/Users/carbz/Dropbox/Nigeria-NEAP-GIS/shapefiling/sad_converted/sad_cb.csv\n",
        "/Users/carbz/Dropbox/sad/sad_cc.csv"
       ]
      },
      {
       "output_type": "stream",
       "stream": "stdout",
       "text": [
        "\n",
        "/Users/carbz/Dropbox/Nigeria-NEAP-GIS/shapefiling/sad_converted/sad_cc.csv\n",
        "/Users/carbz/Dropbox/sad/sad_cd.csv"
       ]
      },
      {
       "output_type": "stream",
       "stream": "stdout",
       "text": [
        "\n",
        "/Users/carbz/Dropbox/Nigeria-NEAP-GIS/shapefiling/sad_converted/sad_cd.csv\n",
        "/Users/carbz/Dropbox/sad/sad_ce.csv"
       ]
      },
      {
       "output_type": "stream",
       "stream": "stdout",
       "text": [
        "\n",
        "/Users/carbz/Dropbox/Nigeria-NEAP-GIS/shapefiling/sad_converted/sad_ce.csv\n",
        "/Users/carbz/Dropbox/sad/sad_cf.csv"
       ]
      },
      {
       "output_type": "stream",
       "stream": "stdout",
       "text": [
        "\n",
        "/Users/carbz/Dropbox/Nigeria-NEAP-GIS/shapefiling/sad_converted/sad_cf.csv\n",
        "/Users/carbz/Dropbox/sad/sad_cg.csv"
       ]
      },
      {
       "output_type": "stream",
       "stream": "stdout",
       "text": [
        "\n",
        "/Users/carbz/Dropbox/Nigeria-NEAP-GIS/shapefiling/sad_converted/sad_cg.csv\n",
        "/Users/carbz/Dropbox/sad/sad_ch.csv"
       ]
      },
      {
       "output_type": "stream",
       "stream": "stdout",
       "text": [
        "\n",
        "/Users/carbz/Dropbox/Nigeria-NEAP-GIS/shapefiling/sad_converted/sad_ch.csv\n",
        "/Users/carbz/Dropbox/sad/sad_ci.csv"
       ]
      },
      {
       "output_type": "stream",
       "stream": "stdout",
       "text": [
        "\n",
        "/Users/carbz/Dropbox/Nigeria-NEAP-GIS/shapefiling/sad_converted/sad_ci.csv\n",
        "/Users/carbz/Dropbox/sad/sad_cj.csv"
       ]
      },
      {
       "output_type": "stream",
       "stream": "stdout",
       "text": [
        "\n",
        "/Users/carbz/Dropbox/Nigeria-NEAP-GIS/shapefiling/sad_converted/sad_cj.csv\n",
        "/Users/carbz/Dropbox/sad/sad_ck.csv"
       ]
      },
      {
       "output_type": "stream",
       "stream": "stdout",
       "text": [
        "\n",
        "/Users/carbz/Dropbox/Nigeria-NEAP-GIS/shapefiling/sad_converted/sad_ck.csv\n",
        "/Users/carbz/Dropbox/sad/sad_cl.csv"
       ]
      },
      {
       "output_type": "stream",
       "stream": "stdout",
       "text": [
        "\n",
        "/Users/carbz/Dropbox/Nigeria-NEAP-GIS/shapefiling/sad_converted/sad_cl.csv\n",
        "/Users/carbz/Dropbox/sad/sad_cm.csv"
       ]
      },
      {
       "output_type": "stream",
       "stream": "stdout",
       "text": [
        "\n",
        "/Users/carbz/Dropbox/Nigeria-NEAP-GIS/shapefiling/sad_converted/sad_cm.csv\n",
        "/Users/carbz/Dropbox/sad/sad_cn.csv"
       ]
      },
      {
       "output_type": "stream",
       "stream": "stdout",
       "text": [
        "\n",
        "/Users/carbz/Dropbox/Nigeria-NEAP-GIS/shapefiling/sad_converted/sad_cn.csv\n",
        "/Users/carbz/Dropbox/sad/sad_co.csv"
       ]
      },
      {
       "output_type": "stream",
       "stream": "stdout",
       "text": [
        "\n",
        "/Users/carbz/Dropbox/Nigeria-NEAP-GIS/shapefiling/sad_converted/sad_co.csv\n",
        "/Users/carbz/Dropbox/sad/sad_cp.csv"
       ]
      },
      {
       "output_type": "stream",
       "stream": "stdout",
       "text": [
        "\n",
        "/Users/carbz/Dropbox/Nigeria-NEAP-GIS/shapefiling/sad_converted/sad_cp.csv\n",
        "/Users/carbz/Dropbox/sad/sad_cq.csv"
       ]
      },
      {
       "output_type": "stream",
       "stream": "stdout",
       "text": [
        "\n",
        "/Users/carbz/Dropbox/Nigeria-NEAP-GIS/shapefiling/sad_converted/sad_cq.csv\n",
        "/Users/carbz/Dropbox/sad/sad_cr.csv"
       ]
      },
      {
       "output_type": "stream",
       "stream": "stdout",
       "text": [
        "\n",
        "/Users/carbz/Dropbox/Nigeria-NEAP-GIS/shapefiling/sad_converted/sad_cr.csv\n",
        "/Users/carbz/Dropbox/sad/sad_cs.csv"
       ]
      },
      {
       "output_type": "stream",
       "stream": "stdout",
       "text": [
        "\n",
        "/Users/carbz/Dropbox/Nigeria-NEAP-GIS/shapefiling/sad_converted/sad_cs.csv\n",
        "/Users/carbz/Dropbox/sad/sad_ct  FCT.csv"
       ]
      },
      {
       "output_type": "stream",
       "stream": "stdout",
       "text": [
        "\n",
        "/Users/carbz/Dropbox/Nigeria-NEAP-GIS/shapefiling/sad_converted/sad_ct  FCT.csv\n",
        "/Users/carbz/Dropbox/sad/sad_cu.csv"
       ]
      },
      {
       "output_type": "stream",
       "stream": "stdout",
       "text": [
        "\n",
        "/Users/carbz/Dropbox/Nigeria-NEAP-GIS/shapefiling/sad_converted/sad_cu.csv\n",
        "/Users/carbz/Dropbox/sad/tmg_data.csv"
       ]
      },
      {
       "output_type": "stream",
       "stream": "stdout",
       "text": [
        "\n",
        "/Users/carbz/Dropbox/Nigeria-NEAP-GIS/shapefiling/sad_converted/tmg_data.csv\n"
       ]
      }
     ],
     "prompt_number": 43
    },
    {
     "cell_type": "code",
     "collapsed": false,
     "input": [],
     "language": "python",
     "metadata": {},
     "outputs": []
    },
    {
     "cell_type": "markdown",
     "metadata": {},
     "source": [
      "## 1. Summarize by Polling Unit \n",
      "> * read all ~80 files\n",
      "> * summarize by PU\n",
      "> * concatanate and output"
     ]
    },
    {
     "cell_type": "markdown",
     "metadata": {},
     "source": [
      "### 1.1 Read CLEAN csv and summarize by PU \n",
      "Outputs along the way"
     ]
    },
    {
     "cell_type": "code",
     "collapsed": false,
     "input": [
      "#output a quick summary of each file\n",
      "from os import walk, listdir\n",
      "\n",
      "\n",
      "files = os.listdir('/Users/carbz/Dropbox/Nigeria-NEAP-GIS/shapefiling/sad_converted/')\n",
      "type(files)\n",
      "\n",
      "for i in filter(lambda name: '.' != name[0], files):\n",
      "#for i in range(1,3):  ##len(files)):\n",
      "    dir_name = '/Users/carbz/Dropbox/Nigeria-NEAP-GIS/shapefiling/sad_converted/' + i\n",
      "    print(dir_name)\n",
      "    \n",
      "    voters = pd.read_csv(dir_name,\n",
      "                         sep='|', #ensure seperator is well-defined here \n",
      "                         header=None) #preserve first row\n",
      "                         #engine = 'python') #use the 'python' engine because the 'c' engine doesn't support regex separators \n",
      "    print(voters.shape) #dimensions of dataset\n",
      "    \n",
      "    #summarize each vote group by Polling Unit AKA 5th column\n",
      "    grouped = voters.groupby([0,1,2,3,5])\n",
      "    pu_summary = grouped[4].agg([np.count_nonzero])\n",
      "    \n",
      "    #Output to a useful director\n",
      "    output_dir = '/Users/carbz/Dropbox/Nigeria-NEAP-GIS/shapefiling/voter_04pu_summary/' + 'voter_sum_of-' + i \n",
      "    pu_summary.to_csv(output_dir)\n",
      "    \n",
      "    \n",
      "    #summarize each voter by State too\n",
      "    #st_summary = voters.groupby([0])\n",
      "    #st_summary = st_summary[0].agg([np.count_nonzero])\n",
      "    \n",
      "    #output_dir = '/Users/carbz/Dropbox/Nigeria-NEAP-GIS/shapefiling/voter_01state_summary/' + 'voter_sum_of-' + files[i] \n",
      "    #st_summary.to_csv(output_dir)\n",
      "       \n",
      "       \n",
      "#for x in range(0, 3):"
     ],
     "language": "python",
     "metadata": {},
     "outputs": [
      {
       "output_type": "stream",
       "stream": "stdout",
       "text": [
        "/Users/carbz/Dropbox/Nigeria-NEAP-GIS/shapefiling/sad_converted/sad_bz.csv\n",
        "(974211, 16)"
       ]
      },
      {
       "output_type": "stream",
       "stream": "stdout",
       "text": [
        "\n",
        "/Users/carbz/Dropbox/Nigeria-NEAP-GIS/shapefiling/sad_converted/sad_ca.csv"
       ]
      },
      {
       "output_type": "stream",
       "stream": "stdout",
       "text": [
        "\n",
        "(985989, 16)"
       ]
      },
      {
       "output_type": "stream",
       "stream": "stdout",
       "text": [
        "\n",
        "/Users/carbz/Dropbox/Nigeria-NEAP-GIS/shapefiling/sad_converted/sad_cb.csv"
       ]
      },
      {
       "output_type": "stream",
       "stream": "stdout",
       "text": [
        "\n",
        "(990199, 16)"
       ]
      },
      {
       "output_type": "stream",
       "stream": "stdout",
       "text": [
        "\n",
        "/Users/carbz/Dropbox/Nigeria-NEAP-GIS/shapefiling/sad_converted/sad_cc.csv"
       ]
      },
      {
       "output_type": "stream",
       "stream": "stdout",
       "text": [
        "\n",
        "(995699, 16)"
       ]
      },
      {
       "output_type": "stream",
       "stream": "stdout",
       "text": [
        "\n",
        "/Users/carbz/Dropbox/Nigeria-NEAP-GIS/shapefiling/sad_converted/sad_cd.csv"
       ]
      },
      {
       "output_type": "stream",
       "stream": "stdout",
       "text": [
        "\n",
        "(995007, 16)"
       ]
      },
      {
       "output_type": "stream",
       "stream": "stdout",
       "text": [
        "\n",
        "/Users/carbz/Dropbox/Nigeria-NEAP-GIS/shapefiling/sad_converted/sad_ce.csv"
       ]
      },
      {
       "output_type": "stream",
       "stream": "stdout",
       "text": [
        "\n",
        "(991851, 16)"
       ]
      },
      {
       "output_type": "stream",
       "stream": "stdout",
       "text": [
        "\n",
        "/Users/carbz/Dropbox/Nigeria-NEAP-GIS/shapefiling/sad_converted/sad_cf.csv"
       ]
      },
      {
       "output_type": "stream",
       "stream": "stdout",
       "text": [
        "\n",
        "(994133, 16)"
       ]
      },
      {
       "output_type": "stream",
       "stream": "stdout",
       "text": [
        "\n",
        "/Users/carbz/Dropbox/Nigeria-NEAP-GIS/shapefiling/sad_converted/sad_cg.csv"
       ]
      },
      {
       "output_type": "stream",
       "stream": "stdout",
       "text": [
        "\n",
        "(995480, 16)"
       ]
      },
      {
       "output_type": "stream",
       "stream": "stdout",
       "text": [
        "\n",
        "/Users/carbz/Dropbox/Nigeria-NEAP-GIS/shapefiling/sad_converted/sad_ch.csv"
       ]
      },
      {
       "output_type": "stream",
       "stream": "stdout",
       "text": [
        "\n",
        "(986912, 16)"
       ]
      },
      {
       "output_type": "stream",
       "stream": "stdout",
       "text": [
        "\n",
        "/Users/carbz/Dropbox/Nigeria-NEAP-GIS/shapefiling/sad_converted/sad_ci.csv"
       ]
      },
      {
       "output_type": "stream",
       "stream": "stdout",
       "text": [
        "\n",
        "(978212, 16)"
       ]
      },
      {
       "output_type": "stream",
       "stream": "stdout",
       "text": [
        "\n",
        "/Users/carbz/Dropbox/Nigeria-NEAP-GIS/shapefiling/sad_converted/sad_cj.csv"
       ]
      },
      {
       "output_type": "stream",
       "stream": "stdout",
       "text": [
        "\n",
        "(982406, 16)"
       ]
      },
      {
       "output_type": "stream",
       "stream": "stdout",
       "text": [
        "\n",
        "/Users/carbz/Dropbox/Nigeria-NEAP-GIS/shapefiling/sad_converted/sad_ck.csv"
       ]
      },
      {
       "output_type": "stream",
       "stream": "stdout",
       "text": [
        "\n",
        "(979625, 16)"
       ]
      },
      {
       "output_type": "stream",
       "stream": "stdout",
       "text": [
        "\n",
        "/Users/carbz/Dropbox/Nigeria-NEAP-GIS/shapefiling/sad_converted/sad_cl.csv"
       ]
      },
      {
       "output_type": "stream",
       "stream": "stdout",
       "text": [
        "\n",
        "(979000, 16)"
       ]
      },
      {
       "output_type": "stream",
       "stream": "stdout",
       "text": [
        "\n",
        "/Users/carbz/Dropbox/Nigeria-NEAP-GIS/shapefiling/sad_converted/sad_cm.csv"
       ]
      },
      {
       "output_type": "stream",
       "stream": "stdout",
       "text": [
        "\n",
        "(987436, 16)"
       ]
      },
      {
       "output_type": "stream",
       "stream": "stdout",
       "text": [
        "\n",
        "/Users/carbz/Dropbox/Nigeria-NEAP-GIS/shapefiling/sad_converted/sad_cn.csv"
       ]
      },
      {
       "output_type": "stream",
       "stream": "stdout",
       "text": [
        "\n",
        "(989914, 16)"
       ]
      },
      {
       "output_type": "stream",
       "stream": "stdout",
       "text": [
        "\n",
        "/Users/carbz/Dropbox/Nigeria-NEAP-GIS/shapefiling/sad_converted/sad_co.csv"
       ]
      },
      {
       "output_type": "stream",
       "stream": "stdout",
       "text": [
        "\n",
        "(993205, 16)"
       ]
      },
      {
       "output_type": "stream",
       "stream": "stdout",
       "text": [
        "\n",
        "/Users/carbz/Dropbox/Nigeria-NEAP-GIS/shapefiling/sad_converted/sad_cp.csv"
       ]
      },
      {
       "output_type": "stream",
       "stream": "stdout",
       "text": [
        "\n",
        "(995002, 16)"
       ]
      },
      {
       "output_type": "stream",
       "stream": "stdout",
       "text": [
        "\n",
        "/Users/carbz/Dropbox/Nigeria-NEAP-GIS/shapefiling/sad_converted/sad_cq.csv"
       ]
      },
      {
       "output_type": "stream",
       "stream": "stdout",
       "text": [
        "\n",
        "(991345, 16)"
       ]
      },
      {
       "output_type": "stream",
       "stream": "stdout",
       "text": [
        "\n",
        "/Users/carbz/Dropbox/Nigeria-NEAP-GIS/shapefiling/sad_converted/sad_cr.csv"
       ]
      },
      {
       "output_type": "stream",
       "stream": "stdout",
       "text": [
        "\n",
        "(993467, 16)"
       ]
      },
      {
       "output_type": "stream",
       "stream": "stdout",
       "text": [
        "\n",
        "/Users/carbz/Dropbox/Nigeria-NEAP-GIS/shapefiling/sad_converted/sad_cs.csv"
       ]
      },
      {
       "output_type": "stream",
       "stream": "stdout",
       "text": [
        "\n",
        "(983420, 16)"
       ]
      },
      {
       "output_type": "stream",
       "stream": "stdout",
       "text": [
        "\n",
        "/Users/carbz/Dropbox/Nigeria-NEAP-GIS/shapefiling/sad_converted/sad_ct  FCT.csv"
       ]
      },
      {
       "output_type": "stream",
       "stream": "stdout",
       "text": [
        "\n",
        "(993890, 16)"
       ]
      },
      {
       "output_type": "stream",
       "stream": "stdout",
       "text": [
        "\n",
        "/Users/carbz/Dropbox/Nigeria-NEAP-GIS/shapefiling/sad_converted/sad_cu.csv"
       ]
      },
      {
       "output_type": "stream",
       "stream": "stdout",
       "text": [
        "\n",
        "(767272, 16)"
       ]
      },
      {
       "output_type": "stream",
       "stream": "stdout",
       "text": [
        "\n",
        "/Users/carbz/Dropbox/Nigeria-NEAP-GIS/shapefiling/sad_converted/tmg_data.csv"
       ]
      },
      {
       "output_type": "stream",
       "stream": "stdout",
       "text": [
        "\n",
        "(23869728, 16)"
       ]
      },
      {
       "output_type": "stream",
       "stream": "stdout",
       "text": [
        "\n"
       ]
      },
      {
       "output_type": "stream",
       "stream": "stderr",
       "text": [
        "/Users/carbz/anaconda/lib/python2.7/site-packages/pandas/io/parsers.py:1130: DtypeWarning: Columns (11) have mixed types. Specify dtype option on import or set low_memory=False.\n",
        "  data = self._reader.read(nrows)\n"
       ]
      }
     ],
     "prompt_number": 47
    },
    {
     "cell_type": "markdown",
     "metadata": {},
     "source": [
      "### 1.2 Concatanate Outputs"
     ]
    },
    {
     "cell_type": "code",
     "collapsed": false,
     "input": [
      "#Concatanate the list of files togehter\n",
      "#w/ Brandon Oct 9\n",
      "\n",
      "import os\n",
      "from os import walk\n",
      "from os import listdir\n",
      "\n",
      "dir_name = '/Users/carbz/Dropbox/Nigeria-NEAP-GIS/shapefiling/voter_04pu_summaryV2/'\n",
      "files = [os.path.join(dir_name, file_) for file_ in filter(lambda x: x[0] != '.', os.listdir(dir_name))]\n",
      "\n",
      "\n",
      "def add_col_file(file_):\n",
      "    df = pd.read_csv(file_)\n",
      "    df['file_name'] = file_.split('/')[-1]\n",
      "    \n",
      "    return df\n",
      "    \n",
      "all_pus = pd.concat(map(add_col_file, files))\n",
      "\n",
      "output_dir = '/Users/carbz/Dropbox/Nigeria-NEAP-GIS/shapefiling/' + 'voter_sum_of-' + 'voter_04pu_summary-concat-FINAL.csv'\n",
      "\n",
      "all_pus.to_csv(output_dir, \n",
      "              #header = 0,\n",
      "              index = 0)"
     ],
     "language": "python",
     "metadata": {},
     "outputs": [],
     "prompt_number": 48
    },
    {
     "cell_type": "markdown",
     "metadata": {},
     "source": [
      "### A1 Example of cleaning process"
     ]
    },
    {
     "cell_type": "code",
     "collapsed": false,
     "input": [
      "bad_string =\"\"\"\n",
      "\"OGUN\",\"ABEOKUTA SOUTH\",\"IMO/ISABO\",\"OPP. MAGISTRATE COURT  I\",\"90F5B1A04A296304831\",\"27/02/12/019\",\"Odedina\",\"Oluwatosin\",\"Adesina\",\"1977\",\"01\",\"23\",\"Male\",\"2 ANIFOWOSE ST.ADIGBE ABK.\\\n",
      "\\\n",
      ",\\\n",
      "\\\n",
      "\",\"Civil Servant\",\"0\"\n",
      "\"\"\"\n",
      "\\\n",
      "\n",
      "read_file = '/Users/carbz/Desktop/damn_line_breaks.txt'\n",
      "with open(read_file) as voter_set:\n",
      "        data = voter_set.read()\n",
      "\n",
      "#Things I want to search and replace\n",
      "midrow_linebreaks = re.compile(r'[A-z]\\n', re.DOTALL)\n",
      "coded_blanks = '\\\\\\N' ##blank data is often reports as '\\N', let's make it a \"\" instead\n",
      "pre_existing_pipes = '\\|'\n",
      "normal_delims = '\",\"'#normal delims will be replaced with something less used\n",
      "errant_quotes = '\"'\n",
      "\n",
      "#data = bad_string\n",
      "better_data0 = re.sub(midrow_linebreaks, '_', data) #midrow line breaks swapped with '_' underscores\n",
      "better_data1 = re.sub(coded_blanks,'\"\"',better_data0) #making coded blanks empty spaces\n",
      "better_data2 = re.sub(pre_existing_pipes,'-',better_data1) #remove any pipes currently in use, sorry but here's a dash instead\n",
      "better_data3 = re.sub(normal_delims,'|',better_data2) #replacing normal delims with pipes |'s\n",
      "best_data = re.sub(errant_quotes,'',better_data3) #any dangling quotes will be removed for now \n",
      "\n",
      "print(data + '\\nReplace Midrow line breaks\\n' +\n",
      "      better_data0 + '\\mReplace coded blanks\\n' +\n",
      "      better_data1 + '\\nreplace pre-existing pipes\\n' + \n",
      "      better_data2 + '\\n replace delims with pipes \\n'+\n",
      "      better_data3 + '\\nremove floating quotes\\nSimulated Result:'+\n",
      "      best_data)"
     ],
     "language": "python",
     "metadata": {},
     "outputs": [
      {
       "output_type": "stream",
       "stream": "stdout",
       "text": [
        "\"OGUN\",\"ABEOKUTA SOUTH\",\"IMO/ISABO\",\"OPP. MAGISTRATE COURT  I\",\"90F5B1A04A296304831\",\"27/02/12/019\",\"Odedina\",\"Oluwatosin\",\"Adesina\",\"1977\",\"01\",\"23\",\"Male\",\"2 ANIFOWOSE ST.ADIGBE ABK.\\\n",
        "\\\n",
        ",\\\n",
        "\\\n",
        "\",\"Civil Servant\",\"0\"\n",
        "\n",
        "Replace Midrow line breaks\n",
        "\"OGUN\",\"ABEOKUTA SOUTH\",\"IMO/ISABO\",\"OPP. MAGISTRATE COURT  I\",\"90F5B1A04A296304831\",\"27/02/12/019\",\"Odedina\",\"Oluwatosin\",\"Adesina\",\"1977\",\"01\",\"23\",\"Male\",\"2 ANIFOWOSE ST.ADIGBE ABK.__,__\",\"Civil Servant\",\"0\"\n",
        "\\mReplace coded blanks\n",
        "\"OGUN\",\"ABEOKUTA SOUTH\",\"IMO/ISABO\",\"OPP. MAGISTRATE COURT  I\",\"90F5B1A04A296304831\",\"27/02/12/019\",\"Odedina\",\"Oluwatosin\",\"Adesina\",\"1977\",\"01\",\"23\",\"Male\",\"2 ANIFOWOSE ST.ADIGBE ABK.__,__\",\"Civil Servant\",\"0\"\n",
        "\n",
        "replace pre-existing pipes\n",
        "\"OGUN\",\"ABEOKUTA SOUTH\",\"IMO/ISABO\",\"OPP. MAGISTRATE COURT  I\",\"90F5B1A04A296304831\",\"27/02/12/019\",\"Odedina\",\"Oluwatosin\",\"Adesina\",\"1977\",\"01\",\"23\",\"Male\",\"2 ANIFOWOSE ST.ADIGBE ABK.__,__\",\"Civil Servant\",\"0\"\n",
        "\n",
        " replace delims with pipes \n",
        "\"OGUN|ABEOKUTA SOUTH|IMO/ISABO|OPP. MAGISTRATE COURT  I|90F5B1A04A296304831|27/02/12/019|Odedina|Oluwatosin|Adesina|1977|01|23|Male|2 ANIFOWOSE ST.ADIGBE ABK.__,__|Civil Servant|0\"\n",
        "\n",
        "remove floating quotes\n",
        "Simulated Result:OGUN|ABEOKUTA SOUTH|IMO/ISABO|OPP. MAGISTRATE COURT  I|90F5B1A04A296304831|27/02/12/019|Odedina|Oluwatosin|Adesina|1977|01|23|Male|2 ANIFOWOSE ST.ADIGBE ABK.__,__|Civil Servant|0\n",
        "\n"
       ]
      }
     ],
     "prompt_number": 42
    },
    {
     "cell_type": "markdown",
     "metadata": {},
     "source": [
      "### A2 Output Converted CSVs for Edwin's inspection"
     ]
    },
    {
     "cell_type": "code",
     "collapsed": false,
     "input": [
      "files = os.listdir('/Users/carbz/Dropbox/Nigeria-NEAP-GIS/shapefiling/sad_converted/')\n",
      "type(files)\n",
      "\n",
      "for i in filter(lambda name: '.' != name[0], files):\n",
      "#for i in range(1,3):  ##len(files)):\n",
      "    dir_name = '/Users/carbz/Dropbox/Nigeria-NEAP-GIS/shapefiling/sad_converted/' + i\n",
      "    print(dir_name)\n",
      "    \n",
      "    voters = pd.read_csv(dir_name,\n",
      "                         sep='|', #ensure seperator is well-defined here \n",
      "                         header=None) #preserve first row\n",
      "                         #engine = 'python') #use the 'python' engine because the 'c' engine doesn't support regex separators \n",
      "    print(voters.shape) #dimensions of dataset\n",
      "       \n",
      "    #Output to a useful director\n",
      "    output_dir = '/Users/carbz/Dropbox/Nigeria-NEAP-GIS/DatafromEric-09292014/cleaned_files/' + i \n",
      "    voters.to_csv(output_dir)"
     ],
     "language": "python",
     "metadata": {},
     "outputs": [
      {
       "output_type": "stream",
       "stream": "stdout",
       "text": [
        "/Users/carbz/Dropbox/Nigeria-NEAP-GIS/shapefiling/sad_converted/sad_aa.csv\n",
        "(990520, 16)"
       ]
      },
      {
       "output_type": "stream",
       "stream": "stdout",
       "text": [
        "\n",
        "/Users/carbz/Dropbox/Nigeria-NEAP-GIS/shapefiling/sad_converted/sad_ab.csv"
       ]
      },
      {
       "output_type": "stream",
       "stream": "stdout",
       "text": [
        "\n",
        "(994102, 16)"
       ]
      },
      {
       "output_type": "stream",
       "stream": "stdout",
       "text": [
        "\n",
        "/Users/carbz/Dropbox/Nigeria-NEAP-GIS/shapefiling/sad_converted/sad_ac.csv"
       ]
      },
      {
       "output_type": "stream",
       "stream": "stdout",
       "text": [
        "\n",
        "(992377, 16)"
       ]
      },
      {
       "output_type": "stream",
       "stream": "stdout",
       "text": [
        "\n",
        "/Users/carbz/Dropbox/Nigeria-NEAP-GIS/shapefiling/sad_converted/sad_ad.csv"
       ]
      },
      {
       "output_type": "stream",
       "stream": "stdout",
       "text": [
        "\n",
        "(992795, 16)"
       ]
      },
      {
       "output_type": "stream",
       "stream": "stdout",
       "text": [
        "\n",
        "/Users/carbz/Dropbox/Nigeria-NEAP-GIS/shapefiling/sad_converted/sad_ae.csv"
       ]
      },
      {
       "output_type": "stream",
       "stream": "stdout",
       "text": [
        "\n",
        "(995350, 16)"
       ]
      },
      {
       "output_type": "stream",
       "stream": "stdout",
       "text": [
        "\n",
        "/Users/carbz/Dropbox/Nigeria-NEAP-GIS/shapefiling/sad_converted/sad_af.csv"
       ]
      },
      {
       "output_type": "stream",
       "stream": "stdout",
       "text": [
        "\n",
        "(984553, 16)"
       ]
      },
      {
       "output_type": "stream",
       "stream": "stdout",
       "text": [
        "\n",
        "/Users/carbz/Dropbox/Nigeria-NEAP-GIS/shapefiling/sad_converted/sad_ag.csv"
       ]
      },
      {
       "output_type": "stream",
       "stream": "stdout",
       "text": [
        "\n",
        "(988102, 16)"
       ]
      },
      {
       "output_type": "stream",
       "stream": "stdout",
       "text": [
        "\n",
        "/Users/carbz/Dropbox/Nigeria-NEAP-GIS/shapefiling/sad_converted/sad_ah.csv"
       ]
      },
      {
       "output_type": "stream",
       "stream": "stdout",
       "text": [
        "\n",
        "(993239, 16)"
       ]
      },
      {
       "output_type": "stream",
       "stream": "stdout",
       "text": [
        "\n",
        "/Users/carbz/Dropbox/Nigeria-NEAP-GIS/shapefiling/sad_converted/sad_ai.csv"
       ]
      },
      {
       "output_type": "stream",
       "stream": "stdout",
       "text": [
        "\n",
        "(992384, 16)"
       ]
      },
      {
       "output_type": "stream",
       "stream": "stdout",
       "text": [
        "\n",
        "/Users/carbz/Dropbox/Nigeria-NEAP-GIS/shapefiling/sad_converted/sad_aj.csv"
       ]
      },
      {
       "output_type": "stream",
       "stream": "stdout",
       "text": [
        "\n",
        "(986811, 16)"
       ]
      },
      {
       "output_type": "stream",
       "stream": "stdout",
       "text": [
        "\n",
        "/Users/carbz/Dropbox/Nigeria-NEAP-GIS/shapefiling/sad_converted/sad_ak.csv"
       ]
      },
      {
       "output_type": "stream",
       "stream": "stdout",
       "text": [
        "\n",
        "(990402, 16)"
       ]
      },
      {
       "output_type": "stream",
       "stream": "stdout",
       "text": [
        "\n",
        "/Users/carbz/Dropbox/Nigeria-NEAP-GIS/shapefiling/sad_converted/sad_al.csv"
       ]
      },
      {
       "output_type": "stream",
       "stream": "stdout",
       "text": [
        "\n",
        "(994524, 16)"
       ]
      },
      {
       "output_type": "stream",
       "stream": "stdout",
       "text": [
        "\n",
        "/Users/carbz/Dropbox/Nigeria-NEAP-GIS/shapefiling/sad_converted/sad_am.csv"
       ]
      },
      {
       "output_type": "stream",
       "stream": "stdout",
       "text": [
        "\n",
        "(993703, 16)"
       ]
      },
      {
       "output_type": "stream",
       "stream": "stdout",
       "text": [
        "\n",
        "/Users/carbz/Dropbox/Nigeria-NEAP-GIS/shapefiling/sad_converted/sad_an.csv"
       ]
      },
      {
       "output_type": "stream",
       "stream": "stdout",
       "text": [
        "\n",
        "(995044, 16)"
       ]
      },
      {
       "output_type": "stream",
       "stream": "stdout",
       "text": [
        "\n",
        "/Users/carbz/Dropbox/Nigeria-NEAP-GIS/shapefiling/sad_converted/sad_ao.csv"
       ]
      },
      {
       "output_type": "stream",
       "stream": "stdout",
       "text": [
        "\n",
        "(992730, 16)"
       ]
      },
      {
       "output_type": "stream",
       "stream": "stdout",
       "text": [
        "\n",
        "/Users/carbz/Dropbox/Nigeria-NEAP-GIS/shapefiling/sad_converted/sad_ap.csv"
       ]
      },
      {
       "output_type": "stream",
       "stream": "stdout",
       "text": [
        "\n",
        "(991131, 16)"
       ]
      },
      {
       "output_type": "stream",
       "stream": "stdout",
       "text": [
        "\n",
        "/Users/carbz/Dropbox/Nigeria-NEAP-GIS/shapefiling/sad_converted/sad_aq.csv"
       ]
      },
      {
       "output_type": "stream",
       "stream": "stdout",
       "text": [
        "\n",
        "(986480, 16)"
       ]
      },
      {
       "output_type": "stream",
       "stream": "stdout",
       "text": [
        "\n",
        "/Users/carbz/Dropbox/Nigeria-NEAP-GIS/shapefiling/sad_converted/sad_ar.csv"
       ]
      },
      {
       "output_type": "stream",
       "stream": "stdout",
       "text": [
        "\n",
        "(992432, 16)"
       ]
      },
      {
       "output_type": "stream",
       "stream": "stdout",
       "text": [
        "\n",
        "/Users/carbz/Dropbox/Nigeria-NEAP-GIS/shapefiling/sad_converted/sad_as.csv"
       ]
      },
      {
       "output_type": "stream",
       "stream": "stdout",
       "text": [
        "\n",
        "(992694, 16)"
       ]
      },
      {
       "output_type": "stream",
       "stream": "stdout",
       "text": [
        "\n",
        "/Users/carbz/Dropbox/Nigeria-NEAP-GIS/shapefiling/sad_converted/sad_at.csv"
       ]
      },
      {
       "output_type": "stream",
       "stream": "stdout",
       "text": [
        "\n",
        "(995136, 16)"
       ]
      },
      {
       "output_type": "stream",
       "stream": "stdout",
       "text": [
        "\n",
        "/Users/carbz/Dropbox/Nigeria-NEAP-GIS/shapefiling/sad_converted/sad_au.csv"
       ]
      },
      {
       "output_type": "stream",
       "stream": "stdout",
       "text": [
        "\n",
        "(995004, 16)"
       ]
      },
      {
       "output_type": "stream",
       "stream": "stdout",
       "text": [
        "\n",
        "/Users/carbz/Dropbox/Nigeria-NEAP-GIS/shapefiling/sad_converted/sad_av.csv"
       ]
      },
      {
       "output_type": "stream",
       "stream": "stdout",
       "text": [
        "\n",
        "(991859, 16)"
       ]
      },
      {
       "output_type": "stream",
       "stream": "stdout",
       "text": [
        "\n",
        "/Users/carbz/Dropbox/Nigeria-NEAP-GIS/shapefiling/sad_converted/sad_aw.csv"
       ]
      },
      {
       "output_type": "stream",
       "stream": "stdout",
       "text": [
        "\n",
        "(994183, 16)"
       ]
      },
      {
       "output_type": "stream",
       "stream": "stdout",
       "text": [
        "\n",
        "/Users/carbz/Dropbox/Nigeria-NEAP-GIS/shapefiling/sad_converted/sad_ax.csv"
       ]
      },
      {
       "output_type": "stream",
       "stream": "stdout",
       "text": [
        "\n",
        "(988697, 16)"
       ]
      },
      {
       "output_type": "stream",
       "stream": "stdout",
       "text": [
        "\n",
        "/Users/carbz/Dropbox/Nigeria-NEAP-GIS/shapefiling/sad_converted/sad_ay.csv"
       ]
      },
      {
       "output_type": "stream",
       "stream": "stdout",
       "text": [
        "\n",
        "(989005, 16)"
       ]
      },
      {
       "output_type": "stream",
       "stream": "stdout",
       "text": [
        "\n",
        "/Users/carbz/Dropbox/Nigeria-NEAP-GIS/shapefiling/sad_converted/sad_az.csv"
       ]
      },
      {
       "output_type": "stream",
       "stream": "stdout",
       "text": [
        "\n",
        "(992758, 16)"
       ]
      },
      {
       "output_type": "stream",
       "stream": "stdout",
       "text": [
        "\n",
        "/Users/carbz/Dropbox/Nigeria-NEAP-GIS/shapefiling/sad_converted/sad_ba.csv"
       ]
      },
      {
       "output_type": "stream",
       "stream": "stdout",
       "text": [
        "\n",
        "(993553, 16)"
       ]
      },
      {
       "output_type": "stream",
       "stream": "stdout",
       "text": [
        "\n",
        "/Users/carbz/Dropbox/Nigeria-NEAP-GIS/shapefiling/sad_converted/sad_bb.csv"
       ]
      },
      {
       "output_type": "stream",
       "stream": "stdout",
       "text": [
        "\n",
        "(945354, 16)"
       ]
      },
      {
       "output_type": "stream",
       "stream": "stdout",
       "text": [
        "\n",
        "/Users/carbz/Dropbox/Nigeria-NEAP-GIS/shapefiling/sad_converted/sad_bc.csv"
       ]
      },
      {
       "output_type": "stream",
       "stream": "stdout",
       "text": [
        "\n",
        "(992556, 16)"
       ]
      },
      {
       "output_type": "stream",
       "stream": "stdout",
       "text": [
        "\n",
        "/Users/carbz/Dropbox/Nigeria-NEAP-GIS/shapefiling/sad_converted/sad_bd.csv"
       ]
      },
      {
       "output_type": "stream",
       "stream": "stdout",
       "text": [
        "\n",
        "(988956, 16)"
       ]
      },
      {
       "output_type": "stream",
       "stream": "stdout",
       "text": [
        "\n",
        "/Users/carbz/Dropbox/Nigeria-NEAP-GIS/shapefiling/sad_converted/sad_be.csv"
       ]
      },
      {
       "output_type": "stream",
       "stream": "stdout",
       "text": [
        "\n",
        "(989047, 16)"
       ]
      },
      {
       "output_type": "stream",
       "stream": "stdout",
       "text": [
        "\n",
        "/Users/carbz/Dropbox/Nigeria-NEAP-GIS/shapefiling/sad_converted/sad_bf.csv"
       ]
      },
      {
       "output_type": "stream",
       "stream": "stdout",
       "text": [
        "\n",
        "(985498, 16)"
       ]
      },
      {
       "output_type": "stream",
       "stream": "stdout",
       "text": [
        "\n",
        "/Users/carbz/Dropbox/Nigeria-NEAP-GIS/shapefiling/sad_converted/sad_bg.csv"
       ]
      },
      {
       "output_type": "stream",
       "stream": "stdout",
       "text": [
        "\n",
        "(993974, 16)"
       ]
      },
      {
       "output_type": "stream",
       "stream": "stdout",
       "text": [
        "\n",
        "/Users/carbz/Dropbox/Nigeria-NEAP-GIS/shapefiling/sad_converted/sad_bh.csv"
       ]
      },
      {
       "output_type": "stream",
       "stream": "stdout",
       "text": [
        "\n",
        "(990337, 16)"
       ]
      },
      {
       "output_type": "stream",
       "stream": "stdout",
       "text": [
        "\n",
        "/Users/carbz/Dropbox/Nigeria-NEAP-GIS/shapefiling/sad_converted/sad_bi.csv"
       ]
      },
      {
       "output_type": "stream",
       "stream": "stdout",
       "text": [
        "\n",
        "(990050, 16)"
       ]
      },
      {
       "output_type": "stream",
       "stream": "stdout",
       "text": [
        "\n",
        "/Users/carbz/Dropbox/Nigeria-NEAP-GIS/shapefiling/sad_converted/sad_bj.csv"
       ]
      },
      {
       "output_type": "stream",
       "stream": "stdout",
       "text": [
        "\n",
        "(992955, 16)"
       ]
      },
      {
       "output_type": "stream",
       "stream": "stdout",
       "text": [
        "\n",
        "/Users/carbz/Dropbox/Nigeria-NEAP-GIS/shapefiling/sad_converted/sad_bk.csv"
       ]
      },
      {
       "output_type": "stream",
       "stream": "stdout",
       "text": [
        "\n",
        "(986032, 16)"
       ]
      },
      {
       "output_type": "stream",
       "stream": "stdout",
       "text": [
        "\n",
        "/Users/carbz/Dropbox/Nigeria-NEAP-GIS/shapefiling/sad_converted/sad_bl.csv"
       ]
      },
      {
       "output_type": "stream",
       "stream": "stdout",
       "text": [
        "\n",
        "(992827, 16)"
       ]
      },
      {
       "output_type": "stream",
       "stream": "stdout",
       "text": [
        "\n",
        "/Users/carbz/Dropbox/Nigeria-NEAP-GIS/shapefiling/sad_converted/sad_bm.csv"
       ]
      },
      {
       "output_type": "stream",
       "stream": "stdout",
       "text": [
        "\n",
        "(990270, 16)"
       ]
      },
      {
       "output_type": "stream",
       "stream": "stdout",
       "text": [
        "\n",
        "/Users/carbz/Dropbox/Nigeria-NEAP-GIS/shapefiling/sad_converted/sad_bn.csv"
       ]
      },
      {
       "output_type": "stream",
       "stream": "stdout",
       "text": [
        "\n",
        "(986452, 16)"
       ]
      },
      {
       "output_type": "stream",
       "stream": "stdout",
       "text": [
        "\n",
        "/Users/carbz/Dropbox/Nigeria-NEAP-GIS/shapefiling/sad_converted/sad_bo.csv"
       ]
      },
      {
       "output_type": "stream",
       "stream": "stdout",
       "text": [
        "\n",
        "(996626, 16)"
       ]
      },
      {
       "output_type": "stream",
       "stream": "stdout",
       "text": [
        "\n",
        "/Users/carbz/Dropbox/Nigeria-NEAP-GIS/shapefiling/sad_converted/sad_bp.csv"
       ]
      },
      {
       "output_type": "stream",
       "stream": "stdout",
       "text": [
        "\n",
        "(993586, 16)"
       ]
      },
      {
       "output_type": "stream",
       "stream": "stdout",
       "text": [
        "\n",
        "/Users/carbz/Dropbox/Nigeria-NEAP-GIS/shapefiling/sad_converted/sad_bq.csv"
       ]
      },
      {
       "output_type": "stream",
       "stream": "stdout",
       "text": [
        "\n",
        "(985107, 16)"
       ]
      },
      {
       "output_type": "stream",
       "stream": "stdout",
       "text": [
        "\n",
        "/Users/carbz/Dropbox/Nigeria-NEAP-GIS/shapefiling/sad_converted/sad_br.csv"
       ]
      },
      {
       "output_type": "stream",
       "stream": "stdout",
       "text": [
        "\n",
        "(994281, 16)"
       ]
      },
      {
       "output_type": "stream",
       "stream": "stdout",
       "text": [
        "\n",
        "/Users/carbz/Dropbox/Nigeria-NEAP-GIS/shapefiling/sad_converted/sad_bs.csv"
       ]
      },
      {
       "output_type": "stream",
       "stream": "stdout",
       "text": [
        "\n",
        "(994134, 16)"
       ]
      },
      {
       "output_type": "stream",
       "stream": "stdout",
       "text": [
        "\n",
        "/Users/carbz/Dropbox/Nigeria-NEAP-GIS/shapefiling/sad_converted/sad_bt.csv"
       ]
      },
      {
       "output_type": "stream",
       "stream": "stdout",
       "text": [
        "\n",
        "(985344, 16)"
       ]
      },
      {
       "output_type": "stream",
       "stream": "stdout",
       "text": [
        "\n",
        "/Users/carbz/Dropbox/Nigeria-NEAP-GIS/shapefiling/sad_converted/sad_bu.csv"
       ]
      },
      {
       "output_type": "stream",
       "stream": "stdout",
       "text": [
        "\n",
        "(991856, 16)"
       ]
      },
      {
       "output_type": "stream",
       "stream": "stdout",
       "text": [
        "\n",
        "/Users/carbz/Dropbox/Nigeria-NEAP-GIS/shapefiling/sad_converted/sad_bv.csv"
       ]
      },
      {
       "output_type": "stream",
       "stream": "stdout",
       "text": [
        "\n",
        "(994115, 16)"
       ]
      },
      {
       "output_type": "stream",
       "stream": "stdout",
       "text": [
        "\n",
        "/Users/carbz/Dropbox/Nigeria-NEAP-GIS/shapefiling/sad_converted/sad_bw.csv"
       ]
      },
      {
       "output_type": "stream",
       "stream": "stdout",
       "text": [
        "\n",
        "(953108, 16)"
       ]
      },
      {
       "output_type": "stream",
       "stream": "stdout",
       "text": [
        "\n",
        "/Users/carbz/Dropbox/Nigeria-NEAP-GIS/shapefiling/sad_converted/sad_bx.csv"
       ]
      },
      {
       "output_type": "stream",
       "stream": "stdout",
       "text": [
        "\n",
        "(974433, 16)"
       ]
      },
      {
       "output_type": "stream",
       "stream": "stdout",
       "text": [
        "\n",
        "/Users/carbz/Dropbox/Nigeria-NEAP-GIS/shapefiling/sad_converted/sad_by.csv"
       ]
      },
      {
       "output_type": "stream",
       "stream": "stdout",
       "text": [
        "\n",
        "(975102, 16)"
       ]
      },
      {
       "output_type": "stream",
       "stream": "stdout",
       "text": [
        "\n",
        "/Users/carbz/Dropbox/Nigeria-NEAP-GIS/shapefiling/sad_converted/sad_bz.csv"
       ]
      },
      {
       "output_type": "stream",
       "stream": "stdout",
       "text": [
        "\n",
        "(974211, 16)"
       ]
      },
      {
       "output_type": "stream",
       "stream": "stdout",
       "text": [
        "\n",
        "/Users/carbz/Dropbox/Nigeria-NEAP-GIS/shapefiling/sad_converted/sad_ca.csv"
       ]
      },
      {
       "output_type": "stream",
       "stream": "stdout",
       "text": [
        "\n",
        "(985989, 16)"
       ]
      },
      {
       "output_type": "stream",
       "stream": "stdout",
       "text": [
        "\n",
        "/Users/carbz/Dropbox/Nigeria-NEAP-GIS/shapefiling/sad_converted/sad_cb.csv"
       ]
      },
      {
       "output_type": "stream",
       "stream": "stdout",
       "text": [
        "\n",
        "(990199, 16)"
       ]
      },
      {
       "output_type": "stream",
       "stream": "stdout",
       "text": [
        "\n",
        "/Users/carbz/Dropbox/Nigeria-NEAP-GIS/shapefiling/sad_converted/sad_cc.csv"
       ]
      },
      {
       "output_type": "stream",
       "stream": "stdout",
       "text": [
        "\n",
        "(995699, 16)"
       ]
      },
      {
       "output_type": "stream",
       "stream": "stdout",
       "text": [
        "\n",
        "/Users/carbz/Dropbox/Nigeria-NEAP-GIS/shapefiling/sad_converted/sad_cd.csv"
       ]
      },
      {
       "output_type": "stream",
       "stream": "stdout",
       "text": [
        "\n",
        "(995007, 16)"
       ]
      },
      {
       "output_type": "stream",
       "stream": "stdout",
       "text": [
        "\n",
        "/Users/carbz/Dropbox/Nigeria-NEAP-GIS/shapefiling/sad_converted/sad_ce.csv"
       ]
      },
      {
       "output_type": "stream",
       "stream": "stdout",
       "text": [
        "\n",
        "(991851, 16)"
       ]
      },
      {
       "output_type": "stream",
       "stream": "stdout",
       "text": [
        "\n",
        "/Users/carbz/Dropbox/Nigeria-NEAP-GIS/shapefiling/sad_converted/sad_cf.csv"
       ]
      },
      {
       "output_type": "stream",
       "stream": "stdout",
       "text": [
        "\n",
        "(994133, 16)"
       ]
      },
      {
       "output_type": "stream",
       "stream": "stdout",
       "text": [
        "\n",
        "/Users/carbz/Dropbox/Nigeria-NEAP-GIS/shapefiling/sad_converted/sad_cg.csv"
       ]
      },
      {
       "output_type": "stream",
       "stream": "stdout",
       "text": [
        "\n",
        "(995480, 16)"
       ]
      },
      {
       "output_type": "stream",
       "stream": "stdout",
       "text": [
        "\n",
        "/Users/carbz/Dropbox/Nigeria-NEAP-GIS/shapefiling/sad_converted/sad_ch.csv"
       ]
      },
      {
       "output_type": "stream",
       "stream": "stdout",
       "text": [
        "\n",
        "(986912, 16)"
       ]
      },
      {
       "output_type": "stream",
       "stream": "stdout",
       "text": [
        "\n",
        "/Users/carbz/Dropbox/Nigeria-NEAP-GIS/shapefiling/sad_converted/sad_ci.csv"
       ]
      },
      {
       "output_type": "stream",
       "stream": "stdout",
       "text": [
        "\n",
        "(978212, 16)"
       ]
      },
      {
       "output_type": "stream",
       "stream": "stdout",
       "text": [
        "\n",
        "/Users/carbz/Dropbox/Nigeria-NEAP-GIS/shapefiling/sad_converted/sad_cj.csv"
       ]
      },
      {
       "output_type": "stream",
       "stream": "stdout",
       "text": [
        "\n",
        "(982406, 16)"
       ]
      },
      {
       "output_type": "stream",
       "stream": "stdout",
       "text": [
        "\n",
        "/Users/carbz/Dropbox/Nigeria-NEAP-GIS/shapefiling/sad_converted/sad_ck.csv"
       ]
      },
      {
       "output_type": "stream",
       "stream": "stdout",
       "text": [
        "\n",
        "(979625, 16)"
       ]
      },
      {
       "output_type": "stream",
       "stream": "stdout",
       "text": [
        "\n",
        "/Users/carbz/Dropbox/Nigeria-NEAP-GIS/shapefiling/sad_converted/sad_cl.csv"
       ]
      },
      {
       "output_type": "stream",
       "stream": "stdout",
       "text": [
        "\n",
        "(979000, 16)"
       ]
      },
      {
       "output_type": "stream",
       "stream": "stdout",
       "text": [
        "\n",
        "/Users/carbz/Dropbox/Nigeria-NEAP-GIS/shapefiling/sad_converted/sad_cm.csv"
       ]
      },
      {
       "output_type": "stream",
       "stream": "stdout",
       "text": [
        "\n",
        "(987436, 16)"
       ]
      },
      {
       "output_type": "stream",
       "stream": "stdout",
       "text": [
        "\n",
        "/Users/carbz/Dropbox/Nigeria-NEAP-GIS/shapefiling/sad_converted/sad_cn.csv"
       ]
      },
      {
       "output_type": "stream",
       "stream": "stdout",
       "text": [
        "\n",
        "(989914, 16)"
       ]
      },
      {
       "output_type": "stream",
       "stream": "stdout",
       "text": [
        "\n",
        "/Users/carbz/Dropbox/Nigeria-NEAP-GIS/shapefiling/sad_converted/sad_co.csv"
       ]
      },
      {
       "output_type": "stream",
       "stream": "stdout",
       "text": [
        "\n",
        "(993205, 16)"
       ]
      },
      {
       "output_type": "stream",
       "stream": "stdout",
       "text": [
        "\n",
        "/Users/carbz/Dropbox/Nigeria-NEAP-GIS/shapefiling/sad_converted/sad_cp.csv"
       ]
      },
      {
       "output_type": "stream",
       "stream": "stdout",
       "text": [
        "\n",
        "(995002, 16)"
       ]
      },
      {
       "output_type": "stream",
       "stream": "stdout",
       "text": [
        "\n",
        "/Users/carbz/Dropbox/Nigeria-NEAP-GIS/shapefiling/sad_converted/sad_cq.csv"
       ]
      },
      {
       "output_type": "stream",
       "stream": "stdout",
       "text": [
        "\n",
        "(991345, 16)"
       ]
      },
      {
       "output_type": "stream",
       "stream": "stdout",
       "text": [
        "\n",
        "/Users/carbz/Dropbox/Nigeria-NEAP-GIS/shapefiling/sad_converted/sad_cr.csv"
       ]
      },
      {
       "output_type": "stream",
       "stream": "stdout",
       "text": [
        "\n",
        "(993467, 16)"
       ]
      },
      {
       "output_type": "stream",
       "stream": "stdout",
       "text": [
        "\n",
        "/Users/carbz/Dropbox/Nigeria-NEAP-GIS/shapefiling/sad_converted/sad_cs.csv"
       ]
      },
      {
       "output_type": "stream",
       "stream": "stdout",
       "text": [
        "\n",
        "(983420, 16)"
       ]
      },
      {
       "output_type": "stream",
       "stream": "stdout",
       "text": [
        "\n",
        "/Users/carbz/Dropbox/Nigeria-NEAP-GIS/shapefiling/sad_converted/sad_ct  FCT.csv"
       ]
      },
      {
       "output_type": "stream",
       "stream": "stdout",
       "text": [
        "\n",
        "(993890, 16)"
       ]
      },
      {
       "output_type": "stream",
       "stream": "stdout",
       "text": [
        "\n",
        "/Users/carbz/Dropbox/Nigeria-NEAP-GIS/shapefiling/sad_converted/sad_cu.csv"
       ]
      },
      {
       "output_type": "stream",
       "stream": "stdout",
       "text": [
        "\n",
        "(767272, 16)"
       ]
      },
      {
       "output_type": "stream",
       "stream": "stdout",
       "text": [
        "\n",
        "/Users/carbz/Dropbox/Nigeria-NEAP-GIS/shapefiling/sad_converted/tmg_data.csv"
       ]
      },
      {
       "output_type": "stream",
       "stream": "stdout",
       "text": [
        "\n",
        "(23869728, 16)"
       ]
      },
      {
       "output_type": "stream",
       "stream": "stdout",
       "text": [
        "\n"
       ]
      }
     ],
     "prompt_number": 49
    },
    {
     "cell_type": "markdown",
     "metadata": {},
     "source": [
      "### A3 this will quit on a failed parse instead of continuing with unexpected results\n",
      "via Brandon (10-13-2014)"
     ]
    },
    {
     "cell_type": "code",
     "collapsed": false,
     "input": [
      "#string replacements\n",
      "linebreaks = re.compile(r'[A-z]\\n', re.DOTALL)\n",
      "rm_lb = lambda s: re.sub(linebreaks, '_', s)\n",
      "\n",
      "strip_blanks = '\\\\\\N'\n",
      "rm_sb = lambda s: re.sub(strip_blanks, '\"\"', s)\n",
      "\n",
      "orig_pipes = '\\|'\n",
      "rm_op = lambda s: re.sub(orig_pipes, '-', s)\n",
      "\n",
      "orig_delim = '\",\"'\n",
      "rm_od = lambda s: re.sub(orig_delim, '|', s)\n",
      "\n",
      "errant_quotes = '\"'\n",
      "rm_eq = lambda s: re.sub(errant_quotes, '', s)\n",
      "\n",
      "def parse(f):\n",
      "    lines = filter(lambda s: s!= '', f.readlines())\n",
      "    # operations to perform\n",
      "    ops = [rm_lb, rm_sb, rm_op, rm_od, rm_eq]\n",
      "    #composes all the regex operations returning the end output\n",
      "    output = ''.join(reduce(lambda dat, op: op(dat), ops, line) for line in lines)\n",
      "\n",
      "    #assert everything went well\n",
      "    test_csv(output)\n",
      "    return output\n",
      "\n",
      "def test_csv(f, sep='|', count=15):\n",
      "    # get length of fields in every row make sure is length of count\n",
      "    bad_data = filter(lambda ln: len(ln) != count,\n",
      "                      [ln.split(sep) for ln in f.split('\\n')\n",
      "                       if ln.split('|')!=['']])\n",
      "    try:\n",
      "        #make sure now rows had wrong number of fields\n",
      "        assert(bad_data == [])\n",
      "    except:\n",
      "        raise Exception('wrong number of fields in parsed file')\n",
      "\n",
      "def parse_files(dirpath, to_dir):\n",
      "    #for each file parse\n",
      "    for start_f in os.listdir(dirpath):\n",
      "        with open(os.path.join(dirpath, start_f)) as f:\n",
      "            parsed = parse(f)\n",
      "        #save parsed file\n",
      "        to_f = os.path.join(to_dir, start_f)\n",
      "        with open(to_f, 'w') as f:\n",
      "            f.write(parsed)"
     ],
     "language": "python",
     "metadata": {},
     "outputs": []
    }
   ],
   "metadata": {}
  }
 ]
}